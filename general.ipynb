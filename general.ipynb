{
 "cells": [
  {
   "cell_type": "markdown",
   "metadata": {},
   "source": [
    "# 家電機器"
   ]
  },
  {
   "cell_type": "markdown",
   "metadata": {},
   "source": [
    "## 1.　全般"
   ]
  },
  {
   "cell_type": "markdown",
   "metadata": {},
   "source": [
    "### 1.1　定義"
   ]
  },
  {
   "cell_type": "markdown",
   "metadata": {},
   "source": [
    "本算定方法において扱う機器の動作状態を以下のように定義する。\n",
    "\n",
    "* 動作状態の分類  \n",
    "    * 待機：機器の主機能と考えられる動作を行っていないが、主機能が速やかに作動するように待機している。  \n",
    "    * 稼働：機器の主機能と考えられる動作を行っている。  \n",
    "    * 停止：機器の全機能が停止しており、かつ、機器に付属の充電池を充電していない。（この時、消費電力はゼロである）   "
   ]
  },
  {
   "cell_type": "markdown",
   "metadata": {},
   "source": [
    "なお、充電機器については、当面、扱わないものとし、動作状態から「充電」は除外する。ここで、「充電」は、「待機」および「稼働」を上位の状態として扱い、「待機」および「稼働」は「充電」との同時発生を包含するものとするとして定義され、「機器の全機能が停止しており、かつ、機器に付属の充電池を充電している状態」を言う。"
   ]
  },
  {
   "cell_type": "markdown",
   "metadata": {},
   "source": [
    "また、機器の電源には「AC電源（系統電源、自家用発電設備、蓄電設備）」と「バッテリ（機器に付属のバッテリや蓄電池）」とがあるが、当面、「バッテリ」は除外する。"
   ]
  },
  {
   "cell_type": "markdown",
   "metadata": {},
   "source": [
    "### 1.2　消費電力量"
   ]
  },
  {
   "cell_type": "markdown",
   "metadata": {},
   "source": [
    "日付 $d$ の時刻 $t$ における家電機器の単位時間当たりの消費電力量は、式(1)により表される。"
   ]
  },
  {
   "cell_type": "markdown",
   "metadata": {},
   "source": [
    "$$ \n",
    "\\begin{equation*}\n",
    "    \\displaystyle E_{E,AP,d,t} = \\sum_{i}^{}{ E_{E,i,d,t}} \\bigg/ 1000\n",
    "\\end{equation*}\n",
    "$$\n",
    "<div style=\"text-align: right;\"> (1) </div>"
   ]
  },
  {
   "cell_type": "markdown",
   "metadata": {},
   "source": [
    "ここで、  \n",
    "\n",
    "$ E_{E,AP,d,t} $：日付$d$の時刻$t$における家電機器の単位時間当たりの消費電力量[kWh]   \n",
    "$ E_{E,i,ac,d,t} $：日付$d$の時刻$t$における家電機器$i$の単位時間当たりの消費電力量[Wh]  \n",
    "\n",
    "である。"
   ]
  },
  {
   "cell_type": "markdown",
   "metadata": {},
   "source": [
    "### 1.3　内部発熱"
   ]
  },
  {
   "cell_type": "markdown",
   "metadata": {},
   "source": [
    "日付 $d$ の時刻 $t$ における家電機器の単位時間当たりの発熱量は、式(2)により表される。"
   ]
  },
  {
   "cell_type": "markdown",
   "metadata": {},
   "source": [
    "$$ \n",
    "\\begin{equation*}\n",
    "    \\displaystyle Q_{S,AP,d,t} = \\sum_{i}^{}{ E_{E,i,d,t}} \\bigg / dt\n",
    "\\end{equation*}\n",
    "$$\n",
    "<div style=\"text-align: right;\"> (2) </div>"
   ]
  },
  {
   "cell_type": "markdown",
   "metadata": {},
   "source": [
    "ここで、  \n",
    "\n",
    "$ dt $：単位時間[s]  \n",
    "$ E_{E,i,ac,d,t} $：日付$d$の時刻$t$における家電機器$i$の単位時間当たりの消費電力量[Wh]  \n",
    "$ Q_{S,AP,d,t} $：日付$d$の時刻$t$における家電機器の発熱量[W]  \n",
    "\n",
    "である。"
   ]
  }
 ],
 "metadata": {
  "kernelspec": {
   "display_name": "Python 3",
   "language": "python",
   "name": "python3"
  },
  "language_info": {
   "codemirror_mode": {
    "name": "ipython",
    "version": 3
   },
   "file_extension": ".py",
   "mimetype": "text/x-python",
   "name": "python",
   "nbconvert_exporter": "python",
   "pygments_lexer": "ipython3",
   "version": "3.6.4"
  }
 },
 "nbformat": 4,
 "nbformat_minor": 2
}
