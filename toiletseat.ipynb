{
 "cells": [
  {
   "cell_type": "code",
   "execution_count": 1,
   "metadata": {},
   "outputs": [],
   "source": [
    "import numpy as np  \n",
    "import math\n",
    "from enum import Enum\n",
    "from collections import namedtuple\n",
    "\n",
    "# matplotlib\n",
    "# ライブラリーのインポート\n",
    "import matplotlib.pyplot as plt\n",
    "# インライン表示\n",
    "%matplotlib inline\n",
    "# 日本語フォント\n",
    "import pylab\n",
    "from matplotlib.font_manager import FontProperties"
   ]
  },
  {
   "cell_type": "markdown",
   "metadata": {},
   "source": [
    "# 家電"
   ]
  },
  {
   "cell_type": "markdown",
   "metadata": {},
   "source": [
    "## 9.　温水暖房洗浄便座（ver自立P4）"
   ]
  },
  {
   "cell_type": "markdown",
   "metadata": {},
   "source": [
    "### 9.1　定義"
   ]
  },
  {
   "cell_type": "markdown",
   "metadata": {},
   "source": [
    "#### 9.1.1　機器の電源接続状態および動作状態"
   ]
  },
  {
   "cell_type": "markdown",
   "metadata": {},
   "source": [
    "温水暖房洗浄便座の電源接続状態および動作状態は、以下を想定する。"
   ]
  },
  {
   "cell_type": "markdown",
   "metadata": {},
   "source": [
    "* 電源接続状態：\n",
    "    * 常時時、AC電源に接続される。  \n",
    "* 動作状態：\n",
    "    * 使用時には稼働状態のみが発生する。\n",
    "    * 非使用時には待機状態もしくは停止状態が発生する。  "
   ]
  },
  {
   "cell_type": "markdown",
   "metadata": {},
   "source": [
    "#### 9.1.2　機器の機能等"
   ]
  },
  {
   "cell_type": "markdown",
   "metadata": {},
   "source": [
    "温水暖房洗浄便座が有する機能は、以下を想定する。  "
   ]
  },
  {
   "cell_type": "markdown",
   "metadata": {},
   "source": [
    "* 主機能：\n",
    "    * 暖房便座：ヒータの加熱方式が非瞬間方式の場合、稼働時と待機時に作動する。ヒータの加熱方式が瞬間方式の場合、稼働時に作動する。\n",
    "    * 温水洗浄：ヒータの加熱方式が非瞬間方式の場合、稼働時と待機時に作動する。ヒータの加熱方式が瞬間方式の場合、稼働時に作動する。\n",
    "* ヒータの加熱方式：\n",
    "    * 非瞬間方式：稼働時と待機時の両方に主機能が作動する。    \n",
    "    * 瞬間方式：稼働時のみに主機能が作動する。  \n",
    "* ヒータの電源スイッチ：ヒータの電源スイッチで機能を有効化・無効化を切り替える。無効化された場合、動作状態は停止となる。（消費電力はゼロ。）"
   ]
  },
  {
   "cell_type": "markdown",
   "metadata": {},
   "source": [
    "| 電源接続状態 | 動作状態 |　機能　 |  添え字 |  \n",
    "|:-----------: |:-------: |:------: |:------: |    \n",
    "|  AC電源接続  |稼働      |暖房便座 |ac,opg,st|  \n",
    "|  AC電源接続  |稼働      |温水洗浄 |ac,opg,wt|   \n",
    "|  AC電源接続  |待機      |暖房便座 |ac,sby,st|    \n",
    "|  AC電源接続  |待機      |温水洗浄 |ac,sby,wt|    \n",
    "|  AC電源接続  |停止      |暖房便座 |-        |    \n",
    "|  AC電源接続  |停止      |温水洗浄 |-        |    "
   ]
  },
  {
   "cell_type": "code",
   "execution_count": 2,
   "metadata": {},
   "outputs": [],
   "source": [
    "class HeaterType(Enum):\n",
    "    '''ヒータの加熱方式'''\n",
    "    # NonInst：非瞬間方式（NonInstantaneously）\n",
    "    # Inst：瞬間方式（Instantaneously）\n",
    "\n",
    "    NonInst = 'noninst'\n",
    "    Inst = 'inst'"
   ]
  },
  {
   "cell_type": "code",
   "execution_count": 3,
   "metadata": {},
   "outputs": [],
   "source": [
    "class HeaterSwitch(Enum):\n",
    "    '''ヒータの電源スイッチ'''\n",
    "    # Off：オフ\n",
    "    # On：オン\n",
    "\n",
    "    Off = 'off'\n",
    "    On = 'on'"
   ]
  },
  {
   "cell_type": "markdown",
   "metadata": {},
   "source": [
    "### 9.2　消費電力量"
   ]
  },
  {
   "cell_type": "markdown",
   "metadata": {},
   "source": [
    "日付$d$の時刻$t$における温水洗浄暖房便座のAC電源接続時の消費電力量は、式(1)により表される。"
   ]
  },
  {
   "cell_type": "markdown",
   "metadata": {},
   "source": [
    "<p style=\"text-indent:2em\">AC電源接続時：</p>  \n",
    "$$ \n",
    "\\begin{equation*}\n",
    "    E_{E,ToiletSeat,ac,d,t} = E_{E,ac,opg,d,t} + E_{E,ac,sby,d,t}\n",
    "\\end{equation*}\n",
    "$$\n",
    "\n",
    "\n",
    "<div style=\"text-align: right;\"> (1) </div>"
   ]
  },
  {
   "cell_type": "markdown",
   "metadata": {},
   "source": [
    "ここで、  \n",
    "\n",
    "$E_{E,ToiletSeat,ac,d,t}$：日付$d$の時刻$t$におけるAC電源接続時の単位時間当たりの消費電力量[Wh]  \n",
    "$E_{E,ac,opg,d,t}$：日付$d$の時刻$t$におけるAC電源接続下での稼働時の単位時間当たりの消費電力量[Wh]  \n",
    "$E_{E,ac,sby,d,t}$：日付$d$の時刻$t$におけるAC電源接続下での待機時の単位時間当たりの消費電力量[Wh]  \n",
    "\n",
    "である。"
   ]
  },
  {
   "cell_type": "code",
   "execution_count": 4,
   "metadata": {},
   "outputs": [],
   "source": [
    "def EE_ac (EE_ac_opg, EE_ac_sby):\n",
    "    '''AC電源接続時の消費電力量[Wh]を計算する'''\n",
    "    # ee_ac：AC電源接続下での消費電力量[Wh]\n",
    "    \n",
    "    return EE_ac_opg + EE_ac_sby"
   ]
  },
  {
   "cell_type": "markdown",
   "metadata": {},
   "source": [
    "### 9.3　稼働時および待機時の消費電力量"
   ]
  },
  {
   "cell_type": "markdown",
   "metadata": {},
   "source": [
    "日付$d$の時刻$t$におけるAC電源接続下での稼働時および待機時の消費電力量は、式(2)および式(3)により計算される。"
   ]
  },
  {
   "cell_type": "markdown",
   "metadata": {},
   "source": [
    "<p style=\"text-indent:2em\">AC電源接続下での稼働時の消費電力量：</p>  \n",
    "$$ \n",
    "\\begin{equation*}\n",
    "    E_{E,ac,opg,d,t} = P_{opg,d,t} \\times dt_{ac,opg,d,t}  \\div 3600\n",
    "\\end{equation*}\n",
    "$$\n",
    "\n",
    "<div style=\"text-align: right;\"> (2) </div>\n",
    "\n",
    "<p style=\"text-indent:2em\">AC電源接続下での待機時の消費電力量：</p>  \n",
    "$$ \n",
    "\\begin{equation*}\n",
    "    E_{E,ac,sby,d,t} = P_{sby,d,t} \\times dt_{ac,sby,d,t}  \\div 3600\n",
    "\\end{equation*}\n",
    "$$\n",
    "\n",
    "<div style=\"text-align: right;\"> (3) </div>"
   ]
  },
  {
   "cell_type": "markdown",
   "metadata": {},
   "source": [
    "ただし、式(4)を満たす。  "
   ]
  },
  {
   "cell_type": "markdown",
   "metadata": {},
   "source": [
    "$$ \n",
    "\\begin{equation*}\n",
    "    dt_{ac,opg,d,t} +dt_{ac,sby,d,t} = dt_{calc}\n",
    "\\end{equation*}\n",
    "$$\n",
    "<div style=\"text-align: right;\"> (4) </div>"
   ]
  },
  {
   "cell_type": "markdown",
   "metadata": {},
   "source": [
    "ここで、  \n",
    "\n",
    "$dt_{calc}$：単位時間[s]   \n",
    "$dt_{ac,opg,d,t}$：日付$d$の時刻$t$におけるAC電源接続下での稼働時間の合計[s]  \n",
    "$dt_{ac,sby,d,t}$：日付$d$の時刻$t$におけるAC電源接続下での待機時間の合計[s]   \n",
    "$E_{E,ac,opg,d,t}$：日付$d$の時刻$t$におけるAC電源接続下での稼働時の単位時間当たりの消費電力量[Wh]   \n",
    "$E_{E,ac,sby,d,t}$：日付$d$の時刻$t$におけるAC電源接続下での待機時の単位時間当たりの消費電力量[Wh]   \n",
    "$P_{opg,st,d,t}$：日付$d$の時刻$t$における稼働時の消費電力[W]  \n",
    "$P_{sby,st,d,t}$：日付$d$の時刻$t$における待機時の消費電力[W]  \n",
    "\n",
    "である。"
   ]
  },
  {
   "cell_type": "code",
   "execution_count": 5,
   "metadata": {},
   "outputs": [],
   "source": [
    "def EE_ac_opg (dt_ac_opg, P_opg):\n",
    "    '''AC電源接続下での稼働時の消費電力量[Wh]を計算する'''\n",
    "    # dt_ac_opg：稼働時間の合計[s]\n",
    "    # P_opg：稼働時の消費電力[W]    \n",
    "  \n",
    "    return dt_ac_opg * P_opg / 3600"
   ]
  },
  {
   "cell_type": "code",
   "execution_count": 6,
   "metadata": {},
   "outputs": [],
   "source": [
    "def EE_ac_sby (dt_ac_sby, P_sby):\n",
    "    '''AC電源接続下での待機時の消費電力量[Wh]を計算する'''\n",
    "    # dt_ac_sby：待機時間の合計[s]\n",
    "    # P_sby：待機時の消費電力[W]\n",
    " \n",
    "    return dt_ac_sby * P_sby / 3600"
   ]
  },
  {
   "cell_type": "code",
   "execution_count": 7,
   "metadata": {},
   "outputs": [],
   "source": [
    "def check_duration (dt):\n",
    "    '''合計が単位時間を超過しないか否かを確認する'''\n",
    "    # dt：稼働時間の合計[s](list型)\n",
    "    # dt_calc：単位時間[s]\n",
    "    \n",
    "    dt_calc = 3600.\n",
    "    \n",
    "    # 継続時間を積算する\n",
    "    dt_sum = sum(dt)\n",
    "    \n",
    "    # エラーチェック\n",
    "    if dt_calc < dt_sum:\n",
    "        # 単位時間を超える場合 => エラー\n",
    "        try:\n",
    "            raise Exception('機器使用スケジュールに不正があります。')\n",
    "        except Exception:\n",
    "            raise\n",
    "    else:\n",
    "        pass"
   ]
  },
  {
   "cell_type": "markdown",
   "metadata": {},
   "source": [
    "### 9.4　稼働時の消費電力"
   ]
  },
  {
   "cell_type": "markdown",
   "metadata": {},
   "source": [
    "日付$d$の時刻$t$における稼働時の消費電力は、暖房便座が機能することによる消費電力と温水洗浄が機能することによる消費電力の合計であり、式(5)により計算される。"
   ]
  },
  {
   "cell_type": "markdown",
   "metadata": {},
   "source": [
    "<p style=\"text-indent:2em\">稼働時の消費電力量：</p>  \n",
    "$$ \n",
    "\\begin{equation*}\n",
    "    P_{opg,d,t} =  P_{opg,st,d,t} + P_{opg,wt,d,t}\n",
    "\\end{equation*}\n",
    "$$\n",
    "\n",
    "<div style=\"text-align: right;\"> (5) </div>"
   ]
  },
  {
   "cell_type": "markdown",
   "metadata": {},
   "source": [
    "ここで、  \n",
    "\n",
    "$P_{opg,d,t}$：日付$d$の時刻$t$における稼働時の消費電力[W]  \n",
    "$P_{opg,st,d,t}$：日付$d$の時刻$t$において暖房便座が機能することによる稼働時の消費電力[W]  \n",
    "$P_{opg,wt,d,t}$：日付$d$の時刻$t$において温水洗浄が機能することによる稼働時の消費電力[W]  \n",
    "\n",
    "である。"
   ]
  },
  {
   "cell_type": "code",
   "execution_count": 8,
   "metadata": {},
   "outputs": [],
   "source": [
    "def P_opg(Prtd_opg_st, Prtd_opg_wt, seat_heater_type, water_heater_type, seat_heater_switch, theta_toilet_ave):\n",
    "    '''稼働時の消費電力[W]を計算する'''\n",
    "    # Prtd_opg_st：便座ヒータの定格消費電力[W]  \n",
    "    # Prtd_opg_wt：洗浄水ヒータの定格消費電力[W]  \n",
    "    # seat_heater_type：便座ヒータの加熱方式[非瞬間方式、瞬間方式]  \n",
    "    # water_heater_type：洗浄水ヒータの加熱方式[非瞬間方式、瞬間方式]  \n",
    "    # seat_heater_switch：便座ヒータの電源スイッチ[オフ、オン] \n",
    "    # theta_toilet_ave：トイレ空気温度の日平均値[C]  \n",
    "    \n",
    "    if seat_heater_type == HeaterType.NonInst and water_heater_type == HeaterType.NonInst:\n",
    "        P_opg = P_opg_noninst_noninst(Prtd_opg_st, Prtd_opg_wt, seat_heater_switch, theta_toilet_ave)\n",
    "    \n",
    "    elif seat_heater_type == HeaterType.Inst and water_heater_type == HeaterType.NonInst:\n",
    "        P_opg =  P_opg_inst_noninst(Prtd_opg_wt, seat_heater_switch, theta_toilet_ave)\n",
    "        \n",
    "    elif seat_heater_type == HeaterType.NonInst and water_heater_type == HeaterType.Inst:\n",
    "        P_opg =  P_opg_noninst_inst(Prtd_opg_st, Prtd_opg_wt, seat_heater_switch,  theta_toilet_ave)\n",
    "        \n",
    "    elif seat_heater_type == HeaterType.Inst and water_heater_type == HeaterType.Inst:\n",
    "        P_opg = P_opg_inst_inst(Prtd_opg_wt, theta_toilet_ave)\n",
    "    else:\n",
    "        raise Exception\n",
    "            \n",
    "    return P_opg"
   ]
  },
  {
   "cell_type": "markdown",
   "metadata": {},
   "source": [
    "日付$d$の時刻$t$において暖房便座が機能することによる稼働時の消費電力および日付$d$の時刻$t$において温水洗浄が機能することによる稼働時の消費電力は、便座ヒータおよび洗浄水ヒータの加熱方式に応じて式(6)により計算される。"
   ]
  },
  {
   "cell_type": "markdown",
   "metadata": {},
   "source": [
    "<p style=\"text-indent:2em\">便座ヒータと洗浄水ヒータの両方の加熱方式が非瞬間方式の場合：  </p>\n",
    "<p style=\"text-indent:4em\">暖房便座が機能することによる消費電力：</p>\n",
    "<p style=\"text-indent:6em\">便座ヒータの電源がオフ</p>\n",
    "$$ \n",
    "\\begin{equation*}\n",
    "    \\displaystyle P_{opg,st,d,t} = 0\n",
    "\\end{equation*}\n",
    "$$       \n",
    "<div style=\"text-align: right;\"> (6a-1) </div>\n",
    "\n",
    "<p style=\"text-indent:6em\">便座ヒータの電源がオン</p>\n",
    "$$  \n",
    "\\begin{equation*}\n",
    "    \\displaystyle P_{opg,st,d,t} = P_{opg,st,noninst,d,t}\n",
    "\\end{equation*}\n",
    "$$\n",
    "<div style=\"text-align: right;\"> (6a-2) </div>\n",
    "  \n",
    "<p style=\"text-indent:4em\">温水洗浄が機能することによる消費電力： </p>\n",
    "$$  \n",
    "\\begin{equation*}\n",
    "    \\displaystyle P_{opg,wt,d,t} = P_{opg,wt,noninst,d,t}\n",
    "\\end{equation*}\n",
    "$$        \n",
    "<div style=\"text-align: right;\"> (6a-3) </div>"
   ]
  },
  {
   "cell_type": "markdown",
   "metadata": {},
   "source": [
    "ここで、  \n",
    "\n",
    "$P_{opg,st,d,t}$：日付$d$の時刻$t$において暖房便座が機能することによる稼働時の消費電力[W]  \n",
    "$P_{opg,st,noninst,d,t}$：便座ヒータの加熱方式が非瞬間式の場合において、日付$d$の時刻$t$において暖房便座が機能することによる稼働時の消費電力[W]   \n",
    "$P_{opg,wt,d,t}$：日付$d$の時刻$t$において温水洗浄が機能することによる稼働時の消費電力[W]  \n",
    "$P_{opg,wt,noninst,d,t}$：洗浄水ヒータの加熱方式が非瞬間式の場合において、日付$d$の時刻$t$において温水洗浄が機能することによる稼働時の消費電力[W]    \n",
    "\n",
    "である。  "
   ]
  },
  {
   "cell_type": "code",
   "execution_count": 9,
   "metadata": {},
   "outputs": [],
   "source": [
    "def P_opg_noninst_noninst(Prtd_opg_st, Prtd_opg_wt, seat_heater_switch, theta_toilet_ave):\n",
    "    '''便座ヒータと洗浄水ヒータの両方の加熱方式が非瞬間方式の場合の稼働時の消費電力を計算する[W]'''\n",
    "    # Prtd_opg_st：便座ヒータの定格消費電力[W] \n",
    "    # Prtd_opg_wt：洗浄水ヒータの定格消費電力[W]  \n",
    "    # seat_heater_switch：便座ヒータの電源スイッチ[オフ、オン]  \n",
    "    # theta_toilet_ave：トイレ空気温度の日平均値[C]\n",
    "    \n",
    "    # 暖房便座が機能することによる消費電力[W]\n",
    "    if seat_heater_switch == HeaterSwitch.Off:\n",
    "        P_opg_st = 0        \n",
    "    elif seat_heater_switch == HeaterSwitch.On:\n",
    "        P_opg_st = P_opg_st_noninst(Prtd_opg_st, theta_toilet_ave)\n",
    "    else:\n",
    "        raise Exception\n",
    "    \n",
    "    # 温水洗浄が機能することによる消費電力[W]\n",
    "    P_opg_wt = P_opg_wt_noninst(Prtd_opg_wt, theta_toilet_ave) \n",
    "    \n",
    "    return P_opg_st + P_opg_wt"
   ]
  },
  {
   "cell_type": "markdown",
   "metadata": {},
   "source": [
    "<p style=\"text-indent:2em\">便座ヒータの加熱方式が瞬間方式＋洗浄水ヒータの加熱方式が非瞬間方式の場合：</p> \n",
    "<p style=\"text-indent:4em\">暖房便座が機能することによる消費電力：</p> \n",
    "<p style=\"text-indent:6em\">便座ヒータの電源がオフ</p> \n",
    "$$  \n",
    "\\begin{equation*}\n",
    "    \\displaystyle P_{opg,st,d,t} = 0\n",
    "\\end{equation*}\n",
    "$$\n",
    "<div style=\"text-align: right;\"> (6b-1) </div>\n",
    "\n",
    "<p style=\"text-indent:6em\">便座ヒータの電源がオン</p>  \n",
    "$$  \n",
    "\\begin{equation*}\n",
    "    \\displaystyle P_{opg,st,d,t} = P_{opg,st,{\\textit inst},d,t}\n",
    "\\end{equation*}\n",
    "$$\n",
    "<div style=\"text-align: right;\"> (6b-2) </div>\n",
    "        \n",
    "<p style=\"text-indent:4em\">温水洗浄が機能することによる消費電力：</p>\n",
    "$$ \n",
    "\\begin{equation*}\n",
    "    \\displaystyle P_{opg,wt,d,t} =  P_{opg,wt,noninst,d,t}\n",
    "\\end{equation*}\n",
    "$$\n",
    "<div style=\"text-align: right;\"> (6b-3) </div>"
   ]
  },
  {
   "cell_type": "markdown",
   "metadata": {},
   "source": [
    "ここで、  \n",
    "\n",
    "$P_{opg,st,d,t}$：日付$d$の時刻$t$において暖房便座が機能することによる稼働時の消費電力[W]  \n",
    "$P_{opg,st,{\\textit inst},d,t}$：便座ヒータの加熱方式が瞬間式、洗浄水ヒータの加熱方式が非瞬間式の場合において、日付$d$の時刻$t$において暖房便座が機能することによる稼働時の消費電力[W]    \n",
    "$P_{opg,wt,d,t}$：日付$d$の時刻$t$において温水洗浄が機能する場合の稼働時の消費電力[W]  \n",
    "$P_{opg,wt,noninst,d,t}$：洗浄水ヒータの加熱方式が非瞬間式の場合において、日付$d$の時刻$t$において温水洗浄が機能することによる稼働時の消費電力[W]    \n",
    "\n",
    "である。  "
   ]
  },
  {
   "cell_type": "code",
   "execution_count": 10,
   "metadata": {},
   "outputs": [],
   "source": [
    "def P_opg_inst_noninst(Prtd_opg_wt, seat_heater_switch, theta_toilet_ave):\n",
    "    '''便座ヒータの加熱方式が瞬間方式＋洗浄水ヒータの加熱方式が非瞬間方式の場合の稼働時の消費電力を計算する[W]'''\n",
    "    # Prtd_opg_wt：洗浄水ヒータの定格消費電力[W]  \n",
    "    # seat_heater_switch：便座ヒータの電源スイッチ[オフ、オン]  \n",
    "    # theta_toilet_ave：トイレ空気温度の日平均値[C]\n",
    "    \n",
    "    # 暖房便座が機能することによる消費電力[W]\n",
    "    if seat_heater_switch == HeaterSwitch.Off:\n",
    "        P_opg_st = 0      \n",
    "    elif seat_heater_switch == HeaterSwitch.On:\n",
    "        P_opg_st = P_opg_st_inst(theta_toilet_ave) \n",
    "    else:\n",
    "        raise Exception\n",
    "    \n",
    "    # 温水洗浄が機能することによる消費電力[W]\n",
    "    P_opg_wt = P_opg_wt_noninst(Prtd_opg_wt, theta_toilet_ave)\n",
    "\n",
    "    return P_opg_st + P_opg_wt"
   ]
  },
  {
   "cell_type": "markdown",
   "metadata": {},
   "source": [
    "<p style=\"text-indent:2em\">便座ヒータの加熱方式が非瞬間方式＋洗浄水ヒータの加熱方式が瞬間方式の場合：</p>  \n",
    "<p style=\"text-indent:4em\">暖房便座が機能することによる消費電力：</p>  \n",
    "<p style=\"text-indent:6em\">便座ヒータの電源がオフ：</p>  \n",
    "$$  \n",
    "\\begin{equation*}\n",
    "    \\displaystyle P_{opg,st,d,t} = 0\n",
    "\\end{equation*}\n",
    "$$\n",
    "<div style=\"text-align: right;\"> (6c-1) </div>\n",
    "\n",
    "<p style=\"text-indent:6em\">便座ヒータの電源がオン：</p>  \n",
    "$$  \n",
    "\\begin{equation*}\n",
    "    \\displaystyle P_{opg,st,d,t} = P_{opg,st,noninst,d,t}\n",
    "\\end{equation*}\n",
    "$$\n",
    "<div style=\"text-align: right;\"> (6c-2) </div>\n",
    "        \n",
    "<p style=\"text-indent:4em\">温水洗浄が機能することによる消費電力：</p>  \n",
    "$$ \n",
    "\\begin{equation*}\n",
    "    \\displaystyle P_{opg,wt,d,t} =  P_{opg,wt,{\\textit inst},d,t}\n",
    "\\end{equation*}\n",
    "$$\n",
    "<div style=\"text-align: right;\"> (6c-3) </div>"
   ]
  },
  {
   "cell_type": "markdown",
   "metadata": {},
   "source": [
    "ここで、  \n",
    "\n",
    "$P_{opg,st,d,t}$：日付$d$の時刻$t$において暖房便座が機能することによる稼働時の消費電力[W]  \n",
    "$P_{opg,st,noninst,d,t}$：便座ヒータの加熱方式が非瞬間式の場合において、日付$d$の時刻$t$において暖房便座が機能することによる稼働時の消費電力[W]    \n",
    "$P_{opg,wt,d,t}$：日付$d$の時刻$t$において温水洗浄が機能することによる稼働時の消費電力[W]  \n",
    "$P_{opg,wt,{\\textit inst},d,t}$：便座ヒータの加熱方式が非瞬間式、洗浄水ヒータの加熱方式が瞬間式の場合において、日付$d$の時刻$t$において温水洗浄が機能することによる稼働時の消費電力[W]   \n",
    "\n",
    "である。  "
   ]
  },
  {
   "cell_type": "code",
   "execution_count": 11,
   "metadata": {},
   "outputs": [],
   "source": [
    "def P_opg_noninst_inst(Prtd_opg_st, Prtd_opg_wt, seat_heater_switch, theta_toilet_ave):\n",
    "    '''便座ヒータの加熱方式が非瞬間方式＋洗浄水ヒータの加熱方式が瞬間方式の場合の稼働時の消費電力を計算する[W]'''\n",
    "    # Prtd_opg_st：便座ヒータの定格消費電力[W] \n",
    "    # Prtd_opg_wt：洗浄水ヒータの定格消費電力[W]  \n",
    "    # seat_heater_switch：便座ヒータの電源スイッチ[オフ、オン]   \n",
    "    # theta_toilet_ave：トイレ空気温度の日平均値[C]\n",
    "            \n",
    "    # 暖房便座が機能することによる消費電力[W]\n",
    "    if seat_heater_switch == HeaterSwitch.Off:\n",
    "        P_opg_st = 0      \n",
    "    elif seat_heater_switch == HeaterSwitch.On:\n",
    "        P_opg_st =P_opg_st_noninst(Prtd_opg_st, theta_toilet_ave)\n",
    "    else:\n",
    "        raise Exception\n",
    "    \n",
    "    # 温水洗浄が機能することによる消費電力[W]\n",
    "    P_opg_wt = P_opg_wt_inst(Prtd_opg_wt, theta_toilet_ave)\n",
    "\n",
    "    \n",
    "    return P_opg_st + P_opg_wt"
   ]
  },
  {
   "cell_type": "markdown",
   "metadata": {},
   "source": [
    "<p style=\"text-indent:2em\">便座ヒータと洗浄水ヒータの両方の加熱方式が瞬間方式の場合（便座ヒータのオフは考慮しない）：</p>  \n",
    "<p style=\"text-indent:4em\">暖房便座が機能することによる稼働時の消費電力と温水洗浄が機能することによる稼働時の消費電力との合計：</p>  \n",
    "$$  \n",
    "\\begin{equation*}\n",
    "    \\displaystyle P_{opg,st,d,t} + P_{opg,wt,d,t} = P_{opg,sw,{\\textit inst},d,t}\n",
    "\\end{equation*}\n",
    "$$\n",
    "<div style=\"text-align: right;\"> (6d) </div>"
   ]
  },
  {
   "cell_type": "markdown",
   "metadata": {},
   "source": [
    "ここで、  \n",
    "\n",
    "$P_{opg,st,d,t}$：日付$d$の時刻$t$において暖房便座が機能することによる稼働時の消費電力[W]  \n",
    "$P_{opg,sw,{\\textit inst},d,t}$：便座ヒータと洗浄水ヒータの両方の加熱方式が瞬間式で、日付$d$の時刻$t$において暖房便座が機能することによる稼働時の消費電力と温水洗浄が機能することによる稼働時の消費電力との合計[W]  \n",
    "$P_{opg,wt,d,t}$：日付$d$の時刻$t$において温水洗浄が機能することによる稼働時の消費電力[W]  \n",
    "\n",
    "である。  "
   ]
  },
  {
   "cell_type": "code",
   "execution_count": 12,
   "metadata": {},
   "outputs": [],
   "source": [
    "def P_opg_inst_inst(Prtd_opg_wt, theta_toilet_ave):\n",
    "    '''便座ヒータと洗浄水ヒータの両方の加熱方式が瞬間方式の場合の稼働時の消費電力を計算する[W]'''\n",
    "    # Prtd_opg_wt：洗浄水ヒータの定格消費電力[W]  \n",
    "    # theta_toilet_ave：トイレ空気温度の日平均値[C]\n",
    "    \n",
    "    # 暖房便座が機能することによる消費電力と温水洗浄が機能することによる消費電力との合計[W]\n",
    "    P_opg_sw = P_opg_wt_inst(Prtd_opg_wt, theta_toilet_ave)\n",
    "    \n",
    "    return P_opg_sw"
   ]
  },
  {
   "cell_type": "markdown",
   "metadata": {},
   "source": [
    "暖房便座が機能することによる稼働時の消費電力および温水洗浄が機能することによる稼働時の消費電力は、便座ヒータおよび洗浄水ヒータの加熱方式およびヒータ電源の状態に応じて式(7)により計算される。ただし、計算値がマイナスの場合は消費電力はゼロとする。"
   ]
  },
  {
   "cell_type": "markdown",
   "metadata": {},
   "source": [
    "なお、計算式から求まる消費電力は、厳密には平均消費電力であり、瞬時の消費電力ではない。"
   ]
  },
  {
   "cell_type": "markdown",
   "metadata": {},
   "source": [
    "<p style=\"text-indent:2em\">便座ヒータの加熱方式が非瞬間式の場合において、暖房便座が機能することによる稼働時の消費電力：</p>\n",
    "<p style=\"text-indent:4em\">便座ヒータの定格消費電力 $P_{rtd,opg,st} \\leq 45 $ の場合：</p>  \n",
    "$$ \n",
    "\\begin{equation*}\n",
    "    \\displaystyle P_{opg,st,noninst,d,t} = max \\left( 0.0, \\left( -0.0201 \\times \\theta_{toilte,ave,d} + 0.9224 \\times \\left( \\frac{P_{rtd,opg,st}}{45} \\right)\\right) \\times 1000 \\bigg/ 24 \\right)\n",
    "\\end{equation*}\n",
    "$$\n",
    "<div style=\"text-align: right;\"> (7a-1) </div>\n",
    "　　\n",
    "<p style=\"text-indent:4em\">$45 <$ 便座ヒータの定格消費電力 $P_{rtd,opg,st} < 50 $ の場合：</p>   \n",
    "$$ \n",
    "\\begin{equation*}\n",
    "    \\displaystyle P_{opg,st,noninst,d,t} = max \\left( 0.0, \\left( -0.0201 \\times \\theta_{toilet,ave,d} -5.25 \\times 10^{-4} \\times \\left( P_{rtd,opg,st}-45 \\right) + 0.923 + 0.0157 \\times \\left( P_{rtd,opg,st} - 45 \\right) \\right) \\times 1000 \\bigg/ 24 \\right)\n",
    "\\end{equation*}\n",
    "$$\n",
    "<div style=\"text-align: right;\"> (7a-2) </div>\n",
    "　　\n",
    "<p style=\"text-indent:4em\">$50 \\leq$ 便座ヒータの定格消費電力 $P_{rtd,opg,st} $ の場合：</p> \n",
    "$$ \n",
    "\\begin{equation*}\n",
    "    \\displaystyle P_{opg,st,noninst,d,t} = max \\left( 0.0, \\left( -0.023 \\times \\theta_{toilte,ave,d} + 1.0042 \\times \\left( \\frac{P_{rtd,opg,st}}{50} \\right)\\right) \\times 1000 \\bigg/ 24 \\right)\n",
    "\\end{equation*}\n",
    "$$\n",
    "<div style=\"text-align: right;\"> (7a-3) </div>"
   ]
  },
  {
   "cell_type": "markdown",
   "metadata": {},
   "source": [
    "ここで、  \n",
    "\n",
    "$P_{opg,st,noninst,d,t}$：便座ヒータの加熱方式が非瞬間式の場合において、日付$d$の時刻$t$において暖房便座が機能することによる稼働時の消費電力[W]   \n",
    "$P_{rtd,opg,st}$：便座ヒータの定格消費電力[W]  \n",
    "$\\theta_{toilet,ave,d}$：日付$d$におけるトイレ空気温度の日平均値[℃]  \n",
    "\n",
    "である。"
   ]
  },
  {
   "cell_type": "code",
   "execution_count": 13,
   "metadata": {},
   "outputs": [],
   "source": [
    "def P_opg_st_noninst(Prtd_opg_st, theta_toilet_ave):\n",
    "    '''便座ヒータの加熱方式が非瞬間式の場合において\n",
    "    　 暖房便座が機能することによる稼働時の消費電力を計算する[W]'''\n",
    "    # Prtd_opg_st：便座ヒータの定格消費電力[W] \n",
    "    # theta_toilet_ave：トイレ空気温度の日平均値[C]\n",
    "            \n",
    "    if Prtd_opg_st <= 45:\n",
    "        P = max(0.0, (-0.0201 * theta_toilet_ave + 0.9224 * (Prtd_opg_st / 45)) *1000 / 24)\n",
    "    elif 45 < Prtd_opg_st and  Prtd_opg_st < 50:\n",
    "        P = max(0.0, (-0.0201 * theta_toilet_ave -5.25 * (10**-4) * (Prtd_opg_st - 45) + 0.923 + 0.0157 * (Prtd_opg_st - 45)) *1000 / 24)\n",
    "    elif 50 <= Prtd_opg_st:\n",
    "        P = max(0.0, (-0.023 * theta_toilet_ave + 1.0042 * (Prtd_opg_st / 50)) *1000 / 24)\n",
    "    else:\n",
    "        raise Exception\n",
    "    \n",
    "    return P"
   ]
  },
  {
   "cell_type": "code",
   "execution_count": 14,
   "metadata": {
    "scrolled": true
   },
   "outputs": [],
   "source": [
    "def plot_line_chart(x_value, y_value_sets, chart_titles, \n",
    "                    x_label, x_lower, x_upper, x_interval, y_label, y_lower, y_upper, y_interval):\n",
    "    '''線グラフを作成する\"'''\n",
    "    # x_value：x軸の値\n",
    "    # y_value_sets：y軸の値\n",
    "    # chart_titles：グラフのタイトル（dictionary型）\n",
    "    # x_label：x軸のラベル\n",
    "    # x_lower：x軸の表示の下限\n",
    "    # x_ upper：x軸の表示の上限\n",
    "    # x_ interval：x軸の目盛間隔\n",
    "    # y_label：y軸のラベル\n",
    "    # y_lower：y軸の表示の下限\n",
    "    # y_ upper：y軸の表示の上限\n",
    "    # y_ interval：y軸の目盛間隔\n",
    "\n",
    "    # 日本語フォント\n",
    "    fp = FontProperties(fname='C:\\WINDOWS\\Fonts\\msgothic.ttc', size = 12)\n",
    "    \n",
    "    # 既存スタイルの使用\n",
    "    # plt.style.use('seaborn-whitegrid')\n",
    "\n",
    "    # サブプロットの作成\n",
    "    fig = plt.figure(figsize=(4*len(y_value_sets), 3), dpi=80)\n",
    "\n",
    "    for i, y_value_name in enumerate(list(y_value_sets)):\n",
    "        # y軸の値\n",
    "        y_value_set = y_value_sets[y_value_name]\n",
    "        # サブプロットの指定\n",
    "        ax = plt.subplot2grid((1, len(y_value_sets)), (0, i))\n",
    "            \n",
    "        # グラフのタイトル\n",
    "        ax.set_title(chart_titles[y_value_name] , fontdict={'fontproperties':fp}, loc =  'center')\n",
    "            \n",
    "        for j, category_label in enumerate(list(y_value_set)):    \n",
    "            # y軸の値\n",
    "            y_value = y_value_set[category_label]\n",
    "            # プロット\n",
    "            plt.plot(x_value, y_value, label = category_label)\n",
    "\n",
    "        # 軸の設定\n",
    "        ax=plt.gca()\n",
    "        # x軸\n",
    "        # タイトル\n",
    "        ax.set_xlabel(x_label, fontdict={'fontproperties':fp})\n",
    "        # 目盛りの位置／ラベル／形式\n",
    "        ax.set_xticks(np.arange(x_lower-x_interval, x_upper+x_interval, x_interval), minor=False)\n",
    "        # 表示の上限・下限\n",
    "        ax.set_xbound(lower=x_lower, upper=x_upper)\n",
    "        # ラベルの書式\n",
    "        ax.xaxis.set_major_formatter(plt.FormatStrFormatter('%.0f'))\n",
    "        # y軸\n",
    "        # タイトル\n",
    "        ax.set_ylabel( y_label, fontdict={'fontproperties':fp})\n",
    "        # 目盛りの位置／ラベル／形式\n",
    "        ax.set_yticks(np.arange(y_lower-y_interval, y_upper+y_interval, y_interval), minor=False)\n",
    "        # 表示の上限・下限\n",
    "        ax.set_ybound(lower=y_lower, upper=y_upper)\n",
    "        # ラベルの書式\n",
    "        ax.yaxis.set_major_formatter(plt.FormatStrFormatter('%.0f'))\n",
    "\n",
    "        # グラフの枠\n",
    "        ax.spines['right'].set_color('black')\n",
    "        ax.spines['left'].set_color('black')\n",
    "        ax.spines['bottom'].set_color('black')\n",
    "        ax.spines['top'].set_color('black')\n",
    "            \n",
    "        # 主目盛りのグリッド\n",
    "        ax.grid(which='major', color='lightgray', alpha=0.7, linestyle='-')\n",
    "    \n",
    "    # 凡例\n",
    "    plt.legend(loc='center left', bbox_to_anchor=(1, 0.5), borderaxespad=0.5, frameon=True)\n",
    "    \n",
    "    # グラフの重なりを解消\n",
    "    #plt.tight_layout()\n",
    "\n",
    "    # グラフの表示\n",
    "    plt.show()"
   ]
  },
  {
   "cell_type": "code",
   "execution_count": 15,
   "metadata": {
    "scrolled": true
   },
   "outputs": [
    {
     "data": {
      "image/png": "[encoded data removed]",
      "text/plain": [
       "<matplotlib.figure.Figure at 0x201bf25cac8>"
      ]
     },
     "metadata": {},
     "output_type": "display_data"
    }
   ],
   "source": [
    "# 定格消費電力（確認用）の配列[W]\n",
    "check_Prtd = [[35],[45],[47],[50],[60]]\n",
    "\n",
    "# トイレ空気温度（確認用）の配列[℃]\n",
    "check_theta = [i for i in range(-10, 45, 1)]\n",
    "\n",
    "# 算定式による計算 \n",
    "calc_P = np.vectorize(P_opg_st_noninst)(check_Prtd, check_theta)\n",
    "check_P = {\n",
    "    'P_opg_st_noninst': {\n",
    "        'Prtd = 35':calc_P[0],\n",
    "        'Prtd = 45':calc_P[1],\n",
    "        'Prtd = 37':calc_P[2],\n",
    "        'Prtd = 50':calc_P[3],\n",
    "        'Prtd = 60':calc_P[4]\n",
    "    }\n",
    "}\n",
    "    \n",
    "# 算定式による計算結果を散布図で表示   \n",
    "plot_line_chart(check_theta, \n",
    "                check_P, \n",
    "                {'P_opg_st_noninst':'暖房便座_稼働時_消費電力（便座ヒータ:非瞬間式、洗浄水ヒータ：any）'},\n",
    "                'トイレ空気温度の日平均値[℃]',  -10, 40, 10, \n",
    "                '消費電力[W]', 0, 100, 20)"
   ]
  },
  {
   "cell_type": "markdown",
   "metadata": {},
   "source": [
    "<p style=\"text-indent:2em\">洗浄水ヒータの加熱方式が非瞬間式の場合において、温水洗浄が機能することによる稼働時の消費電力：</p>  \n",
    "$$ \n",
    "\\begin{equation*}\n",
    "    \\displaystyle P_{opg,wt,noninst,d,t} = max \\left( 0.0, \\left( -0.0144 \\times \\theta_{toilet,ave,d} + 0.5121 \\times \\left( \\frac{P_{rtd,opg,wt}}{500} \\right) \\right) \\times 1000 \\bigg/ 24 \\right)\n",
    "\\end{equation*}\n",
    "$$\n",
    "<div style=\"text-align: right;\"> (7b) </div>"
   ]
  },
  {
   "cell_type": "markdown",
   "metadata": {},
   "source": [
    "ここで、  \n",
    "\n",
    "$P_{opg,wt,noninst,d,t}$：洗浄水ヒータの加熱方式が非瞬間式の場合において、日付$d$の時刻$t$において温水洗浄が機能することによる稼働時の消費電力[W]  \n",
    "$P_{rtd,opg,wt}$：洗浄水ヒータの定格消費電力[W]  \n",
    "$\\theta_{toilet,ave}$：日付$d$におけるトイレ空気温度の日平均値[℃]  \n",
    "\n",
    "である。"
   ]
  },
  {
   "cell_type": "code",
   "execution_count": 16,
   "metadata": {},
   "outputs": [],
   "source": [
    "def P_opg_wt_noninst(Prtd_opg_wt, theta_toilet_ave):\n",
    "    '''洗浄水ヒータの加熱方式が非瞬間式の場合において\n",
    "    　 温水洗浄が機能することによる稼働時の消費電力を計算する[W]'''\n",
    "    # Prtd_opg_ht：洗浄水ヒータの定格消費電力[W]  \n",
    "    # theta_toilet_ave：トイレ空気温度の日平均値[C]\n",
    "    \n",
    "    P = max (0.0, (-0.0144 * theta_toilet_ave + 0.5121 * (Prtd_opg_wt / 500)) * 1000 / 24)\n",
    "    \n",
    "    return P"
   ]
  },
  {
   "cell_type": "code",
   "execution_count": 17,
   "metadata": {
    "scrolled": true
   },
   "outputs": [
    {
     "data": {
      "image/png": "[encoded data removed]",
      "text/plain": [
       "<matplotlib.figure.Figure at 0x201bf3ded30>"
      ]
     },
     "metadata": {},
     "output_type": "display_data"
    }
   ],
   "source": [
    "# 定格消費電力（確認用）の配列[W]\n",
    "check_Prtd = [[i] for i in range(0, 1500, 500)]\n",
    "\n",
    "# トイレ空気温度（確認用）の配列[℃]\n",
    "check_theta = [i for i in range(-10, 45, 1)]\n",
    "\n",
    "# 算定式による計算 \n",
    "calc_P = np.vectorize(P_opg_wt_noninst)(check_Prtd, check_theta)\n",
    "check_P = {\n",
    "    'P_opg_wt_noninst': {\n",
    "        'Prtd = 0':calc_P[0],\n",
    "        'Prtd = 500':calc_P[1],\n",
    "        'Prtd = 1000':calc_P[2]\n",
    "    }\n",
    "}\n",
    "    \n",
    "# 算定式による計算結果を散布図で表示   \n",
    "plot_line_chart(check_theta, \n",
    "                check_P, \n",
    "                {'P_opg_wt_noninst':'温水洗浄_稼働時_消費電力（便座ヒータ:any、洗浄水ヒータ:非瞬間式）'},\n",
    "                'トイレ空気温度の日平均値[℃]',  -10, 40, 10, \n",
    "                '消費電力[W]', 0, 100, 20)"
   ]
  },
  {
   "cell_type": "markdown",
   "metadata": {},
   "source": [
    "<p style=\"text-indent:2em\">便座ヒータの加熱方式が瞬間式、洗浄水ヒータの加熱方式が非瞬間式の場合において、暖房便座が機能することによる稼働時の消費電力：</p>  \n",
    "$$ \n",
    "\\begin{equation*}\n",
    "    \\displaystyle P_{opg,st,{\\textit inst},d,t} = max \\left(0.0, -0.195 \\times \\theta_{toilet,ave,d} + 8.313 \\right)\n",
    "\\end{equation*}\n",
    "$$\n",
    "<div style=\"text-align: right;\"> (7c) </div>"
   ]
  },
  {
   "cell_type": "markdown",
   "metadata": {},
   "source": [
    "ここで、  \n",
    "\n",
    "$P_{opg,st,{\\textit inst},d,t}$：便座ヒータの加熱方式が瞬間式、洗浄水ヒータの加熱方式が非瞬間式の場合において、日付$d$の時刻$t$において暖房便座が機能することによる稼働時の消費電力[W]  \n",
    "$\\theta_{toilet,ave,d}$：日付$d$におけるトイレ空気温度の日平均値[℃]  \n",
    "\n",
    "である。"
   ]
  },
  {
   "cell_type": "code",
   "execution_count": 18,
   "metadata": {},
   "outputs": [],
   "source": [
    "def P_opg_st_inst(theta_toilet_ave):\n",
    "    '''便座ヒータの加熱方式が瞬間式、洗浄水ヒータの加熱方式が非瞬間式の場合において、\n",
    "    　 暖房便座が機能することによる稼働時の消費電力を計算する[W]'''\n",
    "    # theta_toilet_ave：トイレ空気温度の日平均値[C]  \n",
    "    \n",
    "    P = max(0.0, -0.195 * theta_toilet_ave + 8.313)\n",
    "    \n",
    "    return P"
   ]
  },
  {
   "cell_type": "code",
   "execution_count": 19,
   "metadata": {
    "scrolled": true
   },
   "outputs": [
    {
     "data": {
      "image/png": "[encoded data removed]",
      "text/plain": [
       "<matplotlib.figure.Figure at 0x201bf3bb390>"
      ]
     },
     "metadata": {},
     "output_type": "display_data"
    }
   ],
   "source": [
    "# トイレ空気温度（確認用）の配列[℃]\n",
    "check_theta = [i for i in range(-10, 45, 1)]\n",
    "\n",
    "# 算定式による計算 \n",
    "calc_P = np.vectorize(P_opg_st_inst)(check_theta)\n",
    "check_P = {\n",
    "    'P_opg_st_inst':{\n",
    "        'Prtd = any':calc_P\n",
    "    }\n",
    "}\n",
    "    \n",
    "# 算定式による計算結果を散布図で表示   \n",
    "plot_line_chart(check_theta, \n",
    "                check_P, \n",
    "                {'P_opg_st_inst':'暖房便座_稼働時_消費電力（便座ヒータ:瞬間式、洗浄水ヒータ:非瞬間式）'},\n",
    "                'トイレ空気温度の日平均値[℃]',  -10, 40, 10, \n",
    "                '消費電力[W]', 0, 100, 20)"
   ]
  },
  {
   "cell_type": "markdown",
   "metadata": {},
   "source": [
    "<p style=\"text-indent:2em\">便座ヒータの加熱方式が非瞬間式、洗浄水ヒータの加熱方式が瞬間式の場合において、温水洗浄が機能することによる稼働時の消費電力：</p>  \n",
    "$$\n",
    "\\begin{equation*}\n",
    "    \\displaystyle P_{opg,wt,{\\textit inst},d,t} =  max \\left(0.0, \\left(-1.274 \\times 10^{-6} \\times \\theta_{toilet,ave,d} \\times P_{rtd,opg,wt} + 0.0357 \\times 10^{-3} \\times P_{rtd,opg,wt} \\right) \\times 1000 \\bigg/ 24 \\right)\n",
    "\\end{equation*}\n",
    "$$\n",
    "<div style=\"text-align: right;\"> (7d) </div>"
   ]
  },
  {
   "cell_type": "markdown",
   "metadata": {},
   "source": [
    "ここで、  \n",
    "\n",
    "$P_{opg,wt,{\\textit inst},d,t}$：便座ヒータの加熱方式が非瞬間式、洗浄水ヒータの加熱方式が瞬間式の場合において、日付$d$の時刻$t$において温水洗浄が機能することによる稼働時の消費電力[W]  \n",
    "$P_{rtd,opg,wt}$：洗浄水ヒータの定格消費電力[W]  \n",
    "$\\theta_{toilet,ave,d}$：日付$d$におけるトイレ空気温度の日平均値[℃]  \n",
    "\n",
    "である。"
   ]
  },
  {
   "cell_type": "code",
   "execution_count": 20,
   "metadata": {},
   "outputs": [],
   "source": [
    "def P_opg_wt_inst(Prtd_opg_wt, theta_toilet_ave):\n",
    "    '''便座ヒータの加熱方式が非瞬間式、洗浄水ヒータの加熱方式が瞬間式の場合において\n",
    "    　 温水洗浄が機能することによる稼働時の消費電力を計算する[W]'''\n",
    "    # Prtd_opg_wt：洗浄水ヒータの定格消費電力[W]  \n",
    "    # theta_toilet_ave：トイレ空気温度の日平均値[C]\n",
    "    \n",
    "    P = max(0.0, (-1.274 * 10**-6 * theta_toilet_ave * Prtd_opg_wt + 0.0357 * 10**-3 * Prtd_opg_wt) * 1000 / 24)\n",
    "    \n",
    "    return P"
   ]
  },
  {
   "cell_type": "code",
   "execution_count": 21,
   "metadata": {
    "scrolled": true
   },
   "outputs": [
    {
     "data": {
      "image/png": "[encoded data removed]",
      "text/plain": [
       "<matplotlib.figure.Figure at 0x201bf7072e8>"
      ]
     },
     "metadata": {},
     "output_type": "display_data"
    }
   ],
   "source": [
    "# 定格消費電力（確認用）の配列[W]\n",
    "check_Prtd = [[i] for i in range(0, 1500, 500)]\n",
    "\n",
    "# トイレ空気温度（確認用）の配列[℃]\n",
    "check_theta = [i for i in range(-10, 45, 1)]\n",
    "\n",
    "# 算定式による計算 \n",
    "calc_P = np.vectorize(P_opg_wt_inst)(check_Prtd, check_theta)\n",
    "check_P = {\n",
    "    'P_opg_wt_inst': {\n",
    "        'Prtd = 0':calc_P[0],\n",
    "        'Prtd = 500':calc_P[1],\n",
    "        'Prtd = 1000':calc_P[2]\n",
    "    }\n",
    "}\n",
    "    \n",
    "# 算定式による計算結果を散布図で表示   \n",
    "plot_line_chart(check_theta, \n",
    "                check_P, \n",
    "                {'P_opg_wt_inst':'温水洗浄_稼働時_消費電力（便座ヒータ:非瞬間式、洗浄水ヒータ:瞬間式）'},\n",
    "                'トイレ空気温度の日平均値[℃]',  -10, 40, 10, \n",
    "                '消費電力[W]', 0, 10, 2)"
   ]
  },
  {
   "cell_type": "markdown",
   "metadata": {},
   "source": [
    "<p style=\"text-indent:2em\">便座ヒータと洗浄水ヒータの両方の加熱方式が瞬間式の場合において、暖房便座が機能することによる稼働時の消費電力と温水洗浄が機能することによる稼働時の消費電力との合計：</p>  \n",
    "$$ \n",
    "\\begin{equation*}\n",
    "    \\displaystyle P_{opg,sw,{\\textit inst},d,t} = max \\left( 0.0, \\left( -0.195 \\times \\theta_{toilet,ave,d} + 8.313 \\right) \\bigg/ \\frac{5}{60} \\right)\n",
    "\\end{equation*}\n",
    "$$\n",
    "<div style=\"text-align: right;\"> (7e) </div>"
   ]
  },
  {
   "cell_type": "markdown",
   "metadata": {},
   "source": [
    "ここで、  \n",
    "\n",
    "$P_{opg,sw,{\\textit inst},d,t}$：便座ヒータと洗浄水ヒータの両方の加熱方式が瞬間式で、日付$d$の時刻$t$において暖房便座が機能することによる稼働時の消費電力と温水洗浄が機能することによる稼働時の消費電力との合計[W]   \n",
    "$\\theta_{toilet,ave,d}$：日付$d$におけるトイレ空気温度の日平均値[℃]  \n",
    "\n",
    "である。"
   ]
  },
  {
   "cell_type": "code",
   "execution_count": 22,
   "metadata": {},
   "outputs": [],
   "source": [
    "def P_opg_sw_inst(theta_toilet_ave):\n",
    "    '''便座ヒータと洗浄水ヒータの両方の加熱方式が瞬間式で、\n",
    "    　 暖房便座が機能することによる稼働時の消費電力と温水洗浄が機能することによる稼働時の消費電力との合計を計算する[W]'''\n",
    "    # theta_toilet_ave：トイレ空気温度の日平均値[C]\n",
    "    \n",
    "    P = max(0.0, (-0.195 * theta_toilet_ave + 8.313) / (5 / 60))\n",
    "    \n",
    "    return P"
   ]
  },
  {
   "cell_type": "code",
   "execution_count": 23,
   "metadata": {
    "scrolled": true
   },
   "outputs": [
    {
     "data": {
      "image/png": "[encoded data removed]",
      "text/plain": [
       "<matplotlib.figure.Figure at 0x201bf720d30>"
      ]
     },
     "metadata": {},
     "output_type": "display_data"
    }
   ],
   "source": [
    "# トイレ空気温度（確認用）の配列[℃]\n",
    "check_theta = [i for i in range(-10, 45, 1)]\n",
    "\n",
    "# 算定式による計算 \n",
    "calc_P = np.vectorize(P_opg_sw_inst)(check_theta)\n",
    "check_P = {\n",
    "    'P_opg_sw_inst':{\n",
    "        'Prtd = any':calc_P\n",
    "    }\n",
    "}\n",
    "    \n",
    "# 算定式による計算結果を散布図で表示   \n",
    "plot_line_chart(check_theta, \n",
    "                check_P, \n",
    "                {'P_opg_sw_inst':'暖房便座+温水洗浄_稼働時_消費電力（便座水ヒータ:瞬間式、洗浄水ヒータ:瞬間式）'},\n",
    "                'トイレ空気温度の日平均値[℃]',  -10, 40, 10, \n",
    "                '消費電力[W]', 0, 160, 20)"
   ]
  },
  {
   "cell_type": "markdown",
   "metadata": {},
   "source": [
    "### 9.5　待機時の消費電力"
   ]
  },
  {
   "cell_type": "markdown",
   "metadata": {},
   "source": [
    "日付$d$の時刻$t$における待機時の消費電力は、暖房便座が機能することによる消費電力と温水洗浄が機能することによる消費電力の合計であり、式(8)により計算される。"
   ]
  },
  {
   "cell_type": "markdown",
   "metadata": {},
   "source": [
    "<p style=\"text-indent:2em\">待機時の消費電力量：</p>  \n",
    "$$ \n",
    "\\begin{equation*}\n",
    "    P_{sby,d,t} = P_{sby,st,d,t} + P_{sby,wt,d,t}\n",
    "\\end{equation*}\n",
    "$$\n",
    "<div style=\"text-align: right;\"> (8) </div>"
   ]
  },
  {
   "cell_type": "markdown",
   "metadata": {},
   "source": [
    "ここで、  \n",
    "\n",
    "$P_{sby,st,d,t}$：日付$d$の時刻$t$における待機時の消費電力[W]  \n",
    "$P_{sby,st,d,t}$：日付$d$の時刻$t$において暖房便座が機能することによる待機時の消費電力[W]  \n",
    "$P_{sby,wt,d,t}$：日付$d$の時刻$t$において温水洗浄が機能することによる待機時の消費電力[W]  \n",
    "\n",
    "である。"
   ]
  },
  {
   "cell_type": "code",
   "execution_count": 24,
   "metadata": {},
   "outputs": [],
   "source": [
    "def P_sby(Prtd_opg_st, Prtd_opg_wt, seat_heater_type, water_heater_type, seat_heater_switch, theta_toilet_ave):\n",
    "    '''待機時の消費電力[W]を計算する'''\n",
    "    # Prtd_opg_st：便座ヒータの定格消費電力[W]  \n",
    "    # Prtd_opg_ht：洗浄水ヒータの定格消費電力[W]  \n",
    "    # seat_heater_type：便座ヒータの加熱方式[非瞬間方式、瞬間方式]  \n",
    "    # water_heater_type：洗浄水ヒータの加熱方式[非瞬間方式、瞬間方式]  \n",
    "    # seat_heater_switch：便座ヒータの電源スイッチ[オフ、オン]  \n",
    "    # theta_toilet_ave：トイレ空気温度の日平均値[C]  \n",
    "    \n",
    "    if seat_heater_type == HeaterType.NonInst and water_heater_type == HeaterType.NonInst:\n",
    "        P_sby =  P_sby_noninst_noninst(Prtd_opg_st, Prtd_opg_wt, seat_heater_switch, theta_toilet_ave)\n",
    "    \n",
    "    elif seat_heater_type == HeaterType.Inst and water_heater_type == HeaterType.NonInst:\n",
    "        P_sby = P_sby_inst_noninst(Prtd_opg_wt, seat_heater_switch, theta_toilet_ave)\n",
    "    \n",
    "    elif seat_heater_type == HeaterType.NonInst and water_heater_type == HeaterType.Inst:\n",
    "        P_sby = P_sby_noninst_inst(Prtd_opg_st, Prtd_opg_wt, seat_heater_switch, theta_toilet_ave)\n",
    "    \n",
    "    elif seat_heater_type == HeaterType.Inst and water_heater_type == HeaterType.Inst:\n",
    "        P_sby = P_sby_inst_inst(Prtd_opg_wt, theta_toilet_ave)\n",
    "    else:\n",
    "        raise Exception\n",
    "        \n",
    "    return P_sby"
   ]
  },
  {
   "cell_type": "markdown",
   "metadata": {},
   "source": [
    "日付$d$の時刻$t$において暖房便座が機能することによる待機時の消費電力および日付$d$の時刻$t$において温水洗浄が機能することによる待機時の消費電力は、便座ヒータおよび洗浄水ヒータの加熱方式に応じて式(9)により計算される。"
   ]
  },
  {
   "cell_type": "markdown",
   "metadata": {},
   "source": [
    "<p style=\"text-indent:2em\">便座ヒータと洗浄水ヒータの両方の加熱方式が非瞬間方式の場合：</p>  \n",
    "<p style=\"text-indent:4em\">暖房便座が機能することによる消費電力：</p>  \n",
    "<p style=\"text-indent:6em\">便座ヒータの電源がオフ：</p>  \n",
    "$$  \n",
    "\\begin{equation*}\n",
    "    \\displaystyle P_{sby,st,d,t} = 0\n",
    "\\end{equation*}\n",
    "$$\n",
    "<div style=\"text-align: right;\"> (9a-1) </div>\n",
    "\n",
    "<p style=\"text-indent:6em\">便座ヒータの電源がオン：</p>  \n",
    "$$  \n",
    "\\begin{equation*}\n",
    "    \\displaystyle P_{sby,st,d,t} = P_{sby,st,noninst,d,t}\n",
    "\\end{equation*}\n",
    "$$\n",
    "<div style=\"text-align: right;\"> (9a-2) </div>\n",
    "        \n",
    "<p style=\"text-indent:4em\">温水洗浄が機能することによる消費電力：</p>  \n",
    "$$ \n",
    "\\begin{equation*}\n",
    "    \\displaystyle P_{sby,wt,d,t} =  P_{sby,wt,noninst,d,t}\n",
    "\\end{equation*}\n",
    "$$\n",
    "<div style=\"text-align: right;\"> (9a-3) </div>"
   ]
  },
  {
   "cell_type": "markdown",
   "metadata": {},
   "source": [
    "ここで、  \n",
    "\n",
    "$P_{sby,st,d,t}$：日付$d$の時刻$t$において暖房便座が機能することによる待機時の消費電力[W]  \n",
    "$P_{sby,st,noninst,d,t}$：便座ヒータの加熱方式が非瞬間式の場合において、日付$d$の時刻$t$において暖房便座が機能することによる待機時の消費電力[W]   \n",
    "$P_{sby,wt,d,t}$：日付$d$の時刻$t$において温水洗浄が機能することによる待機時の消費電力[W]  \n",
    "$P_{sby,wt,noninst,d,t}$：洗浄水ヒータの加熱方式が非瞬間式の場合において、日付$d$の時刻$t$において温水洗浄が機能することによる待機時の消費電力[W]    \n",
    "\n",
    "である。  "
   ]
  },
  {
   "cell_type": "code",
   "execution_count": 25,
   "metadata": {},
   "outputs": [],
   "source": [
    "def P_sby_noninst_noninst(Prtd_opg_st, Prtd_opg_wt, seat_heater_switch, theta_toilet_ave):\n",
    "    '''便座ヒータと洗浄水ヒータの両方の加熱方式が非瞬間方式の場合の待機時の消費電力を計算する[W]'''\n",
    "    # Prtd_opg_st：便座ヒータの定格消費電力[W] \n",
    "    # Prtd_opg_wt：洗浄水ヒータの定格消費電力[W]  \n",
    "    # seat_heater_switch：便座ヒータの電源スイッチ[オフ、オン]   \n",
    "    # theta_toilet_ave：トイレ空気温度の日平均値[C]\n",
    "    \n",
    "    # 暖房便座が機能することによる消費電力[W]\n",
    "    if seat_heater_switch == HeaterSwitch.Off:\n",
    "        P_sby_st = 0       \n",
    "    elif seat_heater_switch == HeaterSwitch.On:\n",
    "        P_sby_st = P_sby_st_noninst(Prtd_opg_st, theta_toilet_ave)\n",
    "    else:\n",
    "        raise Exception\n",
    "   \n",
    "    # 温水洗浄が機能することによる消費電力[W]\n",
    "    P_sby_wt = P_sby_wt_noninst(Prtd_opg_wt, theta_toilet_ave) \n",
    "    \n",
    "    return P_sby_st + P_sby_wt"
   ]
  },
  {
   "cell_type": "markdown",
   "metadata": {},
   "source": [
    "<p style=\"text-indent:2em\">便座ヒータの加熱方式が瞬間方式＋洗浄水ヒータの加熱方式が非瞬間方式の場合：</p>  \n",
    "<p style=\"text-indent:4em\">暖房便座が機能することによる消費電力：</p>    \n",
    "<p style=\"text-indent:6em\">便座ヒータの電源がオフ：</p>  \n",
    "$$  \n",
    "\\begin{equation*}\n",
    "    \\displaystyle P_{sby,st,d,t} = 0\n",
    "\\end{equation*}\n",
    "$$\n",
    "<div style=\"text-align: right;\"> (9b-1) </div>\n",
    "\n",
    "<p style=\"text-indent:6em\">便座ヒータの電源がオン：</p>  \n",
    "$$  \n",
    "\\begin{equation*}\n",
    "    \\displaystyle P_{sby,st,d,t} = P_{sby,st,{\\textit inst},d,t}\n",
    "\\end{equation*}\n",
    "$$\n",
    "<div style=\"text-align: right;\"> (9b-2) </div>\n",
    "\n",
    "<p style=\"text-indent:4em\">温水洗浄が機能することによる消費電力：</p>    \n",
    "$$ \n",
    "\\begin{equation*}\n",
    "    \\displaystyle P_{sby,wt,d,t} =  P_{sby,wt,noninst,d,t}\n",
    "\\end{equation*}\n",
    "$$\n",
    "<div style=\"text-align: right;\"> (9b-3) </div>"
   ]
  },
  {
   "cell_type": "markdown",
   "metadata": {},
   "source": [
    "ここで、  \n",
    "\n",
    "$P_{sby,st,d,t}$：日付$d$の時刻$t$において暖房便座が機能することによる待機時の消費電力[W]  \n",
    "$P_{sby,st,{\\textit inst},d,t}$：便座ヒータの加熱方式が瞬間方式、洗浄水ヒータの加熱方式が非瞬間式の場合において、日付$d$の時刻$t$において暖房便座が機能することによる待機時の消費電力[W]  \n",
    "$P_{sby,wt,d,t}$：日付$d$の時刻$t$において温水洗浄が機能する場合の待機時の消費電力[W]  \n",
    "$P_{sby,wt,noninst,d,t}$：洗浄水ヒータの加熱方式が非瞬間式の場合において、日付$d$の時刻$t$において温水洗浄が機能することによる待機時の消費電力[W]    \n",
    "\n",
    "である。  "
   ]
  },
  {
   "cell_type": "code",
   "execution_count": 26,
   "metadata": {},
   "outputs": [],
   "source": [
    "def P_sby_inst_noninst(Prtd_opg_wt, seat_heater_switch, theta_toilet_ave):\n",
    "    '''便座ヒータの加熱方式が瞬間方式＋洗浄水ヒータの加熱方式が非瞬間方式の場合の待機時の消費電力を計算する[W]'''\n",
    "    # Prtd_opg_wt：洗浄水ヒータの定格消費電力[W]  \n",
    "    # seat_heater_switch：便座ヒータの電源スイッチ[オフ、オン] \n",
    "    # theta_toilet_ave：トイレ空気温度の日平均値[C]\n",
    "    \n",
    "    # 暖房便座が機能することによる消費電力[W]\n",
    "    if seat_heater_switch == HeaterSwitch.Off:\n",
    "        P_sby_st = 0\n",
    "    elif seat_heater_switch == HeaterSwitch.On:\n",
    "        P_sby_st = P_sby_st_inst()\n",
    "    else:\n",
    "        raise Exception\n",
    "    \n",
    "    # 温水洗浄が機能することによる消費電力[W]\n",
    "    P_sby_wt = P_opg_wt_noninst(Prtd_opg_wt, theta_toilet_ave)\n",
    "\n",
    "    return P_sby_st + P_sby_wt"
   ]
  },
  {
   "cell_type": "markdown",
   "metadata": {},
   "source": [
    "<p style=\"text-indent:2em\">便座ヒータの加熱方式が非瞬間方式＋洗浄水ヒータの加熱方式が瞬間方式の場合：</p>   \n",
    "<p style=\"text-indent:4em\">暖房便座が機能することによる消費電力：</p>   \n",
    "<p style=\"text-indent:6em\">便座ヒータの電源がオフ：</p>      \n",
    "$$  \n",
    "\\begin{equation*}\n",
    "    \\displaystyle P_{sby,st,d,t} = 0\n",
    "\\end{equation*}\n",
    "$$\n",
    "<div style=\"text-align: right;\"> (9c-1) </div>\n",
    "\n",
    "<p style=\"text-indent:6em\">便座ヒータの電源がオン：</p>      \n",
    "$$  \n",
    "\\begin{equation*}\n",
    "    \\displaystyle P_{sby,st,d,t} = P_{sby,st,noninst,d,t}\n",
    "\\end{equation*}\n",
    "$$\n",
    "<div style=\"text-align: right;\"> (9c-2) </div>\n",
    "            \n",
    "<p style=\"text-indent:4em\">温水洗浄が機能することによる消費電力：</p>\n",
    "$$ \n",
    "\\begin{equation*}\n",
    "    \\displaystyle P_{sby,wt,d,t} =  P_{sby,wt,{\\textit inst},d,t}\n",
    "\\end{equation*}\n",
    "$$\n",
    "<div style=\"text-align: right;\"> (9c-3) </div>"
   ]
  },
  {
   "cell_type": "markdown",
   "metadata": {},
   "source": [
    "ここで、  \n",
    "\n",
    "$P_{sby,st,d,t}$：日付$d$の時刻$t$において暖房便座が機能することによる待機時の消費電力[W]  \n",
    "$P_{sby,st,noninst,d,t}$：便座ヒータの加熱方式が非瞬間式の場合において、日付$d$の時刻$t$において暖房便座が機能することによる待機時の消費電力[W]    \n",
    "$P_{sby,wt,d,t}$：日付$d$の時刻$t$において温水洗浄が機能することによる待機時の消費電力[W]  \n",
    "$P_{sby,wt{\\textit inst},d,t}$：便座ヒータの加熱方式が非瞬間式、洗浄水ヒータの加熱方式が瞬間式で、日付$d$の時刻$t$において温水洗浄が機能することによる待機時の消費電力[W]   \n",
    "\n",
    "である。  "
   ]
  },
  {
   "cell_type": "code",
   "execution_count": 27,
   "metadata": {},
   "outputs": [],
   "source": [
    "def P_sby_noninst_inst(Prtd_opg_st, Prtd_opg_wt, seat_heater_switch, theta_toilet_ave):\n",
    "    '''便座ヒータの加熱方式が非瞬間方式＋洗浄水ヒータの加熱方式が瞬間方式の場合の稼働時の消費電力を計算する[W]'''\n",
    "    # Prtd_opg_st：便座ヒータの定格消費電力[W] \n",
    "    # Prtd_opg_wt：洗浄水ヒータの定格消費電力[W]  \n",
    "    # seat_heater_switch：便座ヒータの電源スイッチ[オフ、オン]  \n",
    "    # theta_toilet_ave：トイレ空気温度の日平均値[C]\n",
    "            \n",
    "    # 暖房便座が機能することによる消費電力[W]\n",
    "    if seat_heater_switch == HeaterSwitch.Off:\n",
    "        P_sby_st = 0 \n",
    "    elif seat_heater_switch == HeaterSwitch.On:\n",
    "        P_sby_st =P_sby_st_noninst(Prtd_opg_st, theta_toilet_ave)\n",
    "    else:\n",
    "        raise Exception\n",
    "            \n",
    "    # 温水洗浄が機能することによる消費電力[W]\n",
    "    P_sby_wt = P_sby_wt_inst()\n",
    "    \n",
    "    return P_sby_st + P_sby_wt"
   ]
  },
  {
   "cell_type": "markdown",
   "metadata": {},
   "source": [
    "<p style=\"text-indent:2em\">便座ヒータと洗浄水ヒータの両方の加熱方式が瞬間方式の場合（便座ヒータのオフは考慮しない）：</p>  \n",
    "<p style=\"text-indent:4em\">暖房便座が機能することによる消費電力と温水洗浄が機能することによる消費電力との合計：</p>  \n",
    "$$\n",
    "\\begin{equation*}\n",
    "    \\displaystyle P_{sby,st,d,t} + P_{sby,wt,d,t} = P_{sby,sw,{\\textit inst},d,t}\n",
    "\\end{equation*}\n",
    "$$\n",
    "<div style=\"text-align: right;\"> (9d) </div>"
   ]
  },
  {
   "cell_type": "markdown",
   "metadata": {},
   "source": [
    "ここで、  \n",
    "\n",
    "$P_{sby,st,d,t}$：日付$d$の時刻$t$において暖房便座が機能することによる待機時の消費電力[W]  \n",
    "$P_{sby,sw,{\\textit inst},d,t}$：便座ヒータと洗浄水ヒータの両方の加熱方式が瞬間式で、日付$d$の時刻$t$において暖房便座が機能することによる稼働時の消費電力と温水洗浄が機能することによる待機時の消費電力との合計[W]  \n",
    "$P_{sby,wt,d,t}$：日付$d$の時刻$t$において温水洗浄が機能することによる待機時の消費電力[W]    \n",
    "\n",
    "である。  "
   ]
  },
  {
   "cell_type": "code",
   "execution_count": 28,
   "metadata": {},
   "outputs": [],
   "source": [
    "def P_sby_inst_inst(Prtd_opg_wt, theta_toilet_ave):\n",
    "    '''便座ヒータと洗浄水ヒータの両方の加熱方式が瞬間方式の場合の待機時の消費電力を計算する[W]'''\n",
    "    # Prtd_opg_wt：洗浄水ヒータの定格消費電力[W]  \n",
    "    # theta_toilet_ave：トイレ空気温度の日平均値[C]\n",
    "    \n",
    "    # 暖房便座が機能することによる消費電力と温水洗浄が機能することによる消費電力との合計[W]\n",
    "    P_sby_sw = P_sby_sw_inst(theta_toilet_ave) \n",
    "    \n",
    "    return P_sby_sw"
   ]
  },
  {
   "cell_type": "markdown",
   "metadata": {},
   "source": [
    "暖房便座が機能することによる待機時の消費電力および温水洗浄が機能することによる待機時の消費電力は、便座ヒータおよび洗浄水ヒータの加熱方式およびヒータ電源の状態に応じて式(10)により計算される。ただし、計算値がマイナスの場合は消費電力はゼロとする。"
   ]
  },
  {
   "cell_type": "markdown",
   "metadata": {},
   "source": [
    "<p style=\"text-indent:2em\">便座ヒータの加熱方式が非瞬間式の場合において、暖房便座が機能することによる待機時の消費電力：</p>  \n",
    "$$ \n",
    "\\begin{equation*}\n",
    "    \\displaystyle P_{sby,st,noninst,d,t} = P_{opg,st,noninst,d,t}\n",
    "\\end{equation*}\n",
    "$$\n",
    "<div style=\"text-align: right;\"> (10a) </div>"
   ]
  },
  {
   "cell_type": "markdown",
   "metadata": {},
   "source": [
    "ここで、  \n",
    "\n",
    "$P_{opg,st,noninst,d,t}$：便座ヒータの加熱方式が非瞬間式の場合において、日付$d$の時刻$t$において暖房便座が機能することによる稼働時の消費電力[W]  \n",
    "$P_{sby,st,noninst,d,t}$：便座ヒータの加熱方式が非瞬間式の場合において、日付$d$の時刻$t$において暖房便座が機能することによる待機時の消費電力[W]  \n",
    "\n",
    "である。"
   ]
  },
  {
   "cell_type": "code",
   "execution_count": 29,
   "metadata": {},
   "outputs": [],
   "source": [
    "def P_sby_st_noninst(Prtd_opg_st, theta_toilet_ave):\n",
    "    '''便座ヒータの加熱方式が非瞬間式の場合において\n",
    "    　 暖房便座が機能することによる待機時の消費電力を計算する[W]'''\n",
    "    # Prtd_opg_st：便座ヒータの定格消費電力[W]  \n",
    "    # theta_toilet_ave：トイレ空気温度の日平均値[C]\n",
    "    \n",
    "    P = P_opg_st_noninst(Prtd_opg_st, theta_toilet_ave)\n",
    "    \n",
    "    return P"
   ]
  },
  {
   "cell_type": "markdown",
   "metadata": {},
   "source": [
    "<p style=\"text-indent:2em\">洗浄水ヒータの加熱方式が非瞬間式の場合において、温水洗浄が機能することによる待機時の消費電力：</p>  \n",
    "$$ \n",
    "\\begin{equation*}\n",
    "    \\displaystyle P_{sby,wt,noninst,d,t} = P_{opg,wt,noninst,d,t}\n",
    "\\end{equation*}\n",
    "$$\n",
    "<div style=\"text-align: right;\"> (10b) </div>"
   ]
  },
  {
   "cell_type": "markdown",
   "metadata": {},
   "source": [
    "ここで、  \n",
    "\n",
    "$P_{opg,wt,noninst,d,t}$：洗浄水ヒータの加熱方式が非瞬間式の場合において、日付$d$の時刻$t$において温水洗浄が機能することによる稼働時の消費電力[W]  \n",
    "$P_{sby,wt,noninst,d,t}$：洗浄水ヒータの加熱方式が非瞬間式の場合において、日付$d$の時刻$t$において温水洗浄が機能することによる待機時の消費電力[W]  \n",
    "である。"
   ]
  },
  {
   "cell_type": "code",
   "execution_count": 30,
   "metadata": {},
   "outputs": [],
   "source": [
    "def P_sby_wt_noninst(Prtd_opg_wt, theta_toilet_ave):\n",
    "    '''洗浄水ヒータの加熱方式が非瞬間式の場合において\n",
    "    　 温水洗浄が機能することによる待機時の消費電力を計算する[W]'''\n",
    "    # Prtd_opg_wt：洗浄水ヒータの定格消費電力[W]  \n",
    "    # theta_toilet_ave：トイレ空気温度の日平均値[C]\n",
    "    \n",
    "    P = P_opg_wt_noninst(Prtd_opg_wt, theta_toilet_ave)\n",
    "    \n",
    "    return P"
   ]
  },
  {
   "cell_type": "markdown",
   "metadata": {},
   "source": [
    "<p style=\"text-indent:2em\">便座ヒータの加熱方式が瞬間式、洗浄水ヒータの加熱方式が非瞬間式の場合において、暖房便座が機能することによる待機時の消費電力：</p>  \n",
    "$$ \n",
    "\\begin{equation*}\n",
    "    \\displaystyle P_{sby,st,{\\textit inst},d,t} = 0\n",
    "\\end{equation*}\n",
    "$$  \n",
    "<div style=\"text-align: right;\"> (10c) </div>"
   ]
  },
  {
   "cell_type": "markdown",
   "metadata": {},
   "source": [
    "ここで、  \n",
    "\n",
    "$P_{sby,st,{\\textit inst},d,t}$：便座ヒータの加熱方式が瞬間式、洗浄水ヒータの加熱方式が非瞬間式の場合において、日付$d$の時刻$t$において暖房便座が機能することによる待機時の消費電力[W]  \n",
    "\n",
    "である。"
   ]
  },
  {
   "cell_type": "code",
   "execution_count": 31,
   "metadata": {},
   "outputs": [],
   "source": [
    "def P_sby_st_inst():\n",
    "    '''便座ヒータの加熱方式が瞬間式、洗浄水ヒータの加熱方式が非瞬間式の場合において\n",
    "    　 暖房便座が機能することによる待機時の消費電力を計算する[W]'''\n",
    "    \n",
    "    P = 0.0\n",
    "    \n",
    "    return P"
   ]
  },
  {
   "cell_type": "markdown",
   "metadata": {},
   "source": [
    "<p style=\"text-indent:2em\">便座ヒータの加熱方式が非瞬間式、洗浄水ヒータの加熱方式が瞬間式の場合において、温水洗浄が機能することによる待機時の消費電力：</p>  \n",
    "$$ \n",
    "\\begin{equation*}\n",
    "    \\displaystyle P_{sby,wt,{\\textit inst},d,t} = 0\n",
    "\\end{equation*}\n",
    "$$  \n",
    "<div style=\"text-align: right;\"> (10d) </div>"
   ]
  },
  {
   "cell_type": "markdown",
   "metadata": {},
   "source": [
    "ここで、  \n",
    "\n",
    "$P_{sby,wt,{\\textit inst},d,t}$：便座ヒータの加熱方式が非瞬間式、洗浄水ヒータの加熱方式が瞬間式の場合において、日付$d$の時刻$t$において温水洗浄が機能することによる待機時の消費電力[W]  \n",
    "\n",
    "である。"
   ]
  },
  {
   "cell_type": "code",
   "execution_count": 32,
   "metadata": {},
   "outputs": [],
   "source": [
    "def P_sby_wt_inst():\n",
    "    '''便座ヒータの加熱方式が非瞬間式、洗浄水ヒータの加熱方式が瞬間式の場合において\n",
    "    　 温水洗浄が機能することによる待機時の消費電力を計算する[W]'''\n",
    "    \n",
    "    P = 0.0\n",
    "    \n",
    "    return P"
   ]
  },
  {
   "cell_type": "markdown",
   "metadata": {},
   "source": [
    "<p style=\"text-indent:2em\">便座ヒータと洗浄水ヒータの両方の加熱方式が瞬間式の場合において、暖房便座が機能することによる待機時の消費電力と温水洗浄が機能することによる待機時の消費電力との合計：</p>  \n",
    "$$ \n",
    "\\begin{equation*}\n",
    "    \\displaystyle P_{sby,sw,{\\textit inst},d,t} = max \\left(0.0, -0.984 \\times \\theta_{toilet,ave,d} + 17.886 \\right)\n",
    "\\end{equation*}\n",
    "$$\n",
    "<div style=\"text-align: right;\"> (10e) </div>"
   ]
  },
  {
   "cell_type": "markdown",
   "metadata": {},
   "source": [
    "ここで、  \n",
    "\n",
    "$P_{sby,sw,{\\textit inst},d,t}$：便座ヒータと洗浄水ヒータの両方の加熱方式が瞬間式の場合において、日付$d$の時刻$t$において暖房便座が機能することによる待機時の消費電力と温水洗浄が機能することによる待機時の消費電力との合計[W]   \n",
    "$\\theta_{toilet,ave,d}$：日付$d$におけるトイレ空気温度の日平均値[℃]  \n",
    "\n",
    "である。"
   ]
  },
  {
   "cell_type": "code",
   "execution_count": 33,
   "metadata": {},
   "outputs": [],
   "source": [
    "def P_sby_sw_inst(theta_toilet_ave):\n",
    "    '''便座ヒータと洗浄水ヒータの両方の加熱方式が瞬間式の場合において\n",
    "    　 暖房便座が機能することによる待機時の消費電力と温水洗浄が機能することによる待機時の消費電力との合計[W]'''\n",
    "    # theta_toilet_ave：トイレ空気温度の日平均値[C]\n",
    "\n",
    "    P = max(0.0, -0.984 * theta_toilet_ave + 17.886)\n",
    "    \n",
    "    return P"
   ]
  },
  {
   "cell_type": "code",
   "execution_count": 34,
   "metadata": {
    "scrolled": true
   },
   "outputs": [
    {
     "data": {
      "image/png": "[encoded data removed]",
      "text/plain": [
       "<matplotlib.figure.Figure at 0x201bf7dc8d0>"
      ]
     },
     "metadata": {},
     "output_type": "display_data"
    }
   ],
   "source": [
    "# トイレ空気温度（確認用）の配列[℃]\n",
    "check_theta = [i for i in range(-10, 45, 1)]\n",
    "\n",
    "# 算定式による計算 \n",
    "calc_P = np.vectorize(P_sby_sw_inst)(check_theta)\n",
    "check_P = {\n",
    "    'P_sby_sw_inst': {\n",
    "        'Prtd = any':calc_P\n",
    "    }\n",
    "}\n",
    "    \n",
    "# 算定式による計算結果を散布図で表示   \n",
    "plot_line_chart(check_theta, \n",
    "                check_P, \n",
    "                {'P_sby_sw_inst':'暖房便座+温水洗浄_待機時_消費電力（便座水ヒータ:瞬間式、洗浄水ヒータ:瞬間式）'},\n",
    "                'トイレ空気温度の日平均値[℃]',  -10, 40, 10, \n",
    "                '消費電力[W]', 0, 100, 20)"
   ]
  },
  {
   "cell_type": "markdown",
   "metadata": {},
   "source": [
    "### 9.6　標準条件"
   ]
  },
  {
   "cell_type": "markdown",
   "metadata": {},
   "source": [
    "#### 9.6.1　機器仕様"
   ]
  },
  {
   "cell_type": "markdown",
   "metadata": {},
   "source": [
    "4人世帯の標準的な機器仕様として、下表の設定を用いることができる。"
   ]
  },
  {
   "cell_type": "markdown",
   "metadata": {},
   "source": [
    "| 番号 | 便座ヒータの定格消費電力[W] | 洗浄水ヒータの定格消費電力[W] | 便座ヒータの加熱方式 | 洗浄水ヒータの加熱方式| 便座ヒータのオフ | 備考 |\n",
    "|:----:| :-------------------------: | :---------------------------: | :------------------: | :-------------------: | :--: | :--: |  \n",
    "|  00  | 50                          | 500                           | 非瞬間式             | 非瞬間式              | 可   | -    |\n",
    "|  01  | 50                          | 1200                          | 非瞬間式             | 瞬間式                | 可   | 4人標準世帯のデフォルト設定 |\n",
    "|  02  | 50                          | 500                           | 瞬間式               | 非瞬間式              | 可   | -    |\n",
    "|  03  | 50                          | 1068                          | 瞬間式               | 瞬間式                | 不可 | -    |"
   ]
  },
  {
   "cell_type": "code",
   "execution_count": 35,
   "metadata": {},
   "outputs": [],
   "source": [
    "Spec = {\n",
    "    'ToiletSeat00':{\n",
    "        'Prtd_opg_st' : 50,\n",
    "        'Prtd_opg_wt' : 500,\n",
    "        'seat_heater_type' : HeaterType.NonInst,\n",
    "        'water_heater_type' : HeaterType.NonInst\n",
    "    },\n",
    "    'ToiletSeat01':{\n",
    "        'Prtd_opg_st' : 50,\n",
    "        'Prtd_opg_wt' : 1200,\n",
    "        'seat_heater_type' : HeaterType.NonInst,\n",
    "        'water_heater_type' : HeaterType.Inst\n",
    "    },\n",
    "    'ToiletSeat02':{\n",
    "        'Prtd_opg_st' : 50,\n",
    "        'Prtd_opg_wt' : 500,\n",
    "        'seat_heater_type' : HeaterType.Inst,\n",
    "        'water_heater_type' : HeaterType.NonInst\n",
    "    },\n",
    "    'ToiletSeat03':{\n",
    "        'Prtd_opg_st' : 50,\n",
    "        'Prtd_opg_wt' : 1068,\n",
    "        'seat_heater_type' : HeaterType.Inst,\n",
    "        'water_heater_type' : HeaterType.Inst\n",
    "    }\n",
    "}"
   ]
  },
  {
   "cell_type": "markdown",
   "metadata": {},
   "source": [
    "#### 9.6.2　機器使用スケジュール"
   ]
  },
  {
   "cell_type": "markdown",
   "metadata": {
    "collapsed": true,
    "scrolled": true
   },
   "source": [
    "4人世帯の標準的なスケジュールとして、下表の設定を用いることができる。"
   ]
  },
  {
   "cell_type": "markdown",
   "metadata": {},
   "source": [
    "| 番号 | スケジュール名称 | 備考 |\n",
    "|:---: | :--------------: | :--: |\n",
    "|  00  | 4人標準世帯1階   | -    |\n",
    "|  01  | 4人標準世帯2階   | -    |"
   ]
  },
  {
   "cell_type": "markdown",
   "metadata": {},
   "source": [
    "<p style=\"text-indent:2em\">平日（1階）：</p>  \n",
    "\n",
    "|時刻                  |0  |1  |2  |3  |4  |5  |6  |7  |8  |9  |10 |11 |12 |13 |14 |15 |16 |17 |18 |19 |20 |21 |22 |23 |  \n",
    "|:---:                 | -:| -:| -:| -:| -:| -:| -:| -:| -:| -:| -:| -:| -:| -:| -:| -:| -:| -:| -:| -:| -:| -:| -:| -:|  \n",
    "|AC稼働時間[\\* 60 s]   |  0|  0|  0|  0|  0|  0|  5|  0|  5|  0|  5|  0|  5|  0|  0|  0|  5|  5|  0|  5|  0|  0|  5|  5|  \n",
    "|AC待機時間[\\* 60 s]   | 60| 60| 60| 60| 60| 60| 55| 60| 55| 60| 55| 60| 55| 60| 60| 60| 55| 55| 60| 55| 60| 60| 55| 55| "
   ]
  },
  {
   "cell_type": "markdown",
   "metadata": {},
   "source": [
    "<p style=\"text-indent:2em\">休日在宅（1階）：</p>   \n",
    "\n",
    "|時刻                  |0  |1  |2  |3  |4  |5  |6  |7  |8  |9  |10 |11 |12 |13 |14 |15 |16 |17 |18 |19 |20 |21 |22 |23 |  \n",
    "|:---:                 | -:| -:| -:| -:| -:| -:| -:| -:| -:| -:| -:| -:| -:| -:| -:| -:| -:| -:| -:| -:| -:| -:| -:| -:|  \n",
    "|AC稼働時間[\\* 60 s]   |  0|  0|  0|  0|  0|  0|  0| 10|  5|  0|  0|  0|  0|  5|  0|  0|  5|  0|  0|  5|  5|  5|  5|  5|  \n",
    "|AC待機時間[\\* 60 s]   | 60| 60| 60| 60| 60| 60| 60| 50| 55| 60| 60| 60| 60| 55| 60| 60| 55| 60| 60| 55| 55| 55| 55| 55| "
   ]
  },
  {
   "cell_type": "markdown",
   "metadata": {},
   "source": [
    "<p style=\"text-indent:2em\">休日外出（1階）：</p>     \n",
    "\n",
    "|時刻                  |0  |1  |2  |3  |4  |5  |6  |7  |8  |9  |10 |11 |12 |13 |14 |15 |16 |17 |18 |19 |20 |21 |22 |23 |  \n",
    "|:---:                 | -:| -:| -:| -:| -:| -:| -:| -:| -:| -:| -:| -:| -:| -:| -:| -:| -:| -:| -:| -:| -:| -:| -:| -:|  \n",
    "|AC稼働時間[\\* 60 s]   |  0|  0|  0|  0|  0|  0|  5|  5|  5|  0|  0|  0|  0|  0|  0|  0|  0|  0|  0|  0|  5|  5|  5|  5|  \n",
    "|AC待機時間[\\* 60 s]   | 60| 60| 60| 60| 60| 60| 55| 55| 55| 60| 60| 60| 60| 60| 60| 60| 60| 60| 60| 60| 55| 55| 55| 55| "
   ]
  },
  {
   "cell_type": "markdown",
   "metadata": {},
   "source": [
    "<p style=\"text-indent:2em\">平日（2階）：</p>   \n",
    "\n",
    "|時刻                  |0  |1  |2  |3  |4  |5  |6  |7  |8  |9  |10 |11 |12 |13 |14 |15 |16 |17 |18 |19 |20 |21 |22 |23 |  \n",
    "|:---:                 | -:| -:| -:| -:| -:| -:| -:| -:| -:| -:| -:| -:| -:| -:| -:| -:| -:| -:| -:| -:| -:| -:| -:| -:|  \n",
    "|AC稼働時間[\\* 60 s]   |  0|  0|  0|  0|  0|  0|  0| 10|  5|  0|  0|  0|  0|  0|  0|  0|  0|  5|  5|  5|  5|  5|  0| 10|  \n",
    "|AC待機時間[\\* 60 s]   | 60| 60| 60| 60| 60| 60| 60| 50| 55| 60| 60| 60| 60| 60| 60| 60| 60| 55| 55| 55| 55| 55| 60| 50| "
   ]
  },
  {
   "cell_type": "markdown",
   "metadata": {},
   "source": [
    "<p style=\"text-indent:2em\">休日在宅（2階）：</p>    \n",
    "\n",
    "|時刻                  |0  |1  |2  |3  |4  |5  |6  |7  |8  |9  |10 |11 |12 |13 |14 |15 |16 |17 |18 |19 |20 |21 |22 |23 |  \n",
    "|:---:                 | -:| -:| -:| -:| -:| -:| -:| -:| -:| -:| -:| -:| -:| -:| -:| -:| -:| -:| -:| -:| -:| -:| -:| -:|  \n",
    "|AC稼働時間[\\* 60 s]   |  0|  0|  0|  0|  0|  0|  0|  0| 10|  5|  5|  5|  5|  0|  0|  0|  5|  5|  0|  0|  5|  0| 10|  0|  \n",
    "|AC待機時間[\\* 60 s]   | 60| 60| 60| 60| 60| 60| 60| 60| 50| 55| 55| 55| 55| 60| 60| 60| 55| 55| 60| 60| 55| 60| 50| 60| "
   ]
  },
  {
   "cell_type": "markdown",
   "metadata": {},
   "source": [
    "<p style=\"text-indent:2em\">休日外出（2階）：</p>     \n",
    "\n",
    "|時刻                  |0  |1  |2  |3  |4  |5  |6  |7  |8  |9  |10 |11 |12 |13 |14 |15 |16 |17 |18 |19 |20 |21 |22 |23 |  \n",
    "|:---:                 | -:| -:| -:| -:| -:| -:| -:| -:| -:| -:| -:| -:| -:| -:| -:| -:| -:| -:| -:| -:| -:| -:| -:| -:|  \n",
    "|AC稼働時間[\\* 60 s]   |  0|  0|  0|  0|  0|  0|  0|  0| 15|  0|  0|  0|  0|  0|  0|  0|  0|  0|  0|  0|  5|  5| 10|  0|  \n",
    "|AC待機時間[\\* 60 s]   | 60| 60| 60| 60| 60| 60| 60| 60| 45| 60| 60| 60| 60| 60| 60| 60| 60| 60| 60| 60| 55| 55| 50| 60| "
   ]
  },
  {
   "cell_type": "code",
   "execution_count": 36,
   "metadata": {},
   "outputs": [],
   "source": [
    "Schedule= {\n",
    "    '1F' : {\n",
    "        'Weekdays' : {\n",
    "            'opg' : [0]*6    +[300]*1  +[0]*1    +[300]*1  +[0]*1    + [300]*1  +[0]*1    +[300]*1  +[0]*3    +[300]*2  +[0]*1    +[300]*1  +[0]*2    +[300]*2,\n",
    "            'sby' : [3600]*6 +[3300]*1 +[3600]*1 +[3300]*1 +[3600]*1 + [3300]*1 +[3600]*1 +[3300]*1 +[3600]*3 +[3300]*2 +[3600]*1 +[3300]*1 +[3600]*2 +[3300]*2\n",
    "        },\n",
    "        'Holidays_st' : {\n",
    "            'opg' : [0]*7    +[600]*1  +[300]*1  +[0]*4    +[300]*1  +[0]*2    +[300]*1  +[0]*2    +[300]*5,\n",
    "            'sby' : [3600]*7 +[3000]*1 +[3300]*1 +[3600]*4 +[3300]*1 +[3600]*2 +[3300]*1 +[3600]*2 +[3300]*5\n",
    "        },\n",
    "        'Holidays_go' : {\n",
    "            'opg' : [0]*6    +[300]*3  +[0]*11    +[300]*4,\n",
    "            'sby' : [3600]*6 +[3300]*3 +[3600]*11 +[3300]*4\n",
    "        }\n",
    "    },\n",
    "     '2F' : {\n",
    "        'Weekdays' : {\n",
    "            'opg' :  [0]*7    +[600]*1  +[300]*1  +[0]*8    +[300]*5  +[0]*1    +[300]*1,\n",
    "            'sby' :  [3600]*7 +[3000]*1 +[3300]*1 +[3600]*8 +[3300]*5 +[3600]*1 +[3300]*1\n",
    "        },\n",
    "        'Holidays_st' : {\n",
    "            'opg' : [0]*8    +[600]*1  +[300]*4  +[0]*3    +[300]*2  +[0]*2    +[300]*1  +[0]*1    +[600]*1  +[0]*1,\n",
    "            'sby' : [3600]*8 +[3000]*1 +[3300]*4 +[3600]*3 +[3300]*2 +[3600]*2 +[3300]*1 +[3600]*1 +[3000]*1 +[3600]*1\n",
    "        },\n",
    "        'Holidays_go' : {\n",
    "            'opg' : [0]*8    +[900]*1  +[0]*11    +[300]*2  +[600]*1  +[0]*1,\n",
    "            'sby' : [3600]*8 +[2700]*1 +[3600]*11 +[3300]*2 +[3000]*1 +[3600]*1\n",
    "        }\n",
    "    }\n",
    "}"
   ]
  },
  {
   "cell_type": "code",
   "execution_count": 37,
   "metadata": {},
   "outputs": [],
   "source": [
    "def plot_hourly_bar_chart(fig_title, y_value_sets, schedule_names, app_status_types, time_use_types,\n",
    "                          y_label, y_lower, y_upper, y_interval, y_convert_unit):\n",
    "    '''横軸が時刻（1時間間隔、0～23時間）の棒グラフを作成する'''\n",
    "    # fig_title：図のタイトル\n",
    "    # y_value_sets：y軸の値\n",
    "    # schedule_names：スケジュール名（dictionary型）\n",
    "    # app_status_types：動作状態のタイプ（dictionary型）\n",
    "    # time_use_types：生活時間タイプ（dictionary型）\n",
    "    # y_label：y軸のラベル\n",
    "    # y_lower：y軸の表示の下限\n",
    "    # y_ upper：y軸の表示の上限\n",
    "    # y_ interval：y軸の目盛間隔\n",
    "    # y_convert_unit：y軸の単位換算係数\n",
    "\n",
    "    # 日本語フォント\n",
    "    fp = FontProperties(fname='C:\\WINDOWS\\Fonts\\msgothic.ttc', size = 12)\n",
    "    \n",
    "    # 既存スタイルの使用\n",
    "    plt.style.use('seaborn-whitegrid')\n",
    "\n",
    "    # サブプロットの作成\n",
    "    plt.figure(figsize=(12, 3), dpi=80)\n",
    "    \n",
    "    # サブプロットのタイトル\n",
    "    plt.suptitle(fig_title, fontdict={'fontproperties':fp}, fontsize=14)\n",
    "\n",
    "    # スケジュール名\n",
    "    schedule_name = list(schedule_names)[0]\n",
    "    \n",
    "    for i, time_use_type in enumerate(list(time_use_types)):\n",
    "        # サブプロットの指定\n",
    "        ax = plt.subplot2grid((1, len(time_use_types)), (0, i))  \n",
    "        \n",
    "        for j, app_status_type in enumerate(list(app_status_types)):\n",
    "            # 棒グラフの作成\n",
    "            # x軸の値\n",
    "            x_value = [k for k in range(24)]\n",
    "            # y軸の値（24時間×動作状態×3スケジュール）\n",
    "            y_value_sets_schedule = y_value_sets[schedule_name]\n",
    "            # y軸の値（24時間×動作状態）\n",
    "            y_value_sets_time_use = y_value_sets_schedule[time_use_type]\n",
    "            # y軸の値（24時間->単位変換）\n",
    "            y_value = np.array(y_value_sets_time_use[app_status_type]) * y_convert_unit\n",
    "            # データ系列名\n",
    "            app_status_type_jp = app_status_types[app_status_type]\n",
    "            if len(y_value) > 0:\n",
    "                if j == 0:\n",
    "                    ax.bar(x_value, y_value, align='edge', width=1.0, edgecolor='black', label=app_status_type_jp)\n",
    "                    y_bottom = y_value\n",
    "                else:\n",
    "                    ax.bar(x_value, y_value, align='edge', width=1.0, edgecolor='black', label=app_status_type_jp, bottom=y_bottom)\n",
    "                \n",
    "        # グラフのタイル\n",
    "        schedule_name_jp = schedule_names[schedule_name]\n",
    "        time_use_type_jp = time_use_types[time_use_type]\n",
    "        ax.set_title(schedule_name_jp +'(' + time_use_type_jp + ')' , fontdict={'fontproperties':fp})\n",
    "\n",
    "        # x軸\n",
    "        # タイトル\n",
    "        ax.set_xlabel(u'時刻', fontdict={'fontproperties':fp})\n",
    "        # 目盛りの位置／ラベル／形式\n",
    "        # 主目盛\n",
    "        ax.set_xticks(np.arange(0, 25, 3), minor=False)\n",
    "        ax.set_xticklabels(np.array([k*3 for k in range(8)]+[0]).astype('str'), minor=False, visible=True)\n",
    "        ax.tick_params(axis='x', which ='major', direction='in', length=3)\n",
    "        # 補助目盛\n",
    "        ax.set_xticks(np.arange(0, 25, 1), minor=True)\n",
    "        ax.set_xticklabels(np.array([k for k in range(24)]+[0]).astype('str'), minor=True, visible=False)\n",
    "        ax.tick_params(axis='x', which ='minor', direction='in', length=3)\n",
    "        # 表示の上限・下限\n",
    "        ax.set_xbound(lower=0, upper=24)\n",
    "\n",
    "        # y軸\n",
    "        #タイトル\n",
    "        ax.set_ylabel(y_label, fontdict={'fontproperties':fp}) \n",
    "        # 目盛りの位置／形式\n",
    "        #ax.set_yticks(np.arange(0, 30, 5))\n",
    "        ax.set_yticks(np.arange(y_lower, y_upper+y_interval, y_interval))\n",
    "        ax.tick_params(axis='y', which ='major', direction='in', length=3)\n",
    "        # 表示の上限・下限\n",
    "        ax.set_ybound(lower=y_lower, upper=y_upper)\n",
    "\n",
    "        # グラフの枠\n",
    "        ax.spines['right'].set_color('black')\n",
    "        ax.spines['left'].set_color('black')\n",
    "        ax.spines['bottom'].set_color('black')\n",
    "        ax.spines['top'].set_color('black')\n",
    "\n",
    "        # 主目盛りのグリッド\n",
    "        ax.grid(which='major', color='lightgray', alpha=0.7, linestyle='-')\n",
    "\n",
    "    # 凡例\n",
    "    plt.legend(loc='center left', bbox_to_anchor=(1, 0.5), borderaxespad=0.5, frameon=True,  prop=fp)\n",
    "\n",
    "    # グラフの重なりを解消\n",
    "    plt.tight_layout()\n",
    "    plt.subplots_adjust(top=0.82)\n",
    "  \n",
    "    plt.show()"
   ]
  },
  {
   "cell_type": "code",
   "execution_count": 38,
   "metadata": {},
   "outputs": [
    {
     "data": {
      "image/png": "[encoded data removed]",
      "text/plain": [
       "<matplotlib.figure.Figure at 0x201bf6ba668>"
      ]
     },
     "metadata": {},
     "output_type": "display_data"
    }
   ],
   "source": [
    "# 機器使用スケジュールの確認\n",
    "plot_hourly_bar_chart('使用スケジュール', \n",
    "                      Schedule, \n",
    "                      {'1F':'4人標準_1階'},\n",
    "                      {'opg':'AC稼働', 'sby':'AC待機'},\n",
    "                      {'Weekdays':'平日', 'Holidays_st':'休日在宅', 'Holidays_go':'休日外出'},\n",
    "                       '時間[min/hour]', 0, 60, 10, 1/60)"
   ]
  },
  {
   "cell_type": "code",
   "execution_count": 39,
   "metadata": {},
   "outputs": [
    {
     "data": {
      "image/png": "[encoded data removed]",
      "text/plain": [
       "<matplotlib.figure.Figure at 0x201bf82dc18>"
      ]
     },
     "metadata": {},
     "output_type": "display_data"
    }
   ],
   "source": [
    "# 機器使用スケジュールの確認\n",
    "plot_hourly_bar_chart('使用スケジュール', \n",
    "                      Schedule, \n",
    "                      {'2F':'4人標準_2階'},\n",
    "                      {'opg':'AC稼働', 'sby':'AC待機'},\n",
    "                      {'Weekdays':'平日', 'Holidays_st':'休日在宅', 'Holidays_go':'休日外出'},\n",
    "                       '時間[min/hour]',  0, 60, 10, 1/60)"
   ]
  },
  {
   "cell_type": "markdown",
   "metadata": {},
   "source": [
    "#### 9.6.3　暖房便座の機能に関する居住者の使用行動"
   ]
  },
  {
   "cell_type": "markdown",
   "metadata": {},
   "source": [
    "居住者の使用行動は、通年で暖房便座を使用する場合とトイレ空気温度に応じて使用する場合との2パターンを想定する。"
   ]
  },
  {
   "cell_type": "markdown",
   "metadata": {},
   "source": [
    "| 番号 |概要                                     | 備考 |\n",
    "|:----:| :-------------------------------------: | :--: |  \n",
    "|  00  | 通年で暖房便座を使用する                | - |\n",
    "|  01  | トイレ空気温度に応じて暖房便座を使用する| 4人標準世帯の既定値 |\n"
   ]
  },
  {
   "cell_type": "code",
   "execution_count": 40,
   "metadata": {},
   "outputs": [],
   "source": [
    "UserBehavior = {\n",
    "    'UserBehavior00' : 'all_year_round', \n",
    "    'UserBehavior01' : 'at_lower_temp', \n",
    "}"
   ]
  },
  {
   "cell_type": "code",
   "execution_count": 41,
   "metadata": {},
   "outputs": [],
   "source": [
    "def get_seat_heater_switch(user_behavior_seat_heater, theta_toilet_ave):\n",
    "    '''便座ヒータの電源スイッチの状態を決定する[On/Off]'''\n",
    "    # user_behavior_seat_heater：暖房便座の機能に関する居住者の使用行動[all_year_round/ at_lower_temp]\n",
    "    # theta_toilet_ave：トイレ空気温度の日平均値[C]\n",
    "    \n",
    "    if user_behavior_seat_heater == 'all_year_round':\n",
    "        seat_heater_switch = use_seat_heater_all_year_round()\n",
    "    elif user_behavior_seat_heater == 'at_lower_temp':\n",
    "        seat_heater_switch = use_seat_heater_at_lower_temp(theta_toilet_ave)\n",
    "    else:\n",
    "        try:\n",
    "            raise Exception('使用行動タイプに不正があります。')\n",
    "        except Exception:\n",
    "            raise\n",
    "    \n",
    "    return seat_heater_switch"
   ]
  },
  {
   "cell_type": "markdown",
   "metadata": {},
   "source": [
    "通年で暖房便座の機能を使用する場合（標準条件）、便座ヒータの電源は常にオンとする。"
   ]
  },
  {
   "cell_type": "code",
   "execution_count": 42,
   "metadata": {},
   "outputs": [],
   "source": [
    "def use_seat_heater_all_year_round():\n",
    "    '''通年で暖房便座の機能を使用する場合'''\n",
    "    \n",
    "    return HeaterSwitch.On"
   ]
  },
  {
   "cell_type": "markdown",
   "metadata": {},
   "source": [
    "トイレ空気温度に応じて暖房便座の機能を使用する場合、トイレ空気温度の日平均値が20℃以上の場合に暖房便座ヒータの電源をオフとする。"
   ]
  },
  {
   "cell_type": "code",
   "execution_count": 43,
   "metadata": {},
   "outputs": [],
   "source": [
    "def use_seat_heater_at_lower_temp(theta_toilet_ave):\n",
    "    '''トイレ空気温度に応じて暖房便座の機能を使用する場合'''\n",
    "    # theta_toilet_ave：トイレ空気温度の日平均値[C]\n",
    "    \n",
    "    if theta_toilet_ave < 20:\n",
    "        seat_heater_switch = HeaterSwitch.On\n",
    "    else:\n",
    "        seat_heater_switch = HeaterSwitch.Off\n",
    "    \n",
    "    return seat_heater_switch"
   ]
  },
  {
   "cell_type": "markdown",
   "metadata": {},
   "source": [
    "### 9.7　トイレ空気温度の日平均値"
   ]
  },
  {
   "cell_type": "markdown",
   "metadata": {},
   "source": [
    "トイレ空気温度が直接的にも求まらない場合、日平均外気温度および住宅の熱損失係数を用いて式(11)により推定した値を用いることができる。"
   ]
  },
  {
   "cell_type": "markdown",
   "metadata": {},
   "source": [
    "<p style=\"text-indent:2em\">暖房方式が居室間欠の場合：</p>  \n",
    "<p style=\"text-indent:4em\">1階：</p>   \n",
    "$$ \n",
    "\\begin{equation*}\n",
    "    \\displaystyle \\theta_{toilet,ave,d} = \\left( 0.0580 \\times Q + 0.5186 \\right) \\times \\theta_{ex,ave,d} + \\left( -1.614 \\times Q + 16.88 \\right)\n",
    "\\end{equation*}\n",
    "$$\n",
    "<div style=\"text-align: right;\"> (11a-1) </div>\n",
    "    \n",
    "<p style=\"text-indent:4em\">2階：</p>   \n",
    "$$ \n",
    "\\begin{equation*}\n",
    "    \\displaystyle \\theta_{toilet,ave,d} = \\left( 0.0499 \\times Q + 0.6023 \\right) \\times \\theta_{ex,ave,d} + \\left( -1.493 \\times Q + 14.15 \\right)\n",
    "\\end{equation*}\n",
    "$$\n",
    "<div style=\"text-align: right;\"> (11a-2) </div>"
   ]
  },
  {
   "cell_type": "markdown",
   "metadata": {},
   "source": [
    "<p style=\"text-indent:2em\">暖房方式が全館連続の場合：</p>    \n",
    "<p style=\"text-indent:4em\">1階：</p>    \n",
    "$$ \n",
    "\\begin{equation*}\n",
    "    \\displaystyle \\theta_{toilet,ave,d} = \\left( 0.0669 \\times Q + 0.3721 \\right) \\times \\theta_{ex,ave,d} + \\left( -1.738 \\times Q + 19.703 \\right)\n",
    "\\end{equation*}\n",
    "$$\n",
    "<div style=\"text-align: right;\"> (11b-1) </div>\n",
    "    \n",
    "<p style=\"text-indent:4em\">2階：</p> \n",
    "$$ \n",
    "\\begin{equation*}\n",
    "    \\displaystyle \\theta_{toilet,ave,d} = \\left( 0.0619 \\times Q + 0.4117 \\right) \\times \\theta_{ex,ave,d} + \\left( -1.655 \\times Q + 17.85 \\right)\n",
    "\\end{equation*}\n",
    "$$\n",
    "<div style=\"text-align: right;\"> (11b-2) </div>"
   ]
  },
  {
   "cell_type": "markdown",
   "metadata": {},
   "source": [
    "ここで、  \n",
    "\n",
    "$\\theta_{ex,ave,d}$：日付$d$における外気温の日平均値[℃]  \n",
    "$\\theta_{toilet,ave,d}$：日付$d$におけるトイレ空気温度の日平均値[℃]  \n",
    "\n",
    "である。"
   ]
  },
  {
   "cell_type": "code",
   "execution_count": 44,
   "metadata": {},
   "outputs": [],
   "source": [
    "class HeatingType(Enum):\n",
    "    '''暖房方式'''\n",
    "    # HabitableRoom：居室間欠\n",
    "    # WholeHouse：全館連続\n",
    "\n",
    "    HabitableRoom = 'habitable_room'\n",
    "    WholeHouse = 'whole_house'"
   ]
  },
  {
   "cell_type": "code",
   "execution_count": 45,
   "metadata": {},
   "outputs": [],
   "source": [
    "class Floor(Enum):\n",
    "    '''階'''\n",
    "    # 1F：1階\n",
    "    # 2F：2階\n",
    "\n",
    "    FirstFloor = 'first_floor'\n",
    "    SecondFloor = 'second_floor'"
   ]
  },
  {
   "cell_type": "code",
   "execution_count": 46,
   "metadata": {},
   "outputs": [],
   "source": [
    "def get_theta_toilet_ave(theta_ex_ave, Q_value, heating_type, floor):\n",
    "    '''トイレ空気温度の日平均値を計算する[℃]'''\n",
    "    # theta_ex_ave：外気温度の日平均値[C]\n",
    "    # Q_value：住宅の熱損失係数[W/m2] \n",
    "    # heating_type：暖房方式[居室間欠、全館連続] \n",
    "    # floor：階[1階、2階] \n",
    "    \n",
    "    if heating_type == HeatingType.HabitableRoom:\n",
    "        if floor == Floor.FirstFloor:\n",
    "            theta_toilet_ave = (0.0580 * Q_value + 0.5186) * theta_ex_ave + (-1.612 * Q_value + 16.88)\n",
    "        elif floor == Floor.SecondFloor:\n",
    "            theta_toilet_ave = (0.0499 * Q_value + 0.6023) * theta_ex_ave + (-1.493 * Q_value + 14.15)\n",
    "    elif heating_type == HeatingType.WholeHouse:\n",
    "        if floor == Floor.FirstFloor:\n",
    "            theta_toilet_ave = (0.0669 * Q_value + 0.3721) * theta_ex_ave + (-1.738 * Q_value + 19.703)\n",
    "        elif floor == Floor.SecondFloor:\n",
    "            theta_toilet_ave = (0.0619 * Q_value + 0.4117) * theta_ex_ave + (-1.655 * Q_value + 17.85)\n",
    "    else:\n",
    "        try:\n",
    "            raise Exception('階数に不正があります。')\n",
    "        except Exception:\n",
    "            raise\n",
    "    \n",
    "    return theta_toilet_ave"
   ]
  },
  {
   "cell_type": "code",
   "execution_count": 47,
   "metadata": {
    "scrolled": false
   },
   "outputs": [
    {
     "data": {
      "image/png": "[encoded data removed]",
      "text/plain": [
       "<matplotlib.figure.Figure at 0x201bfc126a0>"
      ]
     },
     "metadata": {},
     "output_type": "display_data"
    }
   ],
   "source": [
    "# 外気温度の日平均値（確認用）の配列[℃]\n",
    "check_theta_ex_ave = [i for i in range(-10, 45, 1)]\n",
    "\n",
    "# 住宅の熱損失係数（確認用）の配列[W]\n",
    "check_Q_value = [[1.6],[1.9],[2.4],[2.7],[3.7]]\n",
    "\n",
    "# 算定式による計算 \n",
    "# 居室間欠 - 1階\n",
    "calc_theta_toilet_aveH1F = np.vectorize(get_theta_toilet_ave)(check_theta_ex_ave, check_Q_value, HeatingType.HabitableRoom, Floor.FirstFloor)\n",
    "# 居室間欠 - 2階\n",
    "calc_theta_toilet_aveH2F = np.vectorize(get_theta_toilet_ave)(check_theta_ex_ave, check_Q_value, HeatingType.HabitableRoom, Floor.SecondFloor)\n",
    "\n",
    "check_theta_toilet_aveH = {\n",
    "    'theta_toilet_aveH1F' : {\n",
    "        'Q = 1.6' : calc_theta_toilet_aveH1F[0],\n",
    "        'Q = 1.9' : calc_theta_toilet_aveH1F[1],\n",
    "        'Q = 2.4' : calc_theta_toilet_aveH1F[2],\n",
    "        'Q = 2.7' : calc_theta_toilet_aveH1F[3],\n",
    "        'Q = 3.7' : calc_theta_toilet_aveH1F[4]\n",
    "    },\n",
    "    'theta_toilet_aveH2F': {\n",
    "        'Q = 1.6' : calc_theta_toilet_aveH2F[0],\n",
    "        'Q = 1.9' : calc_theta_toilet_aveH2F[1],\n",
    "        'Q = 2.4' : calc_theta_toilet_aveH2F[2],\n",
    "        'Q = 2.7' : calc_theta_toilet_aveH2F[3],\n",
    "        'Q = 3.7' : calc_theta_toilet_aveH2F[4]\n",
    "    }\n",
    "}\n",
    "    \n",
    "# 算定式による計算結果を散布図で表示   \n",
    "plot_line_chart(check_theta_ex_ave, \n",
    "                check_theta_toilet_aveH, \n",
    "                {'theta_toilet_aveH1F':'居室間歇（1階）', 'theta_toilet_aveH2F':'居室間歇（2階）'},\n",
    "                '外気温度の日平均値[℃]', -10, 40, 10, \n",
    "                'トイレ空気温度の日平均値[℃]', -10, 40, 10)"
   ]
  },
  {
   "cell_type": "code",
   "execution_count": 48,
   "metadata": {
    "scrolled": false
   },
   "outputs": [
    {
     "data": {
      "image/png": "[encoded data removed]",
      "text/plain": [
       "<matplotlib.figure.Figure at 0x201bf782c18>"
      ]
     },
     "metadata": {},
     "output_type": "display_data"
    }
   ],
   "source": [
    "# 外気温度の日平均値（確認用）の配列[℃]\n",
    "check_theta_ex_ave = [i for i in range(-10, 45, 1)]\n",
    "\n",
    "# 住宅の熱損失係数（確認用）の配列[W]\n",
    "check_Q_value = [[1.6],[1.9],[2.4],[2.7],[3.7]]\n",
    "\n",
    "# 算定式による計算 \n",
    "# 居室間欠 - 1階\n",
    "calc_theta_toilet_aveW1F = np.vectorize(get_theta_toilet_ave)(check_theta_ex_ave, check_Q_value, HeatingType.WholeHouse, Floor.FirstFloor)\n",
    "# 居室間欠 - 2階\n",
    "calc_theta_toilet_aveW2F = np.vectorize(get_theta_toilet_ave)(check_theta_ex_ave, check_Q_value, HeatingType.WholeHouse, Floor.SecondFloor)\n",
    "\n",
    "check_theta_toilet_aveW = {\n",
    "    'theta_toilet_aveW1F' : {\n",
    "        'Q = 1.6' : calc_theta_toilet_aveW1F[0],\n",
    "        'Q = 1.9' : calc_theta_toilet_aveW1F[1],\n",
    "        'Q = 2.4' : calc_theta_toilet_aveW1F[2],\n",
    "        'Q = 2.7' : calc_theta_toilet_aveW1F[3],\n",
    "        'Q = 3.7' : calc_theta_toilet_aveW1F[4]\n",
    "    },\n",
    "    'theta_toilet_aveW2F' : {\n",
    "        'Q = 1.6' : calc_theta_toilet_aveW2F[0],\n",
    "        'Q = 1.9' : calc_theta_toilet_aveW2F[1],\n",
    "        'Q = 2.4' : calc_theta_toilet_aveW2F[2],\n",
    "        'Q = 2.7' : calc_theta_toilet_aveW2F[3],\n",
    "        'Q = 3.7' : calc_theta_toilet_aveW2F[4]\n",
    "    }\n",
    "}\n",
    "    \n",
    "# 算定式による計算結果を散布図で表示   \n",
    "plot_line_chart(check_theta_ex_ave, \n",
    "                check_theta_toilet_aveW, \n",
    "                {'theta_toilet_aveW1F':'全館連続（1階）', 'theta_toilet_aveW2F':'全館連続（2階）'},\n",
    "                '外気温度の日平均値[℃]', -10, 40, 10, \n",
    "                'トイレ空気温度の日平均値[℃]', -10, 40, 10)"
   ]
  },
  {
   "cell_type": "markdown",
   "metadata": {},
   "source": [
    "### 付録1：サンプルコード"
   ]
  },
  {
   "cell_type": "markdown",
   "metadata": {},
   "source": [
    "4人標準世帯の標準条件について、サンプルコードを示す。"
   ]
  },
  {
   "cell_type": "code",
   "execution_count": 49,
   "metadata": {},
   "outputs": [],
   "source": [
    "def get_spec(app_type):\n",
    "    '''機器仕様を取得する'''\n",
    "    # app_type：機器タイプ\n",
    "    \n",
    "    # 機器仕様の取得\n",
    "    try:\n",
    "        spec = Spec[app_type]\n",
    "    except:\n",
    "        raise Exception('機器タイプの入力に不正があります。')     \n",
    "    \n",
    "    Prtd_opg_st = spec['Prtd_opg_st']\n",
    "    Prtd_opg_wt = spec['Prtd_opg_wt']\n",
    "    seat_heater_type = spec['seat_heater_type']\n",
    "    water_heater_type = spec['water_heater_type']\n",
    "    \n",
    "    return Prtd_opg_st, Prtd_opg_wt, seat_heater_type, water_heater_type"
   ]
  },
  {
   "cell_type": "markdown",
   "metadata": {},
   "source": [
    "Example:"
   ]
  },
  {
   "cell_type": "code",
   "execution_count": 50,
   "metadata": {},
   "outputs": [
    {
     "data": {
      "text/plain": [
       "(50, 1200, <HeaterType.NonInst: 'noninst'>, <HeaterType.Inst: 'inst'>)"
      ]
     },
     "execution_count": 50,
     "metadata": {},
     "output_type": "execute_result"
    }
   ],
   "source": [
    "ex_Prtd_opg_st, ex_Prtd_opg_wt, ex_seat_heater_type, ex_water_heater_type = get_spec('ToiletSeat01')\n",
    "ex_Prtd_opg_st, ex_Prtd_opg_wt, ex_seat_heater_type, ex_water_heater_type"
   ]
  },
  {
   "cell_type": "code",
   "execution_count": 51,
   "metadata": {},
   "outputs": [],
   "source": [
    "def get_dt(time_use_type, time_of_day, schedule_name):\n",
    "    '''機器使用スケジュールを取得する'''\n",
    "    # time_use_type：['Weekdays', 'Holidays_st', 'Holidays_go']\n",
    "    # time_of_day：時刻（0-23）\n",
    "    # schedule_name：スケジュール名\n",
    "     \n",
    "    # スケジュールの取得\n",
    "    try:\n",
    "        schedule_set = Schedule[schedule_name][time_use_type]\n",
    "    except:\n",
    "        raise Exception('スケジュール名の入力に不正があります。')    \n",
    "               \n",
    "    # 動作状態のタイプ\n",
    "    app_status_types = list(schedule_set)\n",
    "    \n",
    "    # 動作状態ごとの継続時間[s]の取得\n",
    "    for i, app_status_type in enumerate(app_status_types):\n",
    "        if app_status_type == 'opg':\n",
    "            dt_ac_opg = schedule_set[app_status_type][time_of_day]\n",
    "        elif app_status_type == 'sby':\n",
    "            dt_ac_sby = schedule_set[app_status_type][time_of_day]\n",
    "        else:\n",
    "            raise Exception\n",
    "            \n",
    "    # 時間超過の確認\n",
    "    check_duration([dt_ac_opg, dt_ac_sby]) \n",
    "    \n",
    "    return dt_ac_opg, dt_ac_sby"
   ]
  },
  {
   "cell_type": "markdown",
   "metadata": {},
   "source": [
    "Example:"
   ]
  },
  {
   "cell_type": "code",
   "execution_count": 52,
   "metadata": {},
   "outputs": [
    {
     "data": {
      "text/plain": [
       "(300, 3300)"
      ]
     },
     "execution_count": 52,
     "metadata": {},
     "output_type": "execute_result"
    }
   ],
   "source": [
    "ex_dt_ac_opg, ex_dt_ac_sby = get_dt('Weekdays', 6,'1F')\n",
    "ex_dt_ac_opg, ex_dt_ac_sby"
   ]
  },
  {
   "cell_type": "code",
   "execution_count": 53,
   "metadata": {},
   "outputs": [],
   "source": [
    "def get_user_behavior(user_behavior_type):\n",
    "    '''居住者の使用行動を取得する'''\n",
    "    # user_behavior_type：居住者の使用行動タイプ\n",
    "    \n",
    "    # 居住者の使用行動の取得\n",
    "    try:\n",
    "        behavior_seat_heater = UserBehavior[user_behavior_type]\n",
    "    except:\n",
    "        raise Exception('居住者の使用行動タイプの入力に不正があります。')     \n",
    "    \n",
    "    return behavior_seat_heater"
   ]
  },
  {
   "cell_type": "markdown",
   "metadata": {},
   "source": [
    "Example:"
   ]
  },
  {
   "cell_type": "code",
   "execution_count": 54,
   "metadata": {},
   "outputs": [
    {
     "data": {
      "text/plain": [
       "'at_lower_temp'"
      ]
     },
     "execution_count": 54,
     "metadata": {},
     "output_type": "execute_result"
    }
   ],
   "source": [
    "ex_behavior_seat_heater = get_user_behavior('UserBehavior01')\n",
    "ex_behavior_seat_heater"
   ]
  },
  {
   "cell_type": "code",
   "execution_count": 55,
   "metadata": {},
   "outputs": [],
   "source": [
    "def calc_EE_ac_opg(dt_ac_opg, Prtd_opg_st, Prtd_opg_wt, seat_heater_type, water_heater_type, seat_heater_switch, theta_toilet_ave):\n",
    "    '''AC電源接続下の稼働時における消費電力量[Wh]を計算する'''\n",
    "    # dt_ac_opg：稼働時間の合計[s]\n",
    "    # Prtd_opg_st：便座ヒータの定格消費電力[W]  \n",
    "    # Prtd_opg_wt：洗浄水ヒータの定格消費電力[W]  \n",
    "    # seat_heater_type：便座ヒータの加熱方式[非瞬間方式、瞬間方式]  \n",
    "    # water_heater_type：洗浄水ヒータの加熱方式[非瞬間方式、瞬間方式]  \n",
    "    # seat_heater_switch：便座ヒータの電源スイッチ[オフ、オン] \n",
    "    # theta_toilet_ave：トイレ空気温度の日平均値[C]  \n",
    "    \n",
    "    # 稼働時の消費電力[W]\n",
    "    p_opg = P_opg(Prtd_opg_st, Prtd_opg_wt, seat_heater_type, water_heater_type, seat_heater_switch, theta_toilet_ave)\n",
    "    \n",
    "    # AC電源接続下の稼働時における消費電力量[Wh]\n",
    "    ee_ac_opg = EE_ac_opg(dt_ac_opg, p_opg)\n",
    "    \n",
    "    return ee_ac_opg"
   ]
  },
  {
   "cell_type": "markdown",
   "metadata": {},
   "source": [
    "Example:"
   ]
  },
  {
   "cell_type": "code",
   "execution_count": 56,
   "metadata": {},
   "outputs": [
    {
     "data": {
      "text/plain": [
       "12.5276"
      ]
     },
     "execution_count": 56,
     "metadata": {},
     "output_type": "execute_result"
    }
   ],
   "source": [
    "ex_theta_toilet_ave = get_theta_toilet_ave(0, 2.7, HeatingType.HabitableRoom, Floor.FirstFloor)\n",
    "ex_theta_toilet_ave"
   ]
  },
  {
   "cell_type": "code",
   "execution_count": 57,
   "metadata": {},
   "outputs": [
    {
     "data": {
      "text/plain": [
       "<HeaterSwitch.On: 'on'>"
      ]
     },
     "execution_count": 57,
     "metadata": {},
     "output_type": "execute_result"
    }
   ],
   "source": [
    "ex_seat_heater_switch = get_seat_heater_switch(ex_behavior_seat_heater, ex_theta_toilet_ave)\n",
    "ex_seat_heater_switch"
   ]
  },
  {
   "cell_type": "code",
   "execution_count": 58,
   "metadata": {},
   "outputs": [
    {
     "data": {
      "text/plain": [
       "3.6355555555555554"
      ]
     },
     "execution_count": 58,
     "metadata": {},
     "output_type": "execute_result"
    }
   ],
   "source": [
    "ex_EE_ac_opg = calc_EE_ac_opg(ex_dt_ac_opg, ex_Prtd_opg_st, ex_Prtd_opg_wt, \n",
    "                              ex_seat_heater_type, ex_water_heater_type, ex_seat_heater_switch, 0)\n",
    "ex_EE_ac_opg"
   ]
  },
  {
   "cell_type": "code",
   "execution_count": 59,
   "metadata": {},
   "outputs": [],
   "source": [
    "def calc_EE_ac_sby(dt_ac_sby, Prtd_opg_st, Prtd_opg_wt, seat_heater_type, water_heater_type, seat_heater_switch, theta_toilet_ave):\n",
    "    '''AC電源接続下の待機時における消費電力量[Wh]を計算する'''\n",
    "    # dt_ac_sby：待機時間の合計[s]\n",
    "    # Prtd_opg_st：便座ヒータの定格消費電力[W]  \n",
    "    # Prtd_opg_ht：洗浄水ヒータの定格消費電力[W]  \n",
    "    # seat_heater_type：便座ヒータの加熱方式[非瞬間方式、瞬間方式]  \n",
    "    # water_heater_type：洗浄水ヒータの加熱方式[非瞬間方式、瞬間方式]  \n",
    "    # seat_heater_switch：便座ヒータの電源スイッチ[オフ、オン]  \n",
    "    # theta_toilet_ave：トイレ空気温度の日平均値[C]  \n",
    "    \n",
    "    # 待機時の消費電力[W]\n",
    "    p_sby = P_sby(Prtd_opg_st, Prtd_opg_wt, seat_heater_type, water_heater_type, seat_heater_switch, theta_toilet_ave)\n",
    "    \n",
    "    # AC電源接続下の待機時における消費電力量[Wh]\n",
    "    ee_ac_sby = EE_ac_sby(dt_ac_sby, p_sby)\n",
    "    \n",
    "    return ee_ac_sby"
   ]
  },
  {
   "cell_type": "markdown",
   "metadata": {},
   "source": [
    "Example:"
   ]
  },
  {
   "cell_type": "code",
   "execution_count": 60,
   "metadata": {},
   "outputs": [
    {
     "data": {
      "text/plain": [
       "27.349712500000003"
      ]
     },
     "execution_count": 60,
     "metadata": {},
     "output_type": "execute_result"
    }
   ],
   "source": [
    "ex_EE_ac_sby = calc_EE_ac_sby(ex_dt_ac_sby, ex_Prtd_opg_st, ex_Prtd_opg_wt, \n",
    "                              ex_seat_heater_type, ex_water_heater_type, ex_seat_heater_switch, ex_theta_toilet_ave)\n",
    "ex_EE_ac_sby"
   ]
  },
  {
   "cell_type": "code",
   "execution_count": 61,
   "metadata": {},
   "outputs": [],
   "source": [
    "def calc_EE_ac(EE_ac_opg, EE_ac_sby):\n",
    "    '''AC電源接続下の稼働時における消費電力量[Wh]を計算する'''\n",
    "    # EE_ac_opg：AC電源接続下の稼働時における消費電力量[Wh]\n",
    "    # EE_ac_sby：AC電源接続下の待機時における消費電力量[Wh]\n",
    "    \n",
    "    return EE_ac(EE_ac_opg, EE_ac_sby)"
   ]
  },
  {
   "cell_type": "markdown",
   "metadata": {},
   "source": [
    "Example:"
   ]
  },
  {
   "cell_type": "code",
   "execution_count": 62,
   "metadata": {},
   "outputs": [
    {
     "data": {
      "text/plain": [
       "30.985268055555558"
      ]
     },
     "execution_count": 62,
     "metadata": {},
     "output_type": "execute_result"
    }
   ],
   "source": [
    "ex_EE_ac = calc_EE_ac(ex_EE_ac_opg, ex_EE_ac_sby)\n",
    "ex_EE_ac"
   ]
  },
  {
   "cell_type": "code",
   "execution_count": 63,
   "metadata": {},
   "outputs": [],
   "source": [
    "def calc_EE_ToiletSeat_verP4(time_use_type, time_of_day, \n",
    "                             app_type, schedule_name, user_behavior_type, theta_ex_ave, Q_value, heating_type, floor):\n",
    "    '''温水暖房洗浄便座の単位時間当たりの消費電力量を計算する（ver自立P4）'''\n",
    "    # time_use_type：['Weekdays', 'Holidays_st', 'Holidays_go']\n",
    "    # time_of_day：時刻（0-23） \n",
    "    # app_type：機器タイプ  \n",
    "    # schedule_name：スケジュール名 ['1F', '2F']\n",
    "    # user_behavior_type：使用行動タイプ \n",
    "    # theta_ex_ave：外気温度の日平均値[C]\n",
    "    # Q_value：住宅の熱損失係数[W/m2] \n",
    "    # heating_type：暖房方式[居室間欠、全館連続] \n",
    "    # floor：階[1階、2階] \n",
    "    \n",
    "    # 機器使用スケジュール[s]を取得\n",
    "    dt_ac_opg, dt_ac_sby = get_dt(time_use_type, time_of_day, schedule_name)\n",
    "    \n",
    "    # 機器仕様を取得\n",
    "    Prtd_opg_st, Prtd_opg_wt, seat_heater_type, water_heater_type = get_spec(app_type)\n",
    "    \n",
    "    # 使用行動を取得\n",
    "    behavior_seat_heater = get_user_behavior(user_behavior_type)\n",
    "    \n",
    "    # トイレ空気温度の日平均値[C]を取得\n",
    "    theta_toilet_ave = get_theta_toilet_ave(theta_ex_ave, Q_value, heating_type, floor)\n",
    "    \n",
    "    # 便座ヒータの電源スイッチ[オフ、オン] を取得\n",
    "    seat_heater_switch = get_seat_heater_switch(behavior_seat_heater, theta_toilet_ave)\n",
    "    \n",
    "    # AC電源接続下の稼働時における消費電力量[Wh]を計算\n",
    "    EE_ac_opg = calc_EE_ac_opg(dt_ac_opg, Prtd_opg_st, Prtd_opg_wt, seat_heater_type, water_heater_type, seat_heater_switch, theta_toilet_ave)\n",
    "    \n",
    "    # AC電源接続下の待機時における消費電力量[Wh]を計算\n",
    "    EE_ac_sby = calc_EE_ac_sby(dt_ac_sby, Prtd_opg_st, Prtd_opg_wt, seat_heater_type, water_heater_type, seat_heater_switch, theta_toilet_ave)\n",
    "    \n",
    "    # AC電源接続時における消費電力量[Wh]を計算\n",
    "    EE_ac = calc_EE_ac (EE_ac_opg, EE_ac_sby)\n",
    "    \n",
    "    return EE_ac, EE_ac_opg, EE_ac_sby"
   ]
  },
  {
   "cell_type": "markdown",
   "metadata": {},
   "source": [
    "Example:"
   ]
  },
  {
   "cell_type": "code",
   "execution_count": 64,
   "metadata": {},
   "outputs": [
    {
     "data": {
      "text/plain": [
       "(29.918299323333336, 2.5685868233333338, 27.349712500000003)"
      ]
     },
     "execution_count": 64,
     "metadata": {},
     "output_type": "execute_result"
    }
   ],
   "source": [
    "ex_EE_ToiletSeat = calc_EE_ToiletSeat_verP4('Weekdays', 6, \n",
    "                             'ToiletSeat01', '1F', 'UserBehavior01', 0, 2.7, HeatingType.HabitableRoom, Floor.FirstFloor)\n",
    "ex_EE_ToiletSeat"
   ]
  },
  {
   "cell_type": "markdown",
   "metadata": {},
   "source": [
    "4人標準世帯の標準条件に対して、サンプルコードにより平日、休日在宅、休日外出の時刻別消費電力量を計算した結果を示す。"
   ]
  },
  {
   "cell_type": "code",
   "execution_count": 65,
   "metadata": {
    "scrolled": true
   },
   "outputs": [
    {
     "data": {
      "image/png": "[encoded data removed]",
      "text/plain": [
       "<matplotlib.figure.Figure at 0x201bf6bd0f0>"
      ]
     },
     "metadata": {},
     "output_type": "display_data"
    }
   ],
   "source": [
    "# 消費電力量の計算\n",
    "# 入力\n",
    "time_use_type = [['Weekdays'], ['Holidays_st'], ['Holidays_go']]\n",
    "time_of_day = [i for i in range(0, 24, 1)]\n",
    "app_type = 'ToiletSeat01'\n",
    "schedule_name = '1F'\n",
    "user_behavior_type = 'UserBehavior00'\n",
    "theta_ex_ave = 0\n",
    "Q_value  = 2.7\n",
    "heating_type = HeatingType.HabitableRoom\n",
    "floor = Floor.FirstFloor\n",
    "\n",
    "# 消費電力量の計算\n",
    "ee_ac, ee_ac_opg, ee_ac_sby = np.vectorize(calc_EE_ToiletSeat_verP4)(time_use_type, time_of_day,\n",
    "                                                 app_type, schedule_name, user_behavior_type,\n",
    "                                                 theta_ex_ave, Q_value, heating_type, floor)\n",
    "\n",
    "# 消費電力量の計算結果\n",
    "EE_Results= {\n",
    "    schedule_name : {\n",
    "        'Weekdays' : {\n",
    "            'opg' : ee_ac_opg[0],\n",
    "            'sby' : ee_ac_sby[0]\n",
    "        },\n",
    "        'Holidays_st' : {\n",
    "            'opg' : ee_ac_opg[1],\n",
    "            'sby' : ee_ac_sby[1]\n",
    "        },\n",
    "        'Holidays_go' : {\n",
    "            'opg' : ee_ac_opg[2],\n",
    "            'sby' : ee_ac_sby[2]\n",
    "        }\n",
    "    }\n",
    "}\n",
    "\n",
    "# 消費電力量の計算結果のグラフ\n",
    "# グラフのタイトル\n",
    "seat_heater_type_j =  {'noninst':'非瞬間式', 'inst':'瞬間式'}[Spec[app_type]['seat_heater_type'].value]\n",
    "water_heater_type_j = {'noninst':'非瞬間式', 'inst':'瞬間式'}[Spec[app_type]['water_heater_type'].value]\n",
    "behavior_type_j = {'UserBehavior00':'通年', 'UserBehavior01':'省エネ'} [user_behavior_type]\n",
    "heating_type_j = {HeatingType.HabitableRoom:'居室間歇', HeatingType.WholeHouse:'全館連続'} [heating_type]\n",
    "\n",
    "chart_title = '消費電力量（' \\\n",
    "                + '便座ヒータ：' + seat_heater_type_j + '、' \\\n",
    "                + '洗浄水ヒータ：' + water_heater_type_j + '、' \\\n",
    "                + '使用行動：'   + behavior_type_j + '、' \\\n",
    "                + '日平均外気温度：' + str(theta_ex_ave) + '℃、'\\\n",
    "                + 'Q値：' + str(Q_value) + 'W/m2、'\\\n",
    "                + '暖房方式：' + heating_type_j \\\n",
    "                + ')'\n",
    "\n",
    "# グラフの表示\n",
    "plot_hourly_bar_chart(chart_title,\n",
    "                      EE_Results, \n",
    "                      {'1F':'4人標準_1階'},\n",
    "                      {'opg':'AC稼働', 'sby':'AC待機'},\n",
    "                      {'Weekdays':'平日', 'Holidays_st':'休日在宅', 'Holidays_go':'休日外出'},\n",
    "                       '消費電力量[Wh/h]',  0, 50, 10, 1)"
   ]
  },
  {
   "cell_type": "markdown",
   "metadata": {},
   "source": [
    "4人標準世帯の標準条件に対して、サンプルコードにより年間消費電力量を計算した結果を示す。"
   ]
  },
  {
   "cell_type": "code",
   "execution_count": 67,
   "metadata": {
    "scrolled": true
   },
   "outputs": [],
   "source": [
    "def calc_Annual_EE(app_type, schedule_name, user_behavior_type, theta_ex_ave, Q_value, heating_type, floor):\n",
    "    '年間消費電力量[Wh/year]を計算する'\n",
    "    # app_type：機器タイプ  \n",
    "    # schedule_name：スケジュール名 ['1F', '2F']\n",
    "    # user_behavior_type：使用行動タイプ \n",
    "    # theta_ex_ave：外気温度の日平均値[C]\n",
    "    # Q_value：住宅の熱損失係数[W/m2] (List型)\n",
    "    # heating_type：暖房方式[居室間欠、全館連続] \n",
    "    # floor：階[1階、2階]  \n",
    "    \n",
    "    import csv\n",
    "    \n",
    "    with open('住宅02-11-03_その他_生活スケジュール_生活スケジュール（データ）_131216.csv', 'r') as f_schd:\n",
    "        reader_schd = csv.reader(f_schd)\n",
    "        header_schd = next(reader_schd)  # ヘッダーをスキップ\n",
    "\n",
    "        EE_ac = []\n",
    "        for i, row_schd in enumerate(reader_schd):\n",
    "            time_use_type = {'平日':'Weekdays', '休日在':'Holidays_st', '休日外':'Holidays_go'}[row_schd[5]]\n",
    "\n",
    "            daily = [calc_EE_ToiletSeat_verP4(time_use_type, time_of_day,\n",
    "                                              app_type, schedule_name, user_behavior_type, theta_ex_ave[i], Q_value, heating_type, floor)\n",
    "                     for time_of_day in range(0, 24, 1)]\n",
    "            EE_ac.append([daily[time_of_day][1] for time_of_day in range(0, 24, 1)])\n",
    "    \n",
    "    return np.sum(np.array(EE_ac))"
   ]
  },
  {
   "cell_type": "code",
   "execution_count": 68,
   "metadata": {},
   "outputs": [],
   "source": [
    "def calc_theta_ex_ave(region):\n",
    "    '外気温度の日平均値[C]を計算する。'\n",
    "    # regoin：地域区分\n",
    "    \n",
    "    import csv\n",
    "    \n",
    "    with open('ExternalCondition.csv', 'r', encoding ='utf8') as f_temp:\n",
    "        reader_temp = csv.reader(f_temp)\n",
    "        next(reader_temp) # skip the header about '地域'\n",
    "        next(reader_temp) # skip the header about '外気'\n",
    "        next(reader_temp) # skip the header about '気温' and '絶湿'\n",
    "        next(reader_temp) # skip the header about unit.\n",
    "\n",
    "        column_temp = {'region1': 3, \n",
    "                       'region2': 5, \n",
    "                       'region3': 7, \n",
    "                       'region4': 9, \n",
    "                       'region5': 11, \n",
    "                       'region6': 13, \n",
    "                       'region7': 15, \n",
    "                       'region8': 17}[region]\n",
    "\n",
    "        temp = []\n",
    "        temp_ave = []\n",
    "        str_temp_ave = []\n",
    "        for i_temp, row_temp in enumerate(reader_temp):\n",
    "            temp.append(float(row_temp[column_temp]))\n",
    "            if (i_temp+1)%24 == 0:\n",
    "                temp_ave += [np.average(np.array(temp))]\n",
    "                str_temp_ave.append([str(np.average(np.array(temp)))])\n",
    "                temp = []\n",
    "                \n",
    "    # 確認用に外気温度の日平均値の計算結果をcsv形式で出力\n",
    "    with open('theta_ex_ave.csv', 'w', encoding = 'utf8') as fw:\n",
    "        csvWriter = csv.writer(fw, lineterminator='\\r')\n",
    "        csvWriter.writerows(str_temp_ave)\n",
    "        \n",
    "    return temp_ave"
   ]
  },
  {
   "cell_type": "code",
   "execution_count": 69,
   "metadata": {},
   "outputs": [],
   "source": [
    "def get_Q_value(region):\n",
    "    '住宅の熱損失係数[W/m2] を取得する。'\n",
    "    # regoin：地域区分\n",
    "    \n",
    "    return {'region1': 1.6, \n",
    "               'region2': 1.6, \n",
    "               'region3': 1.9, \n",
    "               'region4': 2.4, \n",
    "               'region5': 2.7, \n",
    "               'region6': 2.7, \n",
    "               'region7': 2.7, \n",
    "               'region8': 3.7}[region]"
   ]
  },
  {
   "cell_type": "code",
   "execution_count": 70,
   "metadata": {},
   "outputs": [
    {
     "name": "stdout",
     "output_type": "stream",
     "text": [
      "年間消費電力量：2.6330106080585183 kWh/年\n"
     ]
    }
   ],
   "source": [
    "# 年間消費電力量[kWh/year]：1階、6地域\n",
    "ex_Annual_EE = calc_Annual_EE('ToiletSeat01', '1F', 'UserBehavior01', calc_theta_ex_ave('region6'), get_Q_value('region6'), HeatingType.HabitableRoom, Floor.FirstFloor)\n",
    "print('年間消費電力量：' + str(ex_Annual_EE/1000) + ' kWh/年')"
   ]
  },
  {
   "cell_type": "code",
   "execution_count": 71,
   "metadata": {},
   "outputs": [
    {
     "name": "stdout",
     "output_type": "stream",
     "text": [
      "年間消費電力量：3.3602914690941796 kWh/年\n"
     ]
    }
   ],
   "source": [
    "# 年間消費電力量[kWh/year]：2階、6地域\n",
    "ex_Annual_EE = calc_Annual_EE('ToiletSeat01', '2F', 'UserBehavior01', calc_theta_ex_ave('region6'), get_Q_value('region6'), HeatingType.HabitableRoom, Floor.SecondFloor)\n",
    "print('年間消費電力量：' + str(ex_Annual_EE/1000) + ' kWh/年')"
   ]
  }
 ],
 "metadata": {
  "kernelspec": {
   "display_name": "Python 3",
   "language": "python",
   "name": "python3"
  },
  "language_info": {
   "codemirror_mode": {
    "name": "ipython",
    "version": 3
   },
   "file_extension": ".py",
   "mimetype": "text/x-python",
   "name": "python",
   "nbconvert_exporter": "python",
   "pygments_lexer": "ipython3",
   "version": "3.6.4"
  },
  "toc": {
   "nav_menu": {
    "height": "249px",
    "width": "476px"
   },
   "number_sections": false,
   "sideBar": true,
   "skip_h1_title": false,
   "toc_cell": false,
   "toc_position": {
    "height": "843px",
    "left": "0px",
    "right": "1708px",
    "top": "106px",
    "width": "212px"
   },
   "toc_section_display": "block",
   "toc_window_display": true
  }
 },
 "nbformat": 4,
 "nbformat_minor": 2
}
