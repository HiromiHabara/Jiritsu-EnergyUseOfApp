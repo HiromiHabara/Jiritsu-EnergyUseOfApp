{
 "cells": [
  {
   "cell_type": "code",
   "execution_count": 1,
   "metadata": {},
   "outputs": [],
   "source": [
    "def get_calendar():\n",
    "        '''カレンダーを取得する'''\n",
    "        import csv\n",
    "        \n",
    "        with open('住宅02-11-03_その他_生活スケジュール_生活スケジュール（データ）_131216.csv', 'r') as f:\n",
    "            reader = csv.reader(f)\n",
    "            next(reader)  # ヘッダーをスキップ\n",
    "            return [ { '平日':'Weekdays', '休日在':'Holidays_st', '休日外':'Holidays_go' }[row[5]] for row in reader ]"
   ]
  },
  {
   "cell_type": "code",
   "execution_count": 2,
   "metadata": {},
   "outputs": [],
   "source": [
    "def get_Q_value(region):\n",
    "    '''住宅の熱損失係数[W/m2] を取得する。'''\n",
    "    # regoin：地域区分\n",
    "    \n",
    "    return {'region1': 1.6, \n",
    "            'region2': 1.6, \n",
    "            'region3': 1.9, \n",
    "            'region4': 2.4, \n",
    "            'region5': 2.7, \n",
    "            'region6': 2.7, \n",
    "            'region7': 2.7, \n",
    "            'region8': 3.7}[region]"
   ]
  }
 ],
 "metadata": {
  "kernelspec": {
   "display_name": "Python 3",
   "language": "python",
   "name": "python3"
  },
  "language_info": {
   "codemirror_mode": {
    "name": "ipython",
    "version": 3
   },
   "file_extension": ".py",
   "mimetype": "text/x-python",
   "name": "python",
   "nbconvert_exporter": "python",
   "pygments_lexer": "ipython3",
   "version": "3.6.4"
  }
 },
 "nbformat": 4,
 "nbformat_minor": 2
}
