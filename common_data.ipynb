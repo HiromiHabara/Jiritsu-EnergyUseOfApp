{
 "cells": [
  {
   "cell_type": "code",
   "execution_count": 1,
   "metadata": {},
   "outputs": [],
   "source": [
    "import csv\n",
    "import numpy as np"
   ]
  },
  {
   "cell_type": "code",
   "execution_count": 2,
   "metadata": {},
   "outputs": [],
   "source": [
    "def get_Q_value(region):\n",
    "    '''住宅の熱損失係数[W/m2] を取得する。'''\n",
    "    # regoin：地域区分\n",
    "    \n",
    "    return {'region1': 1.6, \n",
    "            'region2': 1.6, \n",
    "            'region3': 1.9, \n",
    "            'region4': 2.4, \n",
    "            'region5': 2.7, \n",
    "            'region6': 2.7, \n",
    "            'region7': 2.7, \n",
    "            'region8': 3.7}[region]"
   ]
  },
  {
   "cell_type": "code",
   "execution_count": 3,
   "metadata": {},
   "outputs": [],
   "source": [
    "def get_calendar():\n",
    "        '''カレンダーを取得する'''\n",
    "        \n",
    "        with open('住宅02-11-03_その他_生活スケジュール_生活スケジュール（データ）_131216.csv', 'r') as f:\n",
    "            reader = csv.reader(f)\n",
    "            next(reader)  # ヘッダーをスキップ\n",
    "            return [ { '平日':'Weekdays', '休日在':'Holidays_st', '休日外':'Holidays_go' }[row[5]] for row in reader ]"
   ]
  },
  {
   "cell_type": "code",
   "execution_count": 4,
   "metadata": {},
   "outputs": [],
   "source": [
    "def calc_theta_ex_ave(region):\n",
    "    '''外気温度の日平均値[C]を計算する。'''\n",
    "    # regoin：地域区分\n",
    "    \n",
    "    with open('ExternalCondition.csv', 'r', encoding ='utf8') as f:\n",
    "        reader = csv.reader(f)\n",
    "        next(reader) # skip the header about '地域'\n",
    "        next(reader) # skip the header about '外気'\n",
    "        next(reader) # skip the header about '気温' and '絶湿'\n",
    "        next(reader) # skip the header about unit.\n",
    "\n",
    "        column = {'region1': 3, \n",
    "                       'region2': 5, \n",
    "                       'region3': 7, \n",
    "                       'region4': 9, \n",
    "                       'region5': 11, \n",
    "                       'region6': 13, \n",
    "                       'region7': 15, \n",
    "                       'region8': 17}[region]\n",
    "\n",
    "        temp = []\n",
    "        temp_ave = []\n",
    "        str_temp_ave = []\n",
    "        for i, row in enumerate(reader):\n",
    "            temp.append(float(row[column]))\n",
    "            if (i + 1) % 24 == 0:\n",
    "                temp_ave += [np.average(np.array(temp))]\n",
    "                str_temp_ave.append([str(np.average(np.array(temp)))])\n",
    "                temp = []\n",
    "                \n",
    "    # 確認用に外気温度の日平均値の計算結果をcsv形式で出力\n",
    "    with open('theta_ex_ave.csv', 'w', encoding = 'utf8') as fw:\n",
    "        csvWriter = csv.writer(fw, lineterminator='\\r')\n",
    "        csvWriter.writerows(str_temp_ave)\n",
    "        \n",
    "    return temp_ave"
   ]
  }
 ],
 "metadata": {
  "kernelspec": {
   "display_name": "Python 3",
   "language": "python",
   "name": "python3"
  },
  "language_info": {
   "codemirror_mode": {
    "name": "ipython",
    "version": 3
   },
   "file_extension": ".py",
   "mimetype": "text/x-python",
   "name": "python",
   "nbconvert_exporter": "python",
   "pygments_lexer": "ipython3",
   "version": "3.6.4"
  }
 },
 "nbformat": 4,
 "nbformat_minor": 2
}
