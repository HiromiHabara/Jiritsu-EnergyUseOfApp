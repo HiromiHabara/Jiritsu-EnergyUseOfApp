{
 "cells": [
  {
   "cell_type": "code",
   "execution_count": 1,
   "metadata": {},
   "outputs": [
    {
     "name": "stdout",
     "output_type": "stream",
     "text": [
      "Importing Jupyter notebook from common_data.ipynb\n"
     ]
    }
   ],
   "source": [
    "import numpy as np  \n",
    "import datetime\n",
    "\n",
    "# matplotlib\n",
    "# ライブラリーのインポート\n",
    "import matplotlib.pyplot as plt\n",
    "# インライン表示\n",
    "%matplotlib inline\n",
    "\n",
    "# 日本語フォント\n",
    "import pylab\n",
    "from matplotlib.font_manager import FontProperties\n",
    "fp = FontProperties(fname='C:\\WINDOWS\\Fonts\\msgothic.ttc', size = 12)\n",
    "\n",
    "# ipynbのインポート\n",
    "import nbimporter\n",
    "import common_data as CD"
   ]
  },
  {
   "cell_type": "markdown",
   "metadata": {},
   "source": [
    "# 家電機器"
   ]
  },
  {
   "cell_type": "markdown",
   "metadata": {},
   "source": [
    "## 16.　浴室暖房・乾燥機（ver自立P4）"
   ]
  },
  {
   "cell_type": "markdown",
   "metadata": {},
   "source": [
    "### 16.1　定義"
   ]
  },
  {
   "cell_type": "markdown",
   "metadata": {},
   "source": [
    "浴室暖房・乾燥機の動作状態および機能は、以下を想定する。"
   ]
  },
  {
   "cell_type": "markdown",
   "metadata": {},
   "source": [
    "* 稼働－換気\n",
    "* 稼働－暖房\n",
    "* 待機"
   ]
  },
  {
   "cell_type": "markdown",
   "metadata": {},
   "source": [
    "換気機能は、居住者の使用行動により使用の有無が決定される。"
   ]
  },
  {
   "cell_type": "markdown",
   "metadata": {},
   "source": [
    "想定する動作状態および機能に対応する添え字は、以下のとおりである。\n",
    "\n",
    "|機器の動作状態 |機器の機能 |添え字   |備考  　　　|  \n",
    "|:-------------:|:---------:|:-------:|:----------:|    \n",
    "|稼働           |換気       |opg,vent |-     　　　|  \n",
    "|稼働           |暖房       |opg,heat |-     　　　|  \n",
    "|待機           |-          |sby      |-     　　　| "
   ]
  },
  {
   "cell_type": "markdown",
   "metadata": {},
   "source": [
    "### 16.2　消費電力量"
   ]
  },
  {
   "cell_type": "markdown",
   "metadata": {},
   "source": [
    "日付$d$の時刻$t$における浴室暖房・乾燥機の消費電力量$E_{E,BathroomHVA,d,t}$は、式(1)により表される。"
   ]
  },
  {
   "cell_type": "markdown",
   "metadata": {},
   "source": [
    "$$ \n",
    "\\begin{equation*}\n",
    "    E_{E,BathroomHVA,d,t} = E_{E,opg,d,t} + E_{E,sby,d,t} \n",
    "\\end{equation*}\n",
    "$$\n",
    "\n",
    "\n",
    "<div style=\"text-align: right;\"> (1) </div>"
   ]
  },
  {
   "cell_type": "markdown",
   "metadata": {},
   "source": [
    "ここで、  \n",
    "\n",
    "$E_{E,BathroomHVA,d,t}$：日付$d$の時刻$t$における浴室暖房・乾燥機の単位時間当たりの消費電力量[Wh]  \n",
    "$E_{E,opg,d,t}$：日付$d$の時刻$t$における稼働時の単位時間当たりの消費電力量[Wh]  \n",
    "$E_{E,sby,d,t}$：日付$d$の時刻$t$における待機時の単位時間当たりの消費電力量[Wh]  \n",
    "\n",
    "である。"
   ]
  },
  {
   "cell_type": "code",
   "execution_count": 2,
   "metadata": {},
   "outputs": [],
   "source": [
    "def EE_app (EE_opg, EE_sby):\n",
    "    '''消費電力量[Wh]を計算する'''\n",
    "    # EE_opg：稼働時の消費電力量[Wh]\n",
    "    # EE_sby：待機時の消費電力量[Wh]\n",
    "    \n",
    "    return EE_opg + EE_sby"
   ]
  },
  {
   "cell_type": "markdown",
   "metadata": {},
   "source": [
    "日付$d$の時刻$t$における稼働時の消費電力量$E_{E,opg,d,t}$および待機時の消費電力量$E_{E,sby,d,t}$は、式(2)および式(3)により計算される。"
   ]
  },
  {
   "cell_type": "markdown",
   "metadata": {},
   "source": [
    "<p style=\"text-indent:2em\">稼働時の消費電力：</p>  \n",
    "$$ \n",
    "\\begin{equation*}\n",
    "    E_{E,opg,d,t} = E_{E,opg,vent,d,t} + E_{E,opg,heat,d,t}\n",
    "\\end{equation*}\n",
    "$$\n",
    "\n",
    "\n",
    "<div style=\"text-align: right;\"> (3-1) </div>"
   ]
  },
  {
   "cell_type": "markdown",
   "metadata": {},
   "source": [
    "<p style=\"text-indent:4em\">換気が機能する場合：</p>   \n",
    "$$ \n",
    "\\begin{equation*}\n",
    "    E_{E,opg,vent,d,t} = P_{opg,vent} \\times dt_{opg,vent,d,t} \\div 3600\n",
    "\\end{equation*}\n",
    "$$\n",
    "\n",
    "\n",
    "<div style=\"text-align: right;\"> (3-2) </div>"
   ]
  },
  {
   "cell_type": "markdown",
   "metadata": {},
   "source": [
    "<p style=\"text-indent:4em\">暖房が機能する場合：</p>   \n",
    "$$ \n",
    "\\begin{equation*}\n",
    "    E_{E,opg,heat,d,t} = P_{opg,heat} \\times dt_{opg,heat,d,t} \\div 3600\n",
    "\\end{equation*}\n",
    "$$\n",
    "\n",
    "\n",
    "<div style=\"text-align: right;\"> (3-3) </div>"
   ]
  },
  {
   "cell_type": "markdown",
   "metadata": {},
   "source": [
    "<p style=\"text-indent:2em\">待機時の消費電力：</p>    \n",
    "$$ \n",
    "\\begin{equation*}\n",
    "    E_{E,sby,d,t} = P_{sby} \\times dt_{sby,d,t} \\div 3600\n",
    "\\end{equation*}\n",
    "$$\n",
    "\n",
    "\n",
    "<div style=\"text-align: right;\"> (4) </div>"
   ]
  },
  {
   "cell_type": "markdown",
   "metadata": {},
   "source": [
    "ただし、式(4)を満たす。\n",
    "$$ \n",
    "\\begin{equation*}\n",
    "     dt_{opg,vent,d,t} + dt_{opg,heat,d,t} + dt_{sby,d,t} = dt_{calc}\n",
    "\\end{equation*}\n",
    "$$\n",
    "<div style=\"text-align: right;\"> (5) </div>"
   ]
  },
  {
   "cell_type": "markdown",
   "metadata": {},
   "source": [
    "ここで、  \n",
    "\n",
    "$dt_{calc}$：単位時間[s]   \n",
    "$dt_{opg,vent,d,t}$：日付$d$の時刻$t$において換気が機能することによる稼働時間の合計[s]  \n",
    "$dt_{opg,heat,d,t}$：日付$d$の時刻$t$において暖房が機能することによる稼働時間の合計[s]  \n",
    "$dt_{sby,d,t}$：日付$d$の時刻$t$における待機時間の合計[s]   \n",
    "$E_{E,opg,vent,d,t}$：日付$d$の時刻$t$において換気が機能することによる稼働時の単位時間当たりの消費電力量[Wh]   \n",
    "$E_{E,opg,heat,d,t}$：日付$d$の時刻$t$において暖房が機能することによる稼働時の単位時間当たりの消費電力量[Wh]   \n",
    "$E_{E,sby,d,t}$：日付$d$の時刻$t$における待機時の単位時間当たりの消費電力量[Wh]   \n",
    "$P_{opg,vent}$：換気が機能することによる稼働時の消費電力[W]  \n",
    "$P_{opg,heat}$：暖房が機能することによる稼働時の消費電力[W]  \n",
    "$P_{sby}$：待機時の消費電力[W]   \n",
    "\n",
    "である。"
   ]
  },
  {
   "cell_type": "code",
   "execution_count": 3,
   "metadata": {},
   "outputs": [],
   "source": [
    "def EE_opg (EE_opg_vent,EE_opg_heat):\n",
    "    '''稼働時の消費電力量[Wh]を計算する'''\n",
    "    # EE_opg_vent：換気が機能することによる稼働時の単位時間当たりの消費電力量[Wh]\n",
    "    # EE_opg_heat：暖房が機能することによる稼働時の単位時間当たりの消費電力量[Wh]  \n",
    "  \n",
    "    return EE_opg_vent + EE_opg_heat"
   ]
  },
  {
   "cell_type": "code",
   "execution_count": 4,
   "metadata": {},
   "outputs": [],
   "source": [
    "def EE_opg_vent (P_opg_vent, dt_opg_vent):\n",
    "    '''換気が機能することによる稼働時の消費電力量[Wh]を計算する'''\n",
    "    # P_opg_vent：換気が機能することによる稼働時の消費電力[W]    \n",
    "    # dt_opg_vent：換気が機能することによる稼働時間の合計[s]\n",
    "  \n",
    "    return P_opg_vent * dt_opg_vent / 3600"
   ]
  },
  {
   "cell_type": "code",
   "execution_count": 5,
   "metadata": {},
   "outputs": [],
   "source": [
    "def EE_opg_heat (P_opg_heat, dt_opg_heat):\n",
    "    '''暖房が機能することによる稼働時の消費電力量[Wh]を計算する'''\n",
    "    # P_opg_heat：暖房が機能することによる稼働時の消費電力[W]    \n",
    "    # dt_opg_heat：暖房が機能することによる稼働時間の合計[s]\n",
    "  \n",
    "    return P_opg_heat * dt_opg_heat / 3600"
   ]
  },
  {
   "cell_type": "code",
   "execution_count": 6,
   "metadata": {},
   "outputs": [],
   "source": [
    "def EE_sby (P_sby, dt_sby):\n",
    "    '''待機時の消費電力量[Wh]を計算する'''\n",
    "    # P_sby：待機時の消費電力[W]\n",
    "    # dt_sby：待機時間の合計[s]\n",
    " \n",
    "    return P_sby * dt_sby / 3600"
   ]
  },
  {
   "cell_type": "code",
   "execution_count": 7,
   "metadata": {},
   "outputs": [],
   "source": [
    "def check_duration (dt):\n",
    "    '''合計が単位時間を超過しないか否かを確認する'''\n",
    "    # dt：稼働時間の合計[s](list型)\n",
    "    # dt_calc：単位時間[s]\n",
    "    \n",
    "    dt_calc = 3600.\n",
    "    \n",
    "    # 継続時間を積算する\n",
    "    dt_sum = sum(dt)\n",
    "    \n",
    "    # エラーチェック\n",
    "    if dt_calc != dt_sum:\n",
    "        # 単位時間と異なる => エラー\n",
    "        try:\n",
    "            raise Exception('機器動作スケジュールに不正があります。')\n",
    "        except Exception:\n",
    "            raise\n",
    "    else:\n",
    "        pass"
   ]
  },
  {
   "cell_type": "markdown",
   "metadata": {},
   "source": [
    "### 16.3　稼働時の消費電力"
   ]
  },
  {
   "cell_type": "markdown",
   "metadata": {},
   "source": [
    "日付$d$の時刻$t$における稼働時の消費電力は、式(5)により計算される。"
   ]
  },
  {
   "cell_type": "markdown",
   "metadata": {},
   "source": [
    "<p style=\"text-indent:2em\">換気が機能することによる稼働時の消費電力：</p>     \n",
    "$$ \n",
    "\\begin{equation*}\n",
    "    P_{opg,vent} = 0.881 \\times P_{rtd,vent}\n",
    "\\end{equation*}\n",
    "$$\n",
    "\n",
    "<div style=\"text-align: right;\"> (6-1) </div>"
   ]
  },
  {
   "cell_type": "markdown",
   "metadata": {},
   "source": [
    "<p style=\"text-indent:2em\">暖房が機能することによる稼働時の消費電力：</p>\n",
    "<p style=\"text-indent:4em\">暖房機能を使用する場合：</p>\n",
    "$$ \n",
    "\\begin{equation*}\n",
    "    P_{opg,heat} = 0.834 \\times P_{rtd,heat}\n",
    "\\end{equation*}\n",
    "$$\n",
    "\n",
    "<div style=\"text-align: right;\"> (6-2) </div>"
   ]
  },
  {
   "cell_type": "markdown",
   "metadata": {},
   "source": [
    "<p style=\"text-indent:4em\">暖房機能を使用しない場合：</p>\n",
    "$$ \n",
    "\\begin{equation*}\n",
    "    P_{opg,heat} = 0\n",
    "\\end{equation*}\n",
    "$$\n",
    "\n",
    "<div style=\"text-align: right;\"> (6-3) </div>"
   ]
  },
  {
   "cell_type": "markdown",
   "metadata": {},
   "source": [
    "ここで、   \n",
    "\n",
    "$P_{opg,vent}$：換気が機能することによる稼働時の消費電力[W]  \n",
    "$P_{opg,heat}$：換気が機能することによる稼働時の消費電力[W]  \n",
    "$P_{rtd,vent}$：換気モードの定格消費電力[W]  \n",
    "$P_{rtd,heat}$：予備暖房モードの定格消費電力[W]   \n",
    "\n",
    "である。"
   ]
  },
  {
   "cell_type": "code",
   "execution_count": 8,
   "metadata": {},
   "outputs": [],
   "source": [
    "def P_opg_vent (Prtd_vent):\n",
    "    '''換気が機能することによる稼働時の消費電力[W]を計算する'''  \n",
    "    # Prtd_vent：換気モードの定格消費電力[W]  \n",
    "    \n",
    "    return 0.881 * Prtd_vent"
   ]
  },
  {
   "cell_type": "code",
   "execution_count": 9,
   "metadata": {},
   "outputs": [],
   "source": [
    "def P_opg_heat (Prtd_heat, heating_use):\n",
    "    '''暖房が機能することによる稼働時の消費電力[W]を計算する''' \n",
    "    # Prtd_heat：予備暖房モードの定格消費電力[W]\n",
    "    # heating_use：暖房機能を使用するか否か[True：使用する、False：使用しない](Boolean型)\n",
    "    \n",
    "    if heating_use is True:\n",
    "        return 0.834 * Prtd_heat\n",
    "    else:\n",
    "        return 0"
   ]
  },
  {
   "cell_type": "markdown",
   "metadata": {},
   "source": [
    "### 16.4　待機時の消費電力"
   ]
  },
  {
   "cell_type": "markdown",
   "metadata": {},
   "source": [
    "日付$d$の時刻$t$における待機時の消費電力は、式(6)により計算される。"
   ]
  },
  {
   "cell_type": "markdown",
   "metadata": {},
   "source": [
    "<p style=\"text-indent:2em\">待機時の消費電力：</p>  \n",
    "$$ \n",
    "\\begin{equation*}\n",
    "    P_{sby} = P_{rtd,sby} \n",
    "\\end{equation*}\n",
    "$$\n",
    "\n",
    "<div style=\"text-align: right;\"> (7) </div>"
   ]
  },
  {
   "cell_type": "markdown",
   "metadata": {},
   "source": [
    "ここで、   \n",
    "\n",
    "$P_{sby}$：待機時の消費電力[W]  \n",
    "$P_{rtd,sby}$：待機定格消費電力[W]  \n",
    "\n",
    "である。"
   ]
  },
  {
   "cell_type": "code",
   "execution_count": 10,
   "metadata": {},
   "outputs": [],
   "source": [
    "def P_sby (Prtd_sby):\n",
    "    '''待機時の消費電力[W]を計算する''' \n",
    "    # Prtd_sby：待機定格消費電力[W]    \n",
    "    \n",
    "    return Prtd_sby"
   ]
  },
  {
   "cell_type": "markdown",
   "metadata": {},
   "source": [
    "### 16.5　標準条件"
   ]
  },
  {
   "cell_type": "markdown",
   "metadata": {},
   "source": [
    "#### 16.5.1　機器仕様"
   ]
  },
  {
   "cell_type": "markdown",
   "metadata": {},
   "source": [
    "4人世帯の標準的な機器仕様については、デフォルト設定がない。"
   ]
  },
  {
   "cell_type": "markdown",
   "metadata": {},
   "source": [
    "ここでは、メーカHPから得られた情報に基づき、参考までに下表のように設定する。"
   ]
  },
  {
   "cell_type": "markdown",
   "metadata": {},
   "source": [
    "<table style=\"border-collapse:collapse;\">\n",
    "    <caption>表 機器仕様（参考）</caption>\n",
    "    <thead style=\"background-color:lightgrey\" >\n",
    "        <tr>\n",
    "            <th style=\"text-align:center; border:1px solid black;\" >番号</th>\n",
    "            <th style=\"text-align:center; border:1px solid black;\" >換気モードの定格消費電力[W]</th>\n",
    "            <th style=\"text-align:center; border:1px solid black;\" >予備暖房モードの定格消費電力[W]</th>\n",
    "            <th style=\"text-align:center; border:1px solid black;\" >待機定格消費電力[W]</th>\n",
    "            <th style=\"text-align:center; border:1px solid black;\" >備考</th>\n",
    "        </tr>\n",
    "    </thead>\n",
    "    <tbody>    \n",
    "        <tr>\n",
    "            <td style=\"border:1px solid black; text-align:center;\">00</td>\n",
    "            <td style=\"border:1px solid black; text-align:center;\">21</td>\n",
    "            <td style=\"border:1px solid black; text-align:center;\">2200</td>\n",
    "            <td style=\"border:1px solid black; text-align:center;\">0.5</td>\n",
    "            <td style=\"border:1px solid black; text-align:center;\">※デフォルト設定ではない</td>\n",
    "        </tr>\n",
    "    </tbody> \n",
    "</table>"
   ]
  },
  {
   "cell_type": "code",
   "execution_count": 11,
   "metadata": {},
   "outputs": [],
   "source": [
    "Spec  = {\n",
    "    'BathroomHVA00' : {\n",
    "        'Prtd_vent': 21,\n",
    "        'Prtd_heat': 2200,\n",
    "        'Prtd_sby' : 0.5\n",
    "    }\n",
    "}"
   ]
  },
  {
   "cell_type": "markdown",
   "metadata": {},
   "source": [
    "#### 16.5.2　機器動作スケジュール"
   ]
  },
  {
   "cell_type": "markdown",
   "metadata": {},
   "source": [
    "4人世帯の標準的なスケジュールについては、デフォルト設定がない。"
   ]
  },
  {
   "cell_type": "markdown",
   "metadata": {},
   "source": [
    "ここでは、換気については、換気設備の局所換気として計算されるため、使用時間はゼロとする。暖房については、JIS C 9920-2：2009（浴室用電気乾燥機の設計標準使用期間を設定するための標準使用条件）の解説表1および入浴に関するスケジュールから、下表のように設定する。"
   ]
  },
  {
   "cell_type": "markdown",
   "metadata": {},
   "source": [
    "<table style=\"border-collapse:collapse;\">\n",
    "    <caption>表 4人世帯のスケジュール（参考）</caption>\n",
    "    <thead style=\"background-color:lightgrey\" >\n",
    "        <tr>\n",
    "            <th style=\"text-align:center; border:1px solid black;\" >番号</th>\n",
    "            <th style=\"text-align:center; border:1px solid black;\" >適用対象室</th>\n",
    "            <th style=\"text-align:center; border:1px solid black;\" >備考</th>\n",
    "        </tr>\n",
    "    </thead>\n",
    "    <tbody>    \n",
    "        <tr>\n",
    "            <td style=\"border:1px solid black; text-align:center;\">00</td>\n",
    "            <td style=\"border:1px solid black; text-align:center;\">浴室</td>\n",
    "            <td style=\"border:1px solid black; text-align:center;\">※既定値ではない</td>\n",
    "        </tr>\n",
    "    </tbody> \n",
    "</table>"
   ]
  },
  {
   "cell_type": "markdown",
   "metadata": {},
   "source": [
    "<table style=\"border-collapse:collapse;\">\n",
    "    <caption>表 平日（参考）</caption>\n",
    "    <thead style=\"background-color:lightgrey\" >\n",
    "        <tr>\n",
    "            <th style=\"text-align:center; border:1px solid black;\" >時刻</th>\n",
    "            <th style=\"text-align:center; border:1px solid black;\" >0</th>\n",
    "            <th style=\"text-align:center; border:1px solid black;\" >1</th>\n",
    "            <th style=\"text-align:center; border:1px solid black;\" >2</th>\n",
    "            <th style=\"text-align:center; border:1px solid black;\" >3</th>\n",
    "            <th style=\"text-align:center; border:1px solid black;\" >4</th>\n",
    "            <th style=\"text-align:center; border:1px solid black;\" >5</th>\n",
    "            <th style=\"text-align:center; border:1px solid black;\" >6</th>\n",
    "            <th style=\"text-align:center; border:1px solid black;\" >7</th>\n",
    "            <th style=\"text-align:center; border:1px solid black;\" >8</th>\n",
    "            <th style=\"text-align:center; border:1px solid black;\" >9</th>\n",
    "            <th style=\"text-align:center; border:1px solid black;\" >10</th>\n",
    "            <th style=\"text-align:center; border:1px solid black;\" >11</th>\n",
    "            <th style=\"text-align:center; border:1px solid black;\" >12</th>\n",
    "            <th style=\"text-align:center; border:1px solid black;\" >13</th>\n",
    "            <th style=\"text-align:center; border:1px solid black;\" >14</th>\n",
    "            <th style=\"text-align:center; border:1px solid black;\" >15</th>\n",
    "            <th style=\"text-align:center; border:1px solid black;\" >16</th>\n",
    "            <th style=\"text-align:center; border:1px solid black;\" >17</th>\n",
    "            <th style=\"text-align:center; border:1px solid black;\" >18</th>\n",
    "            <th style=\"text-align:center; border:1px solid black;\" >19</th>\n",
    "            <th style=\"text-align:center; border:1px solid black;\" >20</th>\n",
    "            <th style=\"text-align:center; border:1px solid black;\" >21</th>\n",
    "            <th style=\"text-align:center; border:1px solid black;\" >22</th>\n",
    "            <th style=\"text-align:center; border:1px solid black;\" >23</th>\n",
    "        </tr>\n",
    "    </thead>\n",
    "    <tbody>    \n",
    "        <tr>\n",
    "            <td style=\"border:1px solid black; text-align:center;\">稼働時間 &#95; 換気[&#42; 60 s]</td>\n",
    "            <td style=\"border:1px solid black; text-align:center;\">0</td>　<!--  0 -->\n",
    "            <td style=\"border:1px solid black; text-align:center;\">0</td>　<!--  1 -->\n",
    "            <td style=\"border:1px solid black; text-align:center;\">0</td>　<!--  2 -->\n",
    "            <td style=\"border:1px solid black; text-align:center;\">0</td>　<!--  3 -->\n",
    "            <td style=\"border:1px solid black; text-align:center;\">0</td>　<!--  4 -->\n",
    "            <td style=\"border:1px solid black; text-align:center;\">0</td>　<!--  5 -->\n",
    "            <td style=\"border:1px solid black; text-align:center;\">0</td>　<!--  6 -->\n",
    "            <td style=\"border:1px solid black; text-align:center;\">0</td>　<!--  7 -->\n",
    "            <td style=\"border:1px solid black; text-align:center;\">0</td>　<!--  8 -->\n",
    "            <td style=\"border:1px solid black; text-align:center;\">0</td>　<!--  9 -->\n",
    "            <td style=\"border:1px solid black; text-align:center;\">0</td>　<!-- 10 -->\n",
    "            <td style=\"border:1px solid black; text-align:center;\">0</td>　<!-- 11 -->\n",
    "            <td style=\"border:1px solid black; text-align:center;\">0</td>　<!-- 12 -->\n",
    "            <td style=\"border:1px solid black; text-align:center;\">0</td>　<!-- 13 -->\n",
    "            <td style=\"border:1px solid black; text-align:center;\">0</td>　<!-- 14 -->\n",
    "            <td style=\"border:1px solid black; text-align:center;\">0</td>　<!-- 15 -->\n",
    "            <td style=\"border:1px solid black; text-align:center;\">0</td>　<!-- 16 -->\n",
    "            <td style=\"border:1px solid black; text-align:center;\">0</td>　<!-- 17 -->\n",
    "            <td style=\"border:1px solid black; text-align:center;\">0</td>　<!-- 18 -->\n",
    "            <td style=\"border:1px solid black; text-align:center;\">0</td>　<!-- 19 -->\n",
    "            <td style=\"border:1px solid black; text-align:center;\">0</td>　<!-- 20 -->\n",
    "            <td style=\"border:1px solid black; text-align:center;\">0</td>　<!-- 21 -->\n",
    "            <td style=\"border:1px solid black; text-align:center;\">0</td>　<!-- 22 -->\n",
    "            <td style=\"border:1px solid black; text-align:center;\">0</td>　<!-- 23 -->\n",
    "        </tr>\n",
    "        <tr>\n",
    "            <td style=\"border:1px solid black; text-align:center;\">稼働時間 &#95; 暖房[&#42; 60 s]</td>\n",
    "            <td style=\"border:1px solid black; text-align:center;\">0</td>　<!--  0 -->\n",
    "            <td style=\"border:1px solid black; text-align:center;\">0</td>　<!--  1 -->\n",
    "            <td style=\"border:1px solid black; text-align:center;\">0</td>　<!--  2 -->\n",
    "            <td style=\"border:1px solid black; text-align:center;\">0</td>　<!--  3 -->\n",
    "            <td style=\"border:1px solid black; text-align:center;\">0</td>　<!--  4 -->\n",
    "            <td style=\"border:1px solid black; text-align:center;\">0</td>　<!--  5 -->\n",
    "            <td style=\"border:1px solid black; text-align:center;\">0</td>　<!--  6 -->\n",
    "            <td style=\"border:1px solid black; text-align:center;\">0</td>　<!--  7 -->\n",
    "            <td style=\"border:1px solid black; text-align:center;\">0</td>　<!--  8 -->\n",
    "            <td style=\"border:1px solid black; text-align:center;\">0</td>　<!--  9 -->\n",
    "            <td style=\"border:1px solid black; text-align:center;\">0</td>　<!-- 10 -->\n",
    "            <td style=\"border:1px solid black; text-align:center;\">0</td>　<!-- 11 -->\n",
    "            <td style=\"border:1px solid black; text-align:center;\">0</td>　<!-- 12 -->\n",
    "            <td style=\"border:1px solid black; text-align:center;\">0</td>　<!-- 13 -->\n",
    "            <td style=\"border:1px solid black; text-align:center;\">0</td>　<!-- 14 -->\n",
    "            <td style=\"border:1px solid black; text-align:center;\">0</td>　<!-- 15 -->\n",
    "            <td style=\"border:1px solid black; text-align:center;\">0</td>　<!-- 16 -->\n",
    "            <td style=\"border:1px solid black; text-align:center;\">0</td>　<!-- 17 -->\n",
    "            <td style=\"border:1px solid black; text-align:center;\">0</td>　<!-- 18 -->\n",
    "            <td style=\"border:1px solid black; text-align:center;\">0</td>　<!-- 19 -->\n",
    "            <td style=\"border:1px solid black; text-align:center;\">30</td>　<!-- 20 -->\n",
    "            <td style=\"border:1px solid black; text-align:center;\">60</td>　<!-- 21 -->\n",
    "            <td style=\"border:1px solid black; text-align:center;\">30</td>　<!-- 22 -->\n",
    "            <td style=\"border:1px solid black; text-align:center;\">0</td>　<!-- 23 -->\n",
    "        </tr>\n",
    "        <tr>\n",
    "            <td style=\"border:1px solid black; text-align:center;\">待機時間[&#42; 60 s]</td>\n",
    "            <td style=\"border:1px solid black; text-align:center;\">60</td>　<!--  0 -->\n",
    "            <td style=\"border:1px solid black; text-align:center;\">60</td>　<!--  1 -->\n",
    "            <td style=\"border:1px solid black; text-align:center;\">60</td>　<!--  2 -->\n",
    "            <td style=\"border:1px solid black; text-align:center;\">60</td>　<!--  3 -->\n",
    "            <td style=\"border:1px solid black; text-align:center;\">60</td>　<!--  4 -->\n",
    "            <td style=\"border:1px solid black; text-align:center;\">60</td>　<!--  5 -->\n",
    "            <td style=\"border:1px solid black; text-align:center;\">60</td>　<!--  6 -->\n",
    "            <td style=\"border:1px solid black; text-align:center;\">60</td>　<!--  7 -->\n",
    "            <td style=\"border:1px solid black; text-align:center;\">60</td>　<!--  8 -->\n",
    "            <td style=\"border:1px solid black; text-align:center;\">60</td>　<!--  9 -->\n",
    "            <td style=\"border:1px solid black; text-align:center;\">60</td>　<!-- 10 -->\n",
    "            <td style=\"border:1px solid black; text-align:center;\">60</td>　<!-- 11 -->\n",
    "            <td style=\"border:1px solid black; text-align:center;\">60</td>　<!-- 12 -->\n",
    "            <td style=\"border:1px solid black; text-align:center;\">60</td>　<!-- 13 -->\n",
    "            <td style=\"border:1px solid black; text-align:center;\">60</td>　<!-- 14 -->\n",
    "            <td style=\"border:1px solid black; text-align:center;\">60</td>　<!-- 15 -->\n",
    "            <td style=\"border:1px solid black; text-align:center;\">60</td>　<!-- 16 -->\n",
    "            <td style=\"border:1px solid black; text-align:center;\">60</td>　<!-- 17 -->\n",
    "            <td style=\"border:1px solid black; text-align:center;\">60</td>　<!-- 18 -->\n",
    "            <td style=\"border:1px solid black; text-align:center;\">60</td>　<!-- 19 -->\n",
    "            <td style=\"border:1px solid black; text-align:center;\">30</td>　<!-- 20 -->\n",
    "            <td style=\"border:1px solid black; text-align:center;\"> 0</td>　<!-- 21 -->\n",
    "            <td style=\"border:1px solid black; text-align:center;\">30</td>　<!-- 22 -->\n",
    "            <td style=\"border:1px solid black; text-align:center;\">60</td>　<!-- 23 -->\n",
    "        </tr>\n",
    "    </tbody> \n",
    "</table>"
   ]
  },
  {
   "cell_type": "markdown",
   "metadata": {},
   "source": [
    "<table style=\"border-collapse:collapse;\">\n",
    "    <caption>表 休日在宅（参考）</caption>\n",
    "    <thead style=\"background-color:lightgrey\" >\n",
    "        <tr>\n",
    "            <th style=\"text-align:center; border:1px solid black;\" >時刻</th>\n",
    "            <th style=\"text-align:center; border:1px solid black;\" >0</th>\n",
    "            <th style=\"text-align:center; border:1px solid black;\" >1</th>\n",
    "            <th style=\"text-align:center; border:1px solid black;\" >2</th>\n",
    "            <th style=\"text-align:center; border:1px solid black;\" >3</th>\n",
    "            <th style=\"text-align:center; border:1px solid black;\" >4</th>\n",
    "            <th style=\"text-align:center; border:1px solid black;\" >5</th>\n",
    "            <th style=\"text-align:center; border:1px solid black;\" >6</th>\n",
    "            <th style=\"text-align:center; border:1px solid black;\" >7</th>\n",
    "            <th style=\"text-align:center; border:1px solid black;\" >8</th>\n",
    "            <th style=\"text-align:center; border:1px solid black;\" >9</th>\n",
    "            <th style=\"text-align:center; border:1px solid black;\" >10</th>\n",
    "            <th style=\"text-align:center; border:1px solid black;\" >11</th>\n",
    "            <th style=\"text-align:center; border:1px solid black;\" >12</th>\n",
    "            <th style=\"text-align:center; border:1px solid black;\" >13</th>\n",
    "            <th style=\"text-align:center; border:1px solid black;\" >14</th>\n",
    "            <th style=\"text-align:center; border:1px solid black;\" >15</th>\n",
    "            <th style=\"text-align:center; border:1px solid black;\" >16</th>\n",
    "            <th style=\"text-align:center; border:1px solid black;\" >17</th>\n",
    "            <th style=\"text-align:center; border:1px solid black;\" >18</th>\n",
    "            <th style=\"text-align:center; border:1px solid black;\" >19</th>\n",
    "            <th style=\"text-align:center; border:1px solid black;\" >20</th>\n",
    "            <th style=\"text-align:center; border:1px solid black;\" >21</th>\n",
    "            <th style=\"text-align:center; border:1px solid black;\" >22</th>\n",
    "            <th style=\"text-align:center; border:1px solid black;\" >23</th>\n",
    "        </tr>\n",
    "    </thead>\n",
    "    <tbody>    \n",
    "        <tr>\n",
    "            <td style=\"border:1px solid black; text-align:center;\">稼働時間 &#95; 換気[&#42; 60 s]</td>\n",
    "            <td style=\"border:1px solid black; text-align:center;\">0</td>　<!--  0 -->\n",
    "            <td style=\"border:1px solid black; text-align:center;\">0</td>　<!--  1 -->\n",
    "            <td style=\"border:1px solid black; text-align:center;\">0</td>　<!--  2 -->\n",
    "            <td style=\"border:1px solid black; text-align:center;\">0</td>　<!--  3 -->\n",
    "            <td style=\"border:1px solid black; text-align:center;\">0</td>　<!--  4 -->\n",
    "            <td style=\"border:1px solid black; text-align:center;\">0</td>　<!--  5 -->\n",
    "            <td style=\"border:1px solid black; text-align:center;\">0</td>　<!--  6 -->\n",
    "            <td style=\"border:1px solid black; text-align:center;\">0</td>　<!--  7 -->\n",
    "            <td style=\"border:1px solid black; text-align:center;\">0</td>　<!--  8 -->\n",
    "            <td style=\"border:1px solid black; text-align:center;\">0</td>　<!--  9 -->\n",
    "            <td style=\"border:1px solid black; text-align:center;\">0</td>　<!-- 10 -->\n",
    "            <td style=\"border:1px solid black; text-align:center;\">0</td>　<!-- 11 -->\n",
    "            <td style=\"border:1px solid black; text-align:center;\">0</td>　<!-- 12 -->\n",
    "            <td style=\"border:1px solid black; text-align:center;\">0</td>　<!-- 13 -->\n",
    "            <td style=\"border:1px solid black; text-align:center;\">0</td>　<!-- 14 -->\n",
    "            <td style=\"border:1px solid black; text-align:center;\">0</td>　<!-- 15 -->\n",
    "            <td style=\"border:1px solid black; text-align:center;\">0</td>　<!-- 16 -->\n",
    "            <td style=\"border:1px solid black; text-align:center;\">0</td>　<!-- 17 -->\n",
    "            <td style=\"border:1px solid black; text-align:center;\">0</td>　<!-- 18 -->\n",
    "            <td style=\"border:1px solid black; text-align:center;\">0</td>　<!-- 19 -->\n",
    "            <td style=\"border:1px solid black; text-align:center;\">0</td>　<!-- 20 -->\n",
    "            <td style=\"border:1px solid black; text-align:center;\">0</td>　<!-- 21 -->\n",
    "            <td style=\"border:1px solid black; text-align:center;\">0</td>　<!-- 22 -->\n",
    "            <td style=\"border:1px solid black; text-align:center;\">0</td>　<!-- 23 -->\n",
    "        </tr>\n",
    "        <tr>\n",
    "            <td style=\"border:1px solid black; text-align:center;\">稼働時間 &#95; 暖房[&#42; 60 s]</td>\n",
    "            <td style=\"border:1px solid black; text-align:center;\">0</td>　<!--  0 -->\n",
    "            <td style=\"border:1px solid black; text-align:center;\">0</td>　<!--  1 -->\n",
    "            <td style=\"border:1px solid black; text-align:center;\">0</td>　<!--  2 -->\n",
    "            <td style=\"border:1px solid black; text-align:center;\">0</td>　<!--  3 -->\n",
    "            <td style=\"border:1px solid black; text-align:center;\">0</td>　<!--  4 -->\n",
    "            <td style=\"border:1px solid black; text-align:center;\">0</td>　<!--  5 -->\n",
    "            <td style=\"border:1px solid black; text-align:center;\">0</td>　<!--  6 -->\n",
    "            <td style=\"border:1px solid black; text-align:center;\">0</td>　<!--  7 -->\n",
    "            <td style=\"border:1px solid black; text-align:center;\">0</td>　<!--  8 -->\n",
    "            <td style=\"border:1px solid black; text-align:center;\">0</td>　<!--  9 -->\n",
    "            <td style=\"border:1px solid black; text-align:center;\">0</td>　<!-- 10 -->\n",
    "            <td style=\"border:1px solid black; text-align:center;\">0</td>　<!-- 11 -->\n",
    "            <td style=\"border:1px solid black; text-align:center;\">0</td>　<!-- 12 -->\n",
    "            <td style=\"border:1px solid black; text-align:center;\">0</td>　<!-- 13 -->\n",
    "            <td style=\"border:1px solid black; text-align:center;\">0</td>　<!-- 14 -->\n",
    "            <td style=\"border:1px solid black; text-align:center;\">0</td>　<!-- 15 -->\n",
    "            <td style=\"border:1px solid black; text-align:center;\">15</td>　<!-- 16 -->\n",
    "            <td style=\"border:1px solid black; text-align:center;\">15</td>　<!-- 17 -->\n",
    "            <td style=\"border:1px solid black; text-align:center;\">0</td>　<!-- 18 -->\n",
    "            <td style=\"border:1px solid black; text-align:center;\">0</td>　<!-- 19 -->\n",
    "            <td style=\"border:1px solid black; text-align:center;\">0</td>　<!-- 20 -->\n",
    "            <td style=\"border:1px solid black; text-align:center;\">60</td>　<!-- 21 -->\n",
    "            <td style=\"border:1px solid black; text-align:center;\">30</td>　<!-- 22 -->\n",
    "            <td style=\"border:1px solid black; text-align:center;\">0</td>　<!-- 23 -->\n",
    "        </tr>\n",
    "        <tr>\n",
    "            <td style=\"border:1px solid black; text-align:center;\">待機時間[&#42; 60 s]</td>\n",
    "            <td style=\"border:1px solid black; text-align:center;\">60</td>　<!--  0 -->\n",
    "            <td style=\"border:1px solid black; text-align:center;\">60</td>　<!--  1 -->\n",
    "            <td style=\"border:1px solid black; text-align:center;\">60</td>　<!--  2 -->\n",
    "            <td style=\"border:1px solid black; text-align:center;\">60</td>　<!--  3 -->\n",
    "            <td style=\"border:1px solid black; text-align:center;\">60</td>　<!--  4 -->\n",
    "            <td style=\"border:1px solid black; text-align:center;\">60</td>　<!--  5 -->\n",
    "            <td style=\"border:1px solid black; text-align:center;\">60</td>　<!--  6 -->\n",
    "            <td style=\"border:1px solid black; text-align:center;\">60</td>　<!--  7 -->\n",
    "            <td style=\"border:1px solid black; text-align:center;\">60</td>　<!--  8 -->\n",
    "            <td style=\"border:1px solid black; text-align:center;\">60</td>　<!--  9 -->\n",
    "            <td style=\"border:1px solid black; text-align:center;\">60</td>　<!-- 10 -->\n",
    "            <td style=\"border:1px solid black; text-align:center;\">60</td>　<!-- 11 -->\n",
    "            <td style=\"border:1px solid black; text-align:center;\">60</td>　<!-- 12 -->\n",
    "            <td style=\"border:1px solid black; text-align:center;\">60</td>　<!-- 13 -->\n",
    "            <td style=\"border:1px solid black; text-align:center;\">60</td>　<!-- 14 -->\n",
    "            <td style=\"border:1px solid black; text-align:center;\">60</td>　<!-- 15 -->\n",
    "            <td style=\"border:1px solid black; text-align:center;\">45</td>　<!-- 16 -->\n",
    "            <td style=\"border:1px solid black; text-align:center;\">45</td>　<!-- 17 -->\n",
    "            <td style=\"border:1px solid black; text-align:center;\">60</td>　<!-- 18 -->\n",
    "            <td style=\"border:1px solid black; text-align:center;\">60</td>　<!-- 19 -->\n",
    "            <td style=\"border:1px solid black; text-align:center;\">60</td>　<!-- 20 -->\n",
    "            <td style=\"border:1px solid black; text-align:center;\"> 0</td>　<!-- 21 -->\n",
    "            <td style=\"border:1px solid black; text-align:center;\">30</td>　<!-- 22 -->\n",
    "            <td style=\"border:1px solid black; text-align:center;\">60</td>　<!-- 23 -->\n",
    "        </tr>\n",
    "    </tbody> \n",
    "</table>"
   ]
  },
  {
   "cell_type": "markdown",
   "metadata": {},
   "source": [
    "<table style=\"border-collapse:collapse;\">\n",
    "    <caption>表 休日外出（参考）</caption>\n",
    "    <thead style=\"background-color:lightgrey\" >\n",
    "        <tr>\n",
    "            <th style=\"text-align:center; border:1px solid black;\" >時刻</th>\n",
    "            <th style=\"text-align:center; border:1px solid black;\" >0</th>\n",
    "            <th style=\"text-align:center; border:1px solid black;\" >1</th>\n",
    "            <th style=\"text-align:center; border:1px solid black;\" >2</th>\n",
    "            <th style=\"text-align:center; border:1px solid black;\" >3</th>\n",
    "            <th style=\"text-align:center; border:1px solid black;\" >4</th>\n",
    "            <th style=\"text-align:center; border:1px solid black;\" >5</th>\n",
    "            <th style=\"text-align:center; border:1px solid black;\" >6</th>\n",
    "            <th style=\"text-align:center; border:1px solid black;\" >7</th>\n",
    "            <th style=\"text-align:center; border:1px solid black;\" >8</th>\n",
    "            <th style=\"text-align:center; border:1px solid black;\" >9</th>\n",
    "            <th style=\"text-align:center; border:1px solid black;\" >10</th>\n",
    "            <th style=\"text-align:center; border:1px solid black;\" >11</th>\n",
    "            <th style=\"text-align:center; border:1px solid black;\" >12</th>\n",
    "            <th style=\"text-align:center; border:1px solid black;\" >13</th>\n",
    "            <th style=\"text-align:center; border:1px solid black;\" >14</th>\n",
    "            <th style=\"text-align:center; border:1px solid black;\" >15</th>\n",
    "            <th style=\"text-align:center; border:1px solid black;\" >16</th>\n",
    "            <th style=\"text-align:center; border:1px solid black;\" >17</th>\n",
    "            <th style=\"text-align:center; border:1px solid black;\" >18</th>\n",
    "            <th style=\"text-align:center; border:1px solid black;\" >19</th>\n",
    "            <th style=\"text-align:center; border:1px solid black;\" >20</th>\n",
    "            <th style=\"text-align:center; border:1px solid black;\" >21</th>\n",
    "            <th style=\"text-align:center; border:1px solid black;\" >22</th>\n",
    "            <th style=\"text-align:center; border:1px solid black;\" >23</th>\n",
    "        </tr>\n",
    "    </thead>\n",
    "    <tbody>    \n",
    "        <tr>\n",
    "            <td style=\"border:1px solid black; text-align:center;\">稼働時間 &#95; 換気[&#42; 60 s]</td>\n",
    "            <td style=\"border:1px solid black; text-align:center;\">0</td>　<!--  0 -->\n",
    "            <td style=\"border:1px solid black; text-align:center;\">0</td>　<!--  1 -->\n",
    "            <td style=\"border:1px solid black; text-align:center;\">0</td>　<!--  2 -->\n",
    "            <td style=\"border:1px solid black; text-align:center;\">0</td>　<!--  3 -->\n",
    "            <td style=\"border:1px solid black; text-align:center;\">0</td>　<!--  4 -->\n",
    "            <td style=\"border:1px solid black; text-align:center;\">0</td>　<!--  5 -->\n",
    "            <td style=\"border:1px solid black; text-align:center;\">0</td>　<!--  6 -->\n",
    "            <td style=\"border:1px solid black; text-align:center;\">0</td>　<!--  7 -->\n",
    "            <td style=\"border:1px solid black; text-align:center;\">0</td>　<!--  8 -->\n",
    "            <td style=\"border:1px solid black; text-align:center;\">0</td>　<!--  9 -->\n",
    "            <td style=\"border:1px solid black; text-align:center;\">0</td>　<!-- 10 -->\n",
    "            <td style=\"border:1px solid black; text-align:center;\">0</td>　<!-- 11 -->\n",
    "            <td style=\"border:1px solid black; text-align:center;\">0</td>　<!-- 12 -->\n",
    "            <td style=\"border:1px solid black; text-align:center;\">0</td>　<!-- 13 -->\n",
    "            <td style=\"border:1px solid black; text-align:center;\">0</td>　<!-- 14 -->\n",
    "            <td style=\"border:1px solid black; text-align:center;\">0</td>　<!-- 15 -->\n",
    "            <td style=\"border:1px solid black; text-align:center;\">0</td>　<!-- 16 -->\n",
    "            <td style=\"border:1px solid black; text-align:center;\">0</td>　<!-- 17 -->\n",
    "            <td style=\"border:1px solid black; text-align:center;\">0</td>　<!-- 18 -->\n",
    "            <td style=\"border:1px solid black; text-align:center;\">0</td>　<!-- 19 -->\n",
    "            <td style=\"border:1px solid black; text-align:center;\">0</td>　<!-- 20 -->\n",
    "            <td style=\"border:1px solid black; text-align:center;\">0</td>　<!-- 21 -->\n",
    "            <td style=\"border:1px solid black; text-align:center;\">0</td>　<!-- 22 -->\n",
    "            <td style=\"border:1px solid black; text-align:center;\">0</td>　<!-- 23 -->\n",
    "        </tr>\n",
    "        <tr>\n",
    "            <td style=\"border:1px solid black; text-align:center;\">稼働時間 &#95; 暖房[&#42; 60 s]</td>\n",
    "            <td style=\"border:1px solid black; text-align:center;\">0</td>　<!--  0 -->\n",
    "            <td style=\"border:1px solid black; text-align:center;\">0</td>　<!--  1 -->\n",
    "            <td style=\"border:1px solid black; text-align:center;\">0</td>　<!--  2 -->\n",
    "            <td style=\"border:1px solid black; text-align:center;\">0</td>　<!--  3 -->\n",
    "            <td style=\"border:1px solid black; text-align:center;\">0</td>　<!--  4 -->\n",
    "            <td style=\"border:1px solid black; text-align:center;\">0</td>　<!--  5 -->\n",
    "            <td style=\"border:1px solid black; text-align:center;\">0</td>　<!--  6 -->\n",
    "            <td style=\"border:1px solid black; text-align:center;\">0</td>　<!--  7 -->\n",
    "            <td style=\"border:1px solid black; text-align:center;\">0</td>　<!--  8 -->\n",
    "            <td style=\"border:1px solid black; text-align:center;\">0</td>　<!--  9 -->\n",
    "            <td style=\"border:1px solid black; text-align:center;\">0</td>　<!-- 10 -->\n",
    "            <td style=\"border:1px solid black; text-align:center;\">0</td>　<!-- 11 -->\n",
    "            <td style=\"border:1px solid black; text-align:center;\">0</td>　<!-- 12 -->\n",
    "            <td style=\"border:1px solid black; text-align:center;\">0</td>　<!-- 13 -->\n",
    "            <td style=\"border:1px solid black; text-align:center;\">0</td>　<!-- 14 -->\n",
    "            <td style=\"border:1px solid black; text-align:center;\">0</td>　<!-- 15 -->\n",
    "            <td style=\"border:1px solid black; text-align:center;\">0</td>　<!-- 16 -->\n",
    "            <td style=\"border:1px solid black; text-align:center;\">0</td>　<!-- 17 -->\n",
    "            <td style=\"border:1px solid black; text-align:center;\">0</td>　<!-- 18 -->\n",
    "            <td style=\"border:1px solid black; text-align:center;\">0</td>　<!-- 19 -->\n",
    "            <td style=\"border:1px solid black; text-align:center;\">30</td>　<!-- 20 -->\n",
    "            <td style=\"border:1px solid black; text-align:center;\">60</td>　<!-- 21 -->\n",
    "            <td style=\"border:1px solid black; text-align:center;\">30</td>　<!-- 22 -->\n",
    "            <td style=\"border:1px solid black; text-align:center;\">0</td>　<!-- 23 -->\n",
    "        </tr>\n",
    "        <tr>\n",
    "            <td style=\"border:1px solid black; text-align:center;\">待機時間[&#42; 60 s]</td>\n",
    "            <td style=\"border:1px solid black; text-align:center;\">60</td>　<!--  0 -->\n",
    "            <td style=\"border:1px solid black; text-align:center;\">60</td>　<!--  1 -->\n",
    "            <td style=\"border:1px solid black; text-align:center;\">60</td>　<!--  2 -->\n",
    "            <td style=\"border:1px solid black; text-align:center;\">60</td>　<!--  3 -->\n",
    "            <td style=\"border:1px solid black; text-align:center;\">60</td>　<!--  4 -->\n",
    "            <td style=\"border:1px solid black; text-align:center;\">60</td>　<!--  5 -->\n",
    "            <td style=\"border:1px solid black; text-align:center;\">60</td>　<!--  6 -->\n",
    "            <td style=\"border:1px solid black; text-align:center;\">60</td>　<!--  7 -->\n",
    "            <td style=\"border:1px solid black; text-align:center;\">60</td>　<!--  8 -->\n",
    "            <td style=\"border:1px solid black; text-align:center;\">60</td>　<!--  9 -->\n",
    "            <td style=\"border:1px solid black; text-align:center;\">60</td>　<!-- 10 -->\n",
    "            <td style=\"border:1px solid black; text-align:center;\">60</td>　<!-- 11 -->\n",
    "            <td style=\"border:1px solid black; text-align:center;\">60</td>　<!-- 12 -->\n",
    "            <td style=\"border:1px solid black; text-align:center;\">60</td>　<!-- 13 -->\n",
    "            <td style=\"border:1px solid black; text-align:center;\">60</td>　<!-- 14 -->\n",
    "            <td style=\"border:1px solid black; text-align:center;\">60</td>　<!-- 15 -->\n",
    "            <td style=\"border:1px solid black; text-align:center;\">60</td>　<!-- 16 -->\n",
    "            <td style=\"border:1px solid black; text-align:center;\">60</td>　<!-- 17 -->\n",
    "            <td style=\"border:1px solid black; text-align:center;\">60</td>　<!-- 18 -->\n",
    "            <td style=\"border:1px solid black; text-align:center;\">60</td>　<!-- 19 -->\n",
    "            <td style=\"border:1px solid black; text-align:center;\">30</td>　<!-- 20 -->\n",
    "            <td style=\"border:1px solid black; text-align:center;\"> 0</td>　<!-- 21 -->\n",
    "            <td style=\"border:1px solid black; text-align:center;\">30</td>　<!-- 22 -->\n",
    "            <td style=\"border:1px solid black; text-align:center;\">60</td>　<!-- 23 -->\n",
    "        </tr>\n",
    "    </tbody> \n",
    "</table>"
   ]
  },
  {
   "cell_type": "code",
   "execution_count": 12,
   "metadata": {},
   "outputs": [],
   "source": [
    "Schedule= {\n",
    "    'Schedule00' : {\n",
    "        'Weekdays' : {\n",
    "            'opg_vent' : [0]*24,\n",
    "            'opg_heat' : [0]   *20 + [1800]*1 + [3600]*1 + [1800]*1 + [0]   *1,\n",
    "            'sby'      : [3600]*20 + [1800]*1 + [0]   *1 + [1800]*1 + [3600]*1\n",
    "        },\n",
    "        'Holidays_st' : {\n",
    "           'opg_vent'  : [0]*24,\n",
    "            'opg_heat' : [0]   *16 + [900] *2 + [0]   *3+ [3600]*1 + [1800]*1 + [0]   *1,\n",
    "            'sby'      : [3600]*16 + [2700]*2 + [3600]*3+ [0]   *1 + [1800]*1 + [3600]*1\n",
    "        },\n",
    "        'Holidays_go' : {\n",
    "            'opg_vent' : [0]*24,\n",
    "            'opg_heat' : [0]   *20 + [1800]*1 + [3600]*1 + [1800]*1 + [0]   *1,\n",
    "            'sby'      : [3600]*20 + [1800]*1 + [0]   *1 + [1800]*1 + [3600]*1\n",
    "        }\n",
    "    }\n",
    "}"
   ]
  },
  {
   "cell_type": "code",
   "execution_count": 13,
   "metadata": {
    "scrolled": true
   },
   "outputs": [
    {
     "data": {
      "image/png": "[encoded data removed]",
      "text/plain": [
       "<matplotlib.figure.Figure at 0x19de193abe0>"
      ]
     },
     "metadata": {},
     "output_type": "display_data"
    }
   ],
   "source": [
    "# 機器動作スケジュールの確認  \n",
    "chart_title = '動作スケジュール'\n",
    "schedule_name = ('Schedule00','4人サンプル' )\n",
    "time_use_types = [ ('Weekdays','平日'), ('Holidays_st','休日在宅'), ('Holidays_go','休日外出') ]\n",
    "app_status_types = [ ('opg_vent','稼働_換気'), ('opg_heat','稼働_暖房'), ('sby','待機') ]\n",
    "\n",
    "y_value_sets = Schedule[schedule_name[0]] \n",
    "\n",
    "\n",
    "# サブプロットの作成\n",
    "plt.figure(figsize=(12, 3), dpi=80)\n",
    "\n",
    "# サブプロットのタイトル\n",
    "plt.suptitle(chart_title, fontdict={'fontproperties':fp}, fontsize=14)\n",
    "\n",
    "for i, time_use_type in enumerate(time_use_types):\n",
    "    # サブプロットの指定\n",
    "    ax = plt.subplot2grid((1, 3), (0, i))\n",
    "    # グラフのタイル\n",
    "    ax.set_title(schedule_name[1] +'(' + time_use_type[1] + ')' , fontdict={'fontproperties':fp})\n",
    "    \n",
    "    # x軸の値\n",
    "    x_value = [k for k in range(24)]\n",
    "    # y軸の値\n",
    "    y_values = y_value_sets[time_use_type[0]]\n",
    "    \n",
    "    for j, app_status_type in enumerate(app_status_types):\n",
    "        y_value = np.array(y_values[app_status_type[0]]) / 60\n",
    "        if j == 0:\n",
    "            ax.bar(x_value, y_value, align='edge', width=1.0, edgecolor='black', label=app_status_type[1])\n",
    "            y_bottom = y_value\n",
    "        else:\n",
    "            ax.bar(x_value, y_value, align='edge', width=1.0, edgecolor='black', label=app_status_type[1], bottom=y_bottom)\n",
    "            y_bottom = y_value       \n",
    "   \n",
    "    # x軸の設定\n",
    "    ax.set_xlabel('時刻', fontdict={'fontproperties':fp})\n",
    "    ax.set_xticks(np.arange(0, 25, 3), minor=False)\n",
    "    ax.set_xbound(lower=0, upper=23)\n",
    "    # y軸の設定\n",
    "    ax.set_ylabel('時間[min/hour]', fontdict={'fontproperties':fp})\n",
    "    ax.set_yticks(np.arange(0, 70, 10), minor=False)\n",
    "    ax.set_ybound(lower=0, upper=60)\n",
    "    # 目盛りの設定\n",
    "    ax.grid(which='major', color='lightgray', alpha=0.5, linestyle='-')     \n",
    "    ax.tick_params(direction='out', length=3, width=1, color='gray')\n",
    "    ax.set_axisbelow(True) \n",
    "\n",
    "# 凡例\n",
    "plt.legend(loc='center left', bbox_to_anchor=(1, 0.5), borderaxespad=0.5, frameon=True,  prop=fp)\n",
    "\n",
    "# グラフの重なりを解消\n",
    "plt.tight_layout()\n",
    "plt.subplots_adjust(top=0.82)    \n",
    "plt.show()"
   ]
  },
  {
   "cell_type": "markdown",
   "metadata": {},
   "source": [
    "#### 16.5.3　暖房機能に関する居住者の使用行動"
   ]
  },
  {
   "cell_type": "markdown",
   "metadata": {},
   "source": [
    "暖房機能に関する居住者の使用行動については、デフォルト設定がない。"
   ]
  },
  {
   "cell_type": "markdown",
   "metadata": {},
   "source": [
    "ここでは、JIS C 9920-2：2009（浴室用電気乾燥機の設計標準使用期間を設定するための標準使用条件）の解説表1を基に、下表のように設定する。"
   ]
  },
  {
   "cell_type": "markdown",
   "metadata": {},
   "source": [
    "<table style=\"border-collapse:collapse;\">\n",
    "    <caption>表 暖房機能の使用期間（参考）</caption>\n",
    "    <thead style=\"background-color:lightgrey\" >\n",
    "        <tr>\n",
    "            <th style=\"text-align:center; border:1px solid black;\" >使用開始日</th>\n",
    "            <th style=\"text-align:center; border:1px solid black;\" >使用終了日</th>\n",
    "        </tr>\n",
    "    </thead>\n",
    "    <tbody>    \n",
    "            <td style=\"border:1px solid black; text-align:center;\">11月16日</td>　<!--  0 -->\n",
    "            <td style=\"border:1px solid black; text-align:center;\">4月15日</td>　<!--  1 -->\n",
    "    </tbody> \n",
    "</table>"
   ]
  },
  {
   "cell_type": "code",
   "execution_count": 14,
   "metadata": {},
   "outputs": [],
   "source": [
    "UserBehavior = {\n",
    "    'UserBehavior00' : {\n",
    "        'heating_start_date': '11/16',\n",
    "        'heating_end_date'  : '4/15'\n",
    "    }\n",
    "}"
   ]
  },
  {
   "cell_type": "code",
   "execution_count": 15,
   "metadata": {},
   "outputs": [],
   "source": [
    "def get_heating_use(now_date, heating_start_date, heating_end_date):\n",
    "    '''暖房機能の使用の有無を取得する'''\n",
    "    # now_date：現在の日付\n",
    "    # heating_end_date：暖房機能の使用開始日\n",
    "    # heating_start_date：暖房機能の使用終了日\n",
    "    \n",
    "    now_d   = datetime.datetime.strptime(now_date, '%m/%d')\n",
    "    start_d = datetime.datetime.strptime(heating_start_date, '%m/%d')\n",
    "    end_d   = datetime.datetime.strptime(heating_end_date, '%m/%d')\n",
    "    \n",
    "    if now_d >= end_d and now_d <= start_d:\n",
    "        return False\n",
    "    else:\n",
    "        return True"
   ]
  },
  {
   "cell_type": "markdown",
   "metadata": {},
   "source": [
    "### 付録1：サンプルコード"
   ]
  },
  {
   "cell_type": "markdown",
   "metadata": {},
   "source": [
    "4人標準世帯の標準条件について、サンプルコードを示す。"
   ]
  },
  {
   "cell_type": "code",
   "execution_count": 16,
   "metadata": {},
   "outputs": [],
   "source": [
    "def get_spec(app_type):\n",
    "    '''機器仕様を取得する'''\n",
    "    # app_type：機器タイプ\n",
    "    \n",
    "    # 機器仕様の取得\n",
    "    try:\n",
    "        spec = Spec[app_type]\n",
    "    except:\n",
    "        raise Exception('機器タイプの入力に不正があります。')     \n",
    "    \n",
    "    Prtd_vent = spec['Prtd_vent']\n",
    "    Prtd_heat = spec['Prtd_heat']\n",
    "    Prtd_sby  = spec['Prtd_sby']\n",
    "    \n",
    "    return Prtd_vent, Prtd_heat, Prtd_sby"
   ]
  },
  {
   "cell_type": "markdown",
   "metadata": {},
   "source": [
    "Example:"
   ]
  },
  {
   "cell_type": "code",
   "execution_count": 17,
   "metadata": {},
   "outputs": [
    {
     "data": {
      "text/plain": [
       "(21, 2200, 0.5)"
      ]
     },
     "execution_count": 17,
     "metadata": {},
     "output_type": "execute_result"
    }
   ],
   "source": [
    "ex_Prtd_vent, ex_Prtd_heat, ex_Prtd_sby = get_spec('BathroomHVA00')\n",
    "ex_Prtd_vent, ex_Prtd_heat, ex_Prtd_sby"
   ]
  },
  {
   "cell_type": "code",
   "execution_count": 18,
   "metadata": {},
   "outputs": [],
   "source": [
    "def get_dt(time_use_type, time_of_day, schedule_name):\n",
    "    '''機器動作スケジュールを取得する'''\n",
    "    # time_use_type：['Weekdays', 'Holidays_st', 'Holidays_go']\n",
    "    # time_of_day：時刻（0-23）\n",
    "    # schedule_name：スケジュール名\n",
    "     \n",
    "    # スケジュールの取得\n",
    "    try:\n",
    "        schedule_set = Schedule[schedule_name][time_use_type]\n",
    "    except:\n",
    "        raise Exception('スケジュール名の入力に不正があります。')    \n",
    "               \n",
    "    # 動作状態のタイプ\n",
    "    app_status_types = list(schedule_set)\n",
    "    \n",
    "    # 動作状態ごとの継続時間[s]の取得\n",
    "    for i, app_status_type in enumerate(app_status_types):\n",
    "        if app_status_type == 'opg_vent':\n",
    "            dt_opg_ck = schedule_set[app_status_type][time_of_day]\n",
    "        elif app_status_type == 'opg_heat':\n",
    "            dt_opg_kp = schedule_set[app_status_type][time_of_day]\n",
    "        elif app_status_type == 'sby':\n",
    "            dt_sby = schedule_set[app_status_type][time_of_day]\n",
    "        else:\n",
    "            raise Exception\n",
    "            \n",
    "    # 時間超過の確認\n",
    "    check_duration([dt_opg_ck, dt_opg_kp, dt_sby]) \n",
    "    \n",
    "    return dt_opg_ck, dt_opg_kp, dt_sby"
   ]
  },
  {
   "cell_type": "markdown",
   "metadata": {},
   "source": [
    "Example:"
   ]
  },
  {
   "cell_type": "code",
   "execution_count": 19,
   "metadata": {},
   "outputs": [
    {
     "data": {
      "text/plain": [
       "(0, 3600, 0)"
      ]
     },
     "execution_count": 19,
     "metadata": {},
     "output_type": "execute_result"
    }
   ],
   "source": [
    "ex_dt_opg_vent, ex_dt_opg_heat, ex_dt_sby = get_dt('Weekdays', 21, 'Schedule00')\n",
    "ex_dt_opg_vent, ex_dt_opg_heat, ex_dt_sby"
   ]
  },
  {
   "cell_type": "code",
   "execution_count": 20,
   "metadata": {},
   "outputs": [],
   "source": [
    "def get_user_behavior(user_behavior_type):\n",
    "    '''居住者の使用行動を取得する'''\n",
    "    # user_behavior_type：居住者の使用行動タイプ\n",
    "    \n",
    "    # 居住者の使用行動の取得\n",
    "    try:\n",
    "        user_behavior = UserBehavior[user_behavior_type]\n",
    "    except:\n",
    "        raise Exception('居住者の使用行動タイプの入力に不正があります。')     \n",
    "        \n",
    "    heating_start_date = user_behavior['heating_start_date']\n",
    "    heating_end_date = user_behavior['heating_end_date']\n",
    "    \n",
    "    return  heating_start_date, heating_end_date"
   ]
  },
  {
   "cell_type": "markdown",
   "metadata": {},
   "source": [
    "Example:"
   ]
  },
  {
   "cell_type": "code",
   "execution_count": 21,
   "metadata": {},
   "outputs": [
    {
     "data": {
      "text/plain": [
       "('11/16', '4/15')"
      ]
     },
     "execution_count": 21,
     "metadata": {},
     "output_type": "execute_result"
    }
   ],
   "source": [
    "ex_heating_start_date, ex_heating_end_date = get_user_behavior('UserBehavior00')\n",
    "ex_heating_start_date, ex_heating_end_date"
   ]
  },
  {
   "cell_type": "code",
   "execution_count": 22,
   "metadata": {},
   "outputs": [
    {
     "data": {
      "text/plain": [
       "True"
      ]
     },
     "execution_count": 22,
     "metadata": {},
     "output_type": "execute_result"
    }
   ],
   "source": [
    "ex_heating_use = get_heating_use('1/1', ex_heating_start_date, ex_heating_end_date)\n",
    "ex_heating_use "
   ]
  },
  {
   "cell_type": "code",
   "execution_count": 23,
   "metadata": {},
   "outputs": [],
   "source": [
    "def calc_EE_opg(Prtd_vent, Prtd_heat, dt_opg_vent, dt_opg_heat, heating_use):\n",
    "    '''稼働時における消費電力量[Wh]を計算する'''\n",
    "    # Prtd_vent：換気モードの定格消費電力[W]   \n",
    "    # Prtd_heat：予備暖房モードの定格消費電力[W]  \n",
    "    # dt_opg_vent：換気が機能することによる稼働時間の合計[s]\n",
    "    # dt_opg_heat：暖房が機能することによる稼働時間の合計[s]\n",
    "    # heating_use：暖房機能を使用するか否か[True：使用する、False：使用しない](Boolean型)\n",
    "    \n",
    "    # 換気が機能することによる稼働時の消費電力[W]\n",
    "    p_opg_vent = P_opg_vent(Prtd_vent)\n",
    "    # 換気が機能することによる稼働時の消費電力量[Wh]\n",
    "    ee_opg_vent = EE_opg_vent(p_opg_vent, dt_opg_vent)\n",
    "    \n",
    "    # 暖房が機能することによる稼働時の消費電力[W]\n",
    "    p_opg_heat = P_opg_heat (Prtd_heat, heating_use)\n",
    "    # 暖房が機能することによる稼働時の消費電力量[Wh]\n",
    "    ee_opg_heat = EE_opg_heat(p_opg_heat, dt_opg_heat)\n",
    "    \n",
    "    # 稼働時における消費電力量[Wh]\n",
    "    ee_opg = EE_opg(ee_opg_vent, ee_opg_heat)\n",
    "    \n",
    "    return ee_opg"
   ]
  },
  {
   "cell_type": "markdown",
   "metadata": {},
   "source": [
    "Example:"
   ]
  },
  {
   "cell_type": "code",
   "execution_count": 24,
   "metadata": {},
   "outputs": [
    {
     "data": {
      "text/plain": [
       "1834.8"
      ]
     },
     "execution_count": 24,
     "metadata": {},
     "output_type": "execute_result"
    }
   ],
   "source": [
    "ex_EE_opg = calc_EE_opg(ex_Prtd_vent, ex_Prtd_heat, ex_dt_opg_vent, ex_dt_opg_heat, ex_heating_use )\n",
    "ex_EE_opg"
   ]
  },
  {
   "cell_type": "code",
   "execution_count": 25,
   "metadata": {},
   "outputs": [],
   "source": [
    "def calc_EE_sby(Prtd_sby, dt_sby):\n",
    "    '''稼働時における消費電力量[Wh]を計算する'''\n",
    "    # dt_sby：待機時間の合計[s]\n",
    "    # Prtd_sby：待機時の定格消費電力[W]      \n",
    "    \n",
    "    # 稼働時の消費電力[W]\n",
    "    p_sby = P_sby (Prtd_sby)\n",
    "       \n",
    "    # '稼働時における消費電力量[Wh]\n",
    "    ee_sby = EE_sby(p_sby, dt_sby)\n",
    "    \n",
    "    return ee_sby"
   ]
  },
  {
   "cell_type": "markdown",
   "metadata": {},
   "source": [
    "Example:"
   ]
  },
  {
   "cell_type": "code",
   "execution_count": 26,
   "metadata": {},
   "outputs": [
    {
     "data": {
      "text/plain": [
       "0.0"
      ]
     },
     "execution_count": 26,
     "metadata": {},
     "output_type": "execute_result"
    }
   ],
   "source": [
    "ex_EE_sby = calc_EE_sby(ex_Prtd_sby, ex_dt_sby)\n",
    "ex_EE_sby"
   ]
  },
  {
   "cell_type": "code",
   "execution_count": 27,
   "metadata": {},
   "outputs": [],
   "source": [
    "def calc_EE_app(EE_opg, EE_sby):\n",
    "    '''消費電力量[Wh]を計算する'''\n",
    "    # EE_opg：稼働時における消費電力量[Wh]\n",
    "    # EE_sby：待機時における消費電力量[Wh]\n",
    "    \n",
    "    return EE_app(EE_opg, EE_sby)"
   ]
  },
  {
   "cell_type": "markdown",
   "metadata": {},
   "source": [
    "Example:"
   ]
  },
  {
   "cell_type": "code",
   "execution_count": 28,
   "metadata": {},
   "outputs": [
    {
     "data": {
      "text/plain": [
       "1834.8"
      ]
     },
     "execution_count": 28,
     "metadata": {},
     "output_type": "execute_result"
    }
   ],
   "source": [
    "ex_EE_app = calc_EE_app(ex_EE_opg, ex_EE_sby)\n",
    "ex_EE_app"
   ]
  },
  {
   "cell_type": "code",
   "execution_count": 29,
   "metadata": {},
   "outputs": [],
   "source": [
    "def calc_EE_BathroomHVA_verP4(time_use_type, time_of_day, app_type, schedule_name, user_behavior_type, now_date):\n",
    "    '''浴室暖房・乾燥機の単位時間当たりの消費電力量を計算する（ver自立P4）'''\n",
    "    # time_use_type：['Weekdays', 'Holidays_st', 'Holidays_go']\n",
    "    # time_of_day：時刻（0-23） \n",
    "    # app_type：機器タイプ  \n",
    "    # schedule_name：スケジュール名\n",
    "    # user_behavior_type：使用行動タイプ \n",
    "    # now_date：現在の日付\n",
    "    \n",
    "    # 機器動作スケジュール[s]を取得\n",
    "    dt_opg_vent, dt_opg_heat, dt_sby = get_dt(time_use_type, time_of_day, schedule_name)\n",
    "    \n",
    "    # 機器仕様を取得\n",
    "    Prtd_vent, Prtd_heat, Prtd_sby = get_spec(app_type)\n",
    "    \n",
    "    # 使用行動を取得\n",
    "    heating_start_date, heating_end_date = get_user_behavior(user_behavior_type)\n",
    "    \n",
    "    # 暖房機能の使用の有無を取得\n",
    "    heating_use = get_heating_use(now_date, heating_start_date, heating_end_date)\n",
    "    \n",
    "    # 稼働時における消費電力量[Wh]を計算\n",
    "    EE_opg = calc_EE_opg(Prtd_vent, Prtd_heat, dt_opg_vent, dt_opg_heat, heating_use)\n",
    "    \n",
    "    # 待機時における消費電力量[Wh]を計算\n",
    "    EE_sby = calc_EE_sby(Prtd_sby,dt_sby)\n",
    "    \n",
    "    # 消費電力量[Wh]を計算\n",
    "    EE_app = calc_EE_app (EE_opg, EE_sby)\n",
    "    \n",
    "    return EE_app, EE_opg, EE_sby"
   ]
  },
  {
   "cell_type": "markdown",
   "metadata": {},
   "source": [
    "Example:"
   ]
  },
  {
   "cell_type": "code",
   "execution_count": 30,
   "metadata": {},
   "outputs": [
    {
     "data": {
      "text/plain": [
       "(1834.8, 1834.8, 0.0)"
      ]
     },
     "execution_count": 30,
     "metadata": {},
     "output_type": "execute_result"
    }
   ],
   "source": [
    "ex_EE_BathroomHVA = calc_EE_BathroomHVA_verP4('Weekdays', 21, 'BathroomHVA00', 'Schedule00', 'UserBehavior00', '1/1')\n",
    "ex_EE_BathroomHVA"
   ]
  },
  {
   "cell_type": "markdown",
   "metadata": {},
   "source": [
    "### 付録2：サンプルコードによる時刻別消費電力量の計算例"
   ]
  },
  {
   "cell_type": "markdown",
   "metadata": {},
   "source": [
    "4人標準世帯の標準条件に対して、サンプルコードにより平日、休日在宅、休日外出の時刻別消費電力量を計算した結果を示す。"
   ]
  },
  {
   "cell_type": "code",
   "execution_count": 31,
   "metadata": {
    "scrolled": true
   },
   "outputs": [],
   "source": [
    "# 消費電力量の計算\n",
    "# 入力\n",
    "app_type = 'BathroomHVA00'\n",
    "schedule_name = ('Schedule00','4人標準_居間' )\n",
    "time_use_types = [ ('Weekdays','平日'), ('Holidays_st','休日在宅'), ('Holidays_go','休日外出') ]\n",
    "time_of_day = [i for i in range(0, 24, 1)]\n",
    "user_behavior_type = 'UserBehavior00'\n",
    "now_date = '1/1'\n",
    "\n",
    "# 消費電力量の計算\n",
    "ee_app=[]\n",
    "ee_opg=[]\n",
    "ee_sby=[]\n",
    "for time_use_type in time_use_types:\n",
    "    _ee_app, _ee_opg, _ee_sby = np.vectorize(calc_EE_BathroomHVA_verP4)(time_use_type[0], time_of_day, app_type, schedule_name[0], user_behavior_type, now_date)\n",
    "    ee_app += [_ee_app]\n",
    "    ee_opg += [_ee_opg]\n",
    "    ee_sby += [_ee_sby]\n",
    "\n",
    "# 消費電力量の計算結果\n",
    "EE_Results= {\n",
    "    'Weekdays'    : {'opg' : ee_opg[0],'sby' : ee_sby[0]},\n",
    "    'Holidays_st' : {'opg' : ee_opg[1],'sby' : ee_sby[1]},\n",
    "    'Holidays_go' : {'opg' : ee_opg[2],'sby' : ee_sby[2]}\n",
    "}"
   ]
  },
  {
   "cell_type": "code",
   "execution_count": 32,
   "metadata": {
    "scrolled": true
   },
   "outputs": [
    {
     "data": {
      "image/png": "[encoded data removed]",
      "text/plain": [
       "<matplotlib.figure.Figure at 0x19de1e97b38>"
      ]
     },
     "metadata": {},
     "output_type": "display_data"
    }
   ],
   "source": [
    "# 消費電力量の計算結果のグラフ \n",
    "chart_title = '消費電力量（' \\\n",
    "                + '機器タイプ：' + app_type + '、' \\\n",
    "                + '換気モードの定格消費電力：' + str(Spec[app_type]['Prtd_vent']) + 'W、' \\\n",
    "                + '予備暖房モードの定格消費電力：' + str(Spec[app_type]['Prtd_heat']) + 'W、' \\\n",
    "                + '待機定格消費電力：' + str(Spec[app_type]['Prtd_sby'])+ 'W' \\\n",
    "                + ')'\n",
    "app_status_types = [ ('opg','稼働'), ('sby','待機') ]\n",
    "\n",
    "y_value_sets = EE_Results\n",
    "\n",
    "\n",
    "# サブプロットの作成\n",
    "plt.figure(figsize=(12, 3), dpi=80)\n",
    "\n",
    "# サブプロットのタイトル\n",
    "plt.suptitle(chart_title, fontdict={'fontproperties':fp}, fontsize=14)\n",
    "\n",
    "for i, time_use_type in enumerate(time_use_types):\n",
    "    # サブプロットの指定\n",
    "    ax = plt.subplot2grid((1, 3), (0, i))\n",
    "    # グラフのタイル\n",
    "    ax.set_title(schedule_name[1] +'(' + time_use_type[1] + ')' , fontdict={'fontproperties':fp})\n",
    "    \n",
    "    # x軸の値\n",
    "    x_value = [k for k in range(24)]\n",
    "    # y軸の値\n",
    "    y_values = y_value_sets[time_use_type[0]]\n",
    "    \n",
    "    for j, app_status_type in enumerate(app_status_types):\n",
    "        y_value = y_values[app_status_type[0]]\n",
    "        if j == 0:\n",
    "            ax.bar(x_value, y_value, align='edge', width=1.0, edgecolor='black', label=app_status_type[1])\n",
    "            y_bottom = y_value\n",
    "        else:\n",
    "            ax.bar(x_value, y_value, align='edge', width=1.0, edgecolor='black', label=app_status_type[1], bottom=y_bottom)\n",
    "            y_bottom = y_value       \n",
    "   \n",
    "    # x軸の設定\n",
    "    ax.set_xlabel('時刻', fontdict={'fontproperties':fp})\n",
    "    ax.set_xticks(np.arange(0, 25, 3), minor=False)\n",
    "    ax.set_xbound(lower=0, upper=23)\n",
    "    # y軸の設定\n",
    "    ax.set_ylabel('時間[min/hour]', fontdict={'fontproperties':fp})\n",
    "    ax.set_yticks(np.arange(0, 3000, 500), minor=False)\n",
    "    ax.set_ybound(lower=0, upper=2500)\n",
    "    # 目盛りの設定\n",
    "    ax.grid(which='major', color='lightgray', alpha=0.5, linestyle='-')     \n",
    "    ax.tick_params(direction='out', length=3, width=1, color='gray')\n",
    "    ax.set_axisbelow(True) \n",
    "\n",
    "# 凡例\n",
    "plt.legend(loc='center left', bbox_to_anchor=(1, 0.5), borderaxespad=0.5, frameon=True,  prop=fp)\n",
    "\n",
    "# グラフの重なりを解消\n",
    "plt.tight_layout()\n",
    "plt.subplots_adjust(top=0.82)    \n",
    "plt.show()"
   ]
  },
  {
   "cell_type": "markdown",
   "metadata": {},
   "source": [
    "### 付録3：サンプルコードによる年間消費電力量の計算例"
   ]
  },
  {
   "cell_type": "markdown",
   "metadata": {},
   "source": [
    "4人標準世帯の標準条件に対して、サンプルコードにより年間消費電力量を計算した結果を示す。"
   ]
  },
  {
   "cell_type": "code",
   "execution_count": 33,
   "metadata": {},
   "outputs": [],
   "source": [
    "def calc_annual_EE_app(app_type, schedule_name, user_behavior_type):\n",
    "    '''年間消費電力量[Wh/year]を計算する'''\n",
    "    # app_type：機器タイプ  \n",
    "    # schedule_name：スケジュール名  \n",
    "    # user_behavior_type：使用行動タイプ\n",
    "       \n",
    "    def calc_daily_EE_app(schedule, app_type, schedule_name, user_behavior_type, now_date):\n",
    "        '''1日あたりの消費電力量[Wh/day]を計算する'''\n",
    "        hourly_EE_app = [ calc_EE_BathroomHVA_verP4(schedule, t, app_type, schedule_name, user_behavior_type, now_date)[1] for t in range(0, 24, 1) ]\n",
    "        return sum( hourly_EE_app )\n",
    "    \n",
    "    daily_EE_app = [ calc_daily_EE_app(CD.get_calendar()[CD.get_nday(ad)-1], app_type, schedule_name, user_behavior_type, ad) for ad in  CD.get_Annual_Days() ]\n",
    "    return sum( daily_EE_app )"
   ]
  },
  {
   "cell_type": "code",
   "execution_count": 34,
   "metadata": {},
   "outputs": [
    {
     "name": "stdout",
     "output_type": "stream",
     "text": [
      "年間消費電力量：546.7703999999985 kWh/年\n"
     ]
    }
   ],
   "source": [
    "# 年間消費電力量[kWh/year]\n",
    "ex_annual_EE_app = calc_annual_EE_app('BathroomHVA00', 'Schedule00', 'UserBehavior00')\n",
    "print('年間消費電力量：' + str(ex_annual_EE_app/1000) + ' kWh/年')"
   ]
  }
 ],
 "metadata": {
  "kernelspec": {
   "display_name": "Python 3",
   "language": "python",
   "name": "python3"
  },
  "language_info": {
   "codemirror_mode": {
    "name": "ipython",
    "version": 3
   },
   "file_extension": ".py",
   "mimetype": "text/x-python",
   "name": "python",
   "nbconvert_exporter": "python",
   "pygments_lexer": "ipython3",
   "version": "3.6.4"
  }
 },
 "nbformat": 4,
 "nbformat_minor": 2
}
