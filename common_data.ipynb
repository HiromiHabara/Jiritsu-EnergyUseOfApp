{
 "cells": [
  {
   "cell_type": "code",
   "execution_count": 1,
   "metadata": {},
   "outputs": [],
   "source": [
    "def get_calendar():\n",
    "        '''カレンダーを取得する'''\n",
    "        import csv\n",
    "        \n",
    "        with open('住宅02-11-03_その他_生活スケジュール_生活スケジュール（データ）_131216.csv', 'r') as f:\n",
    "            reader = csv.reader(f)\n",
    "            next(reader)  # ヘッダーをスキップ\n",
    "            return [ { '平日':'Weekdays', '休日在':'Holidays_st', '休日外':'Holidays_go' }[row[5]] for row in reader ]"
   ]
  }
 ],
 "metadata": {
  "kernelspec": {
   "display_name": "Python 3",
   "language": "python",
   "name": "python3"
  },
  "language_info": {
   "codemirror_mode": {
    "name": "ipython",
    "version": 3
   },
   "file_extension": ".py",
   "mimetype": "text/x-python",
   "name": "python",
   "nbconvert_exporter": "python",
   "pygments_lexer": "ipython3",
   "version": "3.6.4"
  }
 },
 "nbformat": 4,
 "nbformat_minor": 2
}
