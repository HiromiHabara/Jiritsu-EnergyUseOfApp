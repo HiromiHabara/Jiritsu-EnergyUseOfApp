{
 "cells": [
  {
   "cell_type": "markdown",
   "metadata": {},
   "source": [
    "# 家電機器"
   ]
  },
  {
   "cell_type": "markdown",
   "metadata": {},
   "source": [
    "## 1.　全般"
   ]
  },
  {
   "cell_type": "markdown",
   "metadata": {},
   "source": [
    "### 1.1　定義"
   ]
  },
  {
   "cell_type": "markdown",
   "metadata": {},
   "source": [
    "居住者による使用状態を以下のように定義する。\n",
    "* 居住者による使用状態の分類  \n",
    "    * 使用：居住者が機器の主機能を使用しており、生活の維持、アメニティの向上を直接的に享受している。  \n",
    "    * 非使用：居住者が機器の主機能を使用していないか、もしくは、生活の維持、アメニティの向上を直接的に享受していない。"
   ]
  },
  {
   "cell_type": "markdown",
   "metadata": {},
   "source": [
    "機器の状態を以下のように定義する。\n",
    "* 電源接続状態の分類  \n",
    "    * AC電源：系統電源、自家発電設備、蓄電設備を電源としている。  \n",
    "    * バッテリ：機器に付属のバッテリや充電池を電源としている。\n",
    "    * 電源切断：電源から物理的に切断されている。（この時、消費電力はゼロである）  \n",
    "\n",
    "\n",
    "* 動作状態の分類  \n",
    "    * 待機：機器の主機能と考えられる動作を行っていないが、主機能が速やかに作動するように待機している。  \n",
    "    * 稼働：機器の主機能と考えられる動作を行っている。  \n",
    "    * 停止：機器の全機能が停止しており、かつ、機器に付属の充電池を充電していない。（この時、消費電力はゼロである）   \n",
    "    * 充電：機器の全機能が停止しており、かつ、機器に付属の充電池を充電している。  \n",
    "    \n",
    "動作状態のうち、“充電”は“待機”あるいは“稼働”と同時に発生する場合があるが、“待機”・“稼働”を上位の状態として扱い、“待機”および“稼働”は“充電”との同時発生を包含するものとする。"
   ]
  },
  {
   "cell_type": "markdown",
   "metadata": {},
   "source": [
    "これらの組み合わせにより、機器の状態は以下の表のように整理される。このうち、●が記された状態に対して消費電力量を算定する。（●：当該の状態が発生する、○：当該の状態が発生するが、消費電力はゼロ、-：当該の状態は発生しない）\n",
    "\n",
    "\n",
    "|  　　  | AC電源              | バッテリ            |電源切断             |  \n",
    "| :----: | :-----------------: | :-----------------: | :-----------------: |  \n",
    "| 待機   | ●                  | ●                  | -                   | \n",
    "| 稼働   | ●                  | ●                  | -                   |  \n",
    "| 停止   | ○ （消費電力ゼロ） | ○ （消費電力ゼロ） | ○ （消費電力ゼロ） |  \n",
    "| 充電   | ●                  | -                   | -                   | "
   ]
  },
  {
   "cell_type": "markdown",
   "metadata": {},
   "source": [
    "計算で想定する状態を機器ごとに下表に整理する。ただし、当面、バッテリ接続についてはいずれの機器においても想定しない。（●：当該の状態を想定する、○：当該の状態を想定するが、消費電力はゼロのため、計算しない、-：当該の状態を想定しない。）\n",
    "\n",
    "| 　　　機器名 　　| AC電源\\_待機 | AC電源\\_稼働 | AC電源\\_停止 | バッテリ接続 | 電源切断\\_停止 | \n",
    "| :--------------: | :----------: | :----------: | :----------: | :----------: | :------------: |  \n",
    "| 温水洗浄暖房便座 | ●           | ●           | -            | -            | -              |  \n",
    "| 　　アイロン　　 | -            | ●           | -            | -            | ○             |  \n"
   ]
  },
  {
   "cell_type": "markdown",
   "metadata": {},
   "source": [
    "### 1.2　消費電力量"
   ]
  },
  {
   "cell_type": "markdown",
   "metadata": {},
   "source": [
    "日付 $d$ の時刻 $t$ における家電機器の単位時間当たりの消費電力量は、式(1)により表される。"
   ]
  },
  {
   "cell_type": "markdown",
   "metadata": {},
   "source": [
    "$$ \n",
    "\\begin{equation*}\n",
    "    \\displaystyle E_{E,AP,d,t} = \\sum_{j}^{}{ E_{E,j,ac,d,t}} \\bigg/ 1000\n",
    "\\end{equation*}\n",
    "$$\n",
    "<div style=\"text-align: right;\"> (1) </div>"
   ]
  },
  {
   "cell_type": "markdown",
   "metadata": {},
   "source": [
    "ここで、  \n",
    "\n",
    "$ E_{E,AP,d,t} $：日付$d$の時刻$t$における家電機器の単位時間当たりの消費電力量[kWh]   \n",
    "$ E_{E,j,ac,d,t} $：日付$d$の時刻$t$における家電機器$j$のAC電源接続時の単位時間当たりの消費電力量[Wh]  \n",
    "\n",
    "である。"
   ]
  },
  {
   "cell_type": "markdown",
   "metadata": {},
   "source": [
    "### 1.3　内部発熱"
   ]
  },
  {
   "cell_type": "markdown",
   "metadata": {},
   "source": [
    "日付 $d$ の時刻 $t$ における家電機器の単位時間当たりの発熱量は、式(2)により表される。"
   ]
  },
  {
   "cell_type": "markdown",
   "metadata": {},
   "source": [
    "$$ \n",
    "\\begin{equation*}\n",
    "    \\displaystyle Q_{S,AP,d,t} = \\left( \\sum_{j}^{}{ E_{E,j,ac,d,t}} + \\sum_{j}^{}{ E_{E,j,bt,d,t}} \\right) \\bigg / dt\n",
    "\\end{equation*}\n",
    "$$\n",
    "<div style=\"text-align: right;\"> (2) </div>"
   ]
  },
  {
   "cell_type": "markdown",
   "metadata": {},
   "source": [
    "ここで、  \n",
    "\n",
    "$ dt $：単位時間[s]  \n",
    "$ E_{E,j,ac,d,t} $：日付$d$の時刻$t$における家電機器$j$のAC電源接続時の単位時間当たりの消費電力量[Wh]  \n",
    "$ E_{E,j,bt,d,t} $：日付$d$の時刻$t$における家電機器$j$のバッテリ接続時の単位時間当たりの消費電力量[Wh]   \n",
    "$ Q_{S,AP,d,t} $：日付$d$の時刻$t$における家電機器の発熱量[W]  \n",
    "\n",
    "である。"
   ]
  },
  {
   "cell_type": "markdown",
   "metadata": {},
   "source": [
    "ただし、当面、バッテリ接続についてはいずれの機器においても想定しない。"
   ]
  },
  {
   "cell_type": "markdown",
   "metadata": {},
   "source": [
    "$$ \n",
    "\\begin{equation*}\n",
    "    \\displaystyle \\sum_{j}^{}{ E_{E,j,bt,d,t}} = 0\n",
    "\\end{equation*}\n",
    "$$\n",
    "<div style=\"text-align: right;\"> (3) </div>"
   ]
  },
  {
   "cell_type": "markdown",
   "metadata": {},
   "source": [
    "ここで、  \n",
    "\n",
    "$ E_{E,j,bt,d,t} $：日付$d$の時刻$t$における家電機器$j$のバッテリ接続時の単位時間当たりの消費電力量[Wh]   \n",
    "\n",
    "である。"
   ]
  }
 ],
 "metadata": {
  "kernelspec": {
   "display_name": "Python 3",
   "language": "python",
   "name": "python3"
  },
  "language_info": {
   "codemirror_mode": {
    "name": "ipython",
    "version": 3
   },
   "file_extension": ".py",
   "mimetype": "text/x-python",
   "name": "python",
   "nbconvert_exporter": "python",
   "pygments_lexer": "ipython3",
   "version": "3.6.3"
  }
 },
 "nbformat": 4,
 "nbformat_minor": 2
}
