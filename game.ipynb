{
 "cells": [
  {
   "cell_type": "code",
   "execution_count": 1,
   "metadata": {},
   "outputs": [
    {
     "name": "stdout",
     "output_type": "stream",
     "text": [
      "Importing Jupyter notebook from common_data.ipynb\n"
     ]
    }
   ],
   "source": [
    "import numpy as np  \n",
    "\n",
    "# matplotlib\n",
    "# ライブラリーのインポート\n",
    "import matplotlib.pyplot as plt\n",
    "# インライン表示\n",
    "%matplotlib inline\n",
    "\n",
    "# 日本語フォント\n",
    "import pylab\n",
    "from matplotlib.font_manager import FontProperties\n",
    "fp = FontProperties(fname='C:\\WINDOWS\\Fonts\\msgothic.ttc', size = 12)\n",
    "\n",
    "# ipynbのインポート\n",
    "import nbimporter\n",
    "import common_data as CD"
   ]
  },
  {
   "cell_type": "markdown",
   "metadata": {},
   "source": [
    "# 家電機器"
   ]
  },
  {
   "cell_type": "markdown",
   "metadata": {},
   "source": [
    "## 5.　ゲーム機器（ver自立P4）"
   ]
  },
  {
   "cell_type": "markdown",
   "metadata": {},
   "source": [
    "### 5.1　定義"
   ]
  },
  {
   "cell_type": "markdown",
   "metadata": {},
   "source": [
    "ゲーム機器の動作状態および機能は、以下を想定する。"
   ]
  },
  {
   "cell_type": "markdown",
   "metadata": {},
   "source": [
    "* 稼働－音楽再生\n",
    "* 待機"
   ]
  },
  {
   "cell_type": "markdown",
   "metadata": {},
   "source": [
    "想定する動作状態および機能に対応する添え字は、以下のとおりである。ただし、単機能であるため、機能に対応する添え字は省略する。  \n",
    "\n",
    "|機器の動作状態 |機器の機能 |添え字 |備考  　　　|  \n",
    "|:-------------:|:---------:|:-----:|:----------:|    \n",
    "|稼働           |加熱       |opg    |-     　　　|  \n",
    "|待機           |-          |sby    |-     　　　| "
   ]
  },
  {
   "cell_type": "markdown",
   "metadata": {},
   "source": [
    "### 5.2　消費電力量"
   ]
  },
  {
   "cell_type": "markdown",
   "metadata": {},
   "source": [
    "日付$d$の時刻$t$におけるゲーム機器の消費電力量$E_{E,Game,d,t}$は、式(1)により表される。"
   ]
  },
  {
   "cell_type": "markdown",
   "metadata": {},
   "source": [
    "$$ \n",
    "\\begin{equation*}\n",
    "    E_{E,Game,d,t} = E_{E,opg,d,t} + E_{E,sby,d,t} \n",
    "\\end{equation*}\n",
    "$$\n",
    "\n",
    "\n",
    "<div style=\"text-align: right;\"> (1) </div>"
   ]
  },
  {
   "cell_type": "markdown",
   "metadata": {},
   "source": [
    "ここで、  \n",
    "\n",
    "$E_{E,Game,d,t}$：日付$d$の時刻$t$におけるゲーム機器の単位時間当たりの消費電力量[Wh]  \n",
    "$E_{E,opg,d,t}$：日付$d$の時刻$t$における稼働時の単位時間当たりの消費電力量[Wh]  \n",
    "$E_{E,sby,d,t}$：日付$d$の時刻$t$における待機時の単位時間当たりの消費電力量[Wh]  \n",
    "\n",
    "である。"
   ]
  },
  {
   "cell_type": "code",
   "execution_count": 2,
   "metadata": {},
   "outputs": [],
   "source": [
    "def EE_app (EE_opg, EE_sby):\n",
    "    '''消費電力量[Wh]を計算する'''\n",
    "    # EE_opg：稼働時の消費電力量[Wh]\n",
    "    # EE_sby：待機時の消費電力量[Wh]\n",
    "    \n",
    "    return EE_opg + EE_sby"
   ]
  },
  {
   "cell_type": "markdown",
   "metadata": {},
   "source": [
    "日付$d$の時刻$t$における稼働時の消費電力量$E_{E,opg,d,t}$および待機時の消費電力量$E_{E,sby,d,t}$は、式(2)および式(3)により計算される。"
   ]
  },
  {
   "cell_type": "markdown",
   "metadata": {},
   "source": [
    "<p style=\"text-indent:2em\">稼働時の消費電力量：</p>  \n",
    "$$ \n",
    "\\begin{equation*}\n",
    "    E_{E,opg,d,t} = P_{opg} \\times dt_{opg,d,t} \\div 3600\n",
    "\\end{equation*}\n",
    "$$\n",
    "\n",
    "\n",
    "<div style=\"text-align: right;\"> (2) </div>"
   ]
  },
  {
   "cell_type": "markdown",
   "metadata": {},
   "source": [
    "<p style=\"text-indent:2em\">待機時の消費電力量：</p>  \n",
    "$$ \n",
    "\\begin{equation*}\n",
    "    E_{E,sby,d,t} = P_{sby} \\times dt_{sby,d,t} \\div 3600\n",
    "\\end{equation*}\n",
    "$$\n",
    "\n",
    "\n",
    "<div style=\"text-align: right;\"> (3) </div>"
   ]
  },
  {
   "cell_type": "markdown",
   "metadata": {},
   "source": [
    "ただし、式(4)を満たす。\n",
    "$$ \n",
    "\\begin{equation*}\n",
    "    dt_{opg,d,t} + dt_{sby,d,t} = dt_{calc}\n",
    "\\end{equation*}\n",
    "$$\n",
    "<div style=\"text-align: right;\"> (4) </div>"
   ]
  },
  {
   "cell_type": "markdown",
   "metadata": {},
   "source": [
    "ここで、  \n",
    "\n",
    "$dt_{calc}$：単位時間[s]   \n",
    "$dt_{opg,d,t}$：日付$d$の時刻$t$における稼働時間の合計[s]  \n",
    "$dt_{sby,d,t}$：日付$d$の時刻$t$における待機時間の合計[s]   \n",
    "$E_{E,opg,d,t}$：日付$d$の時刻$t$における稼働時の単位時間当たりの消費電力量[Wh]   \n",
    "$E_{E,sby,d,t}$：日付$d$の時刻$t$における待機時の単位時間当たりの消費電力量[Wh]   \n",
    "$P_{opg}$：稼働時の平均消費電力[W]  \n",
    "$P_{sby}$：待機時の消費電力[W]  \n",
    "\n",
    "である。"
   ]
  },
  {
   "cell_type": "code",
   "execution_count": 3,
   "metadata": {},
   "outputs": [],
   "source": [
    "def EE_opg (P_opg, dt_opg):\n",
    "    '''稼働時の消費電力量[Wh]を計算する'''\n",
    "    # P_opg：稼働時の消費電力[W]\n",
    "    # dt_opg：稼働時間の合計[s]\n",
    "  \n",
    "    return P_opg * dt_opg / 3600"
   ]
  },
  {
   "cell_type": "code",
   "execution_count": 4,
   "metadata": {},
   "outputs": [],
   "source": [
    "def EE_sby (P_sby, dt_sby):\n",
    "    '''待機時の消費電力量[Wh]を計算する'''\n",
    "    # P_sby：待機時の消費電力[W]\n",
    "    # dt_sby：待機時間の合計[s]\n",
    " \n",
    "    return P_sby * dt_sby / 3600"
   ]
  },
  {
   "cell_type": "code",
   "execution_count": 5,
   "metadata": {},
   "outputs": [],
   "source": [
    "def check_duration (dt):\n",
    "    '''合計が単位時間を超過しないか否かを確認する'''\n",
    "    # dt：稼働時間の合計[s](list型)\n",
    "    # dt_calc：単位時間[s]\n",
    "    \n",
    "    dt_calc = 3600.\n",
    "    \n",
    "    # 継続時間を積算する\n",
    "    dt_sum = sum(dt)\n",
    "    \n",
    "    # エラーチェック\n",
    "    if dt_calc != dt_sum:\n",
    "        # 単位時間と異なる => エラー\n",
    "        try:\n",
    "            raise Exception('機器動作スケジュールに不正があります。')\n",
    "        except Exception:\n",
    "            raise\n",
    "    else:\n",
    "        pass"
   ]
  },
  {
   "cell_type": "markdown",
   "metadata": {},
   "source": [
    "### 5.3　稼働時の消費電力"
   ]
  },
  {
   "cell_type": "markdown",
   "metadata": {},
   "source": [
    "日付$d$の時刻$t$における稼働時の消費電力は、式(5)により計算される。"
   ]
  },
  {
   "cell_type": "markdown",
   "metadata": {},
   "source": [
    "<p style=\"text-indent:2em\">稼働時の消費電力：</p>  \n",
    "$$ \n",
    "\\begin{equation*}\n",
    "    P_{opg} = E_{msrd,opg}\n",
    "\\end{equation*}\n",
    "$$\n",
    "\n",
    "<div style=\"text-align: right;\"> (5) </div>"
   ]
  },
  {
   "cell_type": "markdown",
   "metadata": {},
   "source": [
    "ここで、   \n",
    "\n",
    "$P_{opg}$：稼働時の平均消費電力[W]  \n",
    "$P_{msrd,opg}$：稼働時の１時間当たりの消費電力量の実測値[Wh/h]  \n",
    "\n",
    "である。"
   ]
  },
  {
   "cell_type": "code",
   "execution_count": 6,
   "metadata": {},
   "outputs": [],
   "source": [
    "def P_opg (Emsrd_opg):\n",
    "    '''稼働時の消費電力[W]を計算する''' \n",
    "    # Emsrd_opg：稼働時の１時間当たりの消費電力量の実測値[Wh/h]  \n",
    "    \n",
    "    return  Emsrd_opg"
   ]
  },
  {
   "cell_type": "markdown",
   "metadata": {},
   "source": [
    "### 5.4　待機時の消費電力"
   ]
  },
  {
   "cell_type": "markdown",
   "metadata": {},
   "source": [
    "日付$d$の時刻$t$における待機時の消費電力は、式(6)により計算される。"
   ]
  },
  {
   "cell_type": "markdown",
   "metadata": {},
   "source": [
    "<p style=\"text-indent:2em\">待機時の消費電力：</p>  \n",
    "$$ \n",
    "\\begin{equation*}\n",
    "    P_{sby} =  P_{rtd,sby} \n",
    "\\end{equation*}\n",
    "$$\n",
    "\n",
    "<div style=\"text-align: right;\"> (6) </div>"
   ]
  },
  {
   "cell_type": "markdown",
   "metadata": {},
   "source": [
    "ここで、   \n",
    "\n",
    "$P_{sby}$：待機時の消費電力[W]  \n",
    "$P_{rtd,sby}$：待機時の定格消費電力[W]  \n",
    "\n",
    "である。"
   ]
  },
  {
   "cell_type": "code",
   "execution_count": 7,
   "metadata": {},
   "outputs": [],
   "source": [
    "def P_sby (Prtd_sby):\n",
    "    '''待機時の消費電力[W]を計算する''' \n",
    "    # Prtd_sby：待機時の定格消費電力[W]    \n",
    "    \n",
    "    return Prtd_sby"
   ]
  },
  {
   "cell_type": "markdown",
   "metadata": {},
   "source": [
    "### 5.5　標準条件"
   ]
  },
  {
   "cell_type": "markdown",
   "metadata": {},
   "source": [
    "#### 5.5.1　機器仕様"
   ]
  },
  {
   "cell_type": "markdown",
   "metadata": {},
   "source": [
    "4人世帯の標準的な機器仕様として、下表の設定を用いることができる。"
   ]
  },
  {
   "cell_type": "markdown",
   "metadata": {},
   "source": [
    "|番号 |稼働時の１時間当たりの消費電力量の実測値[Wh/h]   |待機時の定格消費電力[W] |備考                |  \n",
    "|:---:|:-----------------------------------------------:|:----------------------:|:------------------:|\n",
    "|00   |95.7                                             |0.3                     |4人標準世帯の既定値 |       "
   ]
  },
  {
   "cell_type": "code",
   "execution_count": 8,
   "metadata": {},
   "outputs": [],
   "source": [
    "Spec  = {\n",
    "    'Game00' : {\n",
    "        'Emsrd_opg' : 95.7,\n",
    "        'Prtd_sby'  : 0.3\n",
    "    }\n",
    "}"
   ]
  },
  {
   "cell_type": "markdown",
   "metadata": {},
   "source": [
    "#### 5.5.2　機器動作スケジュール"
   ]
  },
  {
   "cell_type": "markdown",
   "metadata": {},
   "source": [
    "4人世帯の標準的なスケジュールとして、下表の設定を用いることができる。"
   ]
  },
  {
   "cell_type": "markdown",
   "metadata": {},
   "source": [
    "|番号 |適用対象室 |備考                |  \n",
    "|:---:|:---------:|:------------------:|  \n",
    "|00   |洋室1 　   |4人標準世帯の既定値 |  "
   ]
  },
  {
   "cell_type": "markdown",
   "metadata": {},
   "source": [
    "<p style=\"text-indent:2em\">平日：</p>  \n",
    "\n",
    "|時刻              |0  |1  |2  |3  |4  |5  |6  |7  |8  |9  |10 |11 |12 |13 |14 |15 |16 |17 |18 |19 |20 |21 |22 |23 |  \n",
    "|:----------------:| -:| -:| -:| -:| -:| -:| -:| -:| -:| -:| -:| -:| -:| -:| -:| -:| -:| -:| -:| -:| -:| -:| -:| -:|  \n",
    "|稼働時間[\\* 60 s] |  0|  0|  0|  0|  0|  0|  0|  0|  0|  0|  0|  0|  0|  0|  0|  0|  0|  0| 60|  0|  0|  0|  0|  0|  \n",
    "|待機時間[\\* 60 s] | 60| 60| 60| 60| 60| 60| 60| 60| 60| 60| 60| 60| 60| 60| 60| 60| 60| 60|  0| 60| 60| 60| 60| 60| "
   ]
  },
  {
   "cell_type": "markdown",
   "metadata": {},
   "source": [
    "<p style=\"text-indent:2em\">休日在宅：</p>  \n",
    "\n",
    "|時刻              |0  |1  |2  |3  |4  |5  |6  |7  |8  |9  |10 |11 |12 |13 |14 |15 |16 |17 |18 |19 |20 |21 |22 |23 |  \n",
    "|:----------------:| -:| -:| -:| -:| -:| -:| -:| -:| -:| -:| -:| -:| -:| -:| -:| -:| -:| -:| -:| -:| -:| -:| -:| -:|  \n",
    "|稼働時間[\\* 60 s] |  0|  0|  0|  0|  0|  0|  0|  0|  0|  0|  0|  0|  0|  0|  0|  0| 60| 60| 60|  0|  0|  0|  0|  0|  \n",
    "|待機時間[\\* 60 s] | 60| 60| 60| 60| 60| 60| 60| 60| 60| 60| 60| 60| 60| 60| 60| 60|  0|  0|  0| 60| 60| 60| 60| 60| "
   ]
  },
  {
   "cell_type": "markdown",
   "metadata": {},
   "source": [
    "<p style=\"text-indent:2em\">休日外出：</p>  \n",
    "\n",
    "|時刻              |0  |1  |2  |3  |4  |5  |6  |7  |8  |9  |10 |11 |12 |13 |14 |15 |16 |17 |18 |19 |20 |21 |22 |23 |  \n",
    "|:----------------:| -:| -:| -:| -:| -:| -:| -:| -:| -:| -:| -:| -:| -:| -:| -:| -:| -:| -:| -:| -:| -:| -:| -:| -:|  \n",
    "|稼働時間[\\* 60 s] |  0|  0|  0|  0|  0|  0|  0|  0|  0|  0|  0|  0|  0|  0|  0|  0|  0|  0|  0|  0| 60| 45|  0|  0|  \n",
    "|待機時間[\\* 60 s] | 60| 60| 60| 60| 60| 60| 60| 60| 60| 60| 60| 60| 60| 60| 60| 60| 60| 60| 60| 60|  0| 15| 60| 60| "
   ]
  },
  {
   "cell_type": "code",
   "execution_count": 9,
   "metadata": {},
   "outputs": [],
   "source": [
    "Schedule= {\n",
    "    'Schedule00' : {\n",
    "        'Weekdays' : {\n",
    "            'opg' : [0]   *18 + [3600]*1 + [0]   *5,\n",
    "            'sby' : [3600]*18 + [0]   *1 + [3600]*5\n",
    "        },\n",
    "        'Holidays_st' : {\n",
    "            'opg' : [0]   *16 + [3600]*3 + [0]   *5,\n",
    "            'sby' : [3600]*16 + [0]   *3 + [3600]*5\n",
    "        },\n",
    "        'Holidays_go' : {\n",
    "            'opg' : [0]   *20 + [3600]*1 + [2700]*1 + [0]   *2,\n",
    "            'sby' : [3600]*20 + [0]   *1 + [900]* 1 + [3600]*2\n",
    "        }\n",
    "    }\n",
    "}"
   ]
  },
  {
   "cell_type": "code",
   "execution_count": 10,
   "metadata": {},
   "outputs": [
    {
     "data": {
      "image/png": "[encoded data removed]",
      "text/plain": [
       "<matplotlib.figure.Figure at 0x21a462e9c88>"
      ]
     },
     "metadata": {},
     "output_type": "display_data"
    }
   ],
   "source": [
    "# 機器動作スケジュールの確認\n",
    "chart_title = '動作スケジュール'\n",
    "schedule_name = ('Schedule00','4人標準_洋室1' )\n",
    "time_use_types = [ ('Weekdays','平日'), ('Holidays_st','休日在宅'), ('Holidays_go','休日外出') ]\n",
    "app_status_types = [ ('opg','稼働'),  ('sby','待機') ]\n",
    "\n",
    "y_value_sets = Schedule[schedule_name[0]] \n",
    "\n",
    "\n",
    "# サブプロットの作成\n",
    "plt.figure(figsize=(12, 3), dpi=80)\n",
    "\n",
    "# サブプロットのタイトル\n",
    "plt.suptitle(chart_title, fontdict={'fontproperties':fp}, fontsize=14)\n",
    "\n",
    "for i, time_use_type in enumerate(time_use_types):\n",
    "    # サブプロットの指定\n",
    "    ax = plt.subplot2grid((1, 3), (0, i))\n",
    "    # グラフのタイル\n",
    "    ax.set_title(schedule_name[1] +'(' + time_use_type[1] + ')' , fontdict={'fontproperties':fp})\n",
    "    \n",
    "    # x軸の値\n",
    "    x_value = [k for k in range(24)]\n",
    "    # y軸の値\n",
    "    y_values = y_value_sets[time_use_type[0]]\n",
    "    \n",
    "    for j, app_status_type in enumerate(app_status_types):\n",
    "        y_value = np.array(y_values[app_status_type[0]]) / 60\n",
    "        if j == 0:\n",
    "            ax.bar(x_value, y_value, align='edge', width=1.0, edgecolor='black', label=app_status_type[1])\n",
    "            y_bottom = y_value\n",
    "        else:\n",
    "            ax.bar(x_value, y_value, align='edge', width=1.0, edgecolor='black', label=app_status_type[1], bottom=y_bottom)\n",
    "            y_bottom = y_value       \n",
    "   \n",
    "    # x軸の設定\n",
    "    ax.set_xlabel('時刻', fontdict={'fontproperties':fp})\n",
    "    ax.set_xticks(np.arange(0, 25, 3), minor=False)\n",
    "    ax.set_xbound(lower=0, upper=23)\n",
    "    # y軸の設定\n",
    "    ax.set_ylabel('時間[min/hour]', fontdict={'fontproperties':fp})\n",
    "    ax.set_yticks(np.arange(0, 70, 10), minor=False)\n",
    "    ax.set_ybound(lower=0, upper=60)\n",
    "    # 目盛りの設定\n",
    "    ax.grid(which='major', color='lightgray', alpha=0.5, linestyle='-')     \n",
    "    ax.tick_params(direction='out', length=3, width=1, color='gray')\n",
    "    ax.set_axisbelow(True) \n",
    "\n",
    "# 凡例\n",
    "plt.legend(loc='center left', bbox_to_anchor=(1, 0.5), borderaxespad=0.5, frameon=True,  prop=fp)\n",
    "\n",
    "# グラフの重なりを解消\n",
    "plt.tight_layout()\n",
    "plt.subplots_adjust(top=0.82)    \n",
    "plt.show()"
   ]
  },
  {
   "cell_type": "markdown",
   "metadata": {},
   "source": [
    "### 付録1：サンプルコード"
   ]
  },
  {
   "cell_type": "markdown",
   "metadata": {},
   "source": [
    "4人標準世帯の標準条件について、サンプルコードを示す。"
   ]
  },
  {
   "cell_type": "code",
   "execution_count": 11,
   "metadata": {},
   "outputs": [],
   "source": [
    "def get_spec(app_type):\n",
    "    '''機器仕様を取得する'''\n",
    "    # app_type：機器タイプ\n",
    "    \n",
    "    # 機器仕様の取得\n",
    "    try:\n",
    "        spec = Spec[app_type]\n",
    "    except:\n",
    "        raise Exception('機器タイプの入力に不正があります。')     \n",
    "    \n",
    "    Emsrd_opg = spec['Emsrd_opg']\n",
    "    Prtd_sby = spec['Prtd_sby']\n",
    "    \n",
    "    return Emsrd_opg, Prtd_sby"
   ]
  },
  {
   "cell_type": "markdown",
   "metadata": {},
   "source": [
    "Example:"
   ]
  },
  {
   "cell_type": "code",
   "execution_count": 12,
   "metadata": {},
   "outputs": [
    {
     "data": {
      "text/plain": [
       "(95.7, 0.3)"
      ]
     },
     "execution_count": 12,
     "metadata": {},
     "output_type": "execute_result"
    }
   ],
   "source": [
    "ex_Emsrd_opg, ex_Prtd_sby = get_spec('Game00')\n",
    "ex_Emsrd_opg, ex_Prtd_sby"
   ]
  },
  {
   "cell_type": "code",
   "execution_count": 13,
   "metadata": {},
   "outputs": [],
   "source": [
    "def get_dt(time_use_type, time_of_day, schedule_name):\n",
    "    '''機器動作スケジュールを取得する'''\n",
    "    # time_use_type：['Weekdays', 'Holidays_st', 'Holidays_go']\n",
    "    # time_of_day：時刻（0-23）\n",
    "    # schedule_name：スケジュール名\n",
    "     \n",
    "    # スケジュールの取得\n",
    "    try:\n",
    "        schedule_set = Schedule[schedule_name][time_use_type]\n",
    "    except:\n",
    "        raise Exception('スケジュール名の入力に不正があります。')    \n",
    "               \n",
    "    # 動作状態のタイプ\n",
    "    app_status_types = list(schedule_set)\n",
    "    \n",
    "    # 動作状態ごとの継続時間[s]の取得\n",
    "    for i, app_status_type in enumerate(app_status_types):\n",
    "        if app_status_type == 'opg':\n",
    "            dt_opg = schedule_set[app_status_type][time_of_day]\n",
    "        elif app_status_type == 'sby':\n",
    "            dt_sby = schedule_set[app_status_type][time_of_day]\n",
    "        else:\n",
    "            raise Exception\n",
    "            \n",
    "    # 時間超過の確認\n",
    "    check_duration([dt_opg, dt_sby]) \n",
    "    \n",
    "    return dt_opg, dt_sby"
   ]
  },
  {
   "cell_type": "markdown",
   "metadata": {},
   "source": [
    "Example:"
   ]
  },
  {
   "cell_type": "code",
   "execution_count": 14,
   "metadata": {},
   "outputs": [
    {
     "data": {
      "text/plain": [
       "(3600, 0)"
      ]
     },
     "execution_count": 14,
     "metadata": {},
     "output_type": "execute_result"
    }
   ],
   "source": [
    "ex_dt_opg, ex_dt_sby = get_dt('Weekdays', 18, 'Schedule00')\n",
    "ex_dt_opg, ex_dt_sby"
   ]
  },
  {
   "cell_type": "code",
   "execution_count": 15,
   "metadata": {},
   "outputs": [],
   "source": [
    "def calc_EE_opg(Prtd_opg, dt_opg):\n",
    "    '''稼働時における消費電力量[Wh]を計算する'''\n",
    "    # Prtd_opg：レンジ機能の定格消費電力[W]\n",
    "    # dt_opg：稼働時間の合計[s]\n",
    "    \n",
    "    # 稼働時の消費電力[W]\n",
    "    p_opg = P_opg (Prtd_opg)\n",
    "       \n",
    "    # 稼働時における消費電力量[Wh]\n",
    "    ee_opg = EE_opg(p_opg, dt_opg)\n",
    "    \n",
    "    return ee_opg"
   ]
  },
  {
   "cell_type": "markdown",
   "metadata": {},
   "source": [
    "Example:"
   ]
  },
  {
   "cell_type": "code",
   "execution_count": 16,
   "metadata": {},
   "outputs": [
    {
     "data": {
      "text/plain": [
       "95.7"
      ]
     },
     "execution_count": 16,
     "metadata": {},
     "output_type": "execute_result"
    }
   ],
   "source": [
    "ex_EE_opg = calc_EE_opg(ex_Emsrd_opg, ex_dt_opg)\n",
    "ex_EE_opg"
   ]
  },
  {
   "cell_type": "code",
   "execution_count": 17,
   "metadata": {},
   "outputs": [],
   "source": [
    "def calc_EE_sby(Prtd_sby, dt_sby):\n",
    "    '''稼働時における消費電力量[Wh]を計算する'''\n",
    "    # Prtd_sby：待機時の定格消費電力[W] \n",
    "    # dt_sby：待機時間の合計[s]\n",
    "    \n",
    "    # 稼働時の消費電力[W]\n",
    "    p_sby = P_sby (Prtd_sby)\n",
    "       \n",
    "    # '稼働時における消費電力量[Wh]\n",
    "    ee_sby = EE_sby(p_sby, dt_sby)\n",
    "    \n",
    "    return ee_sby"
   ]
  },
  {
   "cell_type": "markdown",
   "metadata": {},
   "source": [
    "Example:"
   ]
  },
  {
   "cell_type": "code",
   "execution_count": 18,
   "metadata": {},
   "outputs": [
    {
     "data": {
      "text/plain": [
       "0.0"
      ]
     },
     "execution_count": 18,
     "metadata": {},
     "output_type": "execute_result"
    }
   ],
   "source": [
    "ex_EE_sby = calc_EE_sby(ex_Prtd_sby, ex_dt_sby)\n",
    "ex_EE_sby"
   ]
  },
  {
   "cell_type": "code",
   "execution_count": 19,
   "metadata": {},
   "outputs": [],
   "source": [
    "def calc_EE_app(EE_opg, EE_sby):\n",
    "    '''消費電力量[Wh]を計算する'''\n",
    "    # EE_opg：稼働時における消費電力量[Wh]\n",
    "    # EE_sby：待機時における消費電力量[Wh]\n",
    "    \n",
    "    return EE_app(EE_opg, EE_sby)"
   ]
  },
  {
   "cell_type": "markdown",
   "metadata": {},
   "source": [
    "Example:"
   ]
  },
  {
   "cell_type": "code",
   "execution_count": 20,
   "metadata": {},
   "outputs": [
    {
     "data": {
      "text/plain": [
       "95.7"
      ]
     },
     "execution_count": 20,
     "metadata": {},
     "output_type": "execute_result"
    }
   ],
   "source": [
    "ex_EE_app = calc_EE_app(ex_EE_opg, ex_EE_sby)\n",
    "ex_EE_app"
   ]
  },
  {
   "cell_type": "code",
   "execution_count": 21,
   "metadata": {},
   "outputs": [],
   "source": [
    "def calc_EE_Game_verP4(time_use_type, time_of_day, app_type, schedule_name):\n",
    "    '''ゲーム機器の単位時間当たりの消費電力量を計算する（ver自立P4）'''\n",
    "    # time_use_type：['Weekdays', 'Holidays_st', 'Holidays_go']\n",
    "    # time_of_day：時刻（0-23） \n",
    "    # app_type：機器タイプ  \n",
    "    # schedule_name：スケジュール名\n",
    "    \n",
    "    # 機器動作スケジュール[s]を取得\n",
    "    dt_opg, dt_sby = get_dt(time_use_type, time_of_day, schedule_name)\n",
    "    \n",
    "    # 機器仕様を取得\n",
    "    Emsrd_opg, Prtd_sby = get_spec(app_type)\n",
    "    \n",
    "    # 稼働時における消費電力量[Wh]を計算\n",
    "    EE_opg = calc_EE_opg(Emsrd_opg, dt_opg)\n",
    "    \n",
    "    # 待機時における消費電力量[Wh]を計算\n",
    "    EE_sby = calc_EE_sby(Prtd_sby,dt_sby)\n",
    "    \n",
    "    # 消費電力量[Wh]を計算\n",
    "    EE_app = calc_EE_app (EE_opg, EE_sby)\n",
    "    \n",
    "    return EE_app, EE_opg, EE_sby"
   ]
  },
  {
   "cell_type": "markdown",
   "metadata": {},
   "source": [
    "Example:"
   ]
  },
  {
   "cell_type": "code",
   "execution_count": 22,
   "metadata": {},
   "outputs": [
    {
     "data": {
      "text/plain": [
       "(95.7, 95.7, 0.0)"
      ]
     },
     "execution_count": 22,
     "metadata": {},
     "output_type": "execute_result"
    }
   ],
   "source": [
    "ex_EE_Game = calc_EE_Game_verP4('Weekdays', 18, 'Game00', 'Schedule00')\n",
    "ex_EE_Game"
   ]
  },
  {
   "cell_type": "markdown",
   "metadata": {},
   "source": [
    "### 付録2：サンプルコードによる時刻別消費電力量の計算例"
   ]
  },
  {
   "cell_type": "markdown",
   "metadata": {},
   "source": [
    "4人標準世帯の標準条件に対して、サンプルコードにより平日、休日在宅、休日外出の時刻別消費電力量を計算した結果を示す。"
   ]
  },
  {
   "cell_type": "code",
   "execution_count": 23,
   "metadata": {},
   "outputs": [],
   "source": [
    "# 消費電力量の計算\n",
    "# 入力\n",
    "app_type = 'Game00'\n",
    "schedule_name = ('Schedule00','4人標準_洋室1' )\n",
    "time_use_types = [ ('Weekdays','平日'), ('Holidays_st','休日在宅'), ('Holidays_go','休日外出') ]\n",
    "time_of_day = [i for i in range(0, 24, 1)]\n",
    "\n",
    "# 消費電力量の計算\n",
    "ee_app=[]\n",
    "ee_opg=[]\n",
    "ee_sby=[]\n",
    "for time_use_type in time_use_types:\n",
    "    _ee_app, _ee_opg, _ee_sby = np.vectorize(calc_EE_Game_verP4)(time_use_type[0], time_of_day, app_type, schedule_name[0])\n",
    "    ee_app += [_ee_app]\n",
    "    ee_opg += [_ee_opg]\n",
    "    ee_sby += [_ee_sby]\n",
    "\n",
    "# 消費電力量の計算結果\n",
    "EE_Results= {\n",
    "    'Weekdays'    : {'opg' : ee_opg[0],'sby' : ee_sby[0]},\n",
    "    'Holidays_st' : {'opg' : ee_opg[1],'sby' : ee_sby[1]},\n",
    "    'Holidays_go' : {'opg' : ee_opg[2],'sby' : ee_sby[2]}\n",
    "}"
   ]
  },
  {
   "cell_type": "code",
   "execution_count": 24,
   "metadata": {},
   "outputs": [
    {
     "data": {
      "image/png": "[encoded data removed]",
      "text/plain": [
       "<matplotlib.figure.Figure at 0x21a467f0630>"
      ]
     },
     "metadata": {},
     "output_type": "display_data"
    }
   ],
   "source": [
    "# 消費電力量の計算結果のグラフ \n",
    "chart_title = '消費電力量（' \\\n",
    "                + '機器タイプ：' + app_type + '、' \\\n",
    "                + '稼働時の消費電力：' + str(Spec[app_type]['Emsrd_opg']) + 'W、' \\\n",
    "                + '待機時の消費電力：' + str(Spec[app_type]['Prtd_sby'])+ 'W' \\\n",
    "                + ')'\n",
    "app_status_types = [ ('opg','稼働'), ('sby','待機') ]\n",
    "\n",
    "y_value_sets = EE_Results\n",
    "\n",
    "\n",
    "# サブプロットの作成\n",
    "plt.figure(figsize=(12, 3), dpi=80)\n",
    "\n",
    "# サブプロットのタイトル\n",
    "plt.suptitle(chart_title, fontdict={'fontproperties':fp}, fontsize=14)\n",
    "\n",
    "for i, time_use_type in enumerate(time_use_types):\n",
    "    # サブプロットの指定\n",
    "    ax = plt.subplot2grid((1, 3), (0, i))\n",
    "    # グラフのタイル\n",
    "    ax.set_title(schedule_name[1] +'(' + time_use_type[1] + ')' , fontdict={'fontproperties':fp})\n",
    "    \n",
    "    # x軸の値\n",
    "    x_value = [k for k in range(24)]\n",
    "    # y軸の値\n",
    "    y_values = y_value_sets[time_use_type[0]]\n",
    "    \n",
    "    for j, app_status_type in enumerate(app_status_types):\n",
    "        y_value = y_values[app_status_type[0]]\n",
    "        if j == 0:\n",
    "            ax.bar(x_value, y_value, align='edge', width=1.0, edgecolor='black', label=app_status_type[1])\n",
    "            y_bottom = y_value\n",
    "        else:\n",
    "            ax.bar(x_value, y_value, align='edge', width=1.0, edgecolor='black', label=app_status_type[1], bottom=y_bottom)\n",
    "            y_bottom = y_value       \n",
    "   \n",
    "    # x軸の設定\n",
    "    ax.set_xlabel('時刻', fontdict={'fontproperties':fp})\n",
    "    ax.set_xticks(np.arange(0, 25, 3), minor=False)\n",
    "    ax.set_xbound(lower=0, upper=23)\n",
    "    # y軸の設定\n",
    "    ax.set_ylabel('消費電力量[Wh/hour]', fontdict={'fontproperties':fp})\n",
    "    ax.set_yticks(np.arange(0, 200, 20), minor=False)\n",
    "    ax.set_ybound(lower=0, upper=100)\n",
    "    # 目盛りの設定\n",
    "    ax.grid(which='major', color='lightgray', alpha=0.5, linestyle='-')     \n",
    "    ax.tick_params(direction='out', length=3, width=1, color='gray')\n",
    "    ax.set_axisbelow(True) \n",
    "\n",
    "# 凡例\n",
    "plt.legend(loc='center left', bbox_to_anchor=(1, 0.5), borderaxespad=0.5, frameon=True,  prop=fp)\n",
    "\n",
    "# グラフの重なりを解消\n",
    "plt.tight_layout()\n",
    "plt.subplots_adjust(top=0.82)    \n",
    "plt.show()"
   ]
  },
  {
   "cell_type": "markdown",
   "metadata": {},
   "source": [
    "### 付録3：サンプルコードによる年間消費電力量の計算例"
   ]
  },
  {
   "cell_type": "markdown",
   "metadata": {},
   "source": [
    "4人標準世帯の標準条件に対して、サンプルコードにより年間消費電力量を計算した結果を示す。"
   ]
  },
  {
   "cell_type": "code",
   "execution_count": 25,
   "metadata": {},
   "outputs": [],
   "source": [
    "def calc_annual_EE_app(app_type, schedule_name):\n",
    "    '''年間消費電力量[Wh/year]を計算する'''\n",
    "    # app_type：機器タイプ  \n",
    "    # schedule_name：スケジュール名  \n",
    "       \n",
    "    def calc_daily_EE_app(schedule, app_type, schedule_name):\n",
    "        '''1日あたりの消費電力量[Wh/day]を計算する'''\n",
    "        hourly_EE_app = [ calc_EE_Game_verP4(schedule, t, app_type, schedule_name)[1] for t in range(0, 24, 1) ]\n",
    "        return sum( hourly_EE_app )\n",
    "    \n",
    "    daily_EE_app = [ calc_daily_EE_app(CD.get_calendar()[CD.get_nday(ad)-1], app_type, schedule_name) for ad in  CD.get_Annual_Days() ]\n",
    "    return sum( daily_EE_app )"
   ]
  },
  {
   "cell_type": "code",
   "execution_count": 26,
   "metadata": {},
   "outputs": [
    {
     "name": "stdout",
     "output_type": "stream",
     "text": [
      "年間消費電力量：53.16134999999969 kWh/年\n"
     ]
    }
   ],
   "source": [
    "# 年間消費電力量[kWh/year]：居間\n",
    "ex_annual_EE_app = calc_annual_EE_app('Game00', 'Schedule00')\n",
    "print('年間消費電力量：' + str(ex_annual_EE_app/1000) + ' kWh/年')"
   ]
  }
 ],
 "metadata": {
  "kernelspec": {
   "display_name": "Python 3",
   "language": "python",
   "name": "python3"
  },
  "language_info": {
   "codemirror_mode": {
    "name": "ipython",
    "version": 3
   },
   "file_extension": ".py",
   "mimetype": "text/x-python",
   "name": "python",
   "nbconvert_exporter": "python",
   "pygments_lexer": "ipython3",
   "version": "3.6.4"
  }
 },
 "nbformat": 4,
 "nbformat_minor": 2
}
