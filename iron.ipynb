{
 "cells": [
  {
   "cell_type": "code",
   "execution_count": 1,
   "metadata": {
    "collapsed": true
   },
   "outputs": [],
   "source": [
    "import numpy as np  \n",
    "import math\n",
    "from enum import Enum\n",
    "from collections import namedtuple\n",
    "\n",
    "# matplotlib\n",
    "# ライブラリーのインポート\n",
    "import matplotlib.pyplot as plt\n",
    "# インライン表示\n",
    "%matplotlib inline\n",
    "# 日本語フォント\n",
    "import pylab\n",
    "from matplotlib.font_manager import FontProperties"
   ]
  },
  {
   "cell_type": "markdown",
   "metadata": {},
   "source": [
    "# 家電機器"
   ]
  },
  {
   "cell_type": "markdown",
   "metadata": {},
   "source": [
    "## 14.　アイロン（ver自立P4）"
   ]
  },
  {
   "cell_type": "markdown",
   "metadata": {},
   "source": [
    "### 14.1　定義"
   ]
  },
  {
   "cell_type": "markdown",
   "metadata": {},
   "source": [
    "#### 14.1.1　機器の電源接続状態および動作状態"
   ]
  },
  {
   "cell_type": "markdown",
   "metadata": {},
   "source": [
    "アイロンの電源接続状態および動作状態は、以下を想定する。"
   ]
  },
  {
   "cell_type": "markdown",
   "metadata": {},
   "source": [
    "* 電源接続状態：\n",
    "    * 使用時にのみAC電源に接続される。\n",
    "    * 非使用時には電源から切断される。  \n",
    "* 動作状態：\n",
    "    * 使用時には稼働状態のみが発生する。\n",
    "    * 非使用時には停止状態となる。  "
   ]
  },
  {
   "cell_type": "markdown",
   "metadata": {},
   "source": [
    "#### 14.1.2　機器の機能等"
   ]
  },
  {
   "cell_type": "markdown",
   "metadata": {},
   "source": [
    "アイロンが有する機能は、以下を想定する。  "
   ]
  },
  {
   "cell_type": "markdown",
   "metadata": {},
   "source": [
    "* 機能：\n",
    "    * アイロン：主機能である。稼働時に作動する。"
   ]
  },
  {
   "cell_type": "markdown",
   "metadata": {},
   "source": [
    "想定する状態および機能に対応する添え字は以下のとおりである。なお、単機能であるため、機能に対応する添え字は省略する。  \n",
    "\n",
    "| 添え字 | 電源接続状態 | 動作状態 |　機能　 | \n",
    "|:-----: |:-----------: |:-------: |:------: |    \n",
    "|ac,opg  |AC電源接続    |稼働      |アイロン |  "
   ]
  },
  {
   "cell_type": "code",
   "execution_count": 2,
   "metadata": {
    "collapsed": true
   },
   "outputs": [],
   "source": [
    "# 電源接続状態\n",
    "PowerSource = namedtuple (\"PowerSource\", \"ac\")\n",
    "    # ac：AC電源接続"
   ]
  },
  {
   "cell_type": "code",
   "execution_count": 3,
   "metadata": {
    "collapsed": true
   },
   "outputs": [],
   "source": [
    "# 動作状態\n",
    "AppStatus = namedtuple (\"AppStatus\", \"opg\")\n",
    "    # opg：稼働"
   ]
  },
  {
   "cell_type": "markdown",
   "metadata": {},
   "source": [
    "### 14.2　消費電力量"
   ]
  },
  {
   "cell_type": "markdown",
   "metadata": {},
   "source": [
    "日付$d$の時刻$t$におけるアイロンのAC電源接続時の消費電力量$E_{E,Iron,ac,d,t}$は、式(1)により表される。"
   ]
  },
  {
   "cell_type": "markdown",
   "metadata": {},
   "source": [
    "* AC電源接続時：  \n",
    "$$ \n",
    "\\begin{equation*}\n",
    "    E_{E,Iron,ac,d,t} = E_{E,ac,opg,d,t} \n",
    "\\end{equation*}\n",
    "$$\n",
    "\n",
    "\n",
    "<div style=\"text-align: right;\"> (1) </div>"
   ]
  },
  {
   "cell_type": "markdown",
   "metadata": {},
   "source": [
    "ここで、  \n",
    "\n",
    "$E_{E,Iron,ac,d,t}$：日付$d$の時刻$t$におけるAC電源接続時の単位時間当たりの消費電力量[Wh]  \n",
    "$E_{E,ac,opg,d,t}$：日付$d$の時刻$t$におけるAC電源接続下での稼働時の単位時間当たりの消費電力量[Wh]  \n",
    "\n",
    "である。"
   ]
  },
  {
   "cell_type": "code",
   "execution_count": 4,
   "metadata": {
    "collapsed": true
   },
   "outputs": [],
   "source": [
    "def EE_ac (ee_ac):\n",
    "    \"\"\"AC電源接続時の消費電力量[Wh]を計算する\"\"\" \n",
    "    # ee_ac：AC電源接続下での消費電力量[Wh](リスト型)\n",
    "    \n",
    "    return sum(ee_ac)"
   ]
  },
  {
   "cell_type": "markdown",
   "metadata": {},
   "source": [
    "### 14.3　稼働時の消費電力量"
   ]
  },
  {
   "cell_type": "markdown",
   "metadata": {},
   "source": [
    "日付$d$の時刻$t$におけるAC電源接続下での稼働時の消費電力量は、式(2)により計算される。"
   ]
  },
  {
   "cell_type": "markdown",
   "metadata": {},
   "source": [
    "* AC電源接続下での稼働時の消費電力量：  \n",
    "$$ \n",
    "\\begin{equation*}\n",
    "    E_{E,ac,opg,d,t} = P_{opg} \\times dt_{ac,opg,d,t} \\div 3600\n",
    "\\end{equation*}\n",
    "$$\n",
    "\n",
    "\n",
    "<div style=\"text-align: right;\"> (2) </div>"
   ]
  },
  {
   "cell_type": "markdown",
   "metadata": {},
   "source": [
    "ただし、式(3)を満たす。\n",
    "$$ \n",
    "\\begin{equation*}\n",
    "    dt_{ac,opg,d,t} \\leq dt_{calc}\n",
    "\\end{equation*}\n",
    "$$\n",
    "<div style=\"text-align: right;\"> (3) </div>"
   ]
  },
  {
   "cell_type": "markdown",
   "metadata": {},
   "source": [
    "ここで、  \n",
    "\n",
    "$dt_{calc}$：単位時間[s]   \n",
    "$dt_{ac,opg,d,t}$：日付$d$の時刻$t$におけるAC電源接続下での稼働時間の合計[s]  \n",
    "$E_{E,ac,opg,d,t}$：日付$d$の時刻$t$におけるAC電源接続下での稼働時の単位時間当たりの消費電力量[Wh]   \n",
    "$P_{opg}$：1時間当たりの稼働時の平均消費電力[W] \n",
    "\n",
    "である。"
   ]
  },
  {
   "cell_type": "code",
   "execution_count": 5,
   "metadata": {
    "collapsed": true
   },
   "outputs": [],
   "source": [
    "def EE_ac_opg (dt_ac_opg, P_ac_opg):\n",
    "    \"\"\"AC電源接続下での稼働時の消費電力量[Wh]を計算する\"\"\" \n",
    "    # dt_ac_opg：稼働時間の合計[s](リスト型)\n",
    "    # P_ac_opg：稼働時の消費電力[W](リスト型)\n",
    "    \n",
    "    p = np.array(dt_ac_opg)\n",
    "    dt = np.array(P_ac_opg)\n",
    "    \n",
    "    return sum(p * dt) / 3600"
   ]
  },
  {
   "cell_type": "code",
   "execution_count": 6,
   "metadata": {
    "collapsed": true
   },
   "outputs": [],
   "source": [
    "def check_duration (dt):\n",
    "    \"\"\"合計が単位時間を超過しないか否かを確認する\"\"\"\n",
    "    # dt：稼働時間の合計[s](PowerSource型(AppStatus型))\n",
    "    \n",
    "    # dt_calc：単位時間[s]\n",
    "    dt_calc = 3600.\n",
    "    \n",
    "    # 継続時間を積算する\n",
    "    dt_sum = 0\n",
    "    for isource in range(0, len(dt)):\n",
    "        for istatus in range(0, len(dt[isource])):\n",
    "            dt_sum = dt_sum + dt[isource][isource]\n",
    "    \n",
    "    # エラーチェック\n",
    "    if dt_calc < dt_sum:\n",
    "        # 単位時間を超える場合 => エラー\n",
    "        try:\n",
    "            raise ValueError(\"Error: dt_calc < sum(dt)\")\n",
    "        except ValueError as e:\n",
    "            print(e)\n",
    "    else:\n",
    "        pass"
   ]
  },
  {
   "cell_type": "markdown",
   "metadata": {},
   "source": [
    "日付$d$の時刻$t$における稼働時の消費電力は、式(4)により計算される。"
   ]
  },
  {
   "cell_type": "markdown",
   "metadata": {},
   "source": [
    "* 稼働時の消費電力： \n",
    "$$ \n",
    "\\begin{equation*}\n",
    "    P_{opg} = 0.53 \\times P_{rtd,opg} \n",
    "\\end{equation*}\n",
    "$$\n",
    "\n",
    "\n",
    "<div style=\"text-align: right;\"> (4) </div>"
   ]
  },
  {
   "cell_type": "markdown",
   "metadata": {},
   "source": [
    "ここで、   \n",
    "\n",
    "$P_{opg}$：1時間当たりの稼働時の平均消費電力[W]  \n",
    "$P_{rtd,opg}$：定格消費電力[W]  \n",
    "\n",
    "である。"
   ]
  },
  {
   "cell_type": "code",
   "execution_count": 7,
   "metadata": {
    "collapsed": true
   },
   "outputs": [],
   "source": [
    "def P_opg (Prtd_opg):\n",
    "    \"\"\"稼働時の消費電力[W]を計算する\"\"\" \n",
    "    # Prtd_opg：稼働時の消費電力[W]\n",
    "    \n",
    "    return 0.53 * Prtd_opg"
   ]
  },
  {
   "cell_type": "markdown",
   "metadata": {},
   "source": [
    "### 14.4　標準条件"
   ]
  },
  {
   "cell_type": "markdown",
   "metadata": {},
   "source": [
    "#### 14.4.1　機器仕様"
   ]
  },
  {
   "cell_type": "markdown",
   "metadata": {},
   "source": [
    "4人世帯の標準的な機器仕様として、下表の設定を用いることができる。"
   ]
  },
  {
   "cell_type": "markdown",
   "metadata": {},
   "source": [
    "| 番号 | 稼働時の定格消費電力[W] |            備考             |\n",
    "|:---: | :---------------------: | :-------------------------: |\n",
    "|  00  | 1400       　　　　     | 4人標準世帯のデフォルト設定 |"
   ]
  },
  {
   "cell_type": "code",
   "execution_count": 8,
   "metadata": {
    "collapsed": true
   },
   "outputs": [],
   "source": [
    "Spec = {'Iron00':{'Prtd_opg':1400}}"
   ]
  },
  {
   "cell_type": "markdown",
   "metadata": {},
   "source": [
    "#### 14.4.2　機器使用スケジュール"
   ]
  },
  {
   "cell_type": "markdown",
   "metadata": {},
   "source": [
    "4人世帯の標準的なスケジュールとして、下表の設定を用いることができる。"
   ]
  },
  {
   "cell_type": "markdown",
   "metadata": {},
   "source": [
    "| 番号 | スケジュール名称 | 備考 |\n",
    "|:---: | :--------------: | :--: |\n",
    "|  00  | 4人標準世帯      | -    |"
   ]
  },
  {
   "cell_type": "markdown",
   "metadata": {},
   "source": [
    "* 平日：  \n",
    "\n",
    "|時刻                  |0  |1  |2  |3  |4  |5  |6  |7  |8  |9  |10 |11 |12 |13 |14 |15 |16 |17 |18 |19 |20 |21 |22 |23 |  \n",
    "|:---:                 | -:| -:| -:| -:| -:| -:| -:| -:| -:| -:| -:| -:| -:| -:| -:| -:| -:| -:| -:| -:| -:| -:| -:| -:|  \n",
    "|AC稼働時間[\\* 60 s]   |  0|  0|  0|  0|  0|  0|  0|  0|  0|  6|  0|  0|  0|  0|  0|  0|  0|  0|  0|  0|  0|  0|  0|  0|  \n",
    "|電源切断時間[\\* 60 s] | 60| 60| 60| 60| 60| 60| 60| 60| 60| 54| 60| 60| 60| 60| 60| 60| 60| 60| 60| 60| 60| 60| 60| 60| "
   ]
  },
  {
   "cell_type": "markdown",
   "metadata": {},
   "source": [
    "* 休日在宅： \n",
    "\n",
    "|時刻                  |0  |1  |2  |3  |4  |5  |6  |7  |8  |9  |10 |11 |12 |13 |14 |15 |16 |17 |18 |19 |20 |21 |22 |23 |  \n",
    "|:---:                 | -:| -:| -:| -:| -:| -:| -:| -:| -:| -:| -:| -:| -:| -:| -:| -:| -:| -:| -:| -:| -:| -:| -:| -:|  \n",
    "|AC稼働時間[\\* 60 s]   |  0|  0|  0|  0|  0|  0|  0|  0|  0|  0|  0|  0|  0|  0|  0|  0|  6|  0|  0|  0|  0|  0|  0|  0|  \n",
    "|電源切断時間[\\* 60 s] | 60| 60| 60| 60| 60| 60| 60| 60| 60| 60| 60| 60| 60| 60| 60| 60| 54| 60| 60| 60| 60| 60| 60| 60| "
   ]
  },
  {
   "cell_type": "markdown",
   "metadata": {},
   "source": [
    "* 休日外出： \n",
    "\n",
    "|時刻                  |0  |1  |2  |3  |4  |5  |6  |7  |8  |9  |10 |11 |12 |13 |14 |15 |16 |17 |18 |19 |20 |21 |22 |23 |  \n",
    "|:---:                 | -:| -:| -:| -:| -:| -:| -:| -:| -:| -:| -:| -:| -:| -:| -:| -:| -:| -:| -:| -:| -:| -:| -:| -:|  \n",
    "|AC稼働時間[\\* 60 s]   |  0|  0|  0|  0|  0|  0|  0|  0|  0|  0|  0|  0|  0|  0|  0|  0|  0|  0|  0|  0|  0|  0|  0|  0|  \n",
    "|電源切断時間[\\* 60 s] | 60| 60| 60| 60| 60| 60| 60| 60| 60| 60| 60| 60| 60| 60| 60| 60| 60| 60| 60| 60| 60| 60| 60| 60| "
   ]
  },
  {
   "cell_type": "code",
   "execution_count": 9,
   "metadata": {
    "collapsed": true
   },
   "outputs": [],
   "source": [
    "# 機器使用スケジュール：4人標準世帯_AC接続下での稼働時間[s]\n",
    "Schedule = {\n",
    "    '4人標準' : {\n",
    "        'AC稼働':{'Weekdays'    : [0]* 9 + [360]*1 + [0]*14,  \n",
    "                  'Holidays_st' : [0]*16 + [360]*1 + [0]* 7, \n",
    "                  'Holidays_go' : [0]*24\n",
    "        } \n",
    "    }\n",
    "}"
   ]
  },
  {
   "cell_type": "code",
   "execution_count": 10,
   "metadata": {},
   "outputs": [],
   "source": [
    "def plot_hourly_bar_chart(fig_title, y_value_sets, schedule_name, \n",
    "                          y_label, y_lower, y_upper, y_interval, y_convert_unit):\n",
    "    '''横軸が時刻（1時間間隔、0～23時間）の棒グラフを作成する'''\n",
    "    # fig_title：図のタイトル\n",
    "    # y_value_sets：y軸の値（dictionary型）\n",
    "    # schedule_name：スケジュール名\n",
    "    # y_label：y軸のラベル\n",
    "    # y_lower：y軸の表示の下限\n",
    "    # y_ upper：y軸の表示の上限\n",
    "    # y_ interval：y軸の目盛間隔\n",
    "    # y_convert_unit：y軸の単位換算係数\n",
    "\n",
    "    # 日本語フォント\n",
    "    fp = FontProperties(fname='C:\\WINDOWS\\Fonts\\msgothic.ttc', size = 12)\n",
    "    \n",
    "    # 既存スタイルの使用\n",
    "    plt.style.use('seaborn-whitegrid')\n",
    "\n",
    "    # サブプロットの作成\n",
    "    plt.figure(figsize=(12, 3), dpi=80)\n",
    "    \n",
    "    # サブプロットのタイトル\n",
    "    plt.suptitle(fig_title, fontdict={'fontproperties':fp}, fontsize=14)\n",
    "\n",
    "    # 動作状態のタイプ\n",
    "    app_status_types = list(y_value_sets[schedule_name])\n",
    "    # 生活時間タイプ\n",
    "    time_use_types = ['Weekdays', 'Holidays_st', 'Holidays_go']\n",
    "    \n",
    "    for i, time_use_type in enumerate(time_use_types):\n",
    "        for j, app_status_type in enumerate(app_status_types):\n",
    "            # サブプロットの指定\n",
    "            ax = plt.subplot2grid((1, len(time_use_types)), (0, i))    \n",
    "            \n",
    "            # 棒グラフの作成\n",
    "            # x軸の値\n",
    "            x_value = np.array([k for k in range(24)])\n",
    "            # y軸の値（24時間×3スケジュール×動作状態）\n",
    "            y_value_sets_schedule = y_value_sets[schedule_name]\n",
    "            # y軸の値（24時間×3スケジュール）\n",
    "            y_value_sets_status = y_value_sets_schedule[app_status_type]\n",
    "            # y軸の値（24時間->単位変換）\n",
    "            y_value = np.array(y_value_sets_status[time_use_type]) * y_convert_unit\n",
    "            if len(y_value) > 0:\n",
    "                if j == 0:\n",
    "                    ax.bar(x_value, y_value, align='edge', width=1.0, edgecolor='black', label=schedule_name)\n",
    "                    y_bottom = y_value\n",
    "                else:\n",
    "                    ax.bar(x_value, y_value, align='edge', width=1.0, edgecolor='black', label=schedule_name, bottom=y_bottom)\n",
    "                \n",
    "            # グラフのタイル\n",
    "            time_use_type_jp = {'Weekdays':'平日',\n",
    "                              'Holidays_st':'休日在宅', \n",
    "                              'Holidays_go':'休日外出'}[time_use_type]\n",
    "            ax.set_title(schedule_name +'(' + time_use_type_jp + ')' , fontdict={'fontproperties':fp})\n",
    "\n",
    "            # x軸\n",
    "            # タイトル\n",
    "            ax.set_xlabel(u'時刻', fontdict={'fontproperties':fp})\n",
    "            # 目盛りの位置／ラベル／形式\n",
    "            # 主目盛\n",
    "            ax.set_xticks(np.arange(0, 25, 3), minor=False)\n",
    "            ax.set_xticklabels(np.array([k*3 for k in range(8)]+[0]).astype('str'), minor=False, visible=True)\n",
    "            ax.tick_params(axis='x', which ='major', direction='in', length=3)\n",
    "            # 補助目盛\n",
    "            ax.set_xticks(np.arange(0, 25, 1), minor=True)\n",
    "            ax.set_xticklabels(np.array([k for k in range(24)]+[0]).astype('str'), minor=True, visible=False)\n",
    "            ax.tick_params(axis='x', which ='minor', direction='in', length=3)\n",
    "            # 表示の上限・下限\n",
    "            ax.set_xbound(lower=0, upper=24)\n",
    "\n",
    "            # y軸\n",
    "            #タイトル\n",
    "            ax.set_ylabel(y_label, fontdict={'fontproperties':fp}) \n",
    "            # 目盛りの位置／形式\n",
    "            #ax.set_yticks(np.arange(0, 30, 5))\n",
    "            ax.set_yticks(np.arange(y_lower, y_upper+y_interval, y_interval))\n",
    "            ax.tick_params(axis='y', which ='major', direction='in', length=3)\n",
    "            # 表示の上限・下限\n",
    "            ax.set_ybound(lower=y_lower, upper=y_upper)\n",
    "\n",
    "            # グラフの枠\n",
    "            ax.spines['right'].set_color('black')\n",
    "            ax.spines['left'].set_color('black')\n",
    "            ax.spines['bottom'].set_color('black')\n",
    "            ax.spines['top'].set_color('black')\n",
    "\n",
    "            # 主目盛りのグリッド\n",
    "            ax.grid(which='major', color='lightgray', alpha=0.7, linestyle='-')\n",
    "\n",
    "    # 凡例\n",
    "    plt.legend(loc='center left', bbox_to_anchor=(1, 0.5), borderaxespad=0.5, frameon=True,  prop=fp)\n",
    "\n",
    "    # グラフの重なりを解消\n",
    "    plt.tight_layout()\n",
    "    plt.subplots_adjust(top=0.82)\n",
    "    \n",
    "    \n",
    "    plt.show()"
   ]
  },
  {
   "cell_type": "code",
   "execution_count": 11,
   "metadata": {
    "scrolled": true
   },
   "outputs": [
    {
     "data": {
      "image/png": "[encoded data removed]",
      "text/plain": [
       "<matplotlib.figure.Figure at 0x1165420a748>"
      ]
     },
     "metadata": {},
     "output_type": "display_data"
    }
   ],
   "source": [
    "# 機器使用スケジュールの確認\n",
    "plot_hourly_bar_chart('使用スケジュール', \n",
    "                      Schedule, \n",
    "                      '4人標準',\n",
    "                       \"時間[min/hour]\",  0, 20, 5, 1/60)"
   ]
  },
  {
   "cell_type": "markdown",
   "metadata": {},
   "source": [
    "### 付録1：サンプルコード"
   ]
  },
  {
   "cell_type": "markdown",
   "metadata": {},
   "source": [
    "4人標準世帯の標準条件について、サンプルコードを示す。"
   ]
  },
  {
   "cell_type": "code",
   "execution_count": 12,
   "metadata": {
    "collapsed": true
   },
   "outputs": [],
   "source": [
    "def get_spec(app_type):\n",
    "    '''機器仕様を取得する'''\n",
    "    # app_type：機器タイプ\n",
    "    \n",
    "    # 機器仕様の取得\n",
    "    try:\n",
    "        spec = Spec[app_type]\n",
    "    except:\n",
    "        raise\n",
    "    \n",
    "    return spec"
   ]
  },
  {
   "cell_type": "code",
   "execution_count": 13,
   "metadata": {
    "collapsed": true
   },
   "outputs": [],
   "source": [
    "def get_dt(time_use_type, time_of_day, schedule_name):\n",
    "    \"\"\"機器使用スケジュールを取得する\"\"\"\n",
    "    # time_use_type：['Weekdays', 'Holidays_st', 'Holidays_go']\n",
    "    # time_of_day：時刻（0-23）\n",
    "    # schedule_name：スケジュール名\n",
    "     \n",
    "    # スケジュールの取得\n",
    "    try:\n",
    "        schedule_set = Schedule[schedule_name]\n",
    "    except:\n",
    "        raise\n",
    "        \n",
    "    # 動作状態のタイプ\n",
    "    app_status_types = list(schedule_set)\n",
    "\n",
    "    # 時間超過の確認\n",
    "    dt = []\n",
    "    for app_status_type in enumerate(app_status_types):\n",
    "        dt = dt + schedule_set[app_status_type][time_use_type]\n",
    "\n",
    "    check_duration(dt) \n",
    "    \n",
    "    return dt"
   ]
  },
  {
   "cell_type": "code",
   "execution_count": 14,
   "metadata": {
    "collapsed": true
   },
   "outputs": [],
   "source": [
    "def calc_EE_ac_opg(dt, app):\n",
    "    \"\"\"AC電源接続下の稼働時における消費電力量[Wh]を計算する\"\"\"\n",
    "    # dt：単位時間における継続時間の合計[s](PowerSource型(AppStatus型))\n",
    "    # app：機器の仕様[-](AppSpec型)\n",
    "    \n",
    "    # AC電源接続時の単位時間における継続時間の合計[s]\n",
    "    dt_ac_opg = dt.ac.opg\n",
    "    \n",
    "    # AC電源接続時の消費電力[W]\n",
    "    p_ac_opg = P_opg(app['Prtd_opg'])\n",
    "    \n",
    "    # AC電源接続時の消費電力量[Wh]\n",
    "    ee_ac_opg = EE_ac_opg([dt_ac_opg], [p_ac_opg])\n",
    "    \n",
    "    return ee_ac_opg"
   ]
  },
  {
   "cell_type": "code",
   "execution_count": 15,
   "metadata": {
    "collapsed": true
   },
   "outputs": [],
   "source": [
    "def calc_EE_Iron_verP4(time_use_type, time_of_day, app_type, schedule_name):\n",
    "    \"\"\"アイロンの単位時間当たりの消費電力量を計算する（ver自立P4）\"\"\"\n",
    "    # time_use_type：['Weekdays', 'Holidays_st', 'Holidays_go']\n",
    "    # time_of_day：時刻（0-23） \n",
    "    # app_type：機器タイプ  \n",
    "    # schedule_name：スケジュール名 \n",
    "    \n",
    "    # 機器使用スケジュール[s]を取得\n",
    "    dt = get_dt(time_use_type, time_of_day, schedule_name)\n",
    "    \n",
    "    # 機器仕様を取得\n",
    "    app = get_spec(app_type)\n",
    "    \n",
    "    # AC電源接続下の稼働時における消費電力量[Wh]を計算\n",
    "    ee_ac_opg = calc_EE_ac_opg(dt, app)\n",
    "    \n",
    "    # AC電源接続時における消費電力量[Wh]を計算\n",
    "    ee_ac = EE_ac ([ee_ac_opg])\n",
    "    \n",
    "    return ee_ac, ee_ac_opg"
   ]
  },
  {
   "cell_type": "markdown",
   "metadata": {},
   "source": [
    "4人標準世帯の標準条件に対して、サンプルコードにより平日、休日在宅、休日外出の時刻別消費電力量を計算した結果を示す。"
   ]
  },
  {
   "cell_type": "code",
   "execution_count": 16,
   "metadata": {
    "scrolled": false
   },
   "outputs": [
    {
     "ename": "NameError",
     "evalue": "name 'schd_list' is not defined",
     "output_type": "error",
     "traceback": [
      "\u001b[1;31m---------------------------------------------------------------------------\u001b[0m",
      "\u001b[1;31mNameError\u001b[0m                                 Traceback (most recent call last)",
      "\u001b[1;32m<ipython-input-16-5f87078dbb09>\u001b[0m in \u001b[0;36m<module>\u001b[1;34m()\u001b[0m\n\u001b[0;32m      1\u001b[0m \u001b[1;31m# 消費電力量の計算\u001b[0m\u001b[1;33m\u001b[0m\u001b[1;33m\u001b[0m\u001b[0m\n\u001b[1;32m----> 2\u001b[1;33m \u001b[0mcalc_EE\u001b[0m \u001b[1;33m=\u001b[0m \u001b[0mnp\u001b[0m\u001b[1;33m.\u001b[0m\u001b[0mvectorize\u001b[0m\u001b[1;33m(\u001b[0m\u001b[0mcalc_EE_Iron_verP4\u001b[0m\u001b[1;33m)\u001b[0m\u001b[1;33m(\u001b[0m\u001b[0mnp\u001b[0m\u001b[1;33m.\u001b[0m\u001b[0marray\u001b[0m\u001b[1;33m(\u001b[0m\u001b[1;33m[\u001b[0m\u001b[1;33m[\u001b[0m\u001b[1;36m0\u001b[0m\u001b[1;33m]\u001b[0m\u001b[1;33m,\u001b[0m \u001b[1;33m[\u001b[0m\u001b[1;36m1\u001b[0m\u001b[1;33m]\u001b[0m\u001b[1;33m,\u001b[0m \u001b[1;33m[\u001b[0m\u001b[1;36m2\u001b[0m\u001b[1;33m]\u001b[0m\u001b[1;33m]\u001b[0m\u001b[1;33m)\u001b[0m\u001b[1;33m,\u001b[0m \u001b[0mnp\u001b[0m\u001b[1;33m.\u001b[0m\u001b[0marray\u001b[0m\u001b[1;33m(\u001b[0m\u001b[1;33m[\u001b[0m\u001b[0mnp\u001b[0m\u001b[1;33m.\u001b[0m\u001b[0marange\u001b[0m\u001b[1;33m(\u001b[0m\u001b[1;36m24\u001b[0m\u001b[1;33m)\u001b[0m\u001b[1;33m]\u001b[0m\u001b[1;33m*\u001b[0m\u001b[1;36m3\u001b[0m\u001b[1;33m)\u001b[0m\u001b[1;33m,\u001b[0m \u001b[1;34m'Iron00'\u001b[0m\u001b[1;33m,\u001b[0m \u001b[1;36m0\u001b[0m\u001b[1;33m)\u001b[0m\u001b[1;33m\u001b[0m\u001b[0m\n\u001b[0m",
      "\u001b[1;32mC:\\Users\\habara\\Anaconda3\\lib\\site-packages\\numpy\\lib\\function_base.py\u001b[0m in \u001b[0;36m__call__\u001b[1;34m(self, *args, **kwargs)\u001b[0m\n\u001b[0;32m   2574\u001b[0m             \u001b[0mvargs\u001b[0m\u001b[1;33m.\u001b[0m\u001b[0mextend\u001b[0m\u001b[1;33m(\u001b[0m\u001b[1;33m[\u001b[0m\u001b[0mkwargs\u001b[0m\u001b[1;33m[\u001b[0m\u001b[0m_n\u001b[0m\u001b[1;33m]\u001b[0m \u001b[1;32mfor\u001b[0m \u001b[0m_n\u001b[0m \u001b[1;32min\u001b[0m \u001b[0mnames\u001b[0m\u001b[1;33m]\u001b[0m\u001b[1;33m)\u001b[0m\u001b[1;33m\u001b[0m\u001b[0m\n\u001b[0;32m   2575\u001b[0m \u001b[1;33m\u001b[0m\u001b[0m\n\u001b[1;32m-> 2576\u001b[1;33m         \u001b[1;32mreturn\u001b[0m \u001b[0mself\u001b[0m\u001b[1;33m.\u001b[0m\u001b[0m_vectorize_call\u001b[0m\u001b[1;33m(\u001b[0m\u001b[0mfunc\u001b[0m\u001b[1;33m=\u001b[0m\u001b[0mfunc\u001b[0m\u001b[1;33m,\u001b[0m \u001b[0margs\u001b[0m\u001b[1;33m=\u001b[0m\u001b[0mvargs\u001b[0m\u001b[1;33m)\u001b[0m\u001b[1;33m\u001b[0m\u001b[0m\n\u001b[0m\u001b[0;32m   2577\u001b[0m \u001b[1;33m\u001b[0m\u001b[0m\n\u001b[0;32m   2578\u001b[0m     \u001b[1;32mdef\u001b[0m \u001b[0m_get_ufunc_and_otypes\u001b[0m\u001b[1;33m(\u001b[0m\u001b[0mself\u001b[0m\u001b[1;33m,\u001b[0m \u001b[0mfunc\u001b[0m\u001b[1;33m,\u001b[0m \u001b[0margs\u001b[0m\u001b[1;33m)\u001b[0m\u001b[1;33m:\u001b[0m\u001b[1;33m\u001b[0m\u001b[0m\n",
      "\u001b[1;32mC:\\Users\\habara\\Anaconda3\\lib\\site-packages\\numpy\\lib\\function_base.py\u001b[0m in \u001b[0;36m_vectorize_call\u001b[1;34m(self, func, args)\u001b[0m\n\u001b[0;32m   2644\u001b[0m             \u001b[0mres\u001b[0m \u001b[1;33m=\u001b[0m \u001b[0mfunc\u001b[0m\u001b[1;33m(\u001b[0m\u001b[1;33m)\u001b[0m\u001b[1;33m\u001b[0m\u001b[0m\n\u001b[0;32m   2645\u001b[0m         \u001b[1;32melse\u001b[0m\u001b[1;33m:\u001b[0m\u001b[1;33m\u001b[0m\u001b[0m\n\u001b[1;32m-> 2646\u001b[1;33m             \u001b[0mufunc\u001b[0m\u001b[1;33m,\u001b[0m \u001b[0motypes\u001b[0m \u001b[1;33m=\u001b[0m \u001b[0mself\u001b[0m\u001b[1;33m.\u001b[0m\u001b[0m_get_ufunc_and_otypes\u001b[0m\u001b[1;33m(\u001b[0m\u001b[0mfunc\u001b[0m\u001b[1;33m=\u001b[0m\u001b[0mfunc\u001b[0m\u001b[1;33m,\u001b[0m \u001b[0margs\u001b[0m\u001b[1;33m=\u001b[0m\u001b[0margs\u001b[0m\u001b[1;33m)\u001b[0m\u001b[1;33m\u001b[0m\u001b[0m\n\u001b[0m\u001b[0;32m   2647\u001b[0m \u001b[1;33m\u001b[0m\u001b[0m\n\u001b[0;32m   2648\u001b[0m             \u001b[1;31m# Convert args to object arrays first\u001b[0m\u001b[1;33m\u001b[0m\u001b[1;33m\u001b[0m\u001b[0m\n",
      "\u001b[1;32mC:\\Users\\habara\\Anaconda3\\lib\\site-packages\\numpy\\lib\\function_base.py\u001b[0m in \u001b[0;36m_get_ufunc_and_otypes\u001b[1;34m(self, func, args)\u001b[0m\n\u001b[0;32m   2604\u001b[0m \u001b[1;33m\u001b[0m\u001b[0m\n\u001b[0;32m   2605\u001b[0m             \u001b[0minputs\u001b[0m \u001b[1;33m=\u001b[0m \u001b[1;33m[\u001b[0m\u001b[0marg\u001b[0m\u001b[1;33m.\u001b[0m\u001b[0mflat\u001b[0m\u001b[1;33m[\u001b[0m\u001b[1;36m0\u001b[0m\u001b[1;33m]\u001b[0m \u001b[1;32mfor\u001b[0m \u001b[0marg\u001b[0m \u001b[1;32min\u001b[0m \u001b[0margs\u001b[0m\u001b[1;33m]\u001b[0m\u001b[1;33m\u001b[0m\u001b[0m\n\u001b[1;32m-> 2606\u001b[1;33m             \u001b[0moutputs\u001b[0m \u001b[1;33m=\u001b[0m \u001b[0mfunc\u001b[0m\u001b[1;33m(\u001b[0m\u001b[1;33m*\u001b[0m\u001b[0minputs\u001b[0m\u001b[1;33m)\u001b[0m\u001b[1;33m\u001b[0m\u001b[0m\n\u001b[0m\u001b[0;32m   2607\u001b[0m \u001b[1;33m\u001b[0m\u001b[0m\n\u001b[0;32m   2608\u001b[0m             \u001b[1;31m# Performance note: profiling indicates that -- for simple\u001b[0m\u001b[1;33m\u001b[0m\u001b[1;33m\u001b[0m\u001b[0m\n",
      "\u001b[1;32m<ipython-input-15-e2e9bdecbca6>\u001b[0m in \u001b[0;36mcalc_EE_Iron_verP4\u001b[1;34m(time_use_type, time_of_day, app_type, schedule_name)\u001b[0m\n\u001b[0;32m      7\u001b[0m \u001b[1;33m\u001b[0m\u001b[0m\n\u001b[0;32m      8\u001b[0m     \u001b[1;31m# 機器使用スケジュール[s]を取得\u001b[0m\u001b[1;33m\u001b[0m\u001b[1;33m\u001b[0m\u001b[0m\n\u001b[1;32m----> 9\u001b[1;33m     \u001b[0mdt\u001b[0m \u001b[1;33m=\u001b[0m \u001b[0mget_dt\u001b[0m\u001b[1;33m(\u001b[0m\u001b[0mtime_use_type\u001b[0m\u001b[1;33m,\u001b[0m \u001b[0mtime_of_day\u001b[0m\u001b[1;33m,\u001b[0m \u001b[0mschedule_name\u001b[0m\u001b[1;33m)\u001b[0m\u001b[1;33m\u001b[0m\u001b[0m\n\u001b[0m\u001b[0;32m     10\u001b[0m \u001b[1;33m\u001b[0m\u001b[0m\n\u001b[0;32m     11\u001b[0m     \u001b[1;31m# 機器仕様を取得\u001b[0m\u001b[1;33m\u001b[0m\u001b[1;33m\u001b[0m\u001b[0m\n",
      "\u001b[1;32m<ipython-input-13-cd27c2b05ad5>\u001b[0m in \u001b[0;36mget_dt\u001b[1;34m(time_use_type, time_of_day, schd_number)\u001b[0m\n\u001b[0;32m     12\u001b[0m \u001b[1;33m\u001b[0m\u001b[0m\n\u001b[0;32m     13\u001b[0m     \u001b[1;31m# スケジュールの取得\u001b[0m\u001b[1;33m\u001b[0m\u001b[1;33m\u001b[0m\u001b[0m\n\u001b[1;32m---> 14\u001b[1;33m     \u001b[1;32mif\u001b[0m  \u001b[0mschd_number\u001b[0m \u001b[1;33m<=\u001b[0m \u001b[0mlen\u001b[0m\u001b[1;33m(\u001b[0m\u001b[0mschd_list\u001b[0m\u001b[1;33m)\u001b[0m \u001b[1;33m:\u001b[0m\u001b[1;33m\u001b[0m\u001b[0m\n\u001b[0m\u001b[0;32m     15\u001b[0m         \u001b[0mschd\u001b[0m \u001b[1;33m=\u001b[0m \u001b[0mschd_list\u001b[0m\u001b[1;33m[\u001b[0m\u001b[0mschd_number\u001b[0m\u001b[1;33m]\u001b[0m\u001b[1;33m\u001b[0m\u001b[0m\n\u001b[0;32m     16\u001b[0m     \u001b[1;32melse\u001b[0m\u001b[1;33m:\u001b[0m\u001b[1;33m\u001b[0m\u001b[0m\n",
      "\u001b[1;31mNameError\u001b[0m: name 'schd_list' is not defined"
     ]
    }
   ],
   "source": [
    "# 消費電力量の計算\n",
    "calc_EE = np.vectorize(calc_EE_Iron_verP4)(np.array([[0], [1], [2]]), np.array([np.arange(24)]*3), 'Iron00', 0)"
   ]
  },
  {
   "cell_type": "code",
   "execution_count": null,
   "metadata": {
    "collapsed": true
   },
   "outputs": [],
   "source": [
    "# 消費電力量の計算結果\n",
    "result = AppStatus(opg = TimeUseType (weekdays = calc_EE[1][0], holidays_st = calc_EE[1][1], holidays_go = calc_EE[1][2]))\n",
    "EE = PowerSource(ac = result)"
   ]
  },
  {
   "cell_type": "code",
   "execution_count": null,
   "metadata": {
    "collapsed": true,
    "scrolled": true
   },
   "outputs": [],
   "source": [
    "EE"
   ]
  },
  {
   "cell_type": "code",
   "execution_count": null,
   "metadata": {
    "collapsed": true,
    "scrolled": true
   },
   "outputs": [],
   "source": [
    "# 消費電力量の計算結果のグラフ\n",
    "draw_hourly_bar_chart(EE, '4人標準', [\"平日\", \"休日在宅\", \"休日外出\"], [\"AC稼働\"], \"消費電力量[Wh/h]\", 0, 100, 20, 1)"
   ]
  }
 ],
 "metadata": {
  "kernelspec": {
   "display_name": "Python 3",
   "language": "python",
   "name": "python3"
  },
  "language_info": {
   "codemirror_mode": {
    "name": "ipython",
    "version": 3
   },
   "file_extension": ".py",
   "mimetype": "text/x-python",
   "name": "python",
   "nbconvert_exporter": "python",
   "pygments_lexer": "ipython3",
   "version": "3.6.1"
  },
  "toc": {
   "nav_menu": {},
   "number_sections": true,
   "sideBar": true,
   "skip_h1_title": false,
   "toc_cell": false,
   "toc_position": {
    "height": "564px",
    "left": "0px",
    "right": "1068px",
    "top": "106px",
    "width": "212px"
   },
   "toc_section_display": "block",
   "toc_window_display": true
  }
 },
 "nbformat": 4,
 "nbformat_minor": 2
}
