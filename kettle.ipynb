{
 "cells": [
  {
   "cell_type": "code",
   "execution_count": 1,
   "metadata": {},
   "outputs": [
    {
     "name": "stdout",
     "output_type": "stream",
     "text": [
      "Importing Jupyter notebook from common_data.ipynb\n"
     ]
    }
   ],
   "source": [
    "import numpy as np  \n",
    "\n",
    "# matplotlib\n",
    "# ライブラリーのインポート\n",
    "import matplotlib.pyplot as plt\n",
    "# インライン表示\n",
    "%matplotlib inline\n",
    "# 日本語フォント\n",
    "import pylab\n",
    "from matplotlib.font_manager import FontProperties\n",
    "\n",
    "# ipynbのインポート\n",
    "import nbimporter\n",
    "from common_data import get_calendar"
   ]
  },
  {
   "cell_type": "markdown",
   "metadata": {},
   "source": [
    "# 家電機器"
   ]
  },
  {
   "cell_type": "markdown",
   "metadata": {},
   "source": [
    "## 10.　電気ポット（ver自立P4）"
   ]
  },
  {
   "cell_type": "markdown",
   "metadata": {},
   "source": [
    "### 10.1　定義"
   ]
  },
  {
   "cell_type": "markdown",
   "metadata": {},
   "source": [
    "電気ポットの動作状態および機能は、以下を想定する。"
   ]
  },
  {
   "cell_type": "markdown",
   "metadata": {},
   "source": [
    "* 稼働－湯沸かし\n",
    "* 待機－保温"
   ]
  },
  {
   "cell_type": "markdown",
   "metadata": {},
   "source": [
    "想定する動作状態および機能に対応する添え字は、以下のとおりである。なお、機器の動作状態機能との対応が単純であるため、機能に対応する添え字は省略する。  \n",
    "\n",
    "|居住者による使用状態 |機器の電源接続状態 |機器の動作状態 |機器の機能 |添え字 |備考  　　　|  \n",
    "|:-------------------:|:-----------------:|:-------------:|:---------:|:-----:|:----------:|    \n",
    "|使用                 |AC電源接続         |稼働           |湯沸かし   |opg    |-     　　　|  \n",
    "|非使用               |AC電源接続         |待機           |保温       |sby    |-     　　　| "
   ]
  },
  {
   "cell_type": "markdown",
   "metadata": {},
   "source": [
    "### 10.2　消費電力量"
   ]
  },
  {
   "cell_type": "markdown",
   "metadata": {},
   "source": [
    "日付$d$の時刻$t$における電気ポットの消費電力量$E_{E,Kettle,d,t}$は、式(1)により表される。"
   ]
  },
  {
   "cell_type": "markdown",
   "metadata": {},
   "source": [
    "$$ \n",
    "\\begin{equation*}\n",
    "    E_{E,Kettle,d,t} = E_{E,opg,d,t} + E_{E,sby,d,t} \n",
    "\\end{equation*}\n",
    "$$\n",
    "\n",
    "\n",
    "<div style=\"text-align: right;\"> (1) </div>"
   ]
  },
  {
   "cell_type": "markdown",
   "metadata": {},
   "source": [
    "ここで、  \n",
    "\n",
    "$E_{E,Kettle,d,t}$：日付$d$の時刻$t$における電気ポットの単位時間当たりの消費電力量[Wh]  \n",
    "$E_{E,opg,d,t}$：日付$d$の時刻$t$における稼働時の単位時間当たりの消費電力量[Wh]  \n",
    "$E_{E,sby,d,t}$：日付$d$の時刻$t$における待機時の単位時間当たりの消費電力量[Wh]  \n",
    "\n",
    "である。"
   ]
  },
  {
   "cell_type": "code",
   "execution_count": 2,
   "metadata": {},
   "outputs": [],
   "source": [
    "def EE_app (EE_opg, EE_sby):\n",
    "    '''消費電力量[Wh]を計算する'''\n",
    "    # EE_opg：稼働時の消費電力量[Wh]\n",
    "    # EE_sby：待機時の消費電力量[Wh]\n",
    "    \n",
    "    return EE_opg + EE_sby"
   ]
  },
  {
   "cell_type": "markdown",
   "metadata": {},
   "source": [
    "日付$d$の時刻$t$における稼働時の消費電力量$E_{E,opg,d,t}$および待機時の消費電力量$E_{E,sby,d,t}$は、式(2)および式(3)により計算される。"
   ]
  },
  {
   "cell_type": "markdown",
   "metadata": {},
   "source": [
    "<p style=\"text-indent:2em\">稼働時の消費電力量：</p>  \n",
    "$$ \n",
    "\\begin{equation*}\n",
    "    E_{E,opg,d,t} = P_{opg} \\times dt_{opg,d,t} \\div 3600\n",
    "\\end{equation*}\n",
    "$$\n",
    "\n",
    "\n",
    "<div style=\"text-align: right;\"> (2) </div>"
   ]
  },
  {
   "cell_type": "markdown",
   "metadata": {},
   "source": [
    "<p style=\"text-indent:2em\">待機時の消費電力量：</p>  \n",
    "$$ \n",
    "\\begin{equation*}\n",
    "    E_{E,sby,d,t} = P_{sby} \\times dt_{sby,d,t} \\div 3600\n",
    "\\end{equation*}\n",
    "$$\n",
    "\n",
    "\n",
    "<div style=\"text-align: right;\"> (3) </div>"
   ]
  },
  {
   "cell_type": "markdown",
   "metadata": {},
   "source": [
    "ただし、式(4)を満たす。\n",
    "$$ \n",
    "\\begin{equation*}\n",
    "    dt_{opg,d,t} + dt_{sby,d,t} = dt_{calc}\n",
    "\\end{equation*}\n",
    "$$\n",
    "<div style=\"text-align: right;\"> (4) </div>"
   ]
  },
  {
   "cell_type": "markdown",
   "metadata": {},
   "source": [
    "ここで、  \n",
    "\n",
    "$dt_{calc}$：単位時間[s]   \n",
    "$dt_{opg,d,t}$：日付$d$の時刻$t$における稼働時間の合計[s]  \n",
    "$dt_{sby,d,t}$：日付$d$の時刻$t$における待機時間の合計[s]   \n",
    "$E_{E,opg,d,t}$：日付$d$の時刻$t$における稼働時の単位時間当たりの消費電力量[Wh]   \n",
    "$E_{E,sby,d,t}$：日付$d$の時刻$t$における待機時の単位時間当たりの消費電力量[Wh]   \n",
    "$P_{opg}$：稼働時の平均消費電力[W]  \n",
    "$P_{sby}$：待機時の消費電力[W]  \n",
    "\n",
    "である。"
   ]
  },
  {
   "cell_type": "code",
   "execution_count": 3,
   "metadata": {},
   "outputs": [],
   "source": [
    "def EE_opg (P_opg, dt_opg):\n",
    "    '''稼働時の消費電力量[Wh]を計算する'''\n",
    "    # P_opg：稼働時の消費電力[W]    \n",
    "    # dt_opg：稼働時間の合計[s]\n",
    "  \n",
    "    return P_opg * dt_opg / 3600"
   ]
  },
  {
   "cell_type": "code",
   "execution_count": 4,
   "metadata": {},
   "outputs": [],
   "source": [
    "def EE_sby (P_sby, dt_sby):\n",
    "    '''待機時の消費電力量[Wh]を計算する'''\n",
    "    # P_sby：待機時の消費電力[W]\n",
    "    # dt_sby：待機時間の合計[s]\n",
    " \n",
    "    return P_sby * dt_sby  / 3600"
   ]
  },
  {
   "cell_type": "code",
   "execution_count": 5,
   "metadata": {},
   "outputs": [],
   "source": [
    "def check_duration (dt):\n",
    "    '''合計が単位時間を超過しないか否かを確認する'''\n",
    "    # dt：稼働時間の合計[s](list型)\n",
    "    # dt_calc：単位時間[s]\n",
    "    \n",
    "    dt_calc = 3600.\n",
    "    \n",
    "    # 継続時間を積算する\n",
    "    dt_sum = sum(dt)\n",
    "    \n",
    "    # エラーチェック\n",
    "    if dt_calc != dt_sum:\n",
    "        # 単位時間と異なる => エラー\n",
    "        try:\n",
    "            raise Exception('機器動作スケジュールに不正があります。')\n",
    "        except Exception:\n",
    "            raise\n",
    "    else:\n",
    "        pass"
   ]
  },
  {
   "cell_type": "markdown",
   "metadata": {},
   "source": [
    "### 10.3　稼働時の消費電力"
   ]
  },
  {
   "cell_type": "markdown",
   "metadata": {},
   "source": [
    "日付$d$の時刻$t$における稼働時の消費電力は、式(5)により計算される。"
   ]
  },
  {
   "cell_type": "markdown",
   "metadata": {},
   "source": [
    "<p style=\"text-indent:2em\">稼働時の消費電力：</p>  \n",
    "$$ \n",
    "\\begin{equation*}\n",
    "    P_{opg} = E_{E,msrd,opg}\n",
    "\\end{equation*}\n",
    "$$\n",
    "\n",
    "<div style=\"text-align: right;\"> (5) </div>"
   ]
  },
  {
   "cell_type": "markdown",
   "metadata": {},
   "source": [
    "ここで、   \n",
    "\n",
    "$P_{opg}$：稼働時の平均消費電力[W]  \n",
    "$E_{E,msrd,opg}$：湯沸かし時における１時間当たりの消費電力量の実測値[Wh/h]  \n",
    "\n",
    "である。"
   ]
  },
  {
   "cell_type": "code",
   "execution_count": 6,
   "metadata": {},
   "outputs": [],
   "source": [
    "def P_opg (EE_msrd_opg):\n",
    "    '''稼働時の消費電力[W]を計算する''' \n",
    "    # EE_msrd_opg：湯沸かし時における１時間当たりの消費電力量の実測値[Wh/h]  \n",
    "    \n",
    "    return EE_msrd_opg"
   ]
  },
  {
   "cell_type": "markdown",
   "metadata": {},
   "source": [
    "### 10.4　待機時の消費電力"
   ]
  },
  {
   "cell_type": "markdown",
   "metadata": {},
   "source": [
    "日付$d$の時刻$t$における待機時の消費電力は、式(6)により計算される。"
   ]
  },
  {
   "cell_type": "markdown",
   "metadata": {},
   "source": [
    "<p style=\"text-indent:2em\">待機時の消費電力：</p>  \n",
    "$$ \n",
    "\\begin{equation*}\n",
    "    P_{sby} = P_{msrd,sby} \n",
    "\\end{equation*}\n",
    "$$\n",
    "\n",
    "<div style=\"text-align: right;\"> (6) </div>"
   ]
  },
  {
   "cell_type": "markdown",
   "metadata": {},
   "source": [
    "ここで、   \n",
    "\n",
    "$P_{sby}$：待機時の消費電力[W]  \n",
    "$P_{msrd,sby}$：待機時における消費電力の実測値[W]  \n",
    "\n",
    "である。"
   ]
  },
  {
   "cell_type": "code",
   "execution_count": 7,
   "metadata": {},
   "outputs": [],
   "source": [
    "def P_sby (P_msrd_sby):\n",
    "    '''待機時の消費電力[W]を計算する''' \n",
    "    # P_msrd_sby：待機時における消費電力の実測値[W]    \n",
    "    \n",
    "    return P_msrd_sby"
   ]
  },
  {
   "cell_type": "markdown",
   "metadata": {},
   "source": [
    "### 10.5　標準条件"
   ]
  },
  {
   "cell_type": "markdown",
   "metadata": {},
   "source": [
    "#### 10.5.1　機器仕様"
   ]
  },
  {
   "cell_type": "markdown",
   "metadata": {},
   "source": [
    "4人世帯の標準的な機器仕様として、下表の設定を用いることができる。"
   ]
  },
  {
   "cell_type": "markdown",
   "metadata": {},
   "source": [
    "|番号 |湯沸かし時１時間当たりの消費電力量の実測値[Wh/h] |保温時消費電力の実測値[W] |タイプ                   |備考                |  \n",
    "|:---:|:-----------------------------------------------:|:------------------------:|:-----------------------:|:------------------:|\n",
    "|00   |2833.6                                           |28.24                     |電気ポット               |-                   |    \n",
    "|01   |2669.2                                           |20.91                     |魔法瓶電気ポット         |-                   |    \n",
    "|02   |2463.2                                           |8.7                       |魔法瓶電気ポット(省エネ) |-                   |    \n",
    "|03   |2590.8                                           |0.0                       |電気ケトル               |4人標準世帯の既定値 |    "
   ]
  },
  {
   "cell_type": "code",
   "execution_count": 8,
   "metadata": {},
   "outputs": [],
   "source": [
    "Spec  = {\n",
    "    'Kettle00' : {\n",
    "        'EE_msrd_opg' : 2833.6,\n",
    "        'P_msrd_sby'  : 28.24\n",
    "    }, \n",
    "    'Kettle01' : {\n",
    "        'EE_msrd_opg' : 2669.2,\n",
    "        'P_msrd_sby'  : 20.91\n",
    "    },\n",
    "    'Kettle02' : {\n",
    "        'EE_msrd_opg' : 2463.2,\n",
    "        'P_msrd_sby'  : 8.7\n",
    "    },\n",
    "    'Kettle03' : {\n",
    "        'EE_msrd_opg' : 2590.8,\n",
    "        'P_msrd_sby'  : 0.0\n",
    "    }\n",
    "}"
   ]
  },
  {
   "cell_type": "markdown",
   "metadata": {},
   "source": [
    "#### 10.5.2　機器動作スケジュール"
   ]
  },
  {
   "cell_type": "markdown",
   "metadata": {},
   "source": [
    "4人世帯の標準的なスケジュールとして、下表の設定を用いることができる。"
   ]
  },
  {
   "cell_type": "markdown",
   "metadata": {},
   "source": [
    "|番号 |スケジュール名称   |備考 |  \n",
    "|:---:|:-----------------:|:---:|  \n",
    "|00   |4人標準世帯        |-    |  "
   ]
  },
  {
   "cell_type": "markdown",
   "metadata": {},
   "source": [
    "<p style=\"text-indent:2em\">平日：</p>  \n",
    "\n",
    "|時刻                |0  |1  |2  |3  |4  |5  |6  |7  |8  |9  |10 |11 |12 |13 |14 |15 |16 |17 |18 |19 |20 |21 |22 |23 |  \n",
    "|:---:               | -:| -:| -:| -:| -:| -:| -:| -:| -:| -:| -:| -:| -:| -:| -:| -:| -:| -:| -:| -:| -:| -:| -:| -:|  \n",
    "|稼働時間[\\* 60 s]   |  0|  0|  0|  0|  0|  0|  5|  0|  0|  0|  0|  0|  5|  0|  0|  0|  0|  5|  0|  0|  0|  0|  0|  0|  \n",
    "|待機時間[\\* 60 s]   | 60| 60| 60| 60| 60| 60| 55| 60| 60| 60| 60| 60| 55| 60| 60| 60| 60| 55| 60| 60| 60| 60| 60| 60| "
   ]
  },
  {
   "cell_type": "markdown",
   "metadata": {},
   "source": [
    "<p style=\"text-indent:2em\">休日在宅：</p>  \n",
    "\n",
    "|時刻                |0  |1  |2  |3  |4  |5  |6  |7  |8  |9  |10 |11 |12 |13 |14 |15 |16 |17 |18 |19 |20 |21 |22 |23 |  \n",
    "|:---:               | -:| -:| -:| -:| -:| -:| -:| -:| -:| -:| -:| -:| -:| -:| -:| -:| -:| -:| -:| -:| -:| -:| -:| -:|  \n",
    "|稼働時間[\\* 60 s]   |  0|  0|  0|  0|  0|  0|  0|  5|  0|  0|  0|  0|  5|  0|  0|  0|  5|  0|  0|  0|  0|  0|  0|  0|  \n",
    "|待機時間[\\* 60 s]   | 60| 60| 60| 60| 60| 60| 60| 55| 60| 60| 60| 60| 55| 60| 60| 60| 55| 60| 60| 60| 60| 60| 60| 60| "
   ]
  },
  {
   "cell_type": "markdown",
   "metadata": {},
   "source": [
    "<p style=\"text-indent:2em\">休日外出：</p>  \n",
    "\n",
    "|時刻                |0  |1  |2  |3  |4  |5  |6  |7  |8  |9  |10 |11 |12 |13 |14 |15 |16 |17 |18 |19 |20 |21 |22 |23 |  \n",
    "|:---:               | -:| -:| -:| -:| -:| -:| -:| -:| -:| -:| -:| -:| -:| -:| -:| -:| -:| -:| -:| -:| -:| -:| -:| -:|  \n",
    "|稼働時間[\\* 60 s]   |  0|  0|  0|  0|  0|  0|  0|  0|  5|  0|  0|  0|  0|  0|  0|  0|  0|  0|  0|  0|  5|  0|  0|  0|  \n",
    "|待機時間[\\* 60 s]   | 60| 60| 60| 60| 60| 60| 60| 60| 55| 60| 60| 60| 60| 60| 60| 60| 60| 60| 60| 60| 55| 60| 60| 60| "
   ]
  },
  {
   "cell_type": "code",
   "execution_count": 9,
   "metadata": {},
   "outputs": [],
   "source": [
    "Schedule= {\n",
    "    '4p_standard' : {\n",
    "        'Weekdays' : {\n",
    "            'opg' : [0]   *6 + [300] *1 + [0]   *5 + [300] *1 + [0]   *4 + [300] *1 + [0]   *6,\n",
    "            'sby' : [3600]*6 + [3300]*1 + [3600]*5 + [3300]*1 + [3600]*4 + [3300]*1 + [3600]*6\n",
    "        },\n",
    "        'Holidays_st' : {\n",
    "            'opg' : [0]   *7 + [300] *1 + [0]   *4 + [300] *1 + [0]   *3 + [300] *1 + [0]   *7,\n",
    "            'sby' : [3600]*7 + [3300]*1 + [3600]*4 + [3300]*1 + [3600]*3 + [3300]*1 + [3600]*7\n",
    "        },\n",
    "        'Holidays_go' : {\n",
    "            'opg' : [0]   *8 + [300] *1 + [0]   *11 + [300] *1 + [0]   *3,\n",
    "            'sby' : [3600]*8 + [3300]*1 + [3600]*11 + [3300]*1 + [3600]*3\n",
    "        }\n",
    "    }\n",
    "}"
   ]
  },
  {
   "cell_type": "code",
   "execution_count": 10,
   "metadata": {},
   "outputs": [],
   "source": [
    "def plot_hourly_bar_chart(fig_title, y_value_sets, schedule_name, app_status_types, \n",
    "                          y_label, y_lower, y_upper, y_interval, y_convert_unit):\n",
    "    '''横軸が時刻（1時間間隔、0～23時間）の棒グラフを作成する'''\n",
    "    # fig_title：図のタイトル\n",
    "    # y_value_sets：y軸の値\n",
    "    # schedule_name：スケジュール名（string型）\n",
    "    # app_status_types：動作状態のタイプ（dictionary型）\n",
    "    # y_label：y軸のラベル\n",
    "    # y_lower：y軸の表示の下限\n",
    "    # y_ upper：y軸の表示の上限\n",
    "    # y_ interval：y軸の目盛間隔\n",
    "    # y_convert_unit：y軸の単位換算係数\n",
    "\n",
    "    # 日本語フォント\n",
    "    fp = FontProperties(fname='C:\\WINDOWS\\Fonts\\msgothic.ttc', size = 12)\n",
    "    \n",
    "    # 既存スタイルの使用\n",
    "    plt.style.use('seaborn-whitegrid')\n",
    "\n",
    "    # サブプロットの作成\n",
    "    plt.figure(figsize=(12, 3), dpi=80)\n",
    "    \n",
    "    # サブプロットのタイトル\n",
    "    plt.suptitle(fig_title, fontdict={'fontproperties':fp}, fontsize=14)\n",
    "    \n",
    "    # 生活時間タイプ\n",
    "    time_use_types = [ ('Weekdays','平日'), ('Holidays_st','休日在宅'), ('Holidays_go','休日外出') ]\n",
    "\n",
    "    for i, time_use_type in enumerate(time_use_types):\n",
    "        # サブプロットの指定\n",
    "        ax = plt.subplot2grid((1, 3), (0, i))  \n",
    "        \n",
    "        for j, app_status_type in enumerate(list(app_status_types)):\n",
    "            # 棒グラフの作成\n",
    "            # x軸の値\n",
    "            x_value = [k for k in range(24)]\n",
    "            # y軸の値（24時間×動作状態×3スケジュール）\n",
    "            y_value_sets_schedule = y_value_sets\n",
    "            # y軸の値（24時間×動作状態）\n",
    "            y_value_sets_time_use = y_value_sets_schedule[time_use_type[0]]\n",
    "            # y軸の値（24時間->単位変換）\n",
    "            y_value = np.array(y_value_sets_time_use[app_status_type]) * y_convert_unit\n",
    "            # データ系列名\n",
    "            app_status_type_jp = app_status_types[app_status_type]\n",
    "            if len(y_value) > 0:\n",
    "                if j == 0:\n",
    "                    ax.bar(x_value, y_value, align='edge', width=1.0, edgecolor='black', label=app_status_type_jp)\n",
    "                    y_bottom = y_value\n",
    "                else:\n",
    "                    ax.bar(x_value, y_value, align='edge', width=1.0, edgecolor='black', label=app_status_type_jp, bottom=y_bottom)\n",
    "                \n",
    "        # グラフのタイル\n",
    "        schedule_name_jp = schedule_name\n",
    "        ax.set_title(schedule_name_jp +'(' + time_use_type[1] + ')' , fontdict={'fontproperties':fp})\n",
    "\n",
    "        # x軸\n",
    "        # タイトル\n",
    "        ax.set_xlabel(u'時刻', fontdict={'fontproperties':fp})\n",
    "        # 目盛りの位置／ラベル／形式\n",
    "        # 主目盛\n",
    "        ax.set_xticks(np.arange(0, 25, 3), minor=False)\n",
    "        ax.set_xticklabels(np.array([k*3 for k in range(8)]+[0]).astype('str'), minor=False, visible=True)\n",
    "        ax.tick_params(axis='x', which ='major', direction='in', length=3)\n",
    "        # 補助目盛\n",
    "        ax.set_xticks(np.arange(0, 25, 1), minor=True)\n",
    "        ax.set_xticklabels(np.array([k for k in range(24)]+[0]).astype('str'), minor=True, visible=False)\n",
    "        ax.tick_params(axis='x', which ='minor', direction='in', length=3)\n",
    "        # 表示の上限・下限\n",
    "        ax.set_xbound(lower=0, upper=24)\n",
    "\n",
    "        # y軸\n",
    "        #タイトル\n",
    "        ax.set_ylabel(y_label, fontdict={'fontproperties':fp}) \n",
    "        # 目盛りの位置／形式\n",
    "        #ax.set_yticks(np.arange(0, 30, 5))\n",
    "        ax.set_yticks(np.arange(y_lower, y_upper+y_interval, y_interval))\n",
    "        ax.tick_params(axis='y', which ='major', direction='in', length=3)\n",
    "        # 表示の上限・下限\n",
    "        ax.set_ybound(lower=y_lower, upper=y_upper)\n",
    "\n",
    "        # グラフの枠\n",
    "        ax.spines['right'].set_color('black')\n",
    "        ax.spines['left'].set_color('black')\n",
    "        ax.spines['bottom'].set_color('black')\n",
    "        ax.spines['top'].set_color('black')\n",
    "\n",
    "        # 主目盛りのグリッド\n",
    "        ax.grid(which='major', color='lightgray', alpha=0.7, linestyle='-')\n",
    "\n",
    "    # 凡例\n",
    "    plt.legend(loc='center left', bbox_to_anchor=(1, 0.5), borderaxespad=0.5, frameon=True,  prop=fp)\n",
    "\n",
    "    # グラフの重なりを解消\n",
    "    plt.tight_layout()\n",
    "    plt.subplots_adjust(top=0.82)\n",
    "  \n",
    "    plt.show()"
   ]
  },
  {
   "cell_type": "code",
   "execution_count": 11,
   "metadata": {},
   "outputs": [
    {
     "data": {
      "image/png": "[encoded data removed]",
      "text/plain": [
       "<matplotlib.figure.Figure at 0x268ed6dc630>"
      ]
     },
     "metadata": {},
     "output_type": "display_data"
    }
   ],
   "source": [
    "# 機器動作スケジュールの確認\n",
    "plot_hourly_bar_chart('動作スケジュール', \n",
    "                      Schedule['4p_standard'], \n",
    "                      '4人標準',\n",
    "                      {'opg':'稼働', 'sby':'待機'},\n",
    "                       '時間[min/hour]', 0, 60, 10, 1/60)"
   ]
  },
  {
   "cell_type": "markdown",
   "metadata": {},
   "source": [
    "### 付録1：サンプルコード"
   ]
  },
  {
   "cell_type": "markdown",
   "metadata": {},
   "source": [
    "4人標準世帯の標準条件について、サンプルコードを示す。"
   ]
  },
  {
   "cell_type": "code",
   "execution_count": 12,
   "metadata": {},
   "outputs": [],
   "source": [
    "def get_spec(app_type):\n",
    "    '''機器仕様を取得する'''\n",
    "    # app_type：機器タイプ\n",
    "    \n",
    "    # 機器仕様の取得\n",
    "    try:\n",
    "        spec = Spec[app_type]\n",
    "    except:\n",
    "        raise Exception('機器タイプの入力に不正があります。')     \n",
    "    \n",
    "    EE_msrd_opg = spec['EE_msrd_opg']\n",
    "    P_msrd_sby = spec['P_msrd_sby']\n",
    "    \n",
    "    return EE_msrd_opg, P_msrd_sby"
   ]
  },
  {
   "cell_type": "markdown",
   "metadata": {},
   "source": [
    "Example:"
   ]
  },
  {
   "cell_type": "code",
   "execution_count": 13,
   "metadata": {},
   "outputs": [
    {
     "data": {
      "text/plain": [
       "(2590.8, 0.0)"
      ]
     },
     "execution_count": 13,
     "metadata": {},
     "output_type": "execute_result"
    }
   ],
   "source": [
    "ex_EE_msrd_opg, ex_P_msrd_sby = get_spec('Kettle03')\n",
    "ex_EE_msrd_opg, ex_P_msrd_sby"
   ]
  },
  {
   "cell_type": "code",
   "execution_count": 14,
   "metadata": {},
   "outputs": [],
   "source": [
    "def get_dt(time_use_type, time_of_day, schedule_name):\n",
    "    '''機器動作スケジュールを取得する'''\n",
    "    # time_use_type：['Weekdays', 'Holidays_st', 'Holidays_go']\n",
    "    # time_of_day：時刻（0-23）\n",
    "    # schedule_name：スケジュール名\n",
    "     \n",
    "    # スケジュールの取得\n",
    "    try:\n",
    "        schedule_set = Schedule[schedule_name][time_use_type]\n",
    "    except:\n",
    "        raise Exception('スケジュール名の入力に不正があります。')    \n",
    "               \n",
    "    # 動作状態のタイプ\n",
    "    app_status_types = list(schedule_set)\n",
    "    \n",
    "    # 動作状態ごとの継続時間[s]の取得\n",
    "    for i, app_status_type in enumerate(app_status_types):\n",
    "        if app_status_type == 'opg':\n",
    "            dt_opg = schedule_set[app_status_type][time_of_day]\n",
    "        elif app_status_type == 'sby':\n",
    "            dt_sby = schedule_set[app_status_type][time_of_day]\n",
    "        else:\n",
    "            raise Exception\n",
    "            \n",
    "    # 時間超過の確認\n",
    "    check_duration([dt_opg, dt_sby]) \n",
    "    \n",
    "    return dt_opg, dt_sby"
   ]
  },
  {
   "cell_type": "markdown",
   "metadata": {},
   "source": [
    "Example:"
   ]
  },
  {
   "cell_type": "code",
   "execution_count": 15,
   "metadata": {},
   "outputs": [
    {
     "data": {
      "text/plain": [
       "(300, 3300)"
      ]
     },
     "execution_count": 15,
     "metadata": {},
     "output_type": "execute_result"
    }
   ],
   "source": [
    "ex_dt_opg, ex_dt_sby = get_dt('Weekdays', 6, '4p_standard')\n",
    "ex_dt_opg, ex_dt_sby"
   ]
  },
  {
   "cell_type": "code",
   "execution_count": 16,
   "metadata": {},
   "outputs": [],
   "source": [
    "def calc_EE_opg(EE_msrd_opg, dt_opg):\n",
    "    '''稼働時における消費電力量[Wh]を計算する'''\n",
    "    # EE_msrd_opg：湯沸かし時における１時間当たりの消費電力量の実測値[Wh/h]\n",
    "    # dt_opg：稼働時間の合計[s]\n",
    "    \n",
    "    # 稼働時の消費電力[W]\n",
    "    p_opg = P_opg (EE_msrd_opg)\n",
    "       \n",
    "    # 稼働時における消費電力量[Wh]\n",
    "    ee_opg = EE_opg(p_opg, dt_opg)\n",
    "    \n",
    "    return ee_opg"
   ]
  },
  {
   "cell_type": "markdown",
   "metadata": {},
   "source": [
    "Example:"
   ]
  },
  {
   "cell_type": "code",
   "execution_count": 17,
   "metadata": {},
   "outputs": [
    {
     "data": {
      "text/plain": [
       "215.9"
      ]
     },
     "execution_count": 17,
     "metadata": {},
     "output_type": "execute_result"
    }
   ],
   "source": [
    "ex_EE_opg = calc_EE_opg(ex_EE_msrd_opg, ex_dt_opg)\n",
    "ex_EE_opg"
   ]
  },
  {
   "cell_type": "code",
   "execution_count": 18,
   "metadata": {},
   "outputs": [],
   "source": [
    "def calc_EE_sby(P_msrd_sby, dt_sby):\n",
    "    '''稼働時における消費電力量[Wh]を計算する'''\n",
    "    # P_msrd_sby：待機時における消費電力の実測値[W]   \n",
    "    # dt_sby：待機時間の合計[s]\n",
    "    \n",
    "    # 稼働時の消費電力[W]\n",
    "    p_sby = P_sby (P_msrd_sby)\n",
    "       \n",
    "    # '稼働時における消費電力量[Wh]\n",
    "    ee_sby = EE_sby(p_sby, dt_sby)\n",
    "    \n",
    "    return ee_sby"
   ]
  },
  {
   "cell_type": "markdown",
   "metadata": {},
   "source": [
    "Example:"
   ]
  },
  {
   "cell_type": "code",
   "execution_count": 19,
   "metadata": {},
   "outputs": [
    {
     "data": {
      "text/plain": [
       "0.0"
      ]
     },
     "execution_count": 19,
     "metadata": {},
     "output_type": "execute_result"
    }
   ],
   "source": [
    "ex_EE_sby = calc_EE_sby(ex_P_msrd_sby, ex_dt_sby)\n",
    "ex_EE_sby"
   ]
  },
  {
   "cell_type": "code",
   "execution_count": 20,
   "metadata": {},
   "outputs": [],
   "source": [
    "def calc_EE_app(EE_opg, EE_sby):\n",
    "    '''消費電力量[Wh]を計算する'''\n",
    "    # EE_opg：稼働時における消費電力量[Wh]\n",
    "    # EE_sby：待機時における消費電力量[Wh]\n",
    "    \n",
    "    return EE_app(EE_opg, EE_sby)"
   ]
  },
  {
   "cell_type": "markdown",
   "metadata": {},
   "source": [
    "Example:"
   ]
  },
  {
   "cell_type": "code",
   "execution_count": 21,
   "metadata": {},
   "outputs": [
    {
     "data": {
      "text/plain": [
       "215.9"
      ]
     },
     "execution_count": 21,
     "metadata": {},
     "output_type": "execute_result"
    }
   ],
   "source": [
    "ex_EE_app = calc_EE_app(ex_EE_opg, ex_EE_sby)\n",
    "ex_EE_app"
   ]
  },
  {
   "cell_type": "code",
   "execution_count": 22,
   "metadata": {},
   "outputs": [],
   "source": [
    "def calc_EE_Kettle_verP4(time_use_type, time_of_day, app_type, schedule_name):\n",
    "    '''電気ポットの単位時間当たりの消費電力量を計算する（ver自立P4）'''\n",
    "    # time_use_type：['Weekdays', 'Holidays_st', 'Holidays_go']\n",
    "    # time_of_day：時刻（0-23） \n",
    "    # app_type：機器タイプ  \n",
    "    # schedule_name：スケジュール名['4p_standard']\n",
    "    \n",
    "    # 機器動作スケジュール[s]を取得\n",
    "    dt_opg, dt_sby = get_dt(time_use_type, time_of_day, schedule_name)\n",
    "    \n",
    "    # 機器仕様を取得\n",
    "    EE_msrd_opg, P_msrd_sby = get_spec(app_type)\n",
    "    \n",
    "    # 稼働時における消費電力量[Wh]を計算\n",
    "    EE_opg = calc_EE_opg(EE_msrd_opg, dt_opg)\n",
    "    \n",
    "    # 待機時における消費電力量[Wh]を計算\n",
    "    EE_sby = calc_EE_sby(P_msrd_sby, dt_sby)\n",
    "    \n",
    "    # 消費電力量[Wh]を計算\n",
    "    EE_app = calc_EE_app (EE_opg, EE_sby)\n",
    "    \n",
    "    return EE_app, EE_opg, EE_sby"
   ]
  },
  {
   "cell_type": "markdown",
   "metadata": {},
   "source": [
    "Example:"
   ]
  },
  {
   "cell_type": "code",
   "execution_count": 23,
   "metadata": {},
   "outputs": [
    {
     "data": {
      "text/plain": [
       "(215.9, 215.9, 0.0)"
      ]
     },
     "execution_count": 23,
     "metadata": {},
     "output_type": "execute_result"
    }
   ],
   "source": [
    "ex_EE_Kettle = calc_EE_Kettle_verP4('Weekdays', 6, 'Kettle03', '4p_standard')\n",
    "ex_EE_Kettle"
   ]
  },
  {
   "cell_type": "markdown",
   "metadata": {},
   "source": [
    "### 付録2：サンプルコードによる時刻別消費電力量の計算例"
   ]
  },
  {
   "cell_type": "markdown",
   "metadata": {},
   "source": [
    "4人標準世帯の標準条件に対して、サンプルコードにより平日、休日在宅、休日外出の時刻別消費電力量を計算した結果を示す。"
   ]
  },
  {
   "cell_type": "code",
   "execution_count": 24,
   "metadata": {},
   "outputs": [
    {
     "data": {
      "image/png": "[encoded data removed]",
      "text/plain": [
       "<matplotlib.figure.Figure at 0x268eda7e978>"
      ]
     },
     "metadata": {},
     "output_type": "display_data"
    }
   ],
   "source": [
    "# 消費電力量の計算\n",
    "# 入力\n",
    "time_use_type = [['Weekdays'], ['Holidays_st'], ['Holidays_go']]\n",
    "time_of_day = [i for i in range(0, 24, 1)]\n",
    "app_type = 'Kettle03'\n",
    "schedule_name = '4p_standard'\n",
    "\n",
    "# 消費電力量の計算\n",
    "ee_app, ee_opg, ee_sby = np.vectorize(calc_EE_Kettle_verP4)(time_use_type, time_of_day, app_type, schedule_name)\n",
    "\n",
    "# 消費電力量の計算結果\n",
    "EE_Results= {\n",
    "    'Weekdays' : {\n",
    "        'opg' : ee_opg[0],\n",
    "        'sby' : ee_sby[0]\n",
    "    },\n",
    "    'Holidays_st' : {\n",
    "        'opg' : ee_opg[1],\n",
    "        'sby' : ee_sby[1]\n",
    "    },\n",
    "    'Holidays_go' : {\n",
    "        'opg' : ee_opg[2],\n",
    "        'sby' : ee_sby[2]\n",
    "    }\n",
    "}\n",
    "\n",
    "# 消費電力量の計算結果のグラフ\n",
    "# グラフのタイトル\n",
    "app_type_j = {'Kettle00': '電気ポット', 'Kettle01': '魔法瓶電気ポット', \n",
    "              'Kettle01': '魔法瓶電気ポット(省エネ)', 'Kettle03': '電気ケトル'}[app_type]\n",
    "\n",
    "chart_title = '消費電力量（' \\\n",
    "                + '機器タイプ：' + app_type_j + '、' \\\n",
    "                + '稼働時の1時間当たり消費電力量：' + str(Spec[app_type]['EE_msrd_opg']) + 'Wh/h、' \\\n",
    "                + '待機時の消費電力：' + str(Spec[app_type]['P_msrd_sby'])+ 'W' \\\n",
    "                + ')'\n",
    "\n",
    "# グラフの表示                \n",
    "plot_hourly_bar_chart(chart_title, \n",
    "                      EE_Results, \n",
    "                      '4人標準_居間',\n",
    "                      {'opg':'稼働', 'sby':'待機'},\n",
    "                       '消費電力量[Wh/h]', 0, 250, 50, 1)"
   ]
  },
  {
   "cell_type": "markdown",
   "metadata": {},
   "source": [
    "### 付録3：サンプルコードによる年間消費電力量の計算例"
   ]
  },
  {
   "cell_type": "markdown",
   "metadata": {},
   "source": [
    "4人標準世帯の標準条件に対して、サンプルコードにより年間消費電力量を計算した結果を示す。"
   ]
  },
  {
   "cell_type": "code",
   "execution_count": 25,
   "metadata": {},
   "outputs": [],
   "source": [
    "def calc_annual_EE_app(app_type, schedule_name):\n",
    "    '''年間消費電力量[Wh/year]を計算する'''\n",
    "    # app_type：機器タイプ  \n",
    "    # schedule_name：スケジュール名  \n",
    "       \n",
    "    def calc_daily_EE_app(schedule, app_type, schedule_name):\n",
    "        '''1日あたりの消費電力量[Wh/day]を計算する'''\n",
    "        hourly_EE_app = [ calc_EE_Kettle_verP4(schedule, t, app_type, schedule_name)[1] for t in range(0, 24, 1) ]\n",
    "        return sum( hourly_EE_app )\n",
    "    \n",
    "    daily_EE_app = [ calc_daily_EE_app(schedule, app_type, schedule_name) for schedule in get_calendar() ]\n",
    "    return sum( daily_EE_app )"
   ]
  },
  {
   "cell_type": "code",
   "execution_count": 26,
   "metadata": {},
   "outputs": [
    {
     "name": "stdout",
     "output_type": "stream",
     "text": [
      "年間消費電力量：229.93350000000117 kWh/年\n"
     ]
    }
   ],
   "source": [
    "# 年間消費電力量[kWh/year]\n",
    "ex_annual_EE_app = calc_annual_EE_app('Kettle03', '4p_standard')\n",
    "print('年間消費電力量：' + str(ex_annual_EE_app/1000) + ' kWh/年')"
   ]
  }
 ],
 "metadata": {
  "kernelspec": {
   "display_name": "Python 3",
   "language": "python",
   "name": "python3"
  },
  "language_info": {
   "codemirror_mode": {
    "name": "ipython",
    "version": 3
   },
   "file_extension": ".py",
   "mimetype": "text/x-python",
   "name": "python",
   "nbconvert_exporter": "python",
   "pygments_lexer": "ipython3",
   "version": "3.6.4"
  }
 },
 "nbformat": 4,
 "nbformat_minor": 2
}
