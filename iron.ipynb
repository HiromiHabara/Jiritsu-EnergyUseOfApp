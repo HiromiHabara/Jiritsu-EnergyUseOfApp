{
 "cells": [
  {
   "cell_type": "code",
   "execution_count": 1,
   "metadata": {
    "collapsed": true
   },
   "outputs": [],
   "source": [
    "import numpy as np  \n",
    "import math\n",
    "from enum import Enum\n",
    "from collections import namedtuple\n",
    "\n",
    "# matplotlib\n",
    "# ライブラリーのインポート\n",
    "import matplotlib.pyplot as plt\n",
    "# インライン表示\n",
    "%matplotlib inline\n",
    "# 日本語フォント\n",
    "import pylab\n",
    "from matplotlib.font_manager import FontProperties\n",
    "\n",
    "# pandas\n",
    "import pandas as pd  \n",
    "# 常に全ての列（カラム）を表示\n",
    "pd.set_option('display.max_columns', None)"
   ]
  },
  {
   "cell_type": "markdown",
   "metadata": {},
   "source": [
    "# 家電機器"
   ]
  },
  {
   "cell_type": "markdown",
   "metadata": {},
   "source": [
    "## 14.　アイロン（ver自立P4）"
   ]
  },
  {
   "cell_type": "markdown",
   "metadata": {},
   "source": [
    "### 14.1　定義"
   ]
  },
  {
   "cell_type": "markdown",
   "metadata": {},
   "source": [
    "#### 14.1.1　機器の電源接続状態および動作状態"
   ]
  },
  {
   "cell_type": "markdown",
   "metadata": {},
   "source": [
    "アイロンの電源接続状態および動作状態は、以下を想定する。"
   ]
  },
  {
   "cell_type": "markdown",
   "metadata": {},
   "source": [
    "* 電源接続状態：\n",
    "    * 使用時にのみAC電源に接続される。\n",
    "    * 非使用時には電源から切断される。  \n",
    "* 動作状態：\n",
    "    * 使用時には稼働状態のみが発生する。\n",
    "    * 非使用時には停止状態となる。  "
   ]
  },
  {
   "cell_type": "markdown",
   "metadata": {},
   "source": [
    "#### 14.1.2　機器の機能等"
   ]
  },
  {
   "cell_type": "markdown",
   "metadata": {},
   "source": [
    "アイロンが有する機能は、以下を想定する。  "
   ]
  },
  {
   "cell_type": "markdown",
   "metadata": {},
   "source": [
    "* 機能：\n",
    "    * アイロン：主機能である。稼働時に作動する。"
   ]
  },
  {
   "cell_type": "markdown",
   "metadata": {},
   "source": [
    "想定する状態および機能に対応する添え字は以下のとおりである。なお、単機能であるため、機能に対応する添え字は省略する。  \n",
    "\n",
    "| 添え字 | 電源接続状態 | 動作状態 |　機能　 | \n",
    "|:-----: |:-----------: |:-------: |:------: |    \n",
    "|ac,opg  |AC電源接続    |稼働      |アイロン |  "
   ]
  },
  {
   "cell_type": "code",
   "execution_count": 2,
   "metadata": {
    "collapsed": true
   },
   "outputs": [],
   "source": [
    "# 電源接続状態\n",
    "PowerSource = namedtuple (\"PowerSource\", \"ac\")\n",
    "    # ac：AC電源接続"
   ]
  },
  {
   "cell_type": "code",
   "execution_count": 3,
   "metadata": {
    "collapsed": true
   },
   "outputs": [],
   "source": [
    "# 動作状態\n",
    "AppStatus = namedtuple (\"AppStatus\", \"opg\")\n",
    "    # opg：稼働"
   ]
  },
  {
   "cell_type": "markdown",
   "metadata": {},
   "source": [
    "### 14.2　消費電力量"
   ]
  },
  {
   "cell_type": "markdown",
   "metadata": {},
   "source": [
    "日付$d$の時刻$t$におけるアイロンのAC電源接続時の消費電力量$E_{E,Iron,ac,d,t}$は、式(1)により表される。"
   ]
  },
  {
   "cell_type": "markdown",
   "metadata": {},
   "source": [
    "* AC電源接続時：  \n",
    "$$ \n",
    "\\begin{equation*}\n",
    "    E_{E,Iron,ac,d,t} = E_{E,ac,opg,d,t} \n",
    "\\end{equation*}\n",
    "$$\n",
    "\n",
    "\n",
    "<div style=\"text-align: right;\"> (1) </div>"
   ]
  },
  {
   "cell_type": "markdown",
   "metadata": {},
   "source": [
    "ここで、  \n",
    "\n",
    "$E_{E,Iron,ac,d,t}$：日付$d$の時刻$t$におけるAC電源接続時の単位時間当たりの消費電力量[Wh]  \n",
    "$E_{E,ac,opg,d,t}$：日付$d$の時刻$t$におけるAC電源接続下での稼働時の単位時間当たりの消費電力量[Wh]  \n",
    "\n",
    "である。"
   ]
  },
  {
   "cell_type": "code",
   "execution_count": 4,
   "metadata": {
    "collapsed": true
   },
   "outputs": [],
   "source": [
    "def EE_ac (ee_ac):\n",
    "    \"\"\"AC電源接続時の消費電力量[Wh]を計算する\"\"\" \n",
    "    # ee_ac：AC電源接続下での消費電力量[Wh](リスト型)\n",
    "    \n",
    "    return sum(ee_ac)"
   ]
  },
  {
   "cell_type": "markdown",
   "metadata": {},
   "source": [
    "### 14.3　稼働時の消費電力量"
   ]
  },
  {
   "cell_type": "markdown",
   "metadata": {},
   "source": [
    "日付$d$の時刻$t$におけるAC電源接続下での稼働時の消費電力量は、式(2)により計算される。"
   ]
  },
  {
   "cell_type": "markdown",
   "metadata": {},
   "source": [
    "* AC電源接続下での稼働時の消費電力量：  \n",
    "$$ \n",
    "\\begin{equation*}\n",
    "    E_{E,ac,opg,d,t} = P_{opg} \\times dt_{ac,opg,d,t} \\div 3600\n",
    "\\end{equation*}\n",
    "$$\n",
    "\n",
    "\n",
    "<div style=\"text-align: right;\"> (2) </div>"
   ]
  },
  {
   "cell_type": "markdown",
   "metadata": {},
   "source": [
    "ただし、式(3)を満たす。\n",
    "$$ \n",
    "\\begin{equation*}\n",
    "    dt_{ac,opg,d,t} \\leq dt_{calc}\n",
    "\\end{equation*}\n",
    "$$\n",
    "<div style=\"text-align: right;\"> (3) </div>"
   ]
  },
  {
   "cell_type": "markdown",
   "metadata": {},
   "source": [
    "ここで、  \n",
    "\n",
    "$dt_{calc}$：単位時間[s]   \n",
    "$dt_{ac,opg,d,t}$：日付$d$の時刻$t$におけるAC電源接続下での稼働時間の合計[s]  \n",
    "$E_{E,ac,opg,d,t}$：日付$d$の時刻$t$におけるAC電源接続下での稼働時の単位時間当たりの消費電力量[Wh]   \n",
    "$P_{opg,d,t}$：日付$d$の時刻$t$における稼働時の消費電力[W]  \n",
    "\n",
    "である。"
   ]
  },
  {
   "cell_type": "code",
   "execution_count": 5,
   "metadata": {
    "collapsed": true
   },
   "outputs": [],
   "source": [
    "def EE_ac_opg (dt_ac_opg, P_ac_opg):\n",
    "    \"\"\"AC電源接続下での稼働時の消費電力量[Wh]を計算する\"\"\" \n",
    "    # dt_ac_opg：稼働時間の合計[s](リスト型)\n",
    "    # P_ac_opg：稼働時の消費電力[W](リスト型)\n",
    "    \n",
    "    p = np.array(dt_ac_opg)\n",
    "    dt = np.array(P_ac_opg)\n",
    "    \n",
    "    return sum(p * dt) / 3600"
   ]
  },
  {
   "cell_type": "code",
   "execution_count": 6,
   "metadata": {
    "collapsed": true
   },
   "outputs": [],
   "source": [
    "def check_duration (dt):\n",
    "    \"\"\"合計が単位時間を超過しないか否かを確認する\"\"\"\n",
    "    # dt：稼働時間の合計[s](PowerSource型(AppStatus型))\n",
    "    \n",
    "    # dt_calc：単位時間[s]\n",
    "    dt_calc = 3600.\n",
    "    \n",
    "    # 継続時間を積算する\n",
    "    dt_sum = 0\n",
    "    for isource in range(0, len(dt)):\n",
    "        for istatus in range(0, len(dt[isource])):\n",
    "            dt_sum = dt_sum + dt[isource][isource]\n",
    "    \n",
    "    # エラーチェック\n",
    "    if dt_calc < dt_sum:\n",
    "        # 単位時間を超える場合 => エラー\n",
    "        try:\n",
    "            raise ValueError(\"Error: dt_calc < sum(dt)\")\n",
    "        except ValueError as e:\n",
    "            print(e)\n",
    "    else:\n",
    "        pass"
   ]
  },
  {
   "cell_type": "markdown",
   "metadata": {},
   "source": [
    "日付$d$の時刻$t$における稼働時の消費電力は、式(4)により計算される。"
   ]
  },
  {
   "cell_type": "markdown",
   "metadata": {},
   "source": [
    "* 稼働時の消費電力： \n",
    "$$ \n",
    "\\begin{equation*}\n",
    "    P_{opg} = 0.53 \\times P_{rtd,opg} \n",
    "\\end{equation*}\n",
    "$$\n",
    "\n",
    "\n",
    "<div style=\"text-align: right;\"> (4) </div>"
   ]
  },
  {
   "cell_type": "markdown",
   "metadata": {},
   "source": [
    "ここで、   \n",
    "\n",
    "$P_{opg}$：1時間当たりの稼働時の平均消費電力[W]  \n",
    "$P_{rtd,opg}$：定格消費電力[W]  \n",
    "\n",
    "である。"
   ]
  },
  {
   "cell_type": "code",
   "execution_count": 7,
   "metadata": {
    "collapsed": true
   },
   "outputs": [],
   "source": [
    "def P_opg (Prtd_opg):\n",
    "    \"\"\"稼働時の消費電力[W]を計算する\"\"\" \n",
    "    # Prtd_opg：稼働時の消費電力[W]\n",
    "    \n",
    "    return 0.53 * Prtd_opg"
   ]
  },
  {
   "cell_type": "markdown",
   "metadata": {},
   "source": [
    "### 14.4　標準条件"
   ]
  },
  {
   "cell_type": "markdown",
   "metadata": {},
   "source": [
    "#### 14.4.1　機器仕様"
   ]
  },
  {
   "cell_type": "markdown",
   "metadata": {},
   "source": [
    "4人世帯の標準的な機器仕様として、下表の設定を用いることができる。"
   ]
  },
  {
   "cell_type": "markdown",
   "metadata": {},
   "source": [
    "| 番号 | 稼働時の定格消費電力[W] |            備考             |\n",
    "|:---: | :---------------------: | :-------------------------: |\n",
    "|  00  | 1400       　　　　     | 4人標準世帯のデフォルト設定 |"
   ]
  },
  {
   "cell_type": "code",
   "execution_count": 8,
   "metadata": {
    "collapsed": true
   },
   "outputs": [],
   "source": [
    "# 機器仕様\n",
    "AppSpec = namedtuple (\"AppSpec\", \"Prtd_opg\")\n",
    "    # Prtd_opg：定格消費電力[W]"
   ]
  },
  {
   "cell_type": "code",
   "execution_count": 9,
   "metadata": {
    "collapsed": true
   },
   "outputs": [],
   "source": [
    "# 機器仕様：4人標準世帯\n",
    "app_4p_std =AppSpec(Prtd_opg = 1400)"
   ]
  },
  {
   "cell_type": "code",
   "execution_count": 10,
   "metadata": {
    "collapsed": false,
    "scrolled": true
   },
   "outputs": [
    {
     "data": {
      "text/plain": [
       "['Prtd_opg', 1400]"
      ]
     },
     "execution_count": 10,
     "metadata": {},
     "output_type": "execute_result"
    }
   ],
   "source": [
    "# 入力値の確認\n",
    "app = app_4p_std\n",
    "check = []\n",
    "for i in range(len(app)): \n",
    "    check = check + [app._fields[i], app[i]]\n",
    "    \n",
    "check"
   ]
  },
  {
   "cell_type": "code",
   "execution_count": 11,
   "metadata": {
    "collapsed": true
   },
   "outputs": [],
   "source": [
    "# 機器リスト\n",
    "App_List = namedtuple (\"App_List\", \"app00\")\n",
    "    # app@：機器No＠の仕様"
   ]
  },
  {
   "cell_type": "code",
   "execution_count": 12,
   "metadata": {
    "collapsed": true
   },
   "outputs": [],
   "source": [
    "# 自立P4の機器リスト\n",
    "app_list =  App_List(app00 = app_4p_std)"
   ]
  },
  {
   "cell_type": "markdown",
   "metadata": {},
   "source": [
    "#### 14.4.2　機器使用スケジュール"
   ]
  },
  {
   "cell_type": "markdown",
   "metadata": {},
   "source": [
    "4人世帯の標準的なスケジュールとして、下表の設定を用いることができる。"
   ]
  },
  {
   "cell_type": "markdown",
   "metadata": {},
   "source": [
    "| 番号 | スケジュール名称 | 備考 |\n",
    "|:---: | :--------------: | :--: |\n",
    "|  00  | 4人標準世帯      | -    |"
   ]
  },
  {
   "cell_type": "markdown",
   "metadata": {},
   "source": [
    "* 平日：  \n",
    "\n",
    "|時刻                  |0  |1  |2  |3  |4  |5  |6  |7  |8  |9  |10 |11 |12 |13 |14 |15 |16 |17 |18 |19 |20 |21 |22 |23 |  \n",
    "|:---:                 | -:| -:| -:| -:| -:| -:| -:| -:| -:| -:| -:| -:| -:| -:| -:| -:| -:| -:| -:| -:| -:| -:| -:| -:|  \n",
    "|AC稼働時間[\\* 60 s]   |  0|  0|  0|  0|  0|  0|  0|  0|  0|  6|  0|  0|  0|  0|  0|  0|  0|  0|  0|  0|  0|  0|  0|  0|  \n",
    "|電源切断時間[\\* 60 s] | 60| 60| 60| 60| 60| 60| 60| 60| 60| 54| 60| 60| 60| 60| 60| 60| 60| 60| 60| 60| 60| 60| 60| 60| "
   ]
  },
  {
   "cell_type": "markdown",
   "metadata": {},
   "source": [
    "* 休日在宅： \n",
    "\n",
    "|時刻                  |0  |1  |2  |3  |4  |5  |6  |7  |8  |9  |10 |11 |12 |13 |14 |15 |16 |17 |18 |19 |20 |21 |22 |23 |  \n",
    "|:---:                 | -:| -:| -:| -:| -:| -:| -:| -:| -:| -:| -:| -:| -:| -:| -:| -:| -:| -:| -:| -:| -:| -:| -:| -:|  \n",
    "|AC稼働時間[\\* 60 s]   |  0|  0|  0|  0|  0|  0|  0|  0|  0|  0|  0|  0|  0|  0|  0|  0|  6|  0|  0|  0|  0|  0|  0|  0|  \n",
    "|電源切断時間[\\* 60 s] | 60| 60| 60| 60| 60| 60| 60| 60| 60| 60| 60| 60| 60| 60| 60| 60| 54| 60| 60| 60| 60| 60| 60| 60| "
   ]
  },
  {
   "cell_type": "markdown",
   "metadata": {},
   "source": [
    "* 休日外出： \n",
    "\n",
    "|時刻                  |0  |1  |2  |3  |4  |5  |6  |7  |8  |9  |10 |11 |12 |13 |14 |15 |16 |17 |18 |19 |20 |21 |22 |23 |  \n",
    "|:---:                 | -:| -:| -:| -:| -:| -:| -:| -:| -:| -:| -:| -:| -:| -:| -:| -:| -:| -:| -:| -:| -:| -:| -:| -:|  \n",
    "|AC稼働時間[\\* 60 s]   |  0|  0|  0|  0|  0|  0|  0|  0|  0|  0|  0|  0|  0|  0|  0|  0|  0|  0|  0|  0|  0|  0|  0|  0|  \n",
    "|電源切断時間[\\* 60 s] | 60| 60| 60| 60| 60| 60| 60| 60| 60| 60| 60| 60| 60| 60| 60| 60| 60| 60| 60| 60| 60| 60| 60| 60| "
   ]
  },
  {
   "cell_type": "code",
   "execution_count": 13,
   "metadata": {
    "collapsed": true
   },
   "outputs": [],
   "source": [
    "# 生活時間タイプ\n",
    "TimeUseType = namedtuple (\"TimeUseType\", \"weekdays holidays_st holidays_go\")\n",
    "    # weekdays：平日\n",
    "    # holidays_st：休日在宅\n",
    "    # holidays_go：休日外出"
   ]
  },
  {
   "cell_type": "code",
   "execution_count": 14,
   "metadata": {
    "collapsed": true
   },
   "outputs": [],
   "source": [
    "# 機器使用スケジュール：4人標準世帯_AC接続下での稼働時間[s]\n",
    "schd_ac_opg_4p_std = TimeUseType(weekdays = [0]* 9 + [360]*1 + [0]*14,  \n",
    "                              holidays_st = [0]*16 + [360]*1 + [0]* 7, \n",
    "                              holidays_go = [0]*24)"
   ]
  },
  {
   "cell_type": "code",
   "execution_count": 15,
   "metadata": {
    "collapsed": true
   },
   "outputs": [],
   "source": [
    "# スケジュールのセット\n",
    "schd_ac_4p_std = AppStatus (opg = schd_ac_opg_4p_std)\n",
    "schd_4p_std = PowerSource (ac = schd_ac_4p_std)"
   ]
  },
  {
   "cell_type": "code",
   "execution_count": 16,
   "metadata": {
    "collapsed": true
   },
   "outputs": [],
   "source": [
    "# スケジュールセットのリスト\n",
    "Schd_List = namedtuple (\"Schd_List\", \"schd00\")\n",
    "    # schd@：スケジュールNo＠の仕様"
   ]
  },
  {
   "cell_type": "code",
   "execution_count": 17,
   "metadata": {
    "collapsed": true
   },
   "outputs": [],
   "source": [
    "# 自立P4のスケジュールリスト\n",
    "schd_list =  Schd_List(schd00 = schd_4p_std)"
   ]
  },
  {
   "cell_type": "code",
   "execution_count": 18,
   "metadata": {
    "collapsed": true
   },
   "outputs": [],
   "source": [
    "def draw_hourly_bar_chart(y_value_set, y_value_set_name, chart_title, category_label, y_label, y_lower, y_upper, y_interval, y_convert_unit):\n",
    "    \"\"\"横軸が時刻（1時間間隔、0～23時間）の棒グラフを作成する\"\"\"\n",
    "    # y_value_set：y軸の値\n",
    "    # y_value_set_name：y軸の値のデータセット名\n",
    "    # chart_title：グラフのタイトル\n",
    "    # category_label：カテゴリーのラベル\n",
    "    # y_label：y軸のラベル\n",
    "    # y_lower：y軸の表示の下限\n",
    "    # y_ upper：y軸の表示の上限\n",
    "    # y_ interval：y軸の目盛間隔\n",
    "    # y_convert_unit：y軸の単位換算係数\n",
    "\n",
    "    # 日本語フォント\n",
    "    fp = FontProperties(fname='C:\\WINDOWS\\Fonts\\msgothic.ttc', size = 12)\n",
    "    \n",
    "    # 既存スタイルの使用\n",
    "    plt.style.use('seaborn-whitegrid')\n",
    "\n",
    "    # サブプロットの作成\n",
    "    plt.figure(figsize=(12, 3), dpi=80)\n",
    "\n",
    "    for irow in range(0, len(y_value_set_name)):\n",
    "        # y軸の値（データセットごと）\n",
    "        y_value = y_value_set[irow]\n",
    "\n",
    "        for icolumn in range(0, len(chart_title)):\n",
    "            # サブプロットの指定\n",
    "            ax = plt.subplot2grid((len(y_value_set_name), len(chart_title)), (irow, icolumn))\n",
    "\n",
    "            # 棒グラフの作成\n",
    "            # x軸の値（項目ごと）\n",
    "            x_value = np.array([k for k in range(24)])\n",
    "            \n",
    "            for isource in range(0, len(y_value)):\n",
    "                for istatus in range(0, len(y_value[isource])):\n",
    "                    y_value_daily = np.array( y_value[isource][istatus][icolumn]) * y_convert_unit\n",
    "                    if len(y_value_daily) > 0:\n",
    "                        ax.bar(x_value, y_value_daily, align='edge', width=1.0, edgecolor='black', label=category_label[(isource + 1) * istatus])\n",
    "                \n",
    "            # グラフのタイトル\n",
    "            ax.set_title(y_value_set_name[irow] +'(' + chart_title[icolumn] + ')' , fontdict={'fontproperties':fp})\n",
    "\n",
    "            # x軸\n",
    "            # タイトル\n",
    "            ax.set_xlabel(u'時刻', fontdict={'fontproperties':fp})\n",
    "            # 目盛りの位置／ラベル／形式\n",
    "            # 主目盛\n",
    "            ax.set_xticks(np.arange(0, 25, 3), minor=False)\n",
    "            ax.set_xticklabels(np.array([k*3 for k in range(8)]+[0]).astype('str'), minor=False, visible=True)\n",
    "            ax.tick_params(axis='x', which ='major', direction='in', length=3)\n",
    "            # 補助目盛\n",
    "            ax.set_xticks(np.arange(0, 25, 1), minor=True)\n",
    "            ax.set_xticklabels(np.array([k for k in range(24)]+[0]).astype('str'), minor=True, visible=False)\n",
    "            ax.tick_params(axis='x', which ='minor', direction='in', length=3)\n",
    "            # 表示の上限・下限\n",
    "            ax.set_xbound(lower=0, upper=24)\n",
    "\n",
    "            # y軸\n",
    "            #タイトル\n",
    "            ax.set_ylabel(y_label, fontdict={'fontproperties':fp}) \n",
    "            # 目盛りの位置／形式\n",
    "            #ax.set_yticks(np.arange(0, 30, 5))\n",
    "            ax.set_yticks(np.arange(y_lower, y_upper+y_interval, y_interval))\n",
    "            ax.tick_params(axis='y', which ='major', direction='in', length=3)\n",
    "            # 表示の上限・下限\n",
    "            ax.set_ybound(lower=y_lower, upper=y_upper)\n",
    "\n",
    "            # グラフの枠\n",
    "            ax.spines['right'].set_color('black')\n",
    "            ax.spines['left'].set_color('black')\n",
    "            ax.spines['bottom'].set_color('black')\n",
    "            ax.spines['top'].set_color('black')\n",
    "\n",
    "            # 主目盛りのグリッド\n",
    "            ax.grid(which='major', color='lightgray', alpha=0.7, linestyle='-')\n",
    "            \n",
    "        # グラフの重なりを解消\n",
    "        plt.tight_layout()\n",
    "\n",
    "    # 凡例\n",
    "    plt.legend(loc='center left', bbox_to_anchor=(1, 0.5), borderaxespad=0.5, frameon=True,  prop=fp)\n",
    "\n",
    "    plt.show()"
   ]
  },
  {
   "cell_type": "code",
   "execution_count": 19,
   "metadata": {
    "collapsed": false,
    "scrolled": true
   },
   "outputs": [
    {
     "data": {
      "image/png": "[encoded data removed]",
      "text/plain": [
       "<matplotlib.figure.Figure at 0x1de0f2aeba8>"
      ]
     },
     "metadata": {},
     "output_type": "display_data"
    }
   ],
   "source": [
    "# 機器使用スケジュールの確認\n",
    "draw_hourly_bar_chart([schd_4p_std], [\"4人標準\"], [\"平日\", \"休日在宅\", \"休日外出\"], [\"AC稼働\"], \"時間[min/hour]\", 0, 20, 5, 1/60)"
   ]
  },
  {
   "cell_type": "markdown",
   "metadata": {},
   "source": [
    "#### 付録1：サンプルコード"
   ]
  },
  {
   "cell_type": "markdown",
   "metadata": {},
   "source": [
    "4人標準世帯の標準条件について、サンプルコードを示す。"
   ]
  },
  {
   "cell_type": "code",
   "execution_count": 20,
   "metadata": {
    "collapsed": true
   },
   "outputs": [],
   "source": [
    "def get_spec(app_number):\n",
    "    \"\"\"機器仕様を取得する\"\"\"\n",
    "    # app_number：機器の番号（0～）\n",
    "    \n",
    "    # 機器仕様の取得\n",
    "    if  app_number <= len(app_list) :\n",
    "        spec = app_list[app_number]\n",
    "    else:\n",
    "        spec = app_list[0]\n",
    "    \n",
    "    return spec"
   ]
  },
  {
   "cell_type": "code",
   "execution_count": 21,
   "metadata": {
    "collapsed": true
   },
   "outputs": [],
   "source": [
    "def get_dt(time_use_type, time_of_day, schd_number):\n",
    "    \"\"\"機器使用スケジュールを取得する\"\"\"\n",
    "    # time_use_type：0=平日、1=休日在宅、2=休日外出\n",
    "    # time_of_day：時刻[-]\n",
    "    # schd_number：スケジュールの番号（0～）\n",
    "     \n",
    "    # スケジュールの取得\n",
    "    if  schd_number <= len(schd_list) :\n",
    "        schd = schd_list[schd_number]\n",
    "    else:\n",
    "        schd = schd_list[0]\n",
    "\n",
    "    # 当該単位時間において各動作状態が維持される時間[s]の取得\n",
    "    for isource in range(0, len(schd)):\n",
    "        \n",
    "        dt_status = []\n",
    "        for istatus in range(0, len(schd[isource])):\n",
    "            dt_status = dt_status + [schd[isource][istatus][time_use_type][time_of_day]]\n",
    "        # AC電源接続時に単位時間において各動作状態が維持される時間の合計[s]\n",
    "        dt_ac = AppStatus._make(dt_status)\n",
    "        \n",
    "    # 単位時間において各動作状態が維持される時間の合計[s]\n",
    "    dt = PowerSource(ac = dt_ac)\n",
    "\n",
    "    # 時間超過の確認\n",
    "    check_duration(dt) \n",
    "    \n",
    "    return dt"
   ]
  },
  {
   "cell_type": "code",
   "execution_count": 22,
   "metadata": {
    "collapsed": true
   },
   "outputs": [],
   "source": [
    "def calc_EE_ac_opg(dt, spec):\n",
    "    \"\"\"AC電源接続下の稼働時における消費電力量[Wh]を計算する\"\"\"\n",
    "    # dt：単位時間における継続時間の合計[s](PowerSource型(AppStatus型))\n",
    "    # app：機器の仕様[-](AppSpec型)\n",
    "    \n",
    "    # AC電源接続時の単位時間における継続時間の合計[s]\n",
    "    dt_ac_opg = dt.ac.opg\n",
    "    \n",
    "    # AC電源接続時の消費電力[W]\n",
    "    p_ac_opg = P_opg(app.Prtd_opg)\n",
    "    \n",
    "    # AC電源接続時の消費電力量[Wh]\n",
    "    ee_ac_opg = EE_ac_opg([dt_ac_opg], [p_ac_opg])\n",
    "    \n",
    "    return ee_ac_opg"
   ]
  },
  {
   "cell_type": "code",
   "execution_count": 23,
   "metadata": {
    "collapsed": true
   },
   "outputs": [],
   "source": [
    "def calc_EE_Iron_verP4(time_use_type, time_of_day, app_number, schd_number):\n",
    "    \"\"\"アイロンの単位時間当たりの消費電力量を計算する（ver自立P4）\"\"\"\n",
    "    # time_use_type：0=平日、1=休日在宅、2=休日外出\n",
    "    # time_of_day：時刻（0-23） \n",
    "    # app_number：機器の番号（0～）  \n",
    "    # schd_number：スケジュールの番号（0～） \n",
    "    \n",
    "    # 機器使用スケジュール[s]を取得\n",
    "    dt = get_dt(time_use_type, time_of_day, schd_number)\n",
    "    \n",
    "    # 機器仕様を取得\n",
    "    app = get_spec(app_number)\n",
    "    \n",
    "    # AC電源接続下の稼働時における消費電力量[Wh]を計算\n",
    "    ee_ac_opg = calc_EE_ac_opg(dt, app)\n",
    "    \n",
    "    # AC電源接続時における消費電力量[Wh]を計算\n",
    "    ee_ac = EE_ac ([ee_ac_opg])\n",
    "    \n",
    "    return ee_ac, ee_ac_opg"
   ]
  },
  {
   "cell_type": "markdown",
   "metadata": {},
   "source": [
    "4人標準世帯の標準条件に対して、サンプルコードにより平日、休日在宅、休日外出の時刻別消費電力量を計算した結果を示す。"
   ]
  },
  {
   "cell_type": "code",
   "execution_count": 24,
   "metadata": {
    "collapsed": true,
    "scrolled": false
   },
   "outputs": [],
   "source": [
    "# 消費電力量の計算\n",
    "calc_EE = np.vectorize(calc_EE_Iron_verP4)(np.array([[0], [1], [2]]), np.array([np.arange(24)]*3), 0, 0)"
   ]
  },
  {
   "cell_type": "code",
   "execution_count": 25,
   "metadata": {
    "collapsed": true
   },
   "outputs": [],
   "source": [
    "# 消費電力量の計算結果\n",
    "EE_ac = AppStatus(opg = TimeUseType (weekdays = calc_EE[1][0], holidays_st = calc_EE[1][1], holidays_go = calc_EE[1][2]))\n",
    "EE = PowerSource(ac = EE_ac)"
   ]
  },
  {
   "cell_type": "code",
   "execution_count": 26,
   "metadata": {
    "collapsed": false,
    "scrolled": true
   },
   "outputs": [
    {
     "data": {
      "image/png": "[encoded data removed]",
      "text/plain": [
       "<matplotlib.figure.Figure at 0x1de0fbe5668>"
      ]
     },
     "metadata": {},
     "output_type": "display_data"
    }
   ],
   "source": [
    "# 消費電力量の計算結果のグラフ\n",
    "draw_hourly_bar_chart([EE], [\"4人標準\"], [\"平日\", \"休日在宅\", \"休日外出\"], [\"AC稼働\"], \"消費電力量[Wh/h]\", 0, 100, 20, 1)"
   ]
  }
 ],
 "metadata": {
  "kernelspec": {
   "display_name": "Python 3",
   "language": "python",
   "name": "python3"
  },
  "language_info": {
   "codemirror_mode": {
    "name": "ipython",
    "version": 3
   },
   "file_extension": ".py",
   "mimetype": "text/x-python",
   "name": "python",
   "nbconvert_exporter": "python",
   "pygments_lexer": "ipython3",
   "version": "3.6.2"
  },
  "toc": {
   "nav_menu": {},
   "number_sections": true,
   "sideBar": true,
   "skip_h1_title": false,
   "toc_cell": false,
   "toc_position": {
    "height": "564px",
    "left": "0px",
    "right": "1068px",
    "top": "106px",
    "width": "212px"
   },
   "toc_section_display": "block",
   "toc_window_display": true
  }
 },
 "nbformat": 4,
 "nbformat_minor": 2
}
