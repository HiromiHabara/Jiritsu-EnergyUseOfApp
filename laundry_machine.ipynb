{
 "cells": [
  {
   "cell_type": "code",
   "execution_count": 1,
   "metadata": {},
   "outputs": [
    {
     "name": "stdout",
     "output_type": "stream",
     "text": [
      "Importing Jupyter notebook from common_data.ipynb\n"
     ]
    }
   ],
   "source": [
    "import numpy as np\n",
    "from enum import Enum\n",
    "\n",
    "# matplotlib\n",
    "# ライブラリーのインポート\n",
    "import matplotlib.pyplot as plt\n",
    "# インライン表示\n",
    "%matplotlib inline\n",
    "\n",
    "# 日本語フォント\n",
    "import pylab\n",
    "from matplotlib.font_manager import FontProperties\n",
    "# 日本語フォント\n",
    "fp = FontProperties(fname='C:\\WINDOWS\\Fonts\\msgothic.ttc', size = 12)\n",
    "\n",
    "# ipynbのインポート\n",
    "import nbimporter\n",
    "from common_data import get_calendar"
   ]
  },
  {
   "cell_type": "markdown",
   "metadata": {},
   "source": [
    "# 家電"
   ]
  },
  {
   "cell_type": "markdown",
   "metadata": {},
   "source": [
    "## 3.洗濯機（ver自立P4）"
   ]
  },
  {
   "cell_type": "markdown",
   "metadata": {},
   "source": [
    "### 3.1　定義"
   ]
  },
  {
   "cell_type": "markdown",
   "metadata": {},
   "source": [
    "洗濯機の動作状態および機能は、以下を想定する。"
   ]
  },
  {
   "cell_type": "markdown",
   "metadata": {},
   "source": [
    "* 稼働－洗濯\n",
    "* 稼働－乾燥\n",
    "* 停止"
   ]
  },
  {
   "cell_type": "markdown",
   "metadata": {},
   "source": [
    "洗浄水を加温する装置が非搭載の場合には常温水のみ、搭載の場合には常温水と温水のいずれかが選択できる。温水の場合、加温方式は、ヒートポンプ式である。また、乾燥方式には、電気ヒータ式とヒートポンプ式とがある。"
   ]
  },
  {
   "cell_type": "markdown",
   "metadata": {},
   "source": [
    "想定する動作状態および機能に対する添え字は、以下の通りである。"
   ]
  },
  {
   "cell_type": "markdown",
   "metadata": {},
   "source": [
    "|機器の動作状態 |機器の機能 |添え字  |備考         |  \n",
    "|:-------------:|:---------:|:------:|:-----------:|    \n",
    "|稼働           |洗濯       |opg,wsh |-            |   \n",
    "|稼働           |乾燥       |opg,dry |-            |   \n",
    "|停止           |-          |-       |消費電力ゼロ |     "
   ]
  },
  {
   "cell_type": "code",
   "execution_count": 2,
   "metadata": {},
   "outputs": [],
   "source": [
    "class HeatingDryingType(Enum):\n",
    "    '''洗浄水加温方式および乾燥方式'''\n",
    "    # Unequipped：非搭載\n",
    "    # ElectricHeater：電気ヒータ式\n",
    "    # HeatPump：ヒートポンプ式\n",
    "\n",
    "    Unequipped = 'unequipped'\n",
    "    ElectricHeater = 'electric_heater'\n",
    "    HeatPump = 'heat_pump'"
   ]
  },
  {
   "cell_type": "markdown",
   "metadata": {},
   "source": [
    "### 3.2　消費電力量"
   ]
  },
  {
   "cell_type": "markdown",
   "metadata": {},
   "source": [
    "日付$d$の時刻$t$における洗濯機の単位時間当たりの消費電力量は、式(1)により表される。"
   ]
  },
  {
   "cell_type": "markdown",
   "metadata": {},
   "source": [
    "$$ \n",
    "\\begin{equation*}\n",
    "    E_{E,LaundryMachine,d,t} = E_{E,opg,d,t}\n",
    "\\end{equation*}\n",
    "$$\n",
    "\n",
    "\n",
    "<div style=\"text-align: right;\"> (1) </div>"
   ]
  },
  {
   "cell_type": "markdown",
   "metadata": {},
   "source": [
    "ここで、  \n",
    "\n",
    "$E_{E,LaundryMachine,d,t}$：日付$d$の時刻$t$における洗濯機の単位時間当たりの消費電力量[Wh]  \n",
    "$E_{E,opg,d,t}$：日付$d$の時刻$t$における稼働時の単位時間当たりの消費電力量[Wh]   \n",
    "\n",
    "である。"
   ]
  },
  {
   "cell_type": "code",
   "execution_count": 3,
   "metadata": {},
   "outputs": [],
   "source": [
    "def EE_app (EE_opg):\n",
    "    '''消費電力量[Wh]を計算する'''\n",
    "    # EE_opg：稼働時の消費電力量[Wh]\n",
    "    \n",
    "    return EE_opg"
   ]
  },
  {
   "cell_type": "markdown",
   "metadata": {},
   "source": [
    "日付$d$の時刻$t$における稼働時の単位時間当たりの消費電力量は、式(2)により計算される。"
   ]
  },
  {
   "cell_type": "markdown",
   "metadata": {},
   "source": [
    "<p style=\"text-indent:2em\">稼働時の消費電力量：</p>  \n",
    "$$ \n",
    "\\begin{equation*}\n",
    "    E_{E,opg,d,t} = E_{E,opg,wsh,d,t} + E_{E,opg,dry,d,t}\n",
    "\\end{equation*}\n",
    "$$\n",
    "\n",
    "<div style=\"text-align: right;\"> (2) </div>"
   ]
  },
  {
   "cell_type": "markdown",
   "metadata": {},
   "source": [
    "ここで、  \n",
    "\n",
    "$E_{E,opg,d,t}$：日付$d$の時刻$t$における稼働時の単位時間当たりの消費電力量[Wh]  \n",
    "$E_{E,opg,wsh,d,t}$：日付$d$の時刻$t$において洗濯が機能することによる稼働時の単位時間当たりの消費電力量[Wh]   \n",
    "$E_{E,opg,dry,d,t}$：日付$d$の時刻$t$において乾燥が機能することによる稼働時の単位時間当たりの消費電力量[Wh]   \n",
    "\n",
    "である。"
   ]
  },
  {
   "cell_type": "code",
   "execution_count": 4,
   "metadata": {},
   "outputs": [],
   "source": [
    "def EE_opg (EE_opg_wsh, EE_opg_dry):\n",
    "    '''稼働時の消費電力量[Wh]を計算する'''\n",
    "    # EE_opg_wsh：洗濯が機能することによる稼働時の消費電力量[Wh]\n",
    "    # EE_opg_dry：乾燥が機能することによる稼働時の消費電力量[Wh]\n",
    "    \n",
    "    return EE_opg_wsh + EE_opg_dry"
   ]
  },
  {
   "cell_type": "markdown",
   "metadata": {},
   "source": [
    "日付$d$の時刻$t$において洗濯および乾燥が機能することによる単位時間当たりの消費電力量は、式(3)および式(4)により計算される。"
   ]
  },
  {
   "cell_type": "markdown",
   "metadata": {},
   "source": [
    "<p style=\"text-indent:2em\">洗濯が機能することによる稼働時の消費電力量：</p>  \n",
    "$$ \n",
    "\\begin{equation*}\n",
    "    E_{E,opg,wsh,d,t} = P_{opg,wsh,d} \\times dt_{opg,wsh,d,t}  \\div 3600\n",
    "\\end{equation*}\n",
    "$$\n",
    "\n",
    "<div style=\"text-align: right;\"> (3) </div>"
   ]
  },
  {
   "cell_type": "markdown",
   "metadata": {},
   "source": [
    "<p style=\"text-indent:2em\">乾燥が機能することによる稼働時の消費電力量：</p>  \n",
    "$$ \n",
    "\\begin{equation*}\n",
    "    E_{E,opg,dry,d,t} = P_{opg,dry,d} \\times dt_{opg,dry,d,t}  \\div 3600\n",
    "\\end{equation*}\n",
    "$$\n",
    "\n",
    "<div style=\"text-align: right;\"> (4) </div>"
   ]
  },
  {
   "cell_type": "markdown",
   "metadata": {},
   "source": [
    "ただし、式(5)を満たす。  "
   ]
  },
  {
   "cell_type": "markdown",
   "metadata": {},
   "source": [
    "$$ \n",
    "\\begin{equation*}\n",
    "    dt_{opg,wsh,d,t} +dt_{opg,dry,d,t} \\leq dt_{calc}\n",
    "\\end{equation*}\n",
    "$$\n",
    "<div style=\"text-align: right;\"> (5) </div>"
   ]
  },
  {
   "cell_type": "markdown",
   "metadata": {},
   "source": [
    "ここで、  \n",
    "\n",
    "$dt_{opg,wsh,d,t}$：日付$d$の時刻$t$において洗濯が機能することによる稼働時間の合計[s]  \n",
    "$dt_{opg,dry,d,t}$：日付$d$の時刻$t$において乾燥が機能することによる稼働時間の合計[s]  \n",
    "$dt_{calc}$：単位時間[s]   \n",
    "$E_{E,opg,wsh,d,t}$：日付$d$の時刻$t$において洗濯が機能することによる稼働時の単位時間当たりの消費電力量[Wh]  \n",
    "$E_{E,opg,dry,d,t}$：日付$d$の時刻$t$において乾燥が機能することによる稼働時の単位時間当たりの消費電力量[Wh]  \n",
    "$P_{opg,wsh}$：洗濯が機能することによる稼働時の平均消費電力[W]  \n",
    "$P_{opg,dry}$：乾燥が機能することによる稼働時の平均消費電力[W]  \n",
    "\n",
    "である。"
   ]
  },
  {
   "cell_type": "code",
   "execution_count": 5,
   "metadata": {},
   "outputs": [],
   "source": [
    "def EE_opg_wsh (P_opg_wsh, dt_opg_wsh):\n",
    "    '''洗濯が機能することによる稼働時の消費電力量[Wh]を計算する'''\n",
    "    # P_opg_wsh：洗濯が機能することによる稼働時の平均消費電力[W] \n",
    "    # dt_opg_wsh：洗濯が機能することによる稼働時間の合計[s]\n",
    "       \n",
    "    return P_opg_wsh * dt_opg_wsh / 3600"
   ]
  },
  {
   "cell_type": "code",
   "execution_count": 6,
   "metadata": {},
   "outputs": [],
   "source": [
    "def EE_opg_dry (P_opg_dry, dt_opg_dry):\n",
    "    '''乾燥が機能することによる稼働時の消費電力量[Wh]を計算する'''\n",
    "    # P_opg_wsh：乾燥が機能することによる稼働時の平均消費電力[W]  \n",
    "    # dt_opg_wsh：乾燥が機能することによる稼働時間の合計[s]\n",
    "  \n",
    "    return P_opg_dry * dt_opg_dry / 3600"
   ]
  },
  {
   "cell_type": "code",
   "execution_count": 7,
   "metadata": {},
   "outputs": [],
   "source": [
    "def check_duration (dt):\n",
    "    '''合計が単位時間を超過しないか否かを確認する'''\n",
    "    # dt：稼働時間の合計[s](list型)\n",
    "    \n",
    "    # dt_calc：単位時間[s]\n",
    "    dt_calc = 3600.\n",
    "    \n",
    "    # 継続時間を積算する\n",
    "    dt_sum = sum(dt)\n",
    "    \n",
    "    # エラーチェック\n",
    "    if dt_calc < dt_sum:\n",
    "        # 単位時間を超える場合 => エラー\n",
    "        try:\n",
    "            raise Exception('機器動作スケジュールに不正があります。')\n",
    "        except Exception:\n",
    "            raise\n",
    "    else:\n",
    "        pass"
   ]
  },
  {
   "cell_type": "markdown",
   "metadata": {},
   "source": [
    "### 3.3　稼働時の消費電力"
   ]
  },
  {
   "cell_type": "markdown",
   "metadata": {},
   "source": [
    "洗濯が機能することによる稼働時の平均消費電力$P_{opg,wsh}$は、洗浄水の種別に応じて式(6)により計算される。"
   ]
  },
  {
   "cell_type": "markdown",
   "metadata": {},
   "source": [
    "<p style=\"text-indent:2em\">洗濯が機能することによる稼働時の平均消費電力：</p>  \n",
    "<p style=\"text-indent:4em\">洗浄水を加温する装置が非搭載、もしくは搭載されているが常温水により洗濯を行う場合：</p>  \n",
    "$$ \n",
    "\\begin{equation*}\n",
    "    P_{opg,wsh} = 1.3503 \\times E_{E,rtd,wsh} -42.848\n",
    "\\end{equation*}\n",
    "$$\n",
    "\n",
    "<div style=\"text-align: right;\"> (6-1) </div>"
   ]
  },
  {
   "cell_type": "markdown",
   "metadata": {},
   "source": [
    "<p style=\"text-indent:4em\">洗浄水を加温する装置が非搭載されており、温水により洗濯を行う場合：</p>  \n",
    "$$ \n",
    "\\begin{equation*}\n",
    "    P_{opg,wsh} = 0.88 \\times E_{E,rtd,wsh}\n",
    "\\end{equation*}\n",
    "$$\n",
    "\n",
    "<div style=\"text-align: right;\"> (6-2) </div>"
   ]
  },
  {
   "cell_type": "markdown",
   "metadata": {},
   "source": [
    "ここで、  \n",
    "\n",
    "$E_{E,rtd,wsh}$：定格洗濯時消費電力量[Wh/回]    \n",
    "$P_{opg,wsh}$：洗濯が機能することによる稼働時の平均消費電力[W]    \n",
    "\n",
    "である。"
   ]
  },
  {
   "cell_type": "code",
   "execution_count": 8,
   "metadata": {},
   "outputs": [],
   "source": [
    "def P_opg_wsh(water_heating_type, EE_rtd_wsh, wash_with_warm_water):\n",
    "    '''洗濯が機能することによる稼働時の平均消費電力[W]を求める'''\n",
    "    # water_heating_type：洗浄水加温方式[非搭載、ヒートポンプ式](Enum型)\n",
    "    # EE_rtd_wsh：定格洗濯時消費電力量[Wh/回]   \n",
    "    # wash_with_warm_water：温水による洗濯を行うか否か[True：温水による洗濯を行う、False：常温水による洗濯を行う](Boolean型)\n",
    "    \n",
    "    if wash_with_warm_water is False or water_heating_type == HeatingDryingType.Unequipped:\n",
    "        return 1.3503 * EE_rtd_wsh -42.848\n",
    "    elif wash_with_warm_water is True:\n",
    "        if water_heating_type == HeatingDryingType.HeatPump:\n",
    "            return 0.88 * EE_rtd_wsh\n",
    "        else:\n",
    "            raise Exception\n",
    "    else:\n",
    "        raise Exception"
   ]
  },
  {
   "cell_type": "markdown",
   "metadata": {},
   "source": [
    "乾燥が機能することによる稼働時の平均消費電力$P_{opg,dry}$は、加温方式に応じて式(7)により計算される。"
   ]
  },
  {
   "cell_type": "markdown",
   "metadata": {},
   "source": [
    "<p style=\"text-indent:2em\">乾燥が機能することによる稼働時の平均消費電力：</p>  \n",
    "<p style=\"text-indent:4em\">乾燥機能を使用しない場合、もしくは乾燥機能が非搭載の場合：</p>  \n",
    "$$ \n",
    "\\begin{equation*}\n",
    "    P_{opg,dry} = 0\n",
    "\\end{equation*}\n",
    "$$\n",
    "\n",
    "<div style=\"text-align: right;\"> (7-1) </div>"
   ]
  },
  {
   "cell_type": "markdown",
   "metadata": {},
   "source": [
    "<p style=\"text-indent:4em\">乾燥機能を使用する場合で、乾燥方式が電気ヒータ式の場合：</p>  \n",
    "$$ \n",
    "\\begin{equation*}\n",
    "    P_{opg,dry} = 0.992 \\times P_{rtd,dry}\n",
    "\\end{equation*}\n",
    "$$\n",
    "\n",
    "<div style=\"text-align: right;\"> (7-2) </div>"
   ]
  },
  {
   "cell_type": "markdown",
   "metadata": {},
   "source": [
    "<p style=\"text-indent:4em\">乾燥機能を使用する場合で、乾燥方式がヒートポンプ式の場合：</p>  \n",
    "$$ \n",
    "\\begin{equation*}\n",
    "    P_{opg,dry} = 0.866 \\times \\left( E_{E,rtd,wsh+dry} - E_{E,rtd,wsh} \\right) \n",
    "\\end{equation*}\n",
    "$$\n",
    "\n",
    "<div style=\"text-align: right;\"> (7-3) </div>"
   ]
  },
  {
   "cell_type": "markdown",
   "metadata": {},
   "source": [
    "ここで、  \n",
    "\n",
    "\n",
    "$E_{E,rtd,wsh}$：定格洗濯時消費電力量[Wh/回]    \n",
    "$E_{E,rtd,wsh+dry}$：定格洗濯乾燥時消費電力量[Wh/回]    \n",
    "$P_{opg,dry}$：乾燥が機能することによる稼働時の平均消費電力[W]  \n",
    "$P_{rtd,dry}$：乾燥時最大消費電力[W]  \n",
    "\n",
    "である。"
   ]
  },
  {
   "cell_type": "code",
   "execution_count": 9,
   "metadata": {},
   "outputs": [],
   "source": [
    "def P_opg_dry(drying_type, Prtd_dry, EE_rtd_wsh, EE_rtd_wsh_dry, wash_and_dry):\n",
    "    '''乾燥が機能することによる稼働時の平均消費電力[W]を求める'''\n",
    "    # drying_type：乾燥方式[非搭載、電気ヒータ式、ヒートポンプ式](Enum型)\n",
    "    # Prtd_dry：乾燥時最大消費電力[W]\n",
    "    # EE_rtd_wsh：定格洗濯時消費電力量[Wh/回] \n",
    "    # EE_rtd_wsh_dry：定格洗濯乾燥時消費電力量[Wh/回]\n",
    "    # wash_and_dry：乾燥機能を使用するか否か[True：使用する、False：使用しない](Boolean型)\n",
    "    \n",
    "    if wash_and_dry is False or drying_type == HeatingDryingType.Unequipped:\n",
    "        return 0\n",
    "    elif wash_and_dry is True:  \n",
    "        if drying_type == HeatingDryingType.ElectricHeater:\n",
    "            return 0.992 * P_rtd_dry\n",
    "        elif drying_type == HeatingDryingType.HeatPump:\n",
    "            return 0.866 * (EE_rtd_wsh_dry - EE_rtd_wsh)\n",
    "        else:\n",
    "            raise Exception\n",
    "    else:\n",
    "        raise Exception"
   ]
  },
  {
   "cell_type": "markdown",
   "metadata": {},
   "source": [
    "### 3.4　標準条件"
   ]
  },
  {
   "cell_type": "markdown",
   "metadata": {},
   "source": [
    "#### 3.4.1　機器仕様"
   ]
  },
  {
   "cell_type": "markdown",
   "metadata": {},
   "source": [
    "4人世帯の標準的な機器仕様として、下表の設定を用いることができる。"
   ]
  },
  {
   "cell_type": "markdown",
   "metadata": {},
   "source": [
    "|番号 |乾燥方式       |洗浄水加温方式 |乾燥時最大消費電力[W] |定格洗濯時消費電力量[Wh/回] |定格洗濯乾燥時消費電力量[Wh/回] |備考                |  \n",
    "|:---:|:-------------:|:-------------:|:--------------------:|:--------------------------:|:------------------------------:|:-----------------:|\n",
    "|00   |非搭載         |非搭載         |-                     |51                          |-                               |4人標準世帯の既定値 |  \n",
    "|01   |電気ヒータ式   |非搭載         |1470                  |109                         |-                               |-                   |  \n",
    "|02   |ヒートポンプ式 |ヒートポンプ式 |-                     |79                          |860                             |-                   |     "
   ]
  },
  {
   "cell_type": "code",
   "execution_count": 10,
   "metadata": {},
   "outputs": [],
   "source": [
    "Spec  = {\n",
    "    'LaundryMachine00' : {\n",
    "        'drying_type'        : HeatingDryingType.Unequipped,\n",
    "        'water_heating_type' : HeatingDryingType.Unequipped,\n",
    "        'Prtd_dry'           : None,\n",
    "        'EE_rtd_wsh'        : 51,\n",
    "        'EE_rtd_wsh_dry'    : None\n",
    "    }, \n",
    "    'LaundryMachine01' : {\n",
    "        'drying_type'        : HeatingDryingType.ElectricHeater,\n",
    "        'water_heating_type' : HeatingDryingType.Unequipped,\n",
    "        'Prtd_dry'           : 1470,\n",
    "        'EE_rtd_wsh'        : 109,\n",
    "        'EE_rtd_wsh_dry'    : None\n",
    "    },\n",
    "    'LaundryMachine02' : {\n",
    "        'drying_type'        : HeatingDryingType.HeatPump,\n",
    "        'water_heating_type' : HeatingDryingType.HeatPump,\n",
    "        'Prtd_dry'           : None,\n",
    "        'EE_rtd_wsh'        : 79,\n",
    "        'EE_rtd_wsh_dry'    : 860\n",
    "    }\n",
    "}"
   ]
  },
  {
   "cell_type": "markdown",
   "metadata": {},
   "source": [
    "#### 3.4.2　機器動作スケジュール"
   ]
  },
  {
   "cell_type": "markdown",
   "metadata": {},
   "source": [
    "4人世帯の標準的なスケジュールとして、下表の設定を用いることができる。"
   ]
  },
  {
   "cell_type": "markdown",
   "metadata": {},
   "source": [
    "|番号 |スケジュール名称            |備考                |\n",
    "|:---:|:--------------------------:|:------------------:|\n",
    "|00   |4人標準世帯（洗濯のみ）     |4人標準世帯の既定値 |"
   ]
  },
  {
   "cell_type": "markdown",
   "metadata": {},
   "source": [
    "<p style=\"text-indent:2em\">平日：</p>  \n",
    "\n",
    "|時刻                   |0  |1  |2  |3  |4  |5  |6  |7  |8  |9  |10 |11 |12 |13 |14 |15 |16 |17 |18 |19 |20 |21 |22 |23 |  \n",
    "|:---------------------:| -:| -:| -:| -:| -:| -:| -:| -:| -:| -:| -:| -:| -:| -:| -:| -:| -:| -:| -:| -:| -:| -:| -:| -:|  \n",
    "|稼働時間_洗濯[\\* 60 s] |  0|  0|  0|  0|  0|  0|  0| 60|  0|  0|  0|  0|  0|  0|  0|  0|  0|  0|  0|  0|  0|  0|  0|  0|  \n",
    "|稼働時間_乾燥[\\* 60 s] |  0|  0|  0|  0|  0|  0|  0|  0| 60| 60|  0|  0|  0|  0|  0|  0|  0|  0|  0|  0|  0|  0|  0|  0| \n",
    "|停止時間　　 [\\* 60 s] | 60| 60| 60| 60| 60| 60| 60|  0|  0|  0| 60| 60| 60| 60| 60| 60| 60| 60| 60| 60| 60| 60| 60| 60|"
   ]
  },
  {
   "cell_type": "markdown",
   "metadata": {},
   "source": [
    "<p style=\"text-indent:2em\">休日在宅：</p>  \n",
    "\n",
    "|時刻                   |0  |1  |2  |3  |4  |5  |6  |7  |8  |9  |10 |11 |12 |13 |14 |15 |16 |17 |18 |19 |20 |21 |22 |23 |  \n",
    "|:---------------------:| -:| -:| -:| -:| -:| -:| -:| -:| -:| -:| -:| -:| -:| -:| -:| -:| -:| -:| -:| -:| -:| -:| -:| -:|  \n",
    "|稼働時間_洗濯[\\* 60 s] |  0|  0|  0|  0|  0|  0|  0|　0| 60|  0|  0|  0|  0|  0|  0|  0|  0|  0|  0|  0|  0|  0|  0|  0|  \n",
    "|稼働時間_乾燥[\\* 60 s] |  0|  0|  0|  0|  0|  0|  0|  0|  0| 60| 60|  0|  0|  0|  0|  0|  0|  0|  0|  0|  0|  0|  0|  0| \n",
    "|停止時間　　 [\\* 60 s] | 60| 60| 60| 60| 60| 60| 60| 60|  0|  0|  0| 60| 60| 60| 60| 60| 60| 60| 60| 60| 60| 60| 60| 60|"
   ]
  },
  {
   "cell_type": "markdown",
   "metadata": {},
   "source": [
    "<p style=\"text-indent:2em\">休日外出：</p>  \n",
    "\n",
    "|時刻                   |0  |1  |2  |3  |4  |5  |6  |7  |8  |9  |10 |11 |12 |13 |14 |15 |16 |17 |18 |19 |20 |21 |22 |23 |  \n",
    "|:---------------------:| -:| -:| -:| -:| -:| -:| -:| -:| -:| -:| -:| -:| -:| -:| -:| -:| -:| -:| -:| -:| -:| -:| -:| -:|  \n",
    "|稼働時間_洗濯[\\* 60 s] |  0|  0|  0|  0|  0|  0|  0|　0|  0|  0|  0|  0|  0|  0|  0|  0|  0|  0|  0|  0|  0|  0|  0|  0|  \n",
    "|稼働時間_乾燥[\\* 60 s] |  0|  0|  0|  0|  0|  0|  0|  0|  0|  0|  0|  0|  0|  0|  0|  0|  0|  0|  0|  0|  0|  0|  0|  0| \n",
    "|停止時間　　 [\\* 60 s] | 60| 60| 60| 60| 60| 60| 60| 60| 60| 60| 60| 60| 60| 60| 60| 60| 60| 60| 60| 60| 60| 60| 60| 60|"
   ]
  },
  {
   "cell_type": "code",
   "execution_count": 11,
   "metadata": {},
   "outputs": [],
   "source": [
    "Schedule = {\n",
    "    '4p_standard' : {\n",
    "        'Weekdays' : {\n",
    "            'opg_wsh' : [0]*7 + [3600]*1 + [0]   *2 + [0]*14,\n",
    "            'opg_dry' : [0]*7 + [0]   *1 + [3600]*2 + [0]*14\n",
    "        },\n",
    "        'Holidays_st' : {\n",
    "            'opg_wsh' : [0]*8 + [3600]*1 + [0]   *2 + [0]*13,\n",
    "            'opg_dry' : [0]*8 + [0]   *1 + [3600]*2 + [0]*13\n",
    "        },\n",
    "        'Holidays_go' : {\n",
    "            'opg_wsh' : [0]*24,\n",
    "            'opg_dry' : [0]*24\n",
    "        }\n",
    "    }\n",
    "}"
   ]
  },
  {
   "cell_type": "code",
   "execution_count": 12,
   "metadata": {},
   "outputs": [
    {
     "data": {
      "image/png": "[encoded data removed]",
      "text/plain": [
       "<matplotlib.figure.Figure at 0x1f9a03969e8>"
      ]
     },
     "metadata": {},
     "output_type": "display_data"
    }
   ],
   "source": [
    "# 機器動作スケジュールの確認  \n",
    "chart_title = '動作スケジュール'\n",
    "schedule_name = ('4p_standard','4人標準' )\n",
    "time_use_types = [ ('Weekdays','平日'), ('Holidays_st','休日在宅'), ('Holidays_go','休日外出') ]\n",
    "app_status_types = [ ('opg_wsh','稼働_洗濯'), ('opg_dry','稼働_乾燥')]\n",
    "\n",
    "y_value_sets = Schedule[schedule_name[0]] \n",
    "\n",
    "\n",
    "# サブプロットの作成\n",
    "plt.figure(figsize=(12, 3), dpi=80)\n",
    "\n",
    "# サブプロットのタイトル\n",
    "plt.suptitle(chart_title, fontdict={'fontproperties':fp}, fontsize=14)\n",
    "\n",
    "for i, time_use_type in enumerate(time_use_types):\n",
    "    # サブプロットの指定\n",
    "    ax = plt.subplot2grid((1, 3), (0, i))\n",
    "    # グラフのタイル\n",
    "    ax.set_title(schedule_name[1] +'(' + time_use_type[1] + ')' , fontdict={'fontproperties':fp})\n",
    "    \n",
    "    # x軸の値\n",
    "    x_value = [k for k in range(24)]\n",
    "    # y軸の値\n",
    "    y_values = y_value_sets[time_use_type[0]]\n",
    "    \n",
    "    for j, app_status_type in enumerate(app_status_types):\n",
    "        y_value = np.array(y_values[app_status_type[0]]) / 60\n",
    "        if j == 0:\n",
    "            ax.bar(x_value, y_value, align='edge', width=1.0, edgecolor='black', label=app_status_type[1])\n",
    "            y_bottom = y_value\n",
    "        else:\n",
    "            ax.bar(x_value, y_value, align='edge', width=1.0, edgecolor='black', label=app_status_type[1], bottom=y_bottom)\n",
    "            y_bottom = y_value       \n",
    "   \n",
    "    # x軸の設定\n",
    "    ax.set_xlabel('時刻', fontdict={'fontproperties':fp})\n",
    "    ax.set_xticks(np.arange(0, 25, 3), minor=False)\n",
    "    ax.set_xbound(lower=0, upper=23)\n",
    "    # y軸の設定\n",
    "    ax.set_ylabel('時間[min/hour]', fontdict={'fontproperties':fp})\n",
    "    ax.set_yticks(np.arange(0, 70, 10), minor=False)\n",
    "    ax.set_ybound(lower=0, upper=60)\n",
    "    # 目盛りの設定\n",
    "    ax.grid(which='major', color='lightgray', alpha=0.5, linestyle='-')     \n",
    "    ax.tick_params(direction='out', length=3, width=1, color='gray')\n",
    "    ax.set_axisbelow(True) \n",
    "\n",
    "# 凡例\n",
    "plt.legend(loc='center left', bbox_to_anchor=(1, 0.5), borderaxespad=0.5, frameon=True,  prop=fp)\n",
    "\n",
    "# グラフの重なりを解消\n",
    "plt.tight_layout()\n",
    "plt.subplots_adjust(top=0.82)    \n",
    "plt.show()"
   ]
  },
  {
   "cell_type": "markdown",
   "metadata": {},
   "source": [
    "#### 3.4.3　洗濯および乾燥の機能に関する居住者の使用行動"
   ]
  },
  {
   "cell_type": "markdown",
   "metadata": {},
   "source": [
    "居住者の使用行動は、以下の3パターンを想定する。"
   ]
  },
  {
   "cell_type": "markdown",
   "metadata": {},
   "source": [
    "|番号 |概要                           |備考                |\n",
    "|:---:|:-----------------------------:|:------------------:|\n",
    "|00   |常温水による洗濯のみを行う     |4人標準世帯の既定値 |\n",
    "|01   |常温水による洗濯と乾燥を行う   |-                   |\n",
    "|02   |温水による洗濯および乾燥を行う |-                   |"
   ]
  },
  {
   "cell_type": "code",
   "execution_count": 13,
   "metadata": {},
   "outputs": [],
   "source": [
    "UserBehavior = {\n",
    "    'UserBehavior00' : {\n",
    "        'wash_with_warm_water': False,\n",
    "        'wash_and_dry'        : False\n",
    "    },\n",
    "    'UserBehavior01' :  {\n",
    "        'wash_with_warm_water': False,\n",
    "        'wash_and_dry'        : True\n",
    "    },\n",
    "    'UserBehavior02' :  {\n",
    "        'wash_with_warm_water': True,\n",
    "        'wash_and_dry'        : True\n",
    "    }\n",
    "}"
   ]
  },
  {
   "cell_type": "markdown",
   "metadata": {},
   "source": [
    "### 付録1：サンプルコード"
   ]
  },
  {
   "cell_type": "markdown",
   "metadata": {},
   "source": [
    "4人標準世帯の標準条件について、サンプルコードを示す。"
   ]
  },
  {
   "cell_type": "code",
   "execution_count": 14,
   "metadata": {},
   "outputs": [],
   "source": [
    "def get_spec(app_type):\n",
    "    '''機器仕様を取得する'''\n",
    "    # app_type：機器タイプ\n",
    "    \n",
    "    # 機器仕様の取得\n",
    "    try:\n",
    "        spec = Spec[app_type]\n",
    "    except:\n",
    "        raise Exception('機器タイプの入力に不正があります。')     \n",
    "    \n",
    "    drying_type = spec['drying_type']\n",
    "    water_heating_type = spec['water_heating_type']\n",
    "    Prtd_dry = spec['Prtd_dry']\n",
    "    EE_rtd_wsh = spec['EE_rtd_wsh']\n",
    "    EE_rtd_wsh_dry = spec['EE_rtd_wsh_dry']\n",
    "    \n",
    "    return drying_type, water_heating_type, Prtd_dry, EE_rtd_wsh, EE_rtd_wsh_dry"
   ]
  },
  {
   "cell_type": "markdown",
   "metadata": {},
   "source": [
    "Example:"
   ]
  },
  {
   "cell_type": "code",
   "execution_count": 15,
   "metadata": {},
   "outputs": [
    {
     "data": {
      "text/plain": [
       "(<HeatingDryingType.Unequipped: 'unequipped'>,\n",
       " <HeatingDryingType.Unequipped: 'unequipped'>,\n",
       " None,\n",
       " 51,\n",
       " None)"
      ]
     },
     "execution_count": 15,
     "metadata": {},
     "output_type": "execute_result"
    }
   ],
   "source": [
    "ex_drying_type, ex_water_heating_type, ex_Prtd_dry, ex_EE_rtd_wsh, ex_EE_rtd_wsh_dry = get_spec('LaundryMachine00')\n",
    "ex_drying_type, ex_water_heating_type, ex_Prtd_dry, ex_EE_rtd_wsh, ex_EE_rtd_wsh_dry"
   ]
  },
  {
   "cell_type": "code",
   "execution_count": 16,
   "metadata": {},
   "outputs": [],
   "source": [
    "def get_dt(time_use_type, time_of_day, schedule_name):\n",
    "    '''機器動作スケジュールを取得する'''\n",
    "    # time_use_type：['Weekdays', 'Holidays_st', 'Holidays_go']\n",
    "    # time_of_day：時刻（0-23）\n",
    "    # schedule_name：スケジュール名\n",
    "     \n",
    "    # スケジュールの取得\n",
    "    try:\n",
    "        schedule_set = Schedule[schedule_name][time_use_type]\n",
    "    except:\n",
    "        raise Exception('スケジュール名の入力に不正があります。')    \n",
    "               \n",
    "    # 動作状態のタイプ\n",
    "    app_status_types = list(schedule_set)\n",
    "    \n",
    "    # 動作状態ごとの継続時間[s]の取得\n",
    "    for i, app_status_type in enumerate(app_status_types):\n",
    "        if app_status_type == 'opg_wsh':\n",
    "            dt_opg_wsh = schedule_set[app_status_type][time_of_day]\n",
    "        elif app_status_type == 'opg_dry':\n",
    "            dt_opg_dry = schedule_set[app_status_type][time_of_day]\n",
    "        else:\n",
    "            raise Exception\n",
    "            \n",
    "    # 時間超過の確認\n",
    "    check_duration([dt_opg_wsh, dt_opg_dry]) \n",
    "  \n",
    "    return dt_opg_wsh, dt_opg_dry"
   ]
  },
  {
   "cell_type": "markdown",
   "metadata": {},
   "source": [
    "Example:"
   ]
  },
  {
   "cell_type": "code",
   "execution_count": 17,
   "metadata": {},
   "outputs": [
    {
     "data": {
      "text/plain": [
       "(3600, 0)"
      ]
     },
     "execution_count": 17,
     "metadata": {},
     "output_type": "execute_result"
    }
   ],
   "source": [
    "ex_dt_opg_wsh, ex_dt_opg_dry = get_dt('Weekdays', 7, '4p_standard' )\n",
    "ex_dt_opg_wsh, ex_dt_opg_dry"
   ]
  },
  {
   "cell_type": "code",
   "execution_count": 18,
   "metadata": {},
   "outputs": [],
   "source": [
    "def get_user_behavior(user_behavior_type):\n",
    "    '''居住者の使用行動を取得する'''\n",
    "    # user_behavior_type：居住者の使用行動タイプ\n",
    "    \n",
    "    # 居住者の使用行動の取得\n",
    "    try:\n",
    "        user_behavior = UserBehavior[user_behavior_type]\n",
    "    except:\n",
    "        raise Exception('居住者の使用行動タイプの入力に不正があります。')     \n",
    "        \n",
    "    wash_with_warm_water = user_behavior['wash_with_warm_water']\n",
    "    wash_and_dry = user_behavior['wash_and_dry']\n",
    "    \n",
    "    return wash_with_warm_water, wash_and_dry"
   ]
  },
  {
   "cell_type": "markdown",
   "metadata": {},
   "source": [
    "Example:"
   ]
  },
  {
   "cell_type": "code",
   "execution_count": 19,
   "metadata": {},
   "outputs": [
    {
     "data": {
      "text/plain": [
       "(False, False)"
      ]
     },
     "execution_count": 19,
     "metadata": {},
     "output_type": "execute_result"
    }
   ],
   "source": [
    "ex_wash_with_warm_water, ex_wash_and_dry = get_user_behavior('UserBehavior00')\n",
    "ex_wash_with_warm_water, ex_wash_and_dry"
   ]
  },
  {
   "cell_type": "code",
   "execution_count": 20,
   "metadata": {},
   "outputs": [],
   "source": [
    "def calc_EE_opg(drying_type, water_heating_type, Prtd_dry, EE_rtd_wsh, EE_rtd_wsh_dry, \n",
    "                dt_opg_wsh, dt_opg_dry,\n",
    "                wash_with_warm_water, wash_and_dry):\n",
    "    '''稼働時における消費電力量[Wh]を計算する'''\n",
    "    # drying_type：乾燥方式[非搭載、電気ヒータ式、ヒートポンプ式](Enum型)\n",
    "    # water_heating_type：洗浄水加温方式[非搭載、ヒートポンプ式](Enum型)\n",
    "    # Prtd_dry：乾燥時最大消費電力[W]\n",
    "    # EE_rtd_wsh：定格洗濯時消費電力量[Wh/回] \n",
    "    # EE_rtd_wsh_dry：定格洗濯乾燥時消費電力量[Wh/回]\n",
    "    # dt_opg_wsh：洗濯が機能することによる稼働時間の合計[s]\n",
    "    # dt_opg_wsh：乾燥が機能することによる稼働時間の合計[s]\n",
    "    # wash_and_dry：乾燥機能を使用するか否か[True：使用する、False：使用しない](Boolean型)\n",
    "    # wash_with_warm_water：温水による洗濯を行うか否か[True：温水による洗濯を行う、False：常温水による洗濯を行う](Boolean型)\n",
    "\n",
    "    # 洗濯が機能することによる稼働時の消費電力[W]\n",
    "    p_opg_wsh = P_opg_wsh(water_heating_type, EE_rtd_wsh, wash_with_warm_water)\n",
    "    # 洗濯が機能することによる稼働時の消費電力量[Wh]\n",
    "    ee_opg_wsh = EE_opg_wsh(p_opg_wsh, dt_opg_wsh)\n",
    "    \n",
    "    # 乾燥が機能することによる稼働時の消費電力[W]\n",
    "    p_opg_dry = P_opg_dry(drying_type, Prtd_dry, EE_rtd_wsh, EE_rtd_wsh_dry, wash_and_dry)\n",
    "    # 乾燥が機能することによる稼働時の消費電力量[Wh]\n",
    "    ee_opg_dry = EE_opg_dry(p_opg_dry, dt_opg_dry)\n",
    "    \n",
    "    # 稼働時における消費電力量[Wh]\n",
    "    ee_opg = EE_opg (ee_opg_wsh, ee_opg_dry)\n",
    "    \n",
    "    return  ee_opg"
   ]
  },
  {
   "cell_type": "markdown",
   "metadata": {},
   "source": [
    "Example:"
   ]
  },
  {
   "cell_type": "code",
   "execution_count": 21,
   "metadata": {},
   "outputs": [
    {
     "data": {
      "text/plain": [
       "26.01730000000001"
      ]
     },
     "execution_count": 21,
     "metadata": {},
     "output_type": "execute_result"
    }
   ],
   "source": [
    "ex_EE_opg = calc_EE_opg(ex_drying_type, ex_water_heating_type, ex_Prtd_dry, ex_EE_rtd_wsh, ex_EE_rtd_wsh_dry,\n",
    "                        ex_dt_opg_wsh, ex_dt_opg_dry,\n",
    "                        ex_wash_with_warm_water, ex_wash_and_dry )\n",
    "ex_EE_opg"
   ]
  },
  {
   "cell_type": "code",
   "execution_count": 22,
   "metadata": {},
   "outputs": [],
   "source": [
    "def calc_EE_app(EE_opg):\n",
    "    '''洗濯機の消費電力量[Wh]を計算する'''\n",
    "    # EE_opg：稼働時における消費電力量[Wh]\n",
    "    \n",
    "    return EE_app(EE_opg)"
   ]
  },
  {
   "cell_type": "markdown",
   "metadata": {},
   "source": [
    "Example:"
   ]
  },
  {
   "cell_type": "code",
   "execution_count": 23,
   "metadata": {
    "scrolled": true
   },
   "outputs": [
    {
     "data": {
      "text/plain": [
       "26.01730000000001"
      ]
     },
     "execution_count": 23,
     "metadata": {},
     "output_type": "execute_result"
    }
   ],
   "source": [
    "ex_EE_app = calc_EE_app(ex_EE_opg)\n",
    "ex_EE_app"
   ]
  },
  {
   "cell_type": "code",
   "execution_count": 24,
   "metadata": {},
   "outputs": [],
   "source": [
    "def calc_EE_Laundry_Machine_verP4(time_use_type, time_of_day, \n",
    "                             app_type, schedule_name, user_behavior_type):\n",
    "    '''洗濯機の単位時間当たりの消費電力量を計算する（ver自立P4）'''\n",
    "    # time_use_type：['Weekdays', 'Holidays_st', 'Holidays_go']\n",
    "    # time_of_day：時刻（0-23） \n",
    "    # app_type：機器タイプ  \n",
    "    # schedule_name：スケジュール名 ['4p_standard']\n",
    "    # user_behavior_type：使用行動タイプ \n",
    "    \n",
    "    # 機器動作スケジュール[s]を取得\n",
    "    dt_opg_wsh, dt_opg_dry = get_dt(time_use_type, time_of_day, schedule_name)\n",
    "    \n",
    "    # 機器仕様を取得\n",
    "    drying_type, water_heating_type, Prtd_dry, EE_rtd_wsh, EE_rtd_wsh_dry = get_spec(app_type)\n",
    "    \n",
    "    # 使用行動を取得\n",
    "    wash_with_warm_water, wash_and_dry = get_user_behavior(user_behavior_type)\n",
    "    \n",
    "    # 稼働時における消費電力量[Wh]を計算\n",
    "    EE_opg = calc_EE_opg(drying_type, water_heating_type, Prtd_dry, EE_rtd_wsh, EE_rtd_wsh_dry, \n",
    "                         dt_opg_wsh, dt_opg_dry, \n",
    "                         wash_with_warm_water, wash_and_dry)\n",
    "    \n",
    "    # 消費電力量[Wh]を計算\n",
    "    EE_app = calc_EE_app (EE_opg)\n",
    "    \n",
    "    return EE_app, EE_opg"
   ]
  },
  {
   "cell_type": "markdown",
   "metadata": {},
   "source": [
    "Example:"
   ]
  },
  {
   "cell_type": "code",
   "execution_count": 25,
   "metadata": {},
   "outputs": [
    {
     "data": {
      "text/plain": [
       "(26.01730000000001, 26.01730000000001)"
      ]
     },
     "execution_count": 25,
     "metadata": {},
     "output_type": "execute_result"
    }
   ],
   "source": [
    "ex_EE_Refrigerator = calc_EE_Laundry_Machine_verP4('Weekdays', 7, \n",
    "                             'LaundryMachine00', '4p_standard', 'UserBehavior00')\n",
    "ex_EE_Refrigerator"
   ]
  },
  {
   "cell_type": "markdown",
   "metadata": {},
   "source": [
    "### 付録2：サンプルコードによる時刻別消費電力量の計算例"
   ]
  },
  {
   "cell_type": "markdown",
   "metadata": {},
   "source": [
    "4人標準世帯の標準条件に対して、サンプルコードにより平日、休日在宅、休日外出の時刻別消費電力量を計算した結果を示す。"
   ]
  },
  {
   "cell_type": "code",
   "execution_count": 26,
   "metadata": {
    "scrolled": true
   },
   "outputs": [],
   "source": [
    "# 消費電力量の計算\n",
    "# 入力\n",
    "time_use_type = [['Weekdays'], ['Holidays_st'], ['Holidays_go']]\n",
    "time_of_day = [i for i in range(0, 24, 1)]\n",
    "app_type = 'LaundryMachine00'\n",
    "schedule_name = '4p_standard'\n",
    "user_behavior_type = 'UserBehavior00'\n",
    "\n",
    "# 消費電力量の計算\n",
    "ee_app, ee_opg = np.vectorize(calc_EE_Laundry_Machine_verP4)(time_use_type, time_of_day,\n",
    "                                                             app_type, schedule_name, user_behavior_type)\n",
    "\n",
    "# 消費電力量の計算結果\n",
    "EE_Results= {\n",
    "    'Weekdays' : {\n",
    "        'opg' : ee_opg[0],\n",
    "    },\n",
    "    'Holidays_st' : {\n",
    "        'opg' : ee_opg[1],\n",
    "    },\n",
    "    'Holidays_go' : {\n",
    "        'opg' : ee_opg[2],\n",
    "    }\n",
    "}"
   ]
  },
  {
   "cell_type": "code",
   "execution_count": 27,
   "metadata": {},
   "outputs": [
    {
     "data": {
      "image/png": "[encoded data removed]",
      "text/plain": [
       "<matplotlib.figure.Figure at 0x1f9a099e080>"
      ]
     },
     "metadata": {},
     "output_type": "display_data"
    }
   ],
   "source": [
    "# 消費電力量の計算結果のグラフ \n",
    "chart_title = '消費電力量（' \\\n",
    "                + '機器タイプ：' + app_type + '、' \\\n",
    "                + '定格洗濯時消費電力：' + str(Spec[app_type]['EE_rtd_wsh']) + 'W、' \\\n",
    "                + '使用行動タイプ：' +user_behavior_type + '、' \\\n",
    "                + '温水による洗濯：' + str(UserBehavior[user_behavior_type]['wash_with_warm_water']) + '、' \\\n",
    "                + '乾燥：' + str(UserBehavior[user_behavior_type]['wash_and_dry']) \\\n",
    "                + ')'\n",
    "schedule_name = ('4p_sample','4人サンプル' )\n",
    "time_use_types = [ ('Weekdays','平日'), ('Holidays_st','休日在宅'), ('Holidays_go','休日外出') ]\n",
    "app_status_types = [ ('opg','稼働')]\n",
    "\n",
    "y_value_sets = EE_Results\n",
    "\n",
    "\n",
    "# サブプロットの作成\n",
    "plt.figure(figsize=(12, 3), dpi=80)\n",
    "\n",
    "# サブプロットのタイトル\n",
    "plt.suptitle(chart_title, fontdict={'fontproperties':fp}, fontsize=14)\n",
    "\n",
    "for i, time_use_type in enumerate(time_use_types):\n",
    "    # サブプロットの指定\n",
    "    ax = plt.subplot2grid((1, 3), (0, i))\n",
    "    # グラフのタイル\n",
    "    ax.set_title(schedule_name[1] +'(' + time_use_type[1] + ')' , fontdict={'fontproperties':fp})\n",
    "    \n",
    "    # x軸の値\n",
    "    x_value = [k for k in range(24)]\n",
    "    # y軸の値\n",
    "    y_values = y_value_sets[time_use_type[0]]\n",
    "    \n",
    "    for j, app_status_type in enumerate(app_status_types):\n",
    "        y_value = y_values[app_status_type[0]]\n",
    "        if j == 0:\n",
    "            ax.bar(x_value, y_value, align='edge', width=1.0, edgecolor='black', label=app_status_type[1])\n",
    "            y_bottom = y_value\n",
    "        else:\n",
    "            ax.bar(x_value, y_value, align='edge', width=1.0, edgecolor='black', label=app_status_type[1], bottom=y_bottom)\n",
    "            y_bottom = y_value       \n",
    "   \n",
    "    # x軸の設定\n",
    "    ax.set_xlabel('時刻', fontdict={'fontproperties':fp})\n",
    "    ax.set_xticks(np.arange(0, 25, 3), minor=False)\n",
    "    ax.set_xbound(lower=0, upper=23)\n",
    "    # y軸の設定\n",
    "    ax.set_ylabel('時間[min/hour]', fontdict={'fontproperties':fp})\n",
    "    ax.set_yticks(np.arange(0, 100, 10), minor=False)\n",
    "    ax.set_ybound(lower=0, upper=50)\n",
    "    # 目盛りの設定\n",
    "    ax.grid(which='major', color='lightgray', alpha=0.5, linestyle='-')     \n",
    "    ax.tick_params(direction='out', length=3, width=1, color='gray')\n",
    "    ax.set_axisbelow(True) \n",
    "\n",
    "# 凡例\n",
    "plt.legend(loc='center left', bbox_to_anchor=(1, 0.5), borderaxespad=0.5, frameon=True,  prop=fp)\n",
    "\n",
    "# グラフの重なりを解消\n",
    "plt.tight_layout()\n",
    "plt.subplots_adjust(top=0.82)    \n",
    "plt.show()"
   ]
  },
  {
   "cell_type": "markdown",
   "metadata": {},
   "source": [
    "### 付録3：サンプルコードによる年間消費電力量の計算例"
   ]
  },
  {
   "cell_type": "markdown",
   "metadata": {},
   "source": [
    "4人標準世帯の標準条件に対して、サンプルコードにより年間消費電力量を計算した結果を示す。"
   ]
  },
  {
   "cell_type": "code",
   "execution_count": 28,
   "metadata": {},
   "outputs": [],
   "source": [
    "def calc_annual_EE_app(app_type, schedule_name, user_behavior_type):\n",
    "    '''年間消費電力量[Wh/year]を計算する'''\n",
    "    # app_type：機器タイプ  \n",
    "    # schedule_name：スケジュール名 ['4p_standard']\n",
    "    # theta_ex_ave：外気温度の日平均値[C]\n",
    "    # user_behavior_type：使用行動タイプ \n",
    "\n",
    "    def calc_daily_EE_app(schedule, app_type, schedule_name, user_behavior_type):\n",
    "        '''1日あたりの消費電力量[Wh/day]を計算する'''\n",
    "        hourly_EE_app = [ calc_EE_Laundry_Machine_verP4(schedule, t, \n",
    "                                                    app_type, schedule_name, \n",
    "                                                    user_behavior_type)[1] for t in range(0, 24, 1) ]\n",
    "        return sum( hourly_EE_app )\n",
    "    \n",
    "    daily_EE_app = [ calc_daily_EE_app(schedule, \n",
    "                                     app_type, schedule_name, \n",
    "                                     user_behavior_type) for i, schedule in  enumerate(get_calendar()) ]\n",
    "    return sum( daily_EE_app )"
   ]
  },
  {
   "cell_type": "code",
   "execution_count": 29,
   "metadata": {
    "scrolled": true
   },
   "outputs": [
    {
     "name": "stdout",
     "output_type": "stream",
     "text": [
      "年間消費電力量：8.715795500000056 kWh/年\n"
     ]
    }
   ],
   "source": [
    "# 年間消費電力量[kWh/year]\n",
    "ex_annual_EE_app = calc_annual_EE_app('LaundryMachine00', '4p_standard', 'UserBehavior00')\n",
    "print('年間消費電力量：' + str(ex_annual_EE_app/1000) + ' kWh/年')"
   ]
  }
 ],
 "metadata": {
  "kernelspec": {
   "display_name": "Python 3",
   "language": "python",
   "name": "python3"
  },
  "language_info": {
   "codemirror_mode": {
    "name": "ipython",
    "version": 3
   },
   "file_extension": ".py",
   "mimetype": "text/x-python",
   "name": "python",
   "nbconvert_exporter": "python",
   "pygments_lexer": "ipython3",
   "version": "3.6.4"
  }
 },
 "nbformat": 4,
 "nbformat_minor": 2
}
